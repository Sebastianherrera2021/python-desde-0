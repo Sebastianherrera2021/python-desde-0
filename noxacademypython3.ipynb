{
 "cells": [
  {
   "cell_type": "markdown",
   "id": "60ea33ca-4204-4955-9c5b-10979deaf6e6",
   "metadata": {},
   "source": [
    "# NOXACADEMY PYTHON"
   ]
  },
  {
   "cell_type": "markdown",
   "id": "a3d5914e-754f-41cd-b5cb-a0bebf925d42",
   "metadata": {},
   "source": [
    "El interés compuesto es aquel que se suma al capital inicial, por lo que va generando nuevos intereses.\n",
    "El capital final dependerá de tres valores:\n",
    "C : El capital disponible inicialmente.\n",
    "i : El tipo de interés compuesto.\n",
    "n : El número de periodos (por ejemplo, años)."
   ]
  },
  {
   "cell_type": "code",
   "execution_count": 76,
   "id": "b5e89cf6-06cd-462f-8e10-20f75121afe6",
   "metadata": {},
   "outputs": [
    {
     "name": "stdout",
     "output_type": "stream",
     "text": [
      "3231.8520116531236\n",
      "El capital final es de 3231.85 €\n"
     ]
    }
   ],
   "source": [
    "t=int(5) #años\n",
    "i=float(0.015) #tasa\n",
    "capital=int(3000) #antes era 10000\n",
    "m=capital*(1+i)**t #nuevo capital\n",
    "print(m)\n",
    "print(f\"El capital final es de {m:.2f} €\") #dos decimales"
   ]
  },
  {
   "cell_type": "markdown",
   "id": "bf3361ff-0522-49d3-bdbc-ee78f98a28ff",
   "metadata": {},
   "source": [
    "### Comisiones mantenimiento"
   ]
  },
  {
   "cell_type": "code",
   "execution_count": 77,
   "id": "2a63b63f-4af2-40d8-b83f-9906dab3308b",
   "metadata": {},
   "outputs": [
    {
     "name": "stdout",
     "output_type": "stream",
     "text": [
      "el gasto total en comisiones es de 300.00 $ \n"
     ]
    }
   ],
   "source": [
    "f=5 #comisión mensual\n",
    "G=f*12*t #meses\n",
    "print(f\"el gasto total en comisiones es de {G:.2f} $ \")"
   ]
  },
  {
   "cell_type": "code",
   "execution_count": 78,
   "id": "0c6b879d-1672-4362-ab12-15fe29944598",
   "metadata": {},
   "outputs": [
    {
     "name": "stdout",
     "output_type": "stream",
     "text": [
      "El saldo en cuentra tras 5 años es de 2931.85 $\n"
     ]
    }
   ],
   "source": [
    "###ahorros al finalizar el periodo\n",
    "s=m-G\n",
    "print(f\"El saldo en cuentra tras {t} años es de {s:.2f} $\")"
   ]
  },
  {
   "cell_type": "code",
   "execution_count": 79,
   "id": "9d7171d8-7420-4d59-be32-56636ae1c719",
   "metadata": {},
   "outputs": [
    {
     "name": "stdout",
     "output_type": "stream",
     "text": [
      "¿hemos incrementado nuestro capital al finalizar el periodo? => False\n"
     ]
    }
   ],
   "source": [
    "###ver si hemos ahorrado dinero\n",
    "hay_ahorro=s>capital #devuelve valor booleano\n",
    "print(f\"¿hemos incrementado nuestro capital al finalizar el periodo? => {hay_ahorro}\")"
   ]
  },
  {
   "cell_type": "markdown",
   "id": "617f404f-0275-4214-b75a-1f819740b8c7",
   "metadata": {},
   "source": [
    "#### 2 EJERCICIO\n",
    "\"\"\"En esta ocasión, vamos a ocupar el rol de un profesor \n",
    "que quiere llevar un buen control de las notas de sus estudiantes.\"\"\""
   ]
  },
  {
   "cell_type": "code",
   "execution_count": 80,
   "id": "f2ebacbf-1b07-4bd2-b867-8daf2e53418b",
   "metadata": {},
   "outputs": [
    {
     "name": "stdout",
     "output_type": "stream",
     "text": [
      "['Juan gonzales', 'María moreno', 'Julia Sánchez', 'pedro vidal']\n",
      "[(7.5, 6.2, 8.1), (9.3, 7.4, 7.7), (5.6, 4.1, 4.4), (3.8, 4.1, 6.4)]\n"
     ]
    }
   ],
   "source": [
    "LISTA=[\"Juan gonzales\", \"María moreno\",\"Julia Sánchez\", \"pedro vidal\"]\n",
    "print(LISTA)\n",
    "\n",
    "notas=[]\n",
    "notas.append((7.5,6.2,8.1)) #append añade nuevos elementos al final de una lista\n",
    "notas.append((9.3,7.4,7.7))\n",
    "notas.append((5.6,4.1,4.4))\n",
    "notas.append((3.8,4.1,6.4))\n",
    "print(notas)\n",
    "\n",
    "##todos los examenes valen 1/3 de la nota"
   ]
  },
  {
   "cell_type": "markdown",
   "id": "979e0a9a-dd85-4108-8472-5dd42f3ded8e",
   "metadata": {},
   "source": [
    "Guardar nota media en un diccionaria que tenga como clave\n",
    "el nombre del estudainte \"cadena texto\" y valor numerico \n",
    "notas medias"
   ]
  },
  {
   "cell_type": "code",
   "execution_count": 81,
   "id": "4b3478f3-f0aa-41e0-9689-e67e1c46d9a8",
   "metadata": {},
   "outputs": [],
   "source": [
    "notas_medias = {}\n",
    "notas_medias[LISTA[0]] = sum(notas[0])/len(notas[0])#tupla con tres notas\n",
    "notas_medias[LISTA[1]] = sum(notas[1])/len(notas[1]) #tupla con tres notas\n",
    "notas_medias[LISTA[2]] = sum(notas[2])/len(notas[2])\n",
    "notas_medias[LISTA[3]] = sum(notas[3])/len(notas[3])"
   ]
  },
  {
   "cell_type": "code",
   "execution_count": 82,
   "id": "26a396e5-288e-46d7-8aa6-74c4420ef68d",
   "metadata": {},
   "outputs": [
    {
     "name": "stdout",
     "output_type": "stream",
     "text": [
      "[2, 4, 6, 8, 1, 3, 5, 7]\n",
      "[8, 1]\n",
      "[2, 4, 6, 8, 1, 3, 5, 7]\n",
      "[2, 4, 0, 0, 5, 7]\n",
      "{'a': 8, 'b': 7, 'c': 9, 'd': 5}\n",
      "{'a': 8, 'b': 7, 'c': 9, 'd': 5, 1: 'e'}\n",
      "False\n"
     ]
    }
   ],
   "source": [
    "\"\"\"\"\n",
    "for nombre, notas_medias in notas_medias.items():\n",
    "    print(f\"La nota media de {nombre} es un {notas_medias:.1f}.\")\n",
    "\"\"\"\n",
    "#ejercicio\n",
    "l1 = [1, 3, 5, 7]\n",
    "l2 = [2, 4, 6, 8]\n",
    "l = l2 + l1\n",
    "print(l)\n",
    "print(l[3:-3])\n",
    "l1 = [1, 3, 5, 7]\n",
    "l2 = [2, 4, 6, 8]\n",
    "l = l2 + l1\n",
    "print(l)\n",
    "l[2:6] = [0, 0]\n",
    "print(l)\n",
    "d = {'a': 8, 'b': 7, 'c': 9}\n",
    "d['d'] = 5\n",
    "print(d)\n",
    "d[1] = 'e'\n",
    "print(d)\n",
    "print(5 in d)"
   ]
  },
  {
   "cell_type": "code",
   "execution_count": 83,
   "id": "a9a8d685-7208-4713-9de6-a379c59fe34b",
   "metadata": {},
   "outputs": [
    {
     "name": "stdout",
     "output_type": "stream",
     "text": [
      "en total han aprobado 2 estudiantes.\n",
      "La nota media de Juan gonzales es un 7.3.\n",
      "La nota media de María moreno es un 8.1.\n",
      "La nota media de Julia Sánchez es un 4.7.\n",
      "La nota media de pedro vidal es un 4.8.\n"
     ]
    }
   ],
   "source": [
    "aprobadoss = {}\n",
    "aprobadoss[\"Juan gonzales\"] = notas_medias[\"Juan gonzales\"] >= 5\n",
    "aprobadoss[LISTA[1]]= notas_medias[LISTA[1]] >5\n",
    "aprobadoss[LISTA[2]]= notas_medias[LISTA[2]] >5\n",
    "aprobadoss[LISTA[3]]= notas_medias[LISTA[3]] >=5\n",
    "\n",
    "print(f\"en total han aprobado {sum(aprobadoss.values())} estudiantes.\")\n",
    "\n",
    "for nombre, notas_medias in notas_medias.items():\n",
    "    print(f\"La nota media de {nombre} es un {notas_medias:.1f}.\")"
   ]
  },
  {
   "cell_type": "markdown",
   "id": "a2544110-31c3-4d3e-9cc9-02214c84a1b8",
   "metadata": {},
   "source": [
    "### Operadores booleanos"
   ]
  },
  {
   "cell_type": "code",
   "execution_count": 84,
   "id": "e66875c2-3584-498a-bc9f-db40ddc8a119",
   "metadata": {},
   "outputs": [
    {
     "name": "stdout",
     "output_type": "stream",
     "text": [
      "True\n"
     ]
    },
    {
     "data": {
      "text/plain": [
       "False"
      ]
     },
     "execution_count": 84,
     "metadata": {},
     "output_type": "execute_result"
    }
   ],
   "source": [
    "#and, or, not and xor\n",
    "from operator import xor\n",
    "from re import L\n",
    "from tkinter import TRUE\n",
    "\n",
    "\n",
    "print(True and True) #devuelve true si ambos valores son True\n",
    "False or False #Devuelve true si al menos uno de los valores es true\n",
    "not True"
   ]
  },
  {
   "cell_type": "markdown",
   "id": "7a12464f-378c-47b5-b53c-12513f79d0d3",
   "metadata": {},
   "source": [
    "### Operadores con cadena de text"
   ]
  },
  {
   "cell_type": "code",
   "execution_count": 85,
   "id": "7d5c3895-121c-4596-946b-963529c9fae5",
   "metadata": {},
   "outputs": [
    {
     "name": "stdout",
     "output_type": "stream",
     "text": [
      "Hola mundo\n",
      "10\n",
      "HOLA MUNDO\n",
      "hola mundo\n"
     ]
    }
   ],
   "source": [
    "###operadores con cadena de text\n",
    "a=\"Hola \"\n",
    "b=\"mundo\"\n",
    "print(a+b)\n",
    "\n",
    "##contar\n",
    "print(len(\"hola mundo\"))\n",
    "gh=\"hola mundo\"\n",
    "print(gh.upper()) ##mayuscula\n",
    "hg=\"hola MUndo\"\n",
    "print(hg.lower())  ##minuscula"
   ]
  },
  {
   "cell_type": "markdown",
   "id": "1d1fb2e9-a555-4bb1-885d-746b2ee53ffc",
   "metadata": {},
   "source": [
    "### Estructura de datos"
   ]
  },
  {
   "cell_type": "code",
   "execution_count": 86,
   "id": "5f884c86-cf29-4be5-aab3-488c9939cc0e",
   "metadata": {},
   "outputs": [],
   "source": [
    "## Estructuras de datos\n",
    "##permite almacenar varios valores del mismo o diferente tipo\n",
    "# listas o diccionarios\n",
    "#listas: almacenan valores uno tras otro\n",
    "# diccionarios: almacenan valores asociados a una clave\n",
    "#lista [] primer elemento indexado con el valor cero\n",
    "#diccionario {} el indice no tiene porque ser numerico sino cualquier valor \"clave\"\n",
    "#lista: colección de elementos ordenada\n",
    "\n",
    "l=[] #lista vacía \n",
    "opo=[1.54, \"hola\",\"mundo\",3]"
   ]
  },
  {
   "cell_type": "markdown",
   "id": "024fe092-5d66-4e89-bd96-7d555e00a45e",
   "metadata": {},
   "source": [
    "### Borrar por posicion"
   ]
  },
  {
   "cell_type": "code",
   "execution_count": 87,
   "id": "83dec263-ce35-4d60-a7b6-ba1cac07c94d",
   "metadata": {},
   "outputs": [
    {
     "name": "stdout",
     "output_type": "stream",
     "text": [
      "['hola', 'mundo', 3]\n",
      "[154, 'hola', 'mundo', 3]\n"
     ]
    }
   ],
   "source": [
    "del opo[0] #borra el elemento cero\n",
    "print(opo)\n",
    "opo=[154, \"hola\",\"mundo\",3]\n",
    "print(opo) "
   ]
  },
  {
   "cell_type": "markdown",
   "id": "78700b91-09c8-4bac-9fda-024dc5ba6a5c",
   "metadata": {},
   "source": [
    "### Borrar un elemento de una lista"
   ]
  },
  {
   "cell_type": "code",
   "execution_count": 88,
   "id": "95203bf0-8664-48aa-8bd0-a5fb7e28bc03",
   "metadata": {},
   "outputs": [
    {
     "name": "stdout",
     "output_type": "stream",
     "text": [
      "[59, 5]\n"
     ]
    }
   ],
   "source": [
    "sec=[18,59,5]\n",
    "sec.remove(18) ## borrar\n",
    "print(sec)"
   ]
  },
  {
   "cell_type": "markdown",
   "id": "233c1082-a662-428b-ba3f-fc23940cf3d8",
   "metadata": {},
   "source": [
    "### Para añadir elementos a la lista"
   ]
  },
  {
   "cell_type": "code",
   "execution_count": 89,
   "id": "ef66245e-ac74-49d8-a71e-a599c54f6452",
   "metadata": {},
   "outputs": [
    {
     "name": "stdout",
     "output_type": "stream",
     "text": [
      "[1.54, 'hola', 'mundo', 3, 'adios']\n",
      "[1.54, 'hola', 'que tal', 'mundo', 3, 'adios']\n"
     ]
    }
   ],
   "source": [
    "lol=[1.54,\"hola\",\"mundo\",3]\n",
    "lol.append(\"adios\") ##lo agrega al final\n",
    "print(lol)\n",
    "lol.insert(2,\"que tal\") #en una posicion \n",
    "print(lol)"
   ]
  },
  {
   "cell_type": "markdown",
   "id": "9a6ba3c1-e5b0-4c28-be1c-2d6aeb0fa946",
   "metadata": {},
   "source": [
    "### Acceso a elementos mediante un indice"
   ]
  },
  {
   "cell_type": "code",
   "execution_count": 90,
   "id": "5ce70e7a-cd96-4a07-8e06-7622c33a6424",
   "metadata": {},
   "outputs": [
    {
     "name": "stdout",
     "output_type": "stream",
     "text": [
      "598\n"
     ]
    },
    {
     "data": {
      "text/plain": [
       "'kk'"
      ]
     },
     "execution_count": 90,
     "metadata": {},
     "output_type": "execute_result"
    }
   ],
   "source": [
    "pai=[5.2, \"kk\",598]\n",
    "pai[0]\n",
    "pai[2]\n",
    "print(pai[-1]) #ultimo elemento de la lista y no el -0\n",
    "pai[-2] #penultimo"
   ]
  },
  {
   "cell_type": "markdown",
   "id": "d8dde890-b1a4-42c8-930d-fce6db61db1a",
   "metadata": {},
   "source": [
    "### Otra forma de rangos"
   ]
  },
  {
   "cell_type": "code",
   "execution_count": 91,
   "id": "04e51753-404f-42c2-89be-70d8ef8d8102",
   "metadata": {},
   "outputs": [
    {
     "name": "stdout",
     "output_type": "stream",
     "text": [
      "[5.2, 'kk']\n",
      "['kk', 598]\n",
      "[5.2, 'kk', 598]\n",
      "ola mun\n",
      "7\n",
      "[4, 8, 4, 8, 4, 5, 6, 5, 'ñ']\n",
      "False\n",
      "True\n",
      "14\n"
     ]
    }
   ],
   "source": [
    "print(pai[:2]) #de 0 a 2, dos numeros\n",
    "print(pai[1:]) # de 1 hasta el final\n",
    "print(pai[:]) #todos los elementos\n",
    "\n",
    "##tambien se puede con cadenas de texto\n",
    "print(\"hola mundo\"[1:-2]) #recorro la lista desde el 1 y termino en el -2\n",
    "\n",
    "## len para conocer la longitud de una lista\n",
    "andreiña=[4,8,4,8,4,5,6] \n",
    "print(len(andreiña))\n",
    "ff=[5,\"ñ\"]\n",
    "print(andreiña+ff) #las concatena o une\n",
    "\n",
    "##operador in \"relacional\"\n",
    "print(3 in ff)\n",
    "print(5 in ff)\n",
    "## suma\n",
    "ter=[1,11,2]\n",
    "print(sum(ter))"
   ]
  },
  {
   "cell_type": "markdown",
   "id": "4c5086d1-a97b-4472-8a5e-1d3234414487",
   "metadata": {},
   "source": [
    "### Invertir orden de los elementos"
   ]
  },
  {
   "cell_type": "code",
   "execution_count": 92,
   "id": "5d0af2cd-d0e9-4115-8c25-1b21f6be4002",
   "metadata": {},
   "outputs": [
    {
     "name": "stdout",
     "output_type": "stream",
     "text": [
      "<list_reverseiterator object at 0x00000230E7D6EB00>\n",
      "[1, 2, 11]\n",
      "['hola', 1, 'que tal', 5]\n",
      "['hola', 'que tal', 2, 5]\n"
     ]
    }
   ],
   "source": [
    "print(reversed(ter))\n",
    "## sorted - reordenar\n",
    "print(sorted(ter)) #de menor a mayor\n",
    "\n",
    "##actualización de elementos \"por asignación\"\n",
    "gar=[\"hola\",1,45,5]\n",
    "gar2=gar[2]=\"que tal\" #reemplazar valores de la lista\n",
    "print(gar)\n",
    "\n",
    "## actualizacion de una sublista \n",
    "gar[1:3]=[\"que tal\",2] ##reemplaza valores 2 y 3 de los 4\n",
    "print(gar)"
   ]
  },
  {
   "cell_type": "markdown",
   "id": "aac601a7-959e-4564-a858-50bbe28f94cb",
   "metadata": {},
   "source": [
    "### Diccionarios"
   ]
  },
  {
   "cell_type": "code",
   "execution_count": 93,
   "id": "c3b86c74-009f-43b1-b1a6-b7b9b2607dbe",
   "metadata": {},
   "outputs": [
    {
     "name": "stdout",
     "output_type": "stream",
     "text": [
      "{'c1': 1, 3: 'gola', 'b2': True, 'a_': 1.4}\n"
     ]
    }
   ],
   "source": [
    "#tiene claves que son unicas y no estan repetidas\n",
    "\n",
    "d= {} #diccionario vacío \n",
    "d = {\"c1\":1, 3: \"gola\",\"b2\":True,\"a_\":1.4}\n",
    "#no estan ordenados, no existe un primer lugar\n",
    "print(d)"
   ]
  },
  {
   "cell_type": "markdown",
   "id": "6079f473-5693-4cde-9bef-b210b55b4c6a",
   "metadata": {},
   "source": [
    "### Incersion de elementos"
   ]
  },
  {
   "cell_type": "code",
   "execution_count": 94,
   "id": "cdf9019c-647b-45a4-b047-122110345b0e",
   "metadata": {},
   "outputs": [
    {
     "name": "stdout",
     "output_type": "stream",
     "text": [
      "{'c1': 1, 3: 'hola', 'b2': True, 'a_': 1.4, 'd7': 'mundo'}\n",
      "{3: 'hola', 'b2': True, 'a_': 1.4, 'd7': 'mundo'}\n"
     ]
    }
   ],
   "source": [
    "de={\"c1\":1,3:\"hola\",\"b2\":True,\"a_\":1.4}\n",
    "de[\"d7\"]=\"mundo\" #d7=nombre, agrega esa nueva mediante asignación\n",
    "print(de)\n",
    "\n",
    "##para borrar elementos\n",
    "del de[\"c1\"] ## se coloca la clave\n",
    "print(de)"
   ]
  },
  {
   "cell_type": "markdown",
   "id": "e4e8181b-56cd-4854-a039-955afea83509",
   "metadata": {},
   "source": [
    "### Obtener un elemento de una lista"
   ]
  },
  {
   "cell_type": "code",
   "execution_count": 95,
   "id": "0d5a61f6-3bda-4cb7-bf2f-3acf5e4fe076",
   "metadata": {},
   "outputs": [
    {
     "name": "stdout",
     "output_type": "stream",
     "text": [
      "hola\n",
      "4\n",
      "True\n",
      "dict_keys([3, 'b2', 'a_', 'd7'])\n",
      "dict_values(['hola', True, 1.4, 'mundo'])\n"
     ]
    }
   ],
   "source": [
    "de[\"a_\"]\n",
    "print(de[3]) #no es por posición sino el nombre de la clave\n",
    "print(len(de))\n",
    "print(\"b2\" in de)\n",
    "print(de.keys()) ### me da el nombre de de las llaves\n",
    "print(de.values()) ### los valores de las llaves"
   ]
  },
  {
   "cell_type": "markdown",
   "id": "94c6ded2-c5ea-486e-b724-a9b1518d15b4",
   "metadata": {},
   "source": [
    "### Tuplas"
   ]
  },
  {
   "cell_type": "code",
   "execution_count": 96,
   "id": "886b1784-cb39-4c92-96c1-33d91c5c9995",
   "metadata": {},
   "outputs": [
    {
     "name": "stdout",
     "output_type": "stream",
     "text": [
      "(1, 2, 3)\n"
     ]
    }
   ],
   "source": [
    "#ES UNA COLECCIÓN SIMILAR A UNA LISTA CON ALGUNAS DIFERENCIAS\n",
    "t=(1,2,3)\n",
    "### son inmutables, no se puede añadir, borrar, ni modificar\n",
    "#t[1]=0 #error\n",
    "#del t[2] #error\n",
    "#t.append(4) #error\n",
    "\n",
    "a,b,c=t #asignar a esa tupla varias variables\n",
    "print(t) #a=1, b=3, c=2"
   ]
  },
  {
   "cell_type": "markdown",
   "id": "ab591bb5-e8e7-4430-9971-69949971e2ae",
   "metadata": {},
   "source": [
    "### Conjuntos"
   ]
  },
  {
   "cell_type": "code",
   "execution_count": 97,
   "id": "0763b420-a38c-40e9-a8d4-985bf0bb028e",
   "metadata": {},
   "outputs": [
    {
     "name": "stdout",
     "output_type": "stream",
     "text": [
      "{1, 2, 3, 4}\n",
      "{1, 2, 3, 4}\n"
     ]
    },
    {
     "data": {
      "text/plain": [
       "'\\nESTO ES UN COMENTARIO\\n'"
      ]
     },
     "execution_count": 97,
     "metadata": {},
     "output_type": "execute_result"
    }
   ],
   "source": [
    "#tienen ventaja de rendimiento\n",
    "s={1,2,3}\n",
    "s.add(4)\n",
    "print(s)\n",
    "s.add(1) #no pueden haber repetidos\n",
    "print(s)\n",
    "\n",
    "## COMENTARIOS\n",
    "a=a+1 #incrementa la variable a en una unidad\n",
    "\"\"\"\n",
    "ESTO ES UN COMENTARIO\n",
    "\"\"\""
   ]
  },
  {
   "cell_type": "markdown",
   "id": "5a5ffb0b-fe6e-4b49-b452-506651b1cda0",
   "metadata": {},
   "source": [
    "### Condicionales"
   ]
  },
  {
   "cell_type": "code",
   "execution_count": 98,
   "id": "1d91a8e3-7623-40ae-b18c-e0fcb8b0f014",
   "metadata": {},
   "outputs": [
    {
     "name": "stdout",
     "output_type": "stream",
     "text": [
      "Adios\n",
      "ss\n",
      "adios\n",
      "caso 2\n",
      "Adios\n",
      "notable\n",
      "caso 2\n",
      "el caso 2\n"
     ]
    }
   ],
   "source": [
    "##if<condicion>:\n",
    "#ejemplo:\n",
    "from cmath import exp\n",
    "from logging import exception\n",
    "\n",
    "\n",
    "a=15\n",
    "if a<15:\n",
    "    a=a+1 #incrementa el valor\n",
    "    print(\"hola\")\n",
    "print(\"Adios\")\n",
    "\n",
    "\n",
    "#if True: siempre se cumple\n",
    "#if False: nunca se cumple\n",
    "#if a>b: si el valor de a es menor que el de b\n",
    "#if a==1 and b<c: si se cumplen ambas condiciones simultaneamente\n",
    "#if a<=b or b<=c: si se cumple una de las dos condiciones\n",
    "\n",
    "lag=[\"hola\", \"adios\"]\n",
    "if \"hola\" in lag:\n",
    "    print(\"ss\")\n",
    "print(\"adios\")\n",
    "\n",
    "\n",
    "#if-else\n",
    "if a<15:\n",
    "    print(\"caso 1\") #se imprime si a<15\n",
    "else:\n",
    "    print(\"caso 2\") #se imprime en otro caso, es decir, si a>=15\n",
    "print(\"Adios\") #se imprime siempre (está fuera del bloque)\n",
    "\n",
    "####\n",
    "# if solo se ejecura si se cumple la condición 1\n",
    "#elif solo se ejecuta si se cumple la condicion 2 y no se cumple la condicion 1\n",
    "#elif  solo se ejecuta si se cumple la condicion n y no se cumple ninguna de las anteriores\n",
    "#else solo se ejecuta si no se cumple ninguna condicion anterior  \n",
    "\n",
    "nota=7\n",
    "if nota<5:\n",
    "    print(\"suspenso\")\n",
    "elif nota <7:\n",
    "    print(\"aprobado\")\n",
    "elif nota<9:\n",
    "    print(\"notable\")\n",
    "elif nota<10:\n",
    "    print(\"sobresaliente\")\n",
    "else:\n",
    "    print(\"matricula honor\")\n",
    "\n",
    "a=5\n",
    "b=3\n",
    "if a<3: \n",
    "    print(\"caso 1\")\n",
    "else:\n",
    "    if b<5:\n",
    "        print(\"caso 2\")\n",
    "    else: \n",
    "        print(\"caso 3\")\n",
    "\n",
    "a=6\n",
    "a = 3\n",
    "if a<3:\n",
    "    print(\"caso 1\")\n",
    "elif b<5:\n",
    "    print(\"el caso 2\")\n",
    "else: \n",
    "    print(\"caso 3\")"
   ]
  },
  {
   "cell_type": "markdown",
   "id": "24ed8ef3-9cdd-48e9-8458-86215fad4c5f",
   "metadata": {},
   "source": [
    "### Gestion de errores"
   ]
  },
  {
   "cell_type": "code",
   "execution_count": 99,
   "id": "847154c8-8c59-428c-945f-76108f853a5e",
   "metadata": {},
   "outputs": [
    {
     "name": "stdout",
     "output_type": "stream",
     "text": [
      "error!\n",
      "0.9333333333333333\n"
     ]
    }
   ],
   "source": [
    "#value error= error de valor no puedo convertir una cadena de texto a valor\n",
    "#zerodivisionerror= no se puede dividir entre 0\n",
    "# nameError: name \"a\" is not defined: variable no definida\n",
    "\n",
    "#para capturar errrores\n",
    "#usar try-except\n",
    "#try:\n",
    "    #codigo que se intenta ejecutar pero pueden ocurrir errores\n",
    "#except: \n",
    "    #codigo que se ejecuta si ocurre un error en el codigo anterior \n",
    "\n",
    "a,b=7,0\n",
    "try:\n",
    "    c=a/b #se produce un error\n",
    "    print(c) #no se ejecuta\n",
    "except:\n",
    "    print(\"error!\") #esta si se ejecuta\n",
    "\n",
    "s=7.5\n",
    "#s=\"hola\"\n",
    "#s=0\n",
    "try:\n",
    "    b=float(s)\n",
    "    c=a/b\n",
    "    print(c)\n",
    "except ValueError:\n",
    "    print(\"s no es un numero\")\n",
    "except ZeroDivisionError:\n",
    "    print(\"s vale 0, no se puede dividir\")\n",
    "except:\n",
    "    print(\"ha ocurrido un error desconocido\")"
   ]
  },
  {
   "cell_type": "markdown",
   "id": "be25f272-cc9c-4514-a845-ec0a6fde7785",
   "metadata": {},
   "source": [
    "### Pass"
   ]
  },
  {
   "cell_type": "code",
   "execution_count": 100,
   "id": "367bbd8f-ab60-4559-888e-4bc96ca4b6c1",
   "metadata": {},
   "outputs": [
    {
     "name": "stdout",
     "output_type": "stream",
     "text": [
      "hola\n",
      "68.0\n",
      "todo marcha bien\n"
     ]
    }
   ],
   "source": [
    "## EXPRESIÓN PASS -NO EJECUTA NADA\n",
    "\n",
    "#try:\n",
    "    #codigo \n",
    "#except:\n",
    "#    pass\n",
    "#el codigo sigue funcionando\n",
    "\n",
    "#try-except-else\n",
    "#try:\n",
    "#except:\n",
    "#else:\n",
    "#ejecutar un codigo en caso de que no se haya producido ningun error\n",
    "print(\"hola\")\n",
    "a=68\n",
    "b=1\n",
    "try:\n",
    "    c=a/b\n",
    "    print(c)\n",
    "except:\n",
    "    print(\"ha ocurrido un error\")\n",
    "else:\n",
    "    print(\"todo marcha bien\")\n",
    "#se ejecuta el try con el else"
   ]
  },
  {
   "cell_type": "markdown",
   "id": "ec93e067-3db2-49c2-99f6-3632c15f3d75",
   "metadata": {},
   "source": [
    "### try-except- finall"
   ]
  },
  {
   "cell_type": "code",
   "execution_count": 101,
   "id": "d89273b1-77bc-4d56-859f-1dcced2d5b09",
   "metadata": {},
   "outputs": [
    {
     "name": "stdout",
     "output_type": "stream",
     "text": [
      "68.0\n",
      "adios\n"
     ]
    }
   ],
   "source": [
    "try:\n",
    "    c=a/b\n",
    "    print(c)\n",
    "except:\n",
    "    print(\"ha ocurrido un error\")\n",
    "finally:\n",
    "    print(\"adios\") ##siempre se ejecuta sin importar si hay o no error"
   ]
  },
  {
   "cell_type": "markdown",
   "id": "68b25c19-facd-4331-9bce-f75e660ea7fe",
   "metadata": {},
   "source": [
    "### Excepciones"
   ]
  },
  {
   "cell_type": "code",
   "execution_count": 102,
   "id": "9bca8f86-704a-4fc6-a9f5-2745f5c685d8",
   "metadata": {},
   "outputs": [
    {
     "name": "stdout",
     "output_type": "stream",
     "text": [
      "2.0\n"
     ]
    }
   ],
   "source": [
    "a=2\n",
    "try:\n",
    "    c=a/b\n",
    "    print(c)\n",
    "except exception as e:\n",
    "    print(e)\n",
    "### la excepcion la estoy guardando en una variable y luego puedo hacer cosas con e"
   ]
  },
  {
   "cell_type": "code",
   "execution_count": 103,
   "id": "2a27fdf1-bbf5-4e83-a4a0-0125bdc4c16a",
   "metadata": {},
   "outputs": [],
   "source": [
    "### Bloques de codigo"
   ]
  },
  {
   "cell_type": "code",
   "execution_count": 104,
   "id": "54a4e1f9-796f-4b73-afb8-683c75c38689",
   "metadata": {},
   "outputs": [
    {
     "name": "stdout",
     "output_type": "stream",
     "text": [
      "hola\n",
      "que tal\n",
      "adios\n"
     ]
    }
   ],
   "source": [
    "print(\"hola\")\n",
    "a=2\n",
    "if a<5:\n",
    "    a=a+1\n",
    "    print(\"que tal\")\n",
    "print(\"adios\")"
   ]
  },
  {
   "cell_type": "markdown",
   "id": "d4ee56a7-7888-4bb9-a6ec-ea8a8705150a",
   "metadata": {},
   "source": [
    "### Ejercicios"
   ]
  },
  {
   "cell_type": "code",
   "execution_count": 105,
   "id": "bd5d4727-b918-4f3b-a3a3-4a91811dc2ed",
   "metadata": {},
   "outputs": [],
   "source": [
    "# Capital inicial (en €)\n",
    "C = 5000\n",
    "\n",
    "# Tipo de interés (en %, sobre 1)\n",
    "i = 0.015\n",
    "\n",
    "# Periodo (en años)\n",
    "n = 5\n",
    "\n",
    "# Cálculo del capital final (en €)\n",
    "M = C * (1 + i) ** n\n",
    "\n",
    "# Comisiones mensuales (en €)\n",
    "f = 5\n",
    "\n",
    "# Gastos totales atribuibles a comisiones durante todo el periodo (en €)\n",
    "G = f * 12 * n\n",
    "\n",
    "# Saldo final de la cuenta (en €)\n",
    "S = M - G"
   ]
  },
  {
   "cell_type": "code",
   "execution_count": 106,
   "id": "30760cfc-1053-4d7b-b189-751ff8bdf6fb",
   "metadata": {},
   "outputs": [
    {
     "name": "stdout",
     "output_type": "stream",
     "text": [
      "tiene beneficios\n"
     ]
    }
   ],
   "source": [
    "####### ESCRIBE EL CÓDIGO AQUÍ (4 líneas aprox.)\n",
    "if C<S:\n",
    "  print(\"tiene beneficios\")\n",
    "elif C==S:\n",
    "  print(\"no se tienen beneficios ni perdidas\")\n",
    "else:\n",
    "  print(\"no se obtuvieron beneficios\")"
   ]
  },
  {
   "cell_type": "code",
   "execution_count": 107,
   "id": "f9783187-9ac9-441a-962f-7a0f84430517",
   "metadata": {},
   "outputs": [
    {
     "name": "stderr",
     "output_type": "stream",
     "text": [
      "  error: subprocess-exited-with-error\n",
      "  \n",
      "  × python setup.py egg_info did not run successfully.\n",
      "  │ exit code: 1\n",
      "  ╰─> [8 lines of output]\n",
      "      Traceback (most recent call last):\n",
      "        File \"<string>\", line 2, in <module>\n",
      "        File \"<pip-setuptools-caller>\", line 34, in <module>\n",
      "        File \"C:\\Users\\LAURA\\AppData\\Local\\Temp\\pip-install-vckf2c5u\\numba_548c7aac97864a339e24c20fbced34be\\setup.py\", line 51, in <module>\n",
      "          _guard_py_ver()\n",
      "        File \"C:\\Users\\LAURA\\AppData\\Local\\Temp\\pip-install-vckf2c5u\\numba_548c7aac97864a339e24c20fbced34be\\setup.py\", line 48, in _guard_py_ver\n",
      "          raise RuntimeError(msg.format(cur_py, min_py, max_py))\n",
      "      RuntimeError: Cannot install on Python version 3.11.2; only versions >=3.7,<3.11 are supported.\n",
      "      [end of output]\n",
      "  \n",
      "  note: This error originates from a subprocess, and is likely not a problem with pip.\n",
      "error: metadata-generation-failed\n",
      "\n",
      "× Encountered error while generating package metadata.\n",
      "╰─> See above for output.\n",
      "\n",
      "note: This is an issue with the package mentioned above, not pip.\n",
      "hint: See above for details.\n"
     ]
    }
   ],
   "source": [
    "!pip install geocoder --quiet\n",
    "#pip install timezonefinder\n",
    "#from timezonefinder import TimezoneFinder\n",
    "!pip install timezonefinder[numba] --quiet\n",
    "from datetime import datetime\n",
    "import geocoder\n",
    "import json\n",
    "import pytz\n",
    "import requests\n",
    "from timezonefinder import TimezoneFinder"
   ]
  },
  {
   "cell_type": "code",
   "execution_count": 110,
   "id": "349295ff-d682-4e50-9ddc-731dedff8cae",
   "metadata": {},
   "outputs": [],
   "source": [
    "####### ESCRIBE EL CÓDIGO AQUÍ (1 línea)\n",
    "location=\"madrid,españa\"\n",
    "#######\n",
    "# Obtiene las coordenadas de la ubicación indicada.\n",
    "latlng = geocoder.arcgis(location).latlng\n",
    "if latlng is None:\n",
    "  raise Exception(\"La ubicación indicada no se ha encontrado.\")\n",
    "# Obtiene la zona horaria de la ubicación indicada.\n",
    "tz = TimezoneFinder().timezone_at(lng=latlng[1], lat=latlng[0])\n",
    "# Obtiene la hora actual en la ubicación indicada (ajustando la zona horaria).\n",
    "time = datetime.now(pytz.timezone(tz))\n",
    "hour = time.hour\n",
    "# Obtiene y extrae la información meteorológica.\n",
    "#sites = requests.get(f\"https://www.metaweather.com/api/location/search/?lattlong={latlng[0]},{latlng[1]}\").json()\n",
    "#if not sites:\n",
    "#  raise Exception(\"No se encuentra información meteorológica para a ubicación indicada.\")\n",
    "#meteo = requests.get(f\"https://www.metaweather.com/api/location/{sites[0]['woeid']}/{time.year}/{time.month}/{time.day}/\").json()[0]\n",
    "#status = meteo['weather_state_name'].lower()\n",
    "#min_temp = meteo['min_temp']\n",
    "#max_temp = meteo['max_temp']"
   ]
  },
  {
   "cell_type": "code",
   "execution_count": 111,
   "id": "b8ae18f9-6fb4-4ec8-b5e8-2377fa97a5a6",
   "metadata": {},
   "outputs": [
    {
     "name": "stdout",
     "output_type": "stream",
     "text": [
      "buenos dias\n"
     ]
    }
   ],
   "source": [
    "##CODIGO CON LA VARIABLE HOUR\n",
    "hour=6\n",
    "if hour>=5 and hour<12:\n",
    "  print(\"buenos dias\")\n",
    "elif hour>=12 and hour<19:\n",
    "  print(\"buenas tardes\")\n",
    "elif hour>=19 and hour<5:\n",
    "  print(\"buenas noches\")"
   ]
  },
  {
   "cell_type": "code",
   "execution_count": 112,
   "id": "12ca4d4c-3993-41eb-8975-8f3b95e4e7e0",
   "metadata": {},
   "outputs": [
    {
     "name": "stdout",
     "output_type": "stream",
     "text": [
      "el cielo esta nevado\n"
     ]
    }
   ],
   "source": [
    "### estado metereologico\n",
    "status=\"snow\"\n",
    "if status==\"snow\":\n",
    "  print(\"el cielo esta nevado\")\n",
    "elif status==\"sleet\":\n",
    "  print(\"el cielo está aguanieve\")\n",
    "else:\n",
    "  print(\"lloviznas\")"
   ]
  },
  {
   "cell_type": "code",
   "execution_count": 113,
   "id": "f88fd5ec-dc78-449c-80f1-8fe061db6b98",
   "metadata": {},
   "outputs": [
    {
     "name": "stdout",
     "output_type": "stream",
     "text": [
      "va a hacer frio\n"
     ]
    }
   ],
   "source": [
    "#temperaturas minimas y maximas\n",
    "min_temp=-5\n",
    "max_temp=19\n",
    "if min_temp<0:\n",
    "  print(\"va a hacer frio\")\n",
    "if max_temp>35:\n",
    "  print(\"va a hacer calor\")"
   ]
  },
  {
   "cell_type": "markdown",
   "id": "2ce64b82-8231-4219-a081-473c27c3adcb",
   "metadata": {},
   "source": [
    "### Otro ejercicio"
   ]
  },
  {
   "cell_type": "code",
   "execution_count": 115,
   "id": "84b425be-15be-4b3e-8a82-84c4932e4b7c",
   "metadata": {},
   "outputs": [],
   "source": [
    "##otro ejercicio\n",
    "from datetime import date, timedelta\n",
    "meses = [\"enero\", \"febrero\", \"marzo\", \"abril\", \"mayo\", \"junio\", \"julio\", \n",
    "        \"agosto\", \"septiembre\", \"octubre\", \"noviembre\", \"diciembre\"]"
   ]
  },
  {
   "cell_type": "code",
   "execution_count": 117,
   "id": "399f9cc3-c94a-49cf-9892-60adeeb49aa8",
   "metadata": {},
   "outputs": [],
   "source": [
    "####### MODIFICA LOS VALORES A TU ANTOJO\n",
    "dia = 30\n",
    "mes = \"abril\"\n",
    "#######\n",
    "\n",
    "today = date.today()\n",
    "birthday = date(today.year, meses.index(mes) + 1, dia)\n",
    "if birthday < today:\n",
    "  birthday = birthday.replace(year = birthday.year + 1)\n",
    "dias = (birthday - today).days"
   ]
  },
  {
   "cell_type": "code",
   "execution_count": 118,
   "id": "0aacb185-1cbf-4d97-a528-3b3ce093b0af",
   "metadata": {},
   "outputs": [
    {
     "name": "stdout",
     "output_type": "stream",
     "text": [
      "Quedan 49 días para tu cumpleaños. ¡Ve preparando la fiesta!\n"
     ]
    }
   ],
   "source": [
    "####### ESCRIBE EL CÓDIGO AQUÍ (10 líneas, incluyendo las anteriores)\n",
    "try:\n",
    "  today = date.today()\n",
    "  birthday = date(today.year, meses.index(mes) + 1, dia)\n",
    "  if birthday < today:\n",
    "    birthday = birthday.replace(year = birthday.year + 1)\n",
    "  dias = (birthday - today).days\n",
    "  print(f\"Quedan {dias} días para tu cumpleaños. ¡Ve preparando la fiesta!\")\n",
    "except:\n",
    "  print(\"Error con la fecha, revisala\")"
   ]
  },
  {
   "cell_type": "code",
   "execution_count": 119,
   "id": "7c826177-c58e-4288-a245-5e4f54631bce",
   "metadata": {},
   "outputs": [
    {
     "name": "stdout",
     "output_type": "stream",
     "text": [
      "8\n",
      "caso 1\n",
      "7\n",
      "caso 1\n",
      "6\n",
      "caso 1\n",
      "5\n",
      "caso 1\n",
      "4\n",
      "caso 1\n",
      "3.5\n",
      "False\n",
      "2\n",
      "caso 1\n",
      "1\n",
      "caso 1\n"
     ]
    }
   ],
   "source": [
    "# Parcial\n",
    "print(\"8\")\n",
    "a = 10\n",
    "if a > 2:\n",
    "    print(\"caso 1\")\n",
    "elif a > 5:\n",
    "    print(\"caso 2\")\n",
    "else:\n",
    "    print(\"caso 3\")\n",
    "print(\"7\")\n",
    "l = [1, 2, 3]\n",
    "if len(l*2) > 5:\n",
    "    print(\"caso 1\")\n",
    "else:\n",
    "    print(\"caso 2\")\n",
    "\n",
    "print(\"6\")\n",
    "l = list(range(5, 0, -1))\n",
    "if l[1] / l[-1] > 0:\n",
    "    print(\"caso 1\")\n",
    "else:\n",
    "    print(\"caso 2\")\n",
    "\n",
    "print(\"5\")\n",
    "l1 = [1, 3, 4, 5]\n",
    "l2 = [2, 1, 3, 3]\n",
    "if l1 < l2:\n",
    "    print(\"caso 1\")\n",
    "elif l2 < l1:\n",
    "    print(\"caso 2\")\n",
    "else:\n",
    "    print(\"fin\")\n",
    "print(\"4\")\n",
    "l = [1, 2, 3]\n",
    "if len(l*2) > 5:\n",
    "    print(\"caso 1\")\n",
    "else:\n",
    "    print(\"caso 2\")\n",
    "\n",
    "a, b = b, a\n",
    "if a >= b and b >= a:\n",
    "    print(\"hola\")\n",
    "\n",
    "print(\"3.5\")\n",
    "l = [1, 3, 5, 7, 11]\n",
    "print(3 in l[2:-1])\n",
    "print(\"2\")\n",
    "l1 = [1, 3, 4, 5]\n",
    "l2 = [2, 1, 3, 3]\n",
    "if l1 < l2:\n",
    "    print(\"caso 1\")\n",
    "elif l2 < l1:\n",
    "    print(\"caso 2\")\n",
    "else:\n",
    "    print(\"fin\")\n",
    "print(\"1\")\n",
    "l = [1, 2, 3]\n",
    "if len(l*2) > 5:\n",
    "    print(\"caso 1\")\n",
    "else:\n",
    "    print(\"caso 2\")\n",
    "\n",
    "a, b = b, a\n",
    "if a >= b and b >= a:\n",
    "    print(\"hola\")"
   ]
  },
  {
   "cell_type": "code",
   "execution_count": null,
   "id": "c51205d3-212b-48a2-9aba-67c00fbb566a",
   "metadata": {},
   "outputs": [],
   "source": []
  },
  {
   "cell_type": "code",
   "execution_count": null,
   "id": "54c83d18-4408-4ec5-94c9-6c384c835865",
   "metadata": {},
   "outputs": [],
   "source": []
  }
 ],
 "metadata": {
  "kernelspec": {
   "display_name": "Python 3 (ipykernel)",
   "language": "python",
   "name": "python3"
  },
  "language_info": {
   "codemirror_mode": {
    "name": "ipython",
    "version": 3
   },
   "file_extension": ".py",
   "mimetype": "text/x-python",
   "name": "python",
   "nbconvert_exporter": "python",
   "pygments_lexer": "ipython3",
   "version": "3.11.2"
  }
 },
 "nbformat": 4,
 "nbformat_minor": 5
}
