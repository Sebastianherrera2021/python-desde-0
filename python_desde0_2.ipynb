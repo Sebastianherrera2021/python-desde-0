{
 "cells": [
  {
   "cell_type": "markdown",
   "metadata": {},
   "source": [
    "# Jupyter Notebooks"
   ]
  },
  {
   "cell_type": "markdown",
   "metadata": {},
   "source": [
    "Los notebooks del proyecto Jupyter permiten mezclar en un mismo documento código <b>ejecutable</b> de diferentes lenguajes (R, Python, Scala...) con texto enriquecido, imágenes, etc. \n",
    "\n",
    "Al tratarse de un entorno de trabajo basado en el navegador Web se minimiza la curva de aprendizaje y se permite reaprovechar el conocimiento previo que tengan los desarrolladores en HTML para la creación de documentos."
   ]
  },
  {
   "cell_type": "markdown",
   "metadata": {},
   "source": [
    "### Celdas"
   ]
  },
  {
   "cell_type": "markdown",
   "metadata": {},
   "source": [
    "Un notebook de Jupyter está siempre compuesto por un conjunto de celdas. Una celda es un fragmento de código, texto enriquecido o texto plano que puede ser evaluado.\n",
    "\n",
    "Todas las celdas (al estar seleccionadas) tienen dos posibles estados (que se identifican por el color del recuadro de selección de celda):\n",
    "<ul>\n",
    "<li><b>Lectura:</b> Visualización del contenido (evaluado o no) y acciones/teclas de acceso ejecutadas sobre la celda completa (p.e. eliminación, adición, conversión entre tipos de celda...). El recuadro de selección de celdas es azul si estamos en modo de lectura.</li>\n",
    "<li><b>Edición:</b> Edición del contenido de la celda (p.e. código, markdown, HTML...). El recuadro de selección de celdas es verde si estamos en modo de edición.</li>\n",
    "</ul>\n",
    "\n",
    "Tenemos a nuestra disposición una serie de teclas de acceso rápido que nos permiten interactuar con las celdas de un modo mucho más ágil.\n",
    "<ul>\n",
    "<li>Pasar de modo lectura a edición: Intro</li>\n",
    "<li>Pasar de modo edición a lectura (sin evaluar): Esc</li>\n",
    "<li>Añadir una nueva celda debajo de la actual (modo lectura): B</li>\n",
    "<li>Añadir una nueva celda encima de la actual (modo lectura): A</li>\n",
    "<li>Eliminar una celda (modo lectura): X</li>\n",
    "</ul>\n",
    "\n",
    "Para acceder a un listado completo de teclas de acceso rápido podemos usar el menú Help o pulsar (en modo lectura) H."
   ]
  },
  {
   "cell_type": "markdown",
   "metadata": {},
   "source": [
    "### Tipos de celda"
   ]
  },
  {
   "cell_type": "markdown",
   "metadata": {},
   "source": [
    "Existen tres tipos de celda: Code, Markdown y Raw NBConvert.\n",
    "\n",
    "Las celdas en cualquier notebook tienen, por defecto, el tipo Code, pero se puede cambiar entre tipos bien usando los controles de la barra de herramientas o mediante las siguientes teclas de acceso rápido:\n",
    "\n",
    "<ul>\n",
    "<li>Convertir a celda Code (modo lectura): Y</li>\n",
    "<li>Convertir a celda Markdown (modo lectura): M</li>\n",
    "<li>Convertir a celda Raw NBConvert (modo lectura): R</li>\n",
    "</ul>"
   ]
  },
  {
   "cell_type": "code",
   "execution_count": 1,
   "metadata": {},
   "outputs": [
    {
     "name": "stdout",
     "output_type": "stream",
     "text": [
      "Hola mundo\n"
     ]
    }
   ],
   "source": [
    "# Declaramos una variable\n",
    "str_1 = \"Hola mundo\"\n",
    "print(str_1)"
   ]
  },
  {
   "cell_type": "code",
   "execution_count": 2,
   "metadata": {},
   "outputs": [
    {
     "data": {
      "text/plain": [
       "'Hola mundo'"
      ]
     },
     "execution_count": 2,
     "metadata": {},
     "output_type": "execute_result"
    }
   ],
   "source": [
    "# La utilizamos desde otra celda\n",
    "str_1"
   ]
  },
  {
   "cell_type": "markdown",
   "metadata": {},
   "source": [
    "#### Celdas Markdown\n",
    "\n",
    "<ul>\n",
    "<li>Se trata de celdas que contienen texto enriquecido</li>\n",
    "<li>Se puede utilizar lenguaje Markdown o HTML dentro de las mismas</li>\n",
    "<li>Estas celdas presentarán texto plano en modo edición (o cuando no se hayan evaluado)</li>\n",
    "</ul>"
   ]
  },
  {
   "cell_type": "markdown",
   "metadata": {},
   "source": [
    "#### Celdas Raw NBConvert\n",
    "\n",
    "<ul>\n",
    "<li>Se trata de celdas que contienen texto plano</li>\n",
    "</ul>"
   ]
  },
  {
   "cell_type": "markdown",
   "metadata": {},
   "source": [
    "### Magic commands\n",
    "\n",
    "Al ejecutarse sobre un intérprete de IPython, tenemos a nuestra disposición el mismo conjunto de utilidades que nos ofrece éste (magic commands). Algunos ejemplos..."
   ]
  },
  {
   "cell_type": "code",
   "execution_count": 3,
   "metadata": {},
   "outputs": [
    {
     "data": {
      "text/plain": [
       "'C:\\\\Users\\\\LAURA\\\\Desktop\\\\cursos data science\\\\Curso_Gratuito_de_Python_para_el_tratamiento_de_datos\\\\1.python_básico'"
      ]
     },
     "execution_count": 3,
     "metadata": {},
     "output_type": "execute_result"
    }
   ],
   "source": [
    "# Mostrar el directorio de trabajo actual\n",
    "%pwd"
   ]
  },
  {
   "cell_type": "code",
   "execution_count": 4,
   "metadata": {},
   "outputs": [
    {
     "name": "stdout",
     "output_type": "stream",
     "text": [
      " El volumen de la unidad C no tiene etiqueta.\n",
      " El número de serie del volumen es: C8EF-3E04\n",
      "\n",
      " Directorio de C:\\Users\\LAURA\\Desktop\\cursos data science\\Curso_Gratuito_de_Python_para_el_tratamiento_de_datos\\1.python_básico\n",
      "\n",
      "11/03/2023  10:41 p. m.    <DIR>          .\n",
      "11/03/2023  10:41 p. m.    <DIR>          ..\n",
      "11/03/2023  10:37 p. m.    <DIR>          .ipynb_checkpoints\n",
      "11/03/2023  07:48 p. m.            14.490 1.Sintaxis y elementos basicos.ipynb\n",
      "11/03/2023  08:53 p. m.            24.430 2.Estructuras de datos.ipynb\n",
      "11/03/2023  09:48 p. m.            10.437 3.Estructuras de control.ipynb\n",
      "11/03/2023  09:48 p. m.            10.496 4.Funciones y modulos.ipynb\n",
      "11/03/2023  09:49 p. m.             3.033 5.Trabajo con ficheros.ipynb\n",
      "11/03/2023  10:27 p. m.            23.208 6.Tratamiento_de_fechas.ipynb\n",
      "11/03/2023  10:41 p. m.            93.114 python_desde0_2.ipynb\n",
      "               7 archivos        179.208 bytes\n",
      "               3 dirs  601.208.967.168 bytes libres\n"
     ]
    }
   ],
   "source": [
    "# Listar el contenido del directorio de trabajo actual\n",
    "%ls"
   ]
  },
  {
   "cell_type": "code",
   "execution_count": 5,
   "metadata": {},
   "outputs": [
    {
     "name": "stdout",
     "output_type": "stream",
     "text": [
      "[WinError 2] El sistema no puede encontrar el archivo especificado: 'Rocio'\n",
      "C:\\Users\\LAURA\\Desktop\\cursos data science\\Curso_Gratuito_de_Python_para_el_tratamiento_de_datos\\1.python_básico\n"
     ]
    }
   ],
   "source": [
    "# Cambiar el directorio de trabajo actual\n",
    "%cd Rocio"
   ]
  },
  {
   "cell_type": "code",
   "execution_count": 6,
   "metadata": {},
   "outputs": [
    {
     "data": {
      "application/json": {
       "cell": {
        "!": "OSMagics",
        "HTML": "Other",
        "SVG": "Other",
        "bash": "Other",
        "capture": "ExecutionMagics",
        "cmd": "Other",
        "debug": "ExecutionMagics",
        "file": "Other",
        "html": "DisplayMagics",
        "javascript": "DisplayMagics",
        "js": "DisplayMagics",
        "latex": "DisplayMagics",
        "markdown": "DisplayMagics",
        "perl": "Other",
        "prun": "ExecutionMagics",
        "pypy": "Other",
        "python": "Other",
        "python2": "Other",
        "python3": "Other",
        "ruby": "Other",
        "script": "ScriptMagics",
        "sh": "Other",
        "svg": "DisplayMagics",
        "sx": "OSMagics",
        "system": "OSMagics",
        "time": "ExecutionMagics",
        "timeit": "ExecutionMagics",
        "writefile": "OSMagics"
       },
       "line": {
        "alias": "OSMagics",
        "alias_magic": "BasicMagics",
        "autoawait": "AsyncMagics",
        "autocall": "AutoMagics",
        "automagic": "AutoMagics",
        "autosave": "KernelMagics",
        "bookmark": "OSMagics",
        "cd": "OSMagics",
        "clear": "KernelMagics",
        "cls": "KernelMagics",
        "colors": "BasicMagics",
        "conda": "PackagingMagics",
        "config": "ConfigMagics",
        "connect_info": "KernelMagics",
        "copy": "Other",
        "ddir": "Other",
        "debug": "ExecutionMagics",
        "dhist": "OSMagics",
        "dirs": "OSMagics",
        "doctest_mode": "BasicMagics",
        "echo": "Other",
        "ed": "Other",
        "edit": "KernelMagics",
        "env": "OSMagics",
        "gui": "BasicMagics",
        "hist": "Other",
        "history": "HistoryMagics",
        "killbgscripts": "ScriptMagics",
        "ldir": "Other",
        "less": "KernelMagics",
        "load": "CodeMagics",
        "load_ext": "ExtensionMagics",
        "loadpy": "CodeMagics",
        "logoff": "LoggingMagics",
        "logon": "LoggingMagics",
        "logstart": "LoggingMagics",
        "logstate": "LoggingMagics",
        "logstop": "LoggingMagics",
        "ls": "Other",
        "lsmagic": "BasicMagics",
        "macro": "ExecutionMagics",
        "magic": "BasicMagics",
        "matplotlib": "PylabMagics",
        "mkdir": "Other",
        "more": "KernelMagics",
        "notebook": "BasicMagics",
        "page": "BasicMagics",
        "pastebin": "CodeMagics",
        "pdb": "ExecutionMagics",
        "pdef": "NamespaceMagics",
        "pdoc": "NamespaceMagics",
        "pfile": "NamespaceMagics",
        "pinfo": "NamespaceMagics",
        "pinfo2": "NamespaceMagics",
        "pip": "PackagingMagics",
        "popd": "OSMagics",
        "pprint": "BasicMagics",
        "precision": "BasicMagics",
        "prun": "ExecutionMagics",
        "psearch": "NamespaceMagics",
        "psource": "NamespaceMagics",
        "pushd": "OSMagics",
        "pwd": "OSMagics",
        "pycat": "OSMagics",
        "pylab": "PylabMagics",
        "qtconsole": "KernelMagics",
        "quickref": "BasicMagics",
        "recall": "HistoryMagics",
        "rehashx": "OSMagics",
        "reload_ext": "ExtensionMagics",
        "ren": "Other",
        "rep": "Other",
        "rerun": "HistoryMagics",
        "reset": "NamespaceMagics",
        "reset_selective": "NamespaceMagics",
        "rmdir": "Other",
        "run": "ExecutionMagics",
        "save": "CodeMagics",
        "sc": "OSMagics",
        "set_env": "OSMagics",
        "store": "StoreMagics",
        "sx": "OSMagics",
        "system": "OSMagics",
        "tb": "ExecutionMagics",
        "time": "ExecutionMagics",
        "timeit": "ExecutionMagics",
        "unalias": "OSMagics",
        "unload_ext": "ExtensionMagics",
        "who": "NamespaceMagics",
        "who_ls": "NamespaceMagics",
        "whos": "NamespaceMagics",
        "xdel": "NamespaceMagics",
        "xmode": "BasicMagics"
       }
      },
      "text/plain": [
       "Available line magics:\n",
       "%alias  %alias_magic  %autoawait  %autocall  %automagic  %autosave  %bookmark  %cd  %clear  %cls  %colors  %conda  %config  %connect_info  %copy  %ddir  %debug  %dhist  %dirs  %doctest_mode  %echo  %ed  %edit  %env  %gui  %hist  %history  %killbgscripts  %ldir  %less  %load  %load_ext  %loadpy  %logoff  %logon  %logstart  %logstate  %logstop  %ls  %lsmagic  %macro  %magic  %matplotlib  %mkdir  %more  %notebook  %page  %pastebin  %pdb  %pdef  %pdoc  %pfile  %pinfo  %pinfo2  %pip  %popd  %pprint  %precision  %prun  %psearch  %psource  %pushd  %pwd  %pycat  %pylab  %qtconsole  %quickref  %recall  %rehashx  %reload_ext  %ren  %rep  %rerun  %reset  %reset_selective  %rmdir  %run  %save  %sc  %set_env  %store  %sx  %system  %tb  %time  %timeit  %unalias  %unload_ext  %who  %who_ls  %whos  %xdel  %xmode\n",
       "\n",
       "Available cell magics:\n",
       "%%!  %%HTML  %%SVG  %%bash  %%capture  %%cmd  %%debug  %%file  %%html  %%javascript  %%js  %%latex  %%markdown  %%perl  %%prun  %%pypy  %%python  %%python2  %%python3  %%ruby  %%script  %%sh  %%svg  %%sx  %%system  %%time  %%timeit  %%writefile\n",
       "\n",
       "Automagic is ON, % prefix IS NOT needed for line magics."
      ]
     },
     "execution_count": 6,
     "metadata": {},
     "output_type": "execute_result"
    }
   ],
   "source": [
    "# Listar todos los comandos disponibles\n",
    "%lsmagic"
   ]
  },
  {
   "cell_type": "markdown",
   "metadata": {},
   "source": [
    "# Introducción a Python - Sintáxis y elementos básicos"
   ]
  },
  {
   "cell_type": "code",
   "execution_count": 7,
   "metadata": {},
   "outputs": [
    {
     "name": "stdout",
     "output_type": "stream",
     "text": [
      "12\n",
      "Hola Mundo\n"
     ]
    },
    {
     "data": {
      "text/plain": [
       "' Un tipo de comentario '"
      ]
     },
     "execution_count": 7,
     "metadata": {},
     "output_type": "execute_result"
    }
   ],
   "source": [
    "#vamos a empezar con un ejemplo de código Python. ¿Qué imprimirá si lo ejecutamos? \n",
    "entero = 34 - 23 # Un comentario\n",
    "cadena = \"Hola\" # Otro comentario\n",
    "decimal = 3.45\n",
    "if decimal == 3.45 or cadena == \"Hola\":\n",
    "    entero = entero + 1\n",
    "    cadena = cadena + \" Mundo\" # Concatenación de cadenas de caracteres\n",
    "print(entero)\n",
    "print(cadena)\n",
    "\"\"\" Un tipo de comentario \"\"\""
   ]
  },
  {
   "cell_type": "markdown",
   "metadata": {},
   "source": [
    "### Espacios en blanco"
   ]
  },
  {
   "cell_type": "code",
   "execution_count": 8,
   "metadata": {},
   "outputs": [
    {
     "name": "stdout",
     "output_type": "stream",
     "text": [
      "Ya no lo soy\n"
     ]
    }
   ],
   "source": [
    "variable_1 = 10                          # Un salto de linea especifica el final de sentencia\n",
    "variable_2 = \"Soy una asignación\" + \\\n",
    "             \" muy larga\"                # Un \\ indica que la sentencia continúa en la siguiente linea (mala práctica)\n",
    "if variable_1 == 10:\n",
    "    variable_1 = 15                      # Una mayor indentación indica el inicio de un bloque                     \n",
    "    variable_2 = \"Ya no lo soy\"\n",
    "print (variable_2)                       # Una menor indentación indica el fin de un bloque"
   ]
  },
  {
   "cell_type": "markdown",
   "metadata": {},
   "source": [
    "### Variables"
   ]
  },
  {
   "cell_type": "code",
   "execution_count": 9,
   "metadata": {},
   "outputs": [],
   "source": [
    "cod_contrato = \"12345678890000000000\"   # Asignación correcta\n",
    "Persona = \"99999999-Q\"                  # Asignación válida aunque en contra de buenas prácticas\n",
    "x = 3.45                                # Asignación válida aunque en contra de buenas prácticas"
   ]
  },
  {
   "cell_type": "markdown",
   "metadata": {},
   "source": [
    "### Asignaciòn"
   ]
  },
  {
   "cell_type": "code",
   "execution_count": 10,
   "metadata": {},
   "outputs": [],
   "source": [
    "cod_contrato = \"1234567890000000000\"             # Creación de una variable cod_contrato de tipo cadena de caracteres\n",
    "num_hijos = 5                                    # Creación de una variable num_hijos de tipo entero\n",
    "saldo = 12345.67                                 # Creación de una variable saldo de tipo decimal\n",
    "cod_contrato_2 = cod_contrato                    # Creación de una variable cod_contrato_2 con el mismo valor y tipo que cod_contrato\n",
    "cod_titular_1, cod_titular_2 = \"Pepe\", \"María\"   # Creación múltiple de variables en una única sentencia"
   ]
  },
  {
   "cell_type": "markdown",
   "metadata": {},
   "source": [
    "### Lectura de la entrada estandar:"
   ]
  },
  {
   "cell_type": "code",
   "execution_count": 11,
   "metadata": {},
   "outputs": [
    {
     "name": "stdin",
     "output_type": "stream",
     "text": [
      "-->  sebas \n"
     ]
    },
    {
     "name": "stdout",
     "output_type": "stream",
     "text": [
      "Has escrito: sebas \n"
     ]
    }
   ],
   "source": [
    "entrada = input(\"--> \")\n",
    "print(\"Has escrito: \" + entrada)"
   ]
  },
  {
   "cell_type": "markdown",
   "metadata": {},
   "source": [
    "### Casting o modificación manual de tipos"
   ]
  },
  {
   "cell_type": "code",
   "execution_count": 12,
   "metadata": {},
   "outputs": [
    {
     "name": "stdout",
     "output_type": "stream",
     "text": [
      "10\n",
      "10\n",
      "1.0\n"
     ]
    }
   ],
   "source": [
    "entero = 10\n",
    "decimal = 10.1\n",
    "booleano = True\n",
    "print (str(entero))         # Conversión del valor 10 a la cadena \"10\"\n",
    "print (int(decimal))       # Conversión de float a int, con truncado de decimales\n",
    "print (float(booleano))     # Conversión de booleanos a valores numéricos 0 y 1"
   ]
  },
  {
   "cell_type": "markdown",
   "metadata": {},
   "source": [
    "### Operadores básicos "
   ]
  },
  {
   "cell_type": "code",
   "execution_count": 13,
   "metadata": {},
   "outputs": [
    {
     "name": "stdout",
     "output_type": "stream",
     "text": [
      "10\n",
      "8\n",
      "1.25\n",
      "2\n",
      "1\n"
     ]
    }
   ],
   "source": [
    "a = 2 * 5\n",
    "b = 2**3\n",
    "c = a / b\n",
    "d = a % b\n",
    "e = a//b\n",
    "print(a)\n",
    "print(b)\n",
    "print(c)\n",
    "print(d)\n",
    "print(e)"
   ]
  },
  {
   "cell_type": "markdown",
   "metadata": {},
   "source": [
    "### Comparativos"
   ]
  },
  {
   "cell_type": "code",
   "execution_count": 14,
   "metadata": {},
   "outputs": [
    {
     "name": "stdout",
     "output_type": "stream",
     "text": [
      "False\n",
      "True\n",
      "True\n"
     ]
    }
   ],
   "source": [
    "b = 4\n",
    "print (a == b)\n",
    "print (a != b)\n",
    "print (a > b)"
   ]
  },
  {
   "cell_type": "markdown",
   "metadata": {},
   "source": [
    "### Logicos"
   ]
  },
  {
   "cell_type": "code",
   "execution_count": 15,
   "metadata": {},
   "outputs": [
    {
     "data": {
      "text/plain": [
       "False"
      ]
     },
     "execution_count": 15,
     "metadata": {},
     "output_type": "execute_result"
    }
   ],
   "source": [
    "a = 3\n",
    "a > 2 and a < 0\n",
    "a > 2 or a < 0 \n",
    "not a > 2"
   ]
  },
  {
   "cell_type": "markdown",
   "metadata": {},
   "source": [
    "### Asignacion"
   ]
  },
  {
   "cell_type": "code",
   "execution_count": 16,
   "metadata": {},
   "outputs": [
    {
     "data": {
      "text/plain": [
       "1"
      ]
     },
     "execution_count": 16,
     "metadata": {},
     "output_type": "execute_result"
    }
   ],
   "source": [
    "a += 8\n",
    "a\n",
    "a %= 5\n",
    "a"
   ]
  },
  {
   "cell_type": "markdown",
   "metadata": {},
   "source": [
    "# Introducción a Python - Estructuras de datos"
   ]
  },
  {
   "cell_type": "markdown",
   "metadata": {},
   "source": [
    "En este apartado vamos a revisar las estructuras de datos (colecciones) básicas de Python, sus propiedades y las operaciones básicas que se pueden realizar con y sobre ellos. En concreto, en Python tenemos tres estructuras básicas de datos.\n",
    "\n",
    "<ul>\n",
    "<li>Secuencias</li>\n",
    "<li>Diccionarios</li>\n",
    "<li>Conjuntos</li>\n",
    "</ul>\n"
   ]
  },
  {
   "cell_type": "markdown",
   "metadata": {},
   "source": [
    "### Secuencias"
   ]
  },
  {
   "cell_type": "markdown",
   "metadata": {},
   "source": [
    "Una secuencia es un listado unidimensional y ordenado de valores que pueden ser de cualquier tipo, incluso otras estructuras de datos anidadas. Existen tres tipos bien diferenciados\n",
    "\n",
    "<ul>\n",
    "<li>Tuplas: listados inmutables.</li>\n",
    "<li>Listas: listados ordenados mutables.</li>\n",
    "<li>Cadenas de caracteres: inmutables y cuyos elementos son siempre caracteres.</li>\n",
    "</ul>\n",
    "\n",
    "Casi todas las operaciones disponibles se pueden aplicar sobre cualquier tipo de secuencia (excepto las que implican modificación que, lógicamente, sólo se pueden aplicar sobre listas)."
   ]
  },
  {
   "cell_type": "markdown",
   "metadata": {},
   "source": [
    "#### Creacion de secuencias"
   ]
  },
  {
   "cell_type": "code",
   "execution_count": 17,
   "metadata": {},
   "outputs": [],
   "source": [
    "tuple_1 = (1, 2, 3, 4)\n",
    "list_1 = [1, 2, 3, 4]\n",
    "str_1 = \"esto es una cadena\""
   ]
  },
  {
   "cell_type": "code",
   "execution_count": 18,
   "metadata": {},
   "outputs": [
    {
     "data": {
      "text/plain": [
       "1"
      ]
     },
     "execution_count": 18,
     "metadata": {},
     "output_type": "execute_result"
    }
   ],
   "source": [
    "tuple_1[0]"
   ]
  },
  {
   "cell_type": "code",
   "execution_count": 19,
   "metadata": {},
   "outputs": [],
   "source": [
    "#tuple_1[0] = 3"
   ]
  },
  {
   "cell_type": "code",
   "execution_count": 20,
   "metadata": {},
   "outputs": [
    {
     "data": {
      "text/plain": [
       "2"
      ]
     },
     "execution_count": 20,
     "metadata": {},
     "output_type": "execute_result"
    }
   ],
   "source": [
    "list_1[0] = 2\n",
    "list_1[0]"
   ]
  },
  {
   "cell_type": "code",
   "execution_count": 21,
   "metadata": {},
   "outputs": [
    {
     "data": {
      "text/plain": [
       "'t'"
      ]
     },
     "execution_count": 21,
     "metadata": {},
     "output_type": "execute_result"
    }
   ],
   "source": [
    "str_1[2]"
   ]
  },
  {
   "cell_type": "code",
   "execution_count": 22,
   "metadata": {},
   "outputs": [],
   "source": [
    "#str_1[2] = \"a\""
   ]
  },
  {
   "cell_type": "markdown",
   "metadata": {},
   "source": [
    "#### <b>Conversión/casting entre tipos de secuencia</b>"
   ]
  },
  {
   "cell_type": "code",
   "execution_count": 23,
   "metadata": {},
   "outputs": [],
   "source": [
    "tuple_1 = (1, 2, 3, 4)\n",
    "list_1 = [1, 2, 3, 4]\n",
    "str_1 = \"esto es una cadena\"\n",
    "\n",
    "tuple_2 = tuple(list_1)\n",
    "list_2 = list(tuple_1)\n",
    "tuple_3 = tuple(str_1)"
   ]
  },
  {
   "cell_type": "code",
   "execution_count": 24,
   "metadata": {},
   "outputs": [
    {
     "name": "stdout",
     "output_type": "stream",
     "text": [
      "(1, 2, 3, 4)\n",
      "[1, 2, 3, 4]\n",
      "('e', 's', 't', 'o', ' ', 'e', 's', ' ', 'u', 'n', 'a', ' ', 'c', 'a', 'd', 'e', 'n', 'a')\n",
      "<class 'tuple'>\n",
      "<class 'list'>\n",
      "<class 'tuple'>\n"
     ]
    }
   ],
   "source": [
    "print (tuple_2)\n",
    "print (list_2)\n",
    "print (tuple_3)\n",
    "\n",
    "print (type(tuple_2))\n",
    "print (type(list_2))\n",
    "print (type(tuple_3))"
   ]
  },
  {
   "cell_type": "markdown",
   "metadata": {},
   "source": [
    "#### Creación de secuencias anidadas"
   ]
  },
  {
   "cell_type": "code",
   "execution_count": 25,
   "metadata": {},
   "outputs": [
    {
     "name": "stdout",
     "output_type": "stream",
     "text": [
      "(1, 2, (3, 4), [1, 2, 3])\n",
      "[1, 2, 3, [4, 5], 'prueba', (1, 2, 3)]\n"
     ]
    }
   ],
   "source": [
    "tuple_1 = (1, 2, (3, 4), [1, 2, 3])\n",
    "list_1 = [1, 2, 3, [4, 5], \"prueba\", (1, 2, 3)]\n",
    "print (tuple_1)\n",
    "print (list_1)"
   ]
  },
  {
   "cell_type": "markdown",
   "metadata": {},
   "source": [
    "#### Concatenación de secuencias"
   ]
  },
  {
   "cell_type": "code",
   "execution_count": 26,
   "metadata": {},
   "outputs": [
    {
     "name": "stdout",
     "output_type": "stream",
     "text": [
      "(1, 2, 3, 4, 5, 6, 7, 8)\n",
      "[1, 2, 3, 4, 5, 6, 7, 8]\n",
      "esto es una cadenaesto es otra cadena\n"
     ]
    }
   ],
   "source": [
    "tuple_1 = (1, 2, 3, 4)\n",
    "list_1 = [1, 2, 3, 4]\n",
    "str_1 = \"esto es una cadena\"\n",
    "\n",
    "tuple_2 = (5, 6, 7, 8)\n",
    "list_2 = [5, 6, 7, 8]\n",
    "str_2 = \"esto es otra cadena\"\n",
    "\n",
    "tuple_3 = tuple_1 + tuple_2\n",
    "list_3 = list_1 + list_2\n",
    "str_3 = str_1 + str_2\n",
    "\n",
    "print (tuple_3)\n",
    "print (list_3)\n",
    "print (str_3)"
   ]
  },
  {
   "cell_type": "markdown",
   "metadata": {},
   "source": [
    "#### Multiplicación de secuencias por enteros"
   ]
  },
  {
   "cell_type": "code",
   "execution_count": 27,
   "metadata": {},
   "outputs": [
    {
     "name": "stdout",
     "output_type": "stream",
     "text": [
      "[1, 2, 3, 1, 2, 3]\n"
     ]
    }
   ],
   "source": [
    "list_1 = [1, 2, 3]\n",
    "list_2 = list_1 * 2\n",
    "print (list_2)"
   ]
  },
  {
   "cell_type": "code",
   "execution_count": 28,
   "metadata": {},
   "outputs": [
    {
     "name": "stdout",
     "output_type": "stream",
     "text": [
      "('hola', 'mundo', 'hola', 'mundo')\n",
      "pruebaprueba\n"
     ]
    }
   ],
   "source": [
    "tuple_1 = (\"hola\", \"mundo\")\n",
    "tuple_2 = tuple_1 * 2\n",
    "print (tuple_2)\n",
    "\n",
    "\n",
    "str_1 = \"prueba\"\n",
    "str_2 = str_1 * 2\n",
    "print (str_2)"
   ]
  },
  {
   "cell_type": "markdown",
   "metadata": {},
   "source": [
    "#### Comprobación de si un elemento existe en la secuencia"
   ]
  },
  {
   "cell_type": "code",
   "execution_count": 29,
   "metadata": {},
   "outputs": [
    {
     "name": "stdout",
     "output_type": "stream",
     "text": [
      "True\n",
      "True\n",
      "True\n",
      "True\n",
      "True\n",
      "True\n"
     ]
    }
   ],
   "source": [
    "tuple_1 = (1, 2, 3, 4)\n",
    "list_1 = [1, 2, 3, 4]\n",
    "str_1 = \"esto es una cadena\"\n",
    "\n",
    "print (4 in tuple_1)\n",
    "print (5 not in tuple_1)\n",
    "print (4 in list_1)\n",
    "print (5 not in list_1)\n",
    "print (\"e\" in str_1)\n",
    "print (\"z\" not in str_1)"
   ]
  },
  {
   "cell_type": "markdown",
   "metadata": {},
   "source": [
    "##### Acceso a un elemento de la secuencia por posición (índice positivo)"
   ]
  },
  {
   "cell_type": "code",
   "execution_count": 30,
   "metadata": {},
   "outputs": [
    {
     "name": "stdout",
     "output_type": "stream",
     "text": [
      "1\n",
      "4\n",
      "e\n"
     ]
    }
   ],
   "source": [
    "tuple_1 = (1, 2, 3, 4)\n",
    "list_1 = [1, 2, 3, 4]\n",
    "str_1 = \"esto es una cadena\"\n",
    "\n",
    "print (tuple_1[0])\n",
    "print (list_1[3])\n",
    "print (str_1[5])"
   ]
  },
  {
   "cell_type": "markdown",
   "metadata": {},
   "source": [
    "##### Acceso a un elemento de la secuencia por posición (índice negativo)"
   ]
  },
  {
   "cell_type": "code",
   "execution_count": 31,
   "metadata": {},
   "outputs": [
    {
     "name": "stdout",
     "output_type": "stream",
     "text": [
      "4\n",
      "2\n",
      "a\n"
     ]
    }
   ],
   "source": [
    "tuple_1 = (1, 2, 3, 4)\n",
    "list_1 = [1, 2, 3, 4]\n",
    "str_1 = \"esto es una cadena\"\n",
    "\n",
    "print (tuple_1[-1])\n",
    "print (list_1[-3])\n",
    "print (str_1[-5])"
   ]
  },
  {
   "cell_type": "markdown",
   "metadata": {},
   "source": [
    "#### Slicing de secuencias"
   ]
  },
  {
   "cell_type": "markdown",
   "metadata": {},
   "source": [
    "<ul>\n",
    "<li>Selección (mediante copia, no referencia) de un conjunto ordenado de elementos de una secuencia.</li>\n",
    "<li>Se realiza mediante la notación secuencia[a:b:c]. Donde:\n",
    "<ul>\n",
    "<li>a: Índice del primer elemento a extrar (en base 0). Si se omite se extrae desde el principio de la secuencia.</li>\n",
    "<li>b: Índice del primero elemento que NO se extrae (en base 0). Si se omite se extrae hasta el final de la secuencia.</li>\n",
    "<li>c: Tamaño del salto a aplicar en la extracción. Si se omite se asume 1.\n",
    "</ul>\n",
    "</ul>"
   ]
  },
  {
   "cell_type": "code",
   "execution_count": 32,
   "metadata": {},
   "outputs": [
    {
     "name": "stdout",
     "output_type": "stream",
     "text": [
      "(1, 2, 3, 4)\n",
      "(3, 4)\n",
      "[1, 2, 3]\n",
      "[3]\n",
      "esto es una cad\n",
      "et suacdn\n",
      "[4, 3, 2, 1]\n"
     ]
    }
   ],
   "source": [
    "tuple_1 = (1, 2, 3, 4)\n",
    "list_1 = [1, 2, 3, 4]\n",
    "str_1 = \"esto es una cadena\"\n",
    "\n",
    "print (tuple_1[:])\n",
    "print (tuple_1[2:])\n",
    "print (list_1[:3])\n",
    "print (list_1[2:3])\n",
    "print( str_1[:-3])\n",
    "print (str_1[::2])\n",
    "print (list_1[::-1])"
   ]
  },
  {
   "cell_type": "code",
   "execution_count": 33,
   "metadata": {},
   "outputs": [
    {
     "name": "stdout",
     "output_type": "stream",
     "text": [
      "[1, 2, 3, 4]\n",
      "[25, 2, 3]\n"
     ]
    }
   ],
   "source": [
    "list_2 = list_1[:3]\n",
    "list_2[0] = 25\n",
    "print (list_1)\n",
    "print (list_2)"
   ]
  },
  {
   "cell_type": "markdown",
   "metadata": {},
   "source": [
    "##### Longitud de secuencias"
   ]
  },
  {
   "cell_type": "code",
   "execution_count": 34,
   "metadata": {},
   "outputs": [
    {
     "name": "stdout",
     "output_type": "stream",
     "text": [
      "4\n",
      "4\n",
      "18\n"
     ]
    }
   ],
   "source": [
    "tuple_1 = (1, 2, 3, 4)\n",
    "list_1 = [1, 2, 3, 4]\n",
    "str_1 = \"esto es una cadena\"\n",
    "\n",
    "print (len(tuple_1))\n",
    "print (len(list_1))\n",
    "print (len(str_1))"
   ]
  },
  {
   "cell_type": "markdown",
   "metadata": {},
   "source": [
    "##### Obtención del número de repeticiones de un elemento"
   ]
  },
  {
   "cell_type": "code",
   "execution_count": 35,
   "metadata": {},
   "outputs": [
    {
     "name": "stdout",
     "output_type": "stream",
     "text": [
      "1\n",
      "1\n",
      "3\n"
     ]
    }
   ],
   "source": [
    "tuple_1 = (1, 2, 3, 4)\n",
    "list_1 = [1, 2, 3, 4]\n",
    "str_1 = \"esto es una cadena\"\n",
    "\n",
    "print (tuple_1.count(1))\n",
    "print (list_1.count(1))\n",
    "print (str_1.count(\"e\"))"
   ]
  },
  {
   "cell_type": "markdown",
   "metadata": {},
   "source": [
    "##### Mezcla ordenada de secuencias"
   ]
  },
  {
   "cell_type": "code",
   "execution_count": 36,
   "metadata": {},
   "outputs": [
    {
     "name": "stdout",
     "output_type": "stream",
     "text": [
      "[(1, 'uno'), (2, 'dos'), (3, 'tres'), (4, 'cuatro'), (5, 'cinco')]\n"
     ]
    }
   ],
   "source": [
    "tuple_1 = (1, 2, 3, 4, 5)\n",
    "list_1 = [\"uno\", \"dos\", \"tres\", \"cuatro\", \"cinco\"]\n",
    "tuple_list = zip(tuple_1, list_1)\n",
    "print (list(tuple_list))"
   ]
  },
  {
   "cell_type": "markdown",
   "metadata": {},
   "source": [
    "##### Creación de secuencias numéricas"
   ]
  },
  {
   "cell_type": "code",
   "execution_count": 37,
   "metadata": {},
   "outputs": [
    {
     "name": "stdout",
     "output_type": "stream",
     "text": [
      "range(0, 10)\n"
     ]
    }
   ],
   "source": [
    "list_1 = range(10)\n",
    "print (list_1)"
   ]
  },
  {
   "cell_type": "code",
   "execution_count": 38,
   "metadata": {},
   "outputs": [
    {
     "name": "stdout",
     "output_type": "stream",
     "text": [
      "[0, 1, 2, 3, 4, 5, 6, 7, 8, 9]\n"
     ]
    }
   ],
   "source": [
    "list_1 = range(10)\n",
    "print (list(list_1))"
   ]
  },
  {
   "cell_type": "code",
   "execution_count": 39,
   "metadata": {},
   "outputs": [
    {
     "name": "stdout",
     "output_type": "stream",
     "text": [
      "[5, 6, 7, 8, 9]\n",
      "[0, 2, 4, 6, 8, 10, 12, 14, 16, 18, 20, 22, 24, 26, 28, 30, 32, 34, 36, 38, 40, 42, 44, 46, 48, 50, 52, 54, 56, 58, 60, 62, 64, 66, 68, 70, 72, 74, 76, 78, 80, 82, 84, 86, 88, 90, 92, 94, 96, 98]\n"
     ]
    }
   ],
   "source": [
    "list_2 = range(5, 10)\n",
    "print (list(list_2))\n",
    "\n",
    "list_3 = range(0, 100, 2)\n",
    "print (list(list_3))"
   ]
  },
  {
   "cell_type": "markdown",
   "metadata": {},
   "source": [
    "##### Adición de elementos a una lista (por el final) - SÓLO LISTAS"
   ]
  },
  {
   "cell_type": "code",
   "execution_count": 40,
   "metadata": {},
   "outputs": [
    {
     "name": "stdout",
     "output_type": "stream",
     "text": [
      "['uno', 'dos', 'tres']\n"
     ]
    }
   ],
   "source": [
    "list_1 = [\"uno\", \"dos\"]\n",
    "list_1.append(\"tres\")\n",
    "print (list_1)"
   ]
  },
  {
   "cell_type": "markdown",
   "metadata": {},
   "source": [
    "#### Inserción un elemento en una posición específica - SÓLO LISTAS"
   ]
  },
  {
   "cell_type": "code",
   "execution_count": 41,
   "metadata": {},
   "outputs": [
    {
     "name": "stdout",
     "output_type": "stream",
     "text": [
      "['uno', 'dos', 'tres']\n"
     ]
    }
   ],
   "source": [
    "list_1 = [\"dos\", \"tres\"]\n",
    "list_1.insert(0, \"uno\")\n",
    "print (list_1)"
   ]
  },
  {
   "cell_type": "markdown",
   "metadata": {},
   "source": [
    "##### Asignación de valor a un slice - SÓLO LISTAS"
   ]
  },
  {
   "cell_type": "code",
   "execution_count": 42,
   "metadata": {},
   "outputs": [
    {
     "name": "stdout",
     "output_type": "stream",
     "text": [
      "[1, 2, 5, 6, 5]\n"
     ]
    }
   ],
   "source": [
    "list_1 = [1, 2, 3, 4, 5]\n",
    "list_1[2:4] = [5, 6]\n",
    "print (list_1)"
   ]
  },
  {
   "cell_type": "code",
   "execution_count": 43,
   "metadata": {},
   "outputs": [
    {
     "name": "stdout",
     "output_type": "stream",
     "text": [
      "[1, 2, 3, 4]\n"
     ]
    }
   ],
   "source": [
    "list_1[2:5] = [3, 4]\n",
    "print (list_1)"
   ]
  },
  {
   "cell_type": "markdown",
   "metadata": {},
   "source": [
    "#### Eliminación del primer elemento coincidente - SÓLO LISTAS"
   ]
  },
  {
   "cell_type": "code",
   "execution_count": 44,
   "metadata": {},
   "outputs": [
    {
     "name": "stdout",
     "output_type": "stream",
     "text": [
      "[1, 2, 3]\n"
     ]
    }
   ],
   "source": [
    "list_1 = [1, 2, 3, [4, 5]]\n",
    "list_1.remove([4, 5])\n",
    "print (list_1)"
   ]
  },
  {
   "cell_type": "markdown",
   "metadata": {},
   "source": [
    "##### Eliminación de elementos - SÓLO LISTAS"
   ]
  },
  {
   "cell_type": "code",
   "execution_count": 45,
   "metadata": {},
   "outputs": [
    {
     "name": "stdout",
     "output_type": "stream",
     "text": [
      "[1, 2, 4, 5]\n"
     ]
    }
   ],
   "source": [
    "list_1 = [1, 2, 3, 4, 5]\n",
    "del list_1[2]\n",
    "print (list_1)"
   ]
  },
  {
   "cell_type": "markdown",
   "metadata": {},
   "source": [
    "##### Ordenación de elementos - SÓLO LISTAS"
   ]
  },
  {
   "cell_type": "code",
   "execution_count": 46,
   "metadata": {},
   "outputs": [
    {
     "name": "stdout",
     "output_type": "stream",
     "text": [
      "[1, 2, 3, 4, 5]\n",
      "[5, 4, 3, 2, 1]\n"
     ]
    }
   ],
   "source": [
    "list_1 = [1, 3, 4, 2, 5]\n",
    "list_1.sort()\n",
    "print (list_1)\n",
    "\n",
    "list_1.sort(reverse=True)\n",
    "print (list_1)"
   ]
  },
  {
   "cell_type": "markdown",
   "metadata": {},
   "source": [
    "#### Recuperación inversa de elementos - SÓLO LISTAS"
   ]
  },
  {
   "cell_type": "code",
   "execution_count": 47,
   "metadata": {},
   "outputs": [
    {
     "name": "stdout",
     "output_type": "stream",
     "text": [
      "[5, 2, 4, 3, 1]\n"
     ]
    }
   ],
   "source": [
    "list_1 = [1, 3, 4, 2, 5]\n",
    "list_1.reverse()\n",
    "print (list_1)"
   ]
  },
  {
   "cell_type": "markdown",
   "metadata": {},
   "source": [
    "#### Fusionar listas - SOLO LISTAS"
   ]
  },
  {
   "cell_type": "code",
   "execution_count": 48,
   "metadata": {},
   "outputs": [
    {
     "name": "stdout",
     "output_type": "stream",
     "text": [
      "[1, 3, 4, 2, 5, 7, 8]\n"
     ]
    }
   ],
   "source": [
    "list_1 = [1, 3, 4, 2, 5]\n",
    "list_2 = [7,8]\n",
    "list_1.extend(list_2)\n",
    "print(list_1)"
   ]
  },
  {
   "cell_type": "code",
   "execution_count": 49,
   "metadata": {},
   "outputs": [
    {
     "data": {
      "text/plain": [
       "[1, 3, 4, 2, 5, 7, 8]"
      ]
     },
     "execution_count": 49,
     "metadata": {},
     "output_type": "execute_result"
    }
   ],
   "source": [
    "list_1 = [1, 3, 4, 2, 5]\n",
    "list_2 = [7,8]\n",
    "final_list = list_1 + list_2\n",
    "final_list"
   ]
  },
  {
   "cell_type": "markdown",
   "metadata": {},
   "source": [
    "##### Conversión a mayúsculas/minúsculas - SÓLO CADENAS"
   ]
  },
  {
   "cell_type": "code",
   "execution_count": 50,
   "metadata": {},
   "outputs": [
    {
     "name": "stdout",
     "output_type": "stream",
     "text": [
      "ESTO ES UNA PRUEBA\n",
      "esto es una prueba\n"
     ]
    }
   ],
   "source": [
    "str_1 = \"esto es una prueba\"\n",
    "print (str_1.upper())\n",
    "\n",
    "str_2 = \"ESTO ES UNA PRUEBA\"\n",
    "print (str_2.lower())"
   ]
  },
  {
   "cell_type": "markdown",
   "metadata": {},
   "source": [
    "#### Segmentación por carácter - SÓLO CADENAS"
   ]
  },
  {
   "cell_type": "code",
   "execution_count": 51,
   "metadata": {},
   "outputs": [
    {
     "name": "stdout",
     "output_type": "stream",
     "text": [
      "['esto', 'es', 'una', 'prueba']\n"
     ]
    }
   ],
   "source": [
    "str_1 = \"esto es una prueba\"\n",
    "print (str_1.split(\" \"))"
   ]
  },
  {
   "cell_type": "markdown",
   "metadata": {},
   "source": [
    "##### Reemplazo en cadenas - SÓLO CADENAS"
   ]
  },
  {
   "cell_type": "code",
   "execution_count": 52,
   "metadata": {},
   "outputs": [
    {
     "name": "stdout",
     "output_type": "stream",
     "text": [
      "esto es otra prueba otra\n",
      "esto es otra prueba una\n"
     ]
    }
   ],
   "source": [
    "str_1 = \"esto es una prueba una\"\n",
    "print (str_1.replace(\"una\", \"otra\"))\n",
    "print (str_1.replace(\"una\", \"otra\",1))"
   ]
  },
  {
   "cell_type": "markdown",
   "metadata": {},
   "source": [
    "## Diccionarios (dict)"
   ]
  },
  {
   "cell_type": "markdown",
   "metadata": {},
   "source": [
    "Un diccionario es una estructura que:\n",
    "<ul>\n",
    "<li>Contiene un listado de pares clave-valor.</li>\n",
    "<li>También se puede llamar array asociativo o <i>hash map</i>.</li>\n",
    "<li>Sin orden</li>\n",
    "<li>Cuyas claves son cadenas de caracteres o valores numéricos.</li>\n",
    "<li>Cuyos valores son valores o secuencias (anidadas).</li>\n",
    "</ul>"
   ]
  },
  {
   "cell_type": "markdown",
   "metadata": {},
   "source": [
    "##### Creación de un diccionario"
   ]
  },
  {
   "cell_type": "code",
   "execution_count": 53,
   "metadata": {},
   "outputs": [
    {
     "name": "stdout",
     "output_type": "stream",
     "text": [
      "{'clave_1': 1, 'clave_2': 'prueba'}\n",
      "{10: 1, 2: 2}\n"
     ]
    }
   ],
   "source": [
    "dict_1 = {\"clave_1\": 1, \"clave_2\": \"prueba\"} \n",
    "print (dict_1)\n",
    "\n",
    "dict_2 = {10:1, 2:2}\n",
    "print (dict_2)"
   ]
  },
  {
   "cell_type": "markdown",
   "metadata": {},
   "source": [
    "##### Creación de diccionarios anidados"
   ]
  },
  {
   "cell_type": "code",
   "execution_count": 54,
   "metadata": {},
   "outputs": [
    {
     "name": "stdout",
     "output_type": "stream",
     "text": [
      "{'clave_1': 1, 'clave_2': {'clave_21': [1, 2, 3], 'clave_22': 'prueba'}}\n"
     ]
    }
   ],
   "source": [
    "dict_1 = {\"clave_1\": 1, \"clave_2\": {\"clave_21\": [1, 2, 3], \"clave_22\": \"prueba\"}}\n",
    "print (dict_1)"
   ]
  },
  {
   "cell_type": "markdown",
   "metadata": {},
   "source": [
    "##### Creación de diccionarios desde tuplas clave-valor"
   ]
  },
  {
   "cell_type": "code",
   "execution_count": 55,
   "metadata": {},
   "outputs": [
    {
     "name": "stdout",
     "output_type": "stream",
     "text": [
      "{'uno': 1, 'dos': 2, 'tres': 3, 'cuatro': 4, 'cinco': 5}\n"
     ]
    }
   ],
   "source": [
    "tuple_1 = (1, 2, 3, 4, 5)\n",
    "list_1 = [\"uno\", \"dos\", \"tres\", \"cuatro\", \"cinco\"]\n",
    "dict_1 = dict(zip(list_1, tuple_1))\n",
    "print (dict_1)"
   ]
  },
  {
   "cell_type": "markdown",
   "metadata": {},
   "source": [
    "##### Unión de dos diccionarios"
   ]
  },
  {
   "cell_type": "code",
   "execution_count": 56,
   "metadata": {},
   "outputs": [
    {
     "name": "stdout",
     "output_type": "stream",
     "text": [
      "{'clave_1': 1, 'clave_2': 2, 'clave_3': 3, 'clave_4': 4}\n"
     ]
    }
   ],
   "source": [
    "dict_1 = {\"clave_1\": 1, \"clave_2\": 2}\n",
    "dict_2 = {\"clave_3\": 3, \"clave_4\": 4}\n",
    "dict_1.update(dict_2)  \n",
    "print (dict_1)"
   ]
  },
  {
   "cell_type": "markdown",
   "metadata": {},
   "source": [
    "##### Inserción (o modificación) de un elemento del diccionario por clave"
   ]
  },
  {
   "cell_type": "code",
   "execution_count": 57,
   "metadata": {},
   "outputs": [
    {
     "name": "stdout",
     "output_type": "stream",
     "text": [
      "{'clave_1': 50, 'clave_2': 2, 'clave_3': 'prueba'}\n"
     ]
    }
   ],
   "source": [
    "dict_1 = {\"clave_1\": 1, \"clave_2\": 2}\n",
    "dict_1[\"clave_3\"] = \"prueba\"\n",
    "dict_1[\"clave_1\"] = 50\n",
    "print (dict_1)"
   ]
  },
  {
   "cell_type": "markdown",
   "metadata": {},
   "source": [
    "##### Comprobación de si un elemento existe en el diccionario"
   ]
  },
  {
   "cell_type": "code",
   "execution_count": 58,
   "metadata": {},
   "outputs": [
    {
     "name": "stdout",
     "output_type": "stream",
     "text": [
      "True\n",
      "False\n"
     ]
    }
   ],
   "source": [
    "dict_1 = {\"clave_1\": 1, \"clave_2\": \"prueba\"}\n",
    "print (\"clave_1\" in dict_1)\n",
    "print (1 in dict_1)"
   ]
  },
  {
   "cell_type": "markdown",
   "metadata": {},
   "source": [
    "##### Eliminación de un elemento de un diccionario"
   ]
  },
  {
   "cell_type": "code",
   "execution_count": 59,
   "metadata": {},
   "outputs": [
    {
     "name": "stdout",
     "output_type": "stream",
     "text": [
      "{'clave_2': 'prueba'}\n"
     ]
    }
   ],
   "source": [
    "dict_1 = {\"clave_1\": 1, \"clave_2\": \"prueba\"}\n",
    "del dict_1[\"clave_1\"]\n",
    "print (dict_1)"
   ]
  },
  {
   "cell_type": "markdown",
   "metadata": {},
   "source": [
    "##### Eliminación de todos los elementos de un diccionario"
   ]
  },
  {
   "cell_type": "code",
   "execution_count": 60,
   "metadata": {},
   "outputs": [
    {
     "name": "stdout",
     "output_type": "stream",
     "text": [
      "{}\n"
     ]
    }
   ],
   "source": [
    "dict_1 = {\"clave_1\": 1, \"clave_2\": \"prueba\"}\n",
    "dict_1.clear()\n",
    "print (dict_1)"
   ]
  },
  {
   "cell_type": "markdown",
   "metadata": {},
   "source": [
    "##### Acceso a un elemento por clave"
   ]
  },
  {
   "cell_type": "code",
   "execution_count": 61,
   "metadata": {},
   "outputs": [
    {
     "name": "stdout",
     "output_type": "stream",
     "text": [
      "1\n"
     ]
    }
   ],
   "source": [
    "dict_1 = {\"clave_1\": 1, \"clave_2\": \"prueba\"}\n",
    "print (dict_1[\"clave_1\"])"
   ]
  },
  {
   "cell_type": "markdown",
   "metadata": {},
   "source": [
    "##### Recuperación de elementos como una lista"
   ]
  },
  {
   "cell_type": "code",
   "execution_count": 62,
   "metadata": {},
   "outputs": [
    {
     "name": "stdout",
     "output_type": "stream",
     "text": [
      "[('clave_1', 1), ('clave_2', 2), ('clave_3', 3)]\n"
     ]
    }
   ],
   "source": [
    "dict_1 = {\"clave_1\": 1, \"clave_2\": 2, \"clave_3\": 3}\n",
    "print (list(dict_1.items()))"
   ]
  },
  {
   "cell_type": "markdown",
   "metadata": {},
   "source": [
    "##### Recuperación de claves como una lista"
   ]
  },
  {
   "cell_type": "code",
   "execution_count": 63,
   "metadata": {},
   "outputs": [
    {
     "name": "stdout",
     "output_type": "stream",
     "text": [
      "['clave_1', 'clave_2', 'clave_3']\n"
     ]
    }
   ],
   "source": [
    "dict_1 = {\"clave_1\": 1, \"clave_2\": 2, \"clave_3\": 3}\n",
    "print (list(dict_1.keys()))"
   ]
  },
  {
   "cell_type": "markdown",
   "metadata": {},
   "source": [
    "##### Recuperación de valores como una lista"
   ]
  },
  {
   "cell_type": "code",
   "execution_count": 64,
   "metadata": {},
   "outputs": [
    {
     "name": "stdout",
     "output_type": "stream",
     "text": [
      "[1, 2, 3]\n"
     ]
    }
   ],
   "source": [
    "dict_1 = {\"clave_1\": 1, \"clave_2\": 2, \"clave_3\": 3}\n",
    "print (list(dict_1.values()))"
   ]
  },
  {
   "cell_type": "markdown",
   "metadata": {},
   "source": [
    "## Conjuntos (set)"
   ]
  },
  {
   "cell_type": "markdown",
   "metadata": {},
   "source": [
    "Un conjunto es una secuencia:\n",
    "<ul>\n",
    "<li>Unidimensional (de un único nivel)</li>\n",
    "<li>Mutable</li>\n",
    "<li>De tamaño variable (al ser mutable es obvio)</li>\n",
    "<li>Desordenada</li>\n",
    "<li>Cuyos elementos son valores o secuencias</li>\n",
    "<li>Cuyos elementos son únicos (no hay elementos repetidos)</li>\n",
    "</ul>"
   ]
  },
  {
   "cell_type": "markdown",
   "metadata": {},
   "source": [
    "##### Creación de un conjunto"
   ]
  },
  {
   "cell_type": "code",
   "execution_count": 65,
   "metadata": {},
   "outputs": [
    {
     "name": "stdout",
     "output_type": "stream",
     "text": [
      "{1, 2, 3, 4, 5}\n"
     ]
    }
   ],
   "source": [
    "set_1 = {1, 2, 3, 4, 5}\n",
    "print (set_1)"
   ]
  },
  {
   "cell_type": "markdown",
   "metadata": {},
   "source": [
    "##### Conversión/casting a conjunto"
   ]
  },
  {
   "cell_type": "code",
   "execution_count": 66,
   "metadata": {},
   "outputs": [
    {
     "name": "stdout",
     "output_type": "stream",
     "text": [
      "<class 'set'>\n"
     ]
    }
   ],
   "source": [
    "list_1 = [1, 2, 3, 4, 5]\n",
    "set_1 = set(list_1)\n",
    "print (type(set_1))"
   ]
  },
  {
   "cell_type": "markdown",
   "metadata": {},
   "source": [
    "##### Unión de conjuntos"
   ]
  },
  {
   "cell_type": "code",
   "execution_count": 67,
   "metadata": {},
   "outputs": [
    {
     "name": "stdout",
     "output_type": "stream",
     "text": [
      "{1, 2, 3, 4, 5, 6, 7}\n"
     ]
    }
   ],
   "source": [
    "set_1 = {1, 2, 3, 4, 5}\n",
    "set_2 = {3, 4, 5, 6, 7}\n",
    "print (set_1 | set_2)"
   ]
  },
  {
   "cell_type": "markdown",
   "metadata": {},
   "source": [
    "##### Intersección de conjuntos"
   ]
  },
  {
   "cell_type": "code",
   "execution_count": 68,
   "metadata": {},
   "outputs": [
    {
     "name": "stdout",
     "output_type": "stream",
     "text": [
      "{3, 4, 5}\n"
     ]
    }
   ],
   "source": [
    "set_1 = {1, 2, 3, 4, 5}\n",
    "set_2 = {3, 4, 5, 6, 7}\n",
    "print (set_1 & set_2)"
   ]
  },
  {
   "cell_type": "markdown",
   "metadata": {},
   "source": [
    "##### Diferencia de conjuntos"
   ]
  },
  {
   "cell_type": "code",
   "execution_count": 69,
   "metadata": {},
   "outputs": [
    {
     "name": "stdout",
     "output_type": "stream",
     "text": [
      "{1, 2}\n",
      "{6, 7}\n"
     ]
    }
   ],
   "source": [
    "set_1 = {1, 2, 3, 4, 5}\n",
    "set_2 = {3, 4, 5, 6, 7}\n",
    "print (set_1 - set_2)\n",
    "print (set_2 - set_1)"
   ]
  },
  {
   "cell_type": "markdown",
   "metadata": {},
   "source": [
    "##### Diferencia simétrica de conjuntos - (Unión - Intersección)"
   ]
  },
  {
   "cell_type": "code",
   "execution_count": 70,
   "metadata": {},
   "outputs": [
    {
     "name": "stdout",
     "output_type": "stream",
     "text": [
      "{1, 2, 6, 7}\n",
      "{1, 2, 6, 7}\n"
     ]
    }
   ],
   "source": [
    "set_1 = {1, 2, 3, 4, 5}\n",
    "set_2 = {3, 4, 5, 6, 7}\n",
    "print (set_1 ^ set_2)\n",
    "print( set_2 ^ set_1)"
   ]
  },
  {
   "cell_type": "markdown",
   "metadata": {},
   "source": [
    "##### Inserción de elementos en un conjunto "
   ]
  },
  {
   "cell_type": "code",
   "execution_count": 71,
   "metadata": {},
   "outputs": [
    {
     "name": "stdout",
     "output_type": "stream",
     "text": [
      "{1, 2, 3, 4, 5, 6}\n"
     ]
    }
   ],
   "source": [
    "set_1 = {1, 2, 3, 4, 5}\n",
    "set_1.add(6)\n",
    "print (set_1)"
   ]
  },
  {
   "cell_type": "markdown",
   "metadata": {},
   "source": [
    "##### Comprobación de existencia de un elemento en el conjunto"
   ]
  },
  {
   "cell_type": "code",
   "execution_count": 72,
   "metadata": {},
   "outputs": [
    {
     "data": {
      "text/plain": [
       "True"
      ]
     },
     "execution_count": 72,
     "metadata": {},
     "output_type": "execute_result"
    }
   ],
   "source": [
    "set_1 = {1, 2, 3, 4, 5}\n",
    "3 in set_1"
   ]
  },
  {
   "cell_type": "markdown",
   "metadata": {},
   "source": [
    "##### Comprobación de subconjunto"
   ]
  },
  {
   "cell_type": "code",
   "execution_count": 73,
   "metadata": {},
   "outputs": [
    {
     "data": {
      "text/plain": [
       "True"
      ]
     },
     "execution_count": 73,
     "metadata": {},
     "output_type": "execute_result"
    }
   ],
   "source": [
    "set_1 = {1, 2, 3, 4, 5}\n",
    "set_2 = {1, 2, 3}\n",
    "set_1 >= set_2"
   ]
  },
  {
   "cell_type": "markdown",
   "metadata": {},
   "source": [
    "##### Comprobación de superconjunto"
   ]
  },
  {
   "cell_type": "code",
   "execution_count": 74,
   "metadata": {},
   "outputs": [
    {
     "data": {
      "text/plain": [
       "True"
      ]
     },
     "execution_count": 74,
     "metadata": {},
     "output_type": "execute_result"
    }
   ],
   "source": [
    "set_1 = {1, 2, 3, 4, 5}\n",
    "set_2 = {1, 2, 3}\n",
    "set_2 <= set_1"
   ]
  },
  {
   "cell_type": "markdown",
   "metadata": {},
   "source": [
    "##### Eliminación de un elemento de un conjunto por valor"
   ]
  },
  {
   "cell_type": "code",
   "execution_count": 75,
   "metadata": {},
   "outputs": [
    {
     "name": "stdout",
     "output_type": "stream",
     "text": [
      "{1, 2, 3, 4}\n"
     ]
    }
   ],
   "source": [
    "set_1 = {1, 2, 3, 4, 5}\n",
    "set_1.remove(5)\n",
    "\n",
    "set_1.discard(6) #Elimina elemento (si no existe en el conjunto no pasa nada)\n",
    "print (set_1)"
   ]
  },
  {
   "cell_type": "markdown",
   "metadata": {},
   "source": [
    "##### Eliminación de todos los elementos de un conjunto"
   ]
  },
  {
   "cell_type": "code",
   "execution_count": 76,
   "metadata": {},
   "outputs": [
    {
     "name": "stdout",
     "output_type": "stream",
     "text": [
      "set()\n"
     ]
    }
   ],
   "source": [
    "set_1 = {1, 2, 3, 4, 5}\n",
    "set_1.clear()\n",
    "print (set_1)"
   ]
  },
  {
   "cell_type": "markdown",
   "metadata": {},
   "source": [
    "# Introducción a Python - Estructuras de control"
   ]
  },
  {
   "cell_type": "markdown",
   "metadata": {},
   "source": [
    "### Condicionales (if, elif, else)"
   ]
  },
  {
   "cell_type": "code",
   "execution_count": 77,
   "metadata": {},
   "outputs": [],
   "source": [
    "precio_taxi = 10.00\n",
    "precio_bus = 2.50\n",
    "dinero_disponible = 1.50"
   ]
  },
  {
   "cell_type": "code",
   "execution_count": 78,
   "metadata": {},
   "outputs": [
    {
     "name": "stdout",
     "output_type": "stream",
     "text": [
      "Me voy andando\n"
     ]
    }
   ],
   "source": [
    "if precio_taxi < dinero_disponible:\n",
    "    print ('Me voy en taxi')\n",
    "    \n",
    "if precio_bus < dinero_disponible and precio_taxi > dinero_disponible:\n",
    "    print (\"Me voy en bus\")\n",
    "    \n",
    "if precio_bus > dinero_disponible:\n",
    "    print ('Me voy andando')"
   ]
  },
  {
   "cell_type": "markdown",
   "metadata": {},
   "source": [
    "Esta forma de realizar expresiones condicionales es muy redundante y obliga a la utilización de condiciones demasiado complejas. Se podría reescribir el mismo programa."
   ]
  },
  {
   "cell_type": "code",
   "execution_count": 79,
   "metadata": {},
   "outputs": [
    {
     "name": "stdout",
     "output_type": "stream",
     "text": [
      "Me voy andando\n"
     ]
    }
   ],
   "source": [
    "if precio_taxi < dinero_disponible:\n",
    "    print ('Me voy en taxi')\n",
    "elif precio_bus < dinero_disponible:\n",
    "    print ('Me voy en bus')\n",
    "else:\n",
    "    print ('Me voy andando')"
   ]
  },
  {
   "cell_type": "markdown",
   "metadata": {},
   "source": [
    "### Bucle - for"
   ]
  },
  {
   "cell_type": "markdown",
   "metadata": {},
   "source": [
    "Esta estructura de control nos permitirá llevar a cabo la ejecución de un bloque de código para todos los elementos contenidos en una secuencia (que pueden estar involucrados o no en el bloque de código)."
   ]
  },
  {
   "cell_type": "code",
   "execution_count": 80,
   "metadata": {},
   "outputs": [
    {
     "name": "stdout",
     "output_type": "stream",
     "text": [
      "Hola mundo\n",
      "Hola mundo\n",
      "Hola mundo\n",
      "Hola mundo\n",
      "Hola mundo\n",
      "Hola mundo\n",
      "Hola mundo\n",
      "Hola mundo\n",
      "Hola mundo\n",
      "Hola mundo\n"
     ]
    }
   ],
   "source": [
    "for i in range(0, 10):\n",
    "    print (\"Hola mundo\")"
   ]
  },
  {
   "cell_type": "code",
   "execution_count": 81,
   "metadata": {},
   "outputs": [
    {
     "name": "stdout",
     "output_type": "stream",
     "text": [
      "Hola mundo: 0\n",
      "Hola mundo: 1\n",
      "Hola mundo: 2\n",
      "Hola mundo: 3\n",
      "Hola mundo: 4\n",
      "Hola mundo: 5\n",
      "Hola mundo: 6\n",
      "Hola mundo: 7\n",
      "Hola mundo: 8\n",
      "Hola mundo: 9\n"
     ]
    }
   ],
   "source": [
    "for i in range(0, 10):\n",
    "    print (\"Hola mundo: \" + str(i))"
   ]
  },
  {
   "cell_type": "code",
   "execution_count": 82,
   "metadata": {},
   "outputs": [
    {
     "name": "stdout",
     "output_type": "stream",
     "text": [
      "uno\n",
      "dos\n",
      "tres\n",
      "cuatro\n",
      "cinco\n"
     ]
    }
   ],
   "source": [
    "list_1 = [\"uno\", \"dos\", \"tres\", \"cuatro\", \"cinco\"]\n",
    "for element in list_1:\n",
    "    print (element)"
   ]
  },
  {
   "cell_type": "markdown",
   "metadata": {},
   "source": [
    "A veces es muy cómo el disponer al mismo tiempo del elemento sobre el que se itera y del índice que ocupa dentro del bucle. Para ello podemos utilizar la función <i>enumerate</i>."
   ]
  },
  {
   "cell_type": "code",
   "execution_count": 83,
   "metadata": {},
   "outputs": [
    {
     "name": "stdout",
     "output_type": "stream",
     "text": [
      "Elemento en índice 0: uno\n",
      "Elemento en índice 1: dos\n",
      "Elemento en índice 2: tres\n",
      "Elemento en índice 3: cuatro\n",
      "Elemento en índice 4: cinco\n"
     ]
    }
   ],
   "source": [
    "list_1 = [\"uno\", \"dos\", \"tres\", \"cuatro\", \"cinco\"]\n",
    "for index, element in enumerate(list_1):\n",
    "    print (\"Elemento en índice \" + str(index) + \": \" + element)"
   ]
  },
  {
   "cell_type": "markdown",
   "metadata": {},
   "source": [
    "### Bucle - while"
   ]
  },
  {
   "cell_type": "markdown",
   "metadata": {},
   "source": [
    "Esta estructura de control nos permitirá llevar a cabo la ejecución de un bloque de código mientras se cumpla una condición dada."
   ]
  },
  {
   "cell_type": "code",
   "execution_count": 84,
   "metadata": {},
   "outputs": [
    {
     "name": "stdout",
     "output_type": "stream",
     "text": [
      "0\n",
      "1\n",
      "2\n",
      "3\n",
      "4\n",
      "5\n",
      "6\n",
      "7\n",
      "8\n",
      "9\n"
     ]
    }
   ],
   "source": [
    "i = 0\n",
    "while i < 10:\n",
    "    print (i)\n",
    "    i += 1"
   ]
  },
  {
   "cell_type": "markdown",
   "metadata": {},
   "source": [
    "### Interrupción de bucles - break y continue"
   ]
  },
  {
   "cell_type": "markdown",
   "metadata": {},
   "source": [
    "Las sentencias break y continue permiten alterar el flujo normal de ejecución de un bucle. Más concretamente:\n",
    "\n",
    "<ul>\n",
    "<li>break: Corta completamente el flujo de ejecución del bucle y pasa el control a la sentencia posterior al bucle.</li>\n",
    "<li>continue: Corta la ejecución de la iteración actual y pasa el control a la siguiente iteración del bucle.</li>\n",
    "</ul>"
   ]
  },
  {
   "cell_type": "code",
   "execution_count": 85,
   "metadata": {},
   "outputs": [
    {
     "name": "stdout",
     "output_type": "stream",
     "text": [
      "uno\n",
      "dos\n",
      "tres\n"
     ]
    }
   ],
   "source": [
    "list_1 = [\"uno\", \"dos\", \"tres\", \"cuatro\", \"cinco\"]\n",
    "for element in list_1:\n",
    "    if element == \"cuatro\":\n",
    "        break\n",
    "    print (element)"
   ]
  },
  {
   "cell_type": "code",
   "execution_count": 86,
   "metadata": {},
   "outputs": [
    {
     "name": "stdout",
     "output_type": "stream",
     "text": [
      "uno\n",
      "dos\n",
      "tres\n",
      "cinco\n"
     ]
    }
   ],
   "source": [
    "list_1 = [\"uno\", \"dos\", \"tres\", \"cuatro\", \"cinco\"]\n",
    "for element in list_1:\n",
    "    if element == \"cuatro\":\n",
    "        continue\n",
    "    print (element)"
   ]
  },
  {
   "cell_type": "markdown",
   "metadata": {},
   "source": [
    "### Comprensiones de lista"
   ]
  },
  {
   "cell_type": "markdown",
   "metadata": {},
   "source": [
    "Dada la filosofía de Python de hacer el código más conciso, tenemos a nuestra disposición una estructura especial de control (semejante a los bucles) que facilita mucho la escritura de código. Imáginemos el siguiente bucle."
   ]
  },
  {
   "cell_type": "code",
   "execution_count": 87,
   "metadata": {},
   "outputs": [
    {
     "name": "stdout",
     "output_type": "stream",
     "text": [
      "['MIGUEL', 'MARIA', 'MANUEL']\n"
     ]
    }
   ],
   "source": [
    "list_1 = [\"Miguel\", \"Juan\", \"Maria\", \"Manuel\", \"Rodrigo\"]\n",
    "list_M = []\n",
    "for element in list_1:    \n",
    "    if element[0] == \"M\":\n",
    "        list_M.append(element.upper())\n",
    "print (list_M)"
   ]
  },
  {
   "cell_type": "markdown",
   "metadata": {},
   "source": [
    "Podemos conseguir el mismo resultado con un código mucho más conciso."
   ]
  },
  {
   "cell_type": "code",
   "execution_count": 88,
   "metadata": {},
   "outputs": [
    {
     "name": "stdout",
     "output_type": "stream",
     "text": [
      "['MIGUEL', 'MARIA', 'MANUEL']\n"
     ]
    }
   ],
   "source": [
    "list_1 = [\"Miguel\", \"Juan\", \"Maria\", \"Manuel\", \"Rodrigo\"]\n",
    "list_M = [element.upper() for element in list_1 if element[0] == \"M\"]\n",
    "print (list_M)"
   ]
  },
  {
   "cell_type": "markdown",
   "metadata": {},
   "source": [
    "### Otras comprensiones"
   ]
  },
  {
   "cell_type": "markdown",
   "metadata": {},
   "source": [
    "Del mismo modo, se puede utilizar la sintáxis de las comprensiones de lista para crear otras estructuras como diccionarios y conjuntos. "
   ]
  },
  {
   "cell_type": "code",
   "execution_count": 89,
   "metadata": {},
   "outputs": [
    {
     "data": {
      "text/plain": [
       "{'MIGUEL': True,\n",
       " 'JUAN': False,\n",
       " 'MARIA': True,\n",
       " 'MANUEL': True,\n",
       " 'RODRIGO': False}"
      ]
     },
     "execution_count": 89,
     "metadata": {},
     "output_type": "execute_result"
    }
   ],
   "source": [
    "{ element.upper(): element[0] == 'M' for element in list_1 }"
   ]
  },
  {
   "cell_type": "code",
   "execution_count": 90,
   "metadata": {},
   "outputs": [
    {
     "data": {
      "text/plain": [
       "{'Juan', 'Maria', 'Miguel'}"
      ]
     },
     "execution_count": 90,
     "metadata": {},
     "output_type": "execute_result"
    }
   ],
   "source": [
    "list_duplicates = [\"Miguel\", \"Juan\", \"Maria\", \"Miguel\", \"Juan\"]\n",
    "{ element for element in list_duplicates }"
   ]
  },
  {
   "cell_type": "markdown",
   "metadata": {},
   "source": [
    "### Control de errores/excepciones - try, except"
   ]
  },
  {
   "cell_type": "markdown",
   "metadata": {},
   "source": [
    "Al igual que en otros lenguajes de programación (Java, C++...), los errores en Python se generan en forma de excepciones (objetos en los que se incluye tanto el detalle del error como la pila de llamadas que han generado dicho error). Es importante realizar una buena gestión de excepciones de forma que los errores estén siempre controlados de forma que los programas creados sean robustos (no paren su ejecución de forma prematura por errores no controlados) y claros (presenten a los potenciales usuarios información \"entendible\" y no los errores internos de Python)."
   ]
  },
  {
   "cell_type": "code",
   "execution_count": 91,
   "metadata": {},
   "outputs": [],
   "source": [
    "#cadena = \"123.5hola\"\n",
    "#numero = float(cadena)"
   ]
  },
  {
   "cell_type": "markdown",
   "metadata": {},
   "source": [
    "Se pueden controlar todos los errores de forma genérica."
   ]
  },
  {
   "cell_type": "code",
   "execution_count": 92,
   "metadata": {},
   "outputs": [
    {
     "name": "stdout",
     "output_type": "stream",
     "text": [
      "Se produjo un error\n"
     ]
    }
   ],
   "source": [
    "try:\n",
    "    cadena = \"123.5hola\"\n",
    "    numero = float(cadena)\n",
    "except:\n",
    "    print (\"Se produjo un error\")"
   ]
  },
  {
   "cell_type": "code",
   "execution_count": 93,
   "metadata": {},
   "outputs": [
    {
     "name": "stdout",
     "output_type": "stream",
     "text": [
      "could not convert string to float: '123.5hola'\n",
      "Se produjo un error\n"
     ]
    }
   ],
   "source": [
    "try:\n",
    "    cadena = \"123.5hola\"\n",
    "    numero = float(cadena)\n",
    "except Exception as e:\n",
    "    print (e)\n",
    "    print (\"Se produjo un error\")"
   ]
  },
  {
   "cell_type": "markdown",
   "metadata": {},
   "source": [
    "O realizar un control detallado por tipo de error."
   ]
  },
  {
   "cell_type": "code",
   "execution_count": 94,
   "metadata": {},
   "outputs": [
    {
     "name": "stdout",
     "output_type": "stream",
     "text": [
      "Formato numérico incorrecto\n"
     ]
    }
   ],
   "source": [
    "try:\n",
    "    cadena = \"123.5hola\"\n",
    "    numero = float(cadena)\n",
    "except RuntimeError as e:    \n",
    "    print (\"Se produjo un error de ejecución\")\n",
    "except ValueError as e:    \n",
    "    print (\"Formato numérico incorrecto\")\n",
    "except Exception as e:\n",
    "    print (\"Se produjo un error desconocido\")"
   ]
  },
  {
   "cell_type": "code",
   "execution_count": 95,
   "metadata": {},
   "outputs": [
    {
     "name": "stdout",
     "output_type": "stream",
     "text": [
      "Se produjo un error\n"
     ]
    }
   ],
   "source": [
    "try:\n",
    "    cadena = \"123.5hola\"\n",
    "    numero = float(cadena)\n",
    "except:\n",
    "    print (\"Se produjo un error\")\n",
    "finally:\n",
    "    cadena += \" adios.\""
   ]
  },
  {
   "cell_type": "markdown",
   "metadata": {},
   "source": [
    "# Introducción a Python - Funciones y módulos"
   ]
  },
  {
   "cell_type": "markdown",
   "metadata": {},
   "source": [
    "### Funciones"
   ]
  },
  {
   "cell_type": "markdown",
   "metadata": {},
   "source": [
    "<ul>\n",
    "<li>Puede entenderse como un nombre asignado a un bloque de código que permite su posterior invocación.</li>\n",
    "<li>Dispone de un conjunto de parámetros de entrada (opcionales) sobre los que trabajará el bloque de código interno.</li>\n",
    "<li>Ofrecen un resultado de salida (opcional) que podrá ser utilizado por el código que invocó a la función.</li>\n",
    "<li>Permiten encapsular código de forma que pueda ser reutilizado en varios puntos de un programa.</li>\n",
    "<li>Evitan la necesidad de copiar y pegar código.</li>\n",
    "<li>Facilita el mantenimiento y reduce los posibles puntos de error.</li>\n",
    "<li>Permiten \"generalizar\" código al trabajar sobre unos parámetros de entrada que pueden ser \"variables\".</li>\n",
    "</ul>"
   ]
  },
  {
   "cell_type": "code",
   "execution_count": 96,
   "metadata": {},
   "outputs": [
    {
     "name": "stdout",
     "output_type": "stream",
     "text": [
      "['CUATRO', 'CINCO']\n"
     ]
    }
   ],
   "source": [
    "list_1 = [\"uno\", \"dos\", \"tres\", \"cuatro\", \"cinco\", \"treinta\"]\n",
    "list_C = []\n",
    "for element in list_1:\n",
    "    if element[0] == \"c\":\n",
    "        list_C.append(element.upper())\n",
    "print (list_C)   "
   ]
  },
  {
   "cell_type": "markdown",
   "metadata": {},
   "source": [
    "¿Qué pasa si quisiésemos usar una lista distina? ¿Qué pasa si queremos seleccionar sólo los elementos que empiezan por \"t\"? ¿Qué pasa si queremos devolver los elementos en minúscula? Tendríamos que replicar varias veces el mismo código. Aquí es donde las funciones muestran su potencial."
   ]
  },
  {
   "cell_type": "code",
   "execution_count": 97,
   "metadata": {},
   "outputs": [
    {
     "name": "stdout",
     "output_type": "stream",
     "text": [
      "['CUATRO', 'CINCO']\n",
      "['uno']\n",
      "['TRES', 'TREINTA']\n"
     ]
    }
   ],
   "source": [
    "def mi_funcion(lista, inicial, a_mayuscula):\n",
    "    list_out = []\n",
    "    for element in lista:\n",
    "        if element[0] == inicial:\n",
    "            if a_mayuscula:\n",
    "                list_out.append(element.upper())\n",
    "            else:\n",
    "                list_out.append(element.lower())\n",
    "    return list_out\n",
    "\n",
    "list_1 = [\"uno\", \"dos\", \"tres\", \"cuatro\", \"cinco\", \"treinta\"]\n",
    "print (mi_funcion(list_1, \"c\", True))\n",
    "print (mi_funcion(list_1, \"u\", False))\n",
    "print (mi_funcion(list_1, \"t\", True))"
   ]
  },
  {
   "cell_type": "markdown",
   "metadata": {},
   "source": [
    "#### Argumentos opcionales"
   ]
  },
  {
   "cell_type": "markdown",
   "metadata": {},
   "source": [
    "Podemos asignar valores por defecto a los parámetros de la función."
   ]
  },
  {
   "cell_type": "code",
   "execution_count": 98,
   "metadata": {},
   "outputs": [
    {
     "name": "stdout",
     "output_type": "stream",
     "text": [
      "['CUATRO', 'CINCO']\n",
      "['uno']\n",
      "['TRES', 'TREINTA']\n"
     ]
    }
   ],
   "source": [
    "def mi_funcion(lista, inicial, a_mayuscula=True):\n",
    "    list_out = []\n",
    "    for element in lista:\n",
    "        if element[0] == inicial:\n",
    "            if a_mayuscula:\n",
    "                list_out.append(element.upper())\n",
    "            else:\n",
    "                list_out.append(element.lower())\n",
    "    return list_out\n",
    "\n",
    "list_1 = [\"uno\", \"dos\", \"tres\", \"cuatro\", \"cinco\", \"treinta\"]\n",
    "print (mi_funcion(list_1, \"c\"))\n",
    "print (mi_funcion(list_1, \"u\", False))\n",
    "print (mi_funcion(list_1, \"t\", True))"
   ]
  },
  {
   "cell_type": "markdown",
   "metadata": {},
   "source": [
    "#### Especificar el nombre de los argumentos en la llamada"
   ]
  },
  {
   "cell_type": "markdown",
   "metadata": {},
   "source": [
    "Se puede especificar el nombre de los argumentos de entrada en la llamada, eliminando la necesidad de mantener su orden (funcionamiento por defecto si no se especifica nombre)."
   ]
  },
  {
   "cell_type": "code",
   "execution_count": 99,
   "metadata": {},
   "outputs": [
    {
     "name": "stdout",
     "output_type": "stream",
     "text": [
      "['CUATRO', 'CINCO']\n"
     ]
    }
   ],
   "source": [
    "list_1 = [\"uno\", \"dos\", \"tres\", \"cuatro\", \"cinco\", \"treinta\"]\n",
    "print (mi_funcion(inicial=\"c\", lista=list_1))"
   ]
  },
  {
   "cell_type": "markdown",
   "metadata": {},
   "source": [
    "#### Retorno de múltiples elementos"
   ]
  },
  {
   "cell_type": "markdown",
   "metadata": {},
   "source": [
    "Aunque, en general, el retorno de las funciones será único (un único valor que se podrá asignar a una variable en el código que invoca), sería posible devolver una secuencia y recoger los resultados en diferentes variables (por las propiedades vistas en la presentación de secuencias)."
   ]
  },
  {
   "cell_type": "code",
   "execution_count": 100,
   "metadata": {},
   "outputs": [
    {
     "name": "stdout",
     "output_type": "stream",
     "text": [
      "CUATRO\n",
      "CINCO\n"
     ]
    }
   ],
   "source": [
    "def mi_funcion(lista, inicial, a_mayuscula=True):\n",
    "    list_out = []\n",
    "    for element in lista:\n",
    "        if element[0] == inicial:\n",
    "            if a_mayuscula:\n",
    "                list_out.append(element.upper())\n",
    "            else:\n",
    "                list_out.append(element.lower())\n",
    "    return (len(list_out), list_out)\n",
    "\n",
    "list_1 = [\"uno\", \"dos\", \"tres\", \"cuatro\", \"cinco\", \"treinta\"]\n",
    "num_elementos, elementos = mi_funcion(list_1, \"c\")\n",
    "\n",
    "for i in range(0, num_elementos):\n",
    "    print (elementos[i])"
   ]
  },
  {
   "cell_type": "markdown",
   "metadata": {},
   "source": [
    "### Módulos / Paquetes"
   ]
  },
  {
   "cell_type": "markdown",
   "metadata": {},
   "source": [
    "<ul>\n",
    "    <li>Por defecto, en un script de Python tienes acceso a todas las variables y funciones definidas en el propio fichero.</li>\n",
    "    <li>Es posible acceder a elementos definidos en otros ficheros mediante la importación de módulos.</li>\n",
    "    <li>Un fichero .py es un módulo en Python cuyo nombre es el mismo que el del fichero (sin extensión).</li>\n",
    "    <li>La forma de incorporar elementos definidos en un módulo es mediante el uso de la sentencia <i>import</i>.</li>\n",
    "</ul>"
   ]
  },
  {
   "cell_type": "markdown",
   "metadata": {},
   "source": [
    "#### Importar el módulo completo"
   ]
  },
  {
   "cell_type": "markdown",
   "metadata": {},
   "source": [
    "Se importa todo el contenido del módulo y es necesario utilizar el alias de módulo delante de las funciones."
   ]
  },
  {
   "cell_type": "code",
   "execution_count": 101,
   "metadata": {},
   "outputs": [
    {
     "name": "stdout",
     "output_type": "stream",
     "text": [
      "[[1 2]\n",
      " [3 4]]\n",
      "2.5\n"
     ]
    }
   ],
   "source": [
    "import numpy\n",
    "array = numpy.array([[1, 2], [3, 4]])\n",
    "mean = numpy.mean(array)\n",
    "print (array)\n",
    "print (mean)"
   ]
  },
  {
   "cell_type": "markdown",
   "metadata": {},
   "source": [
    "#### Importar todo el contenido del módulo"
   ]
  },
  {
   "cell_type": "markdown",
   "metadata": {},
   "source": [
    "Se importa todo el contenido del módulo y se incorporan sus funciones al entorno de trabajo actual, por lo que no es necesario especificar un alias. CUIDADO: esto sobreescribiría cualquier función de mismo nombre del entorno de trabajo."
   ]
  },
  {
   "cell_type": "code",
   "execution_count": 102,
   "metadata": {},
   "outputs": [
    {
     "name": "stdout",
     "output_type": "stream",
     "text": [
      "[[1 2]\n",
      " [3 4]]\n",
      "2.5\n"
     ]
    }
   ],
   "source": [
    "from numpy import *\n",
    "array = array([[1, 2], [3, 4]])\n",
    "media = mean(array)\n",
    "print (array)\n",
    "print (media)"
   ]
  },
  {
   "cell_type": "markdown",
   "metadata": {},
   "source": [
    "#### Importar un elemento específico el módulo"
   ]
  },
  {
   "cell_type": "code",
   "execution_count": 103,
   "metadata": {},
   "outputs": [
    {
     "name": "stdout",
     "output_type": "stream",
     "text": [
      "[[1 2]\n",
      " [3 4]]\n",
      "2.5\n"
     ]
    }
   ],
   "source": [
    "from numpy import array\n",
    "array = array([[1, 2], [3, 4]])\n",
    "media2 = mean(array)\n",
    "print (array)\n",
    "print(media2)"
   ]
  },
  {
   "cell_type": "markdown",
   "metadata": {},
   "source": [
    "#### Importar con alias"
   ]
  },
  {
   "cell_type": "code",
   "execution_count": 104,
   "metadata": {},
   "outputs": [
    {
     "name": "stdout",
     "output_type": "stream",
     "text": [
      "[[1 2]\n",
      " [3 4]]\n"
     ]
    }
   ],
   "source": [
    "from numpy import array as array_de_numpy\n",
    "array = array_de_numpy([[1, 2], [3, 4]])\n",
    "print (array)"
   ]
  },
  {
   "cell_type": "markdown",
   "metadata": {},
   "source": [
    "### Instalación de módulos"
   ]
  },
  {
   "cell_type": "markdown",
   "metadata": {},
   "source": [
    "Al contrario que en R, en Python no se dispone de una función para instalar módulos directamente desde el intérprete y se debe hacer desde la consola. La herramienta básica para la gestión de paquetes es *pip*."
   ]
  },
  {
   "cell_type": "markdown",
   "metadata": {},
   "source": [
    "#### Herramienta: pip"
   ]
  },
  {
   "cell_type": "markdown",
   "metadata": {},
   "source": [
    "pip instala paquetes disponibles en el repositorio PyPI (índice de paquetes de Python). Los comandos más comunes son:<br/>\n",
    "<ul>\n",
    "<li>list: Listado de paquetes actualmente instalados en el entorno.</li>\n",
    "<li>search &lt;search_string&gt;: Búsqueda de paquetes en el repositorio.</li>\n",
    "<li>install &lt;package&gt;: Instalación de paquetes no disponibles.</li>\n",
    "<li>update &lt;package&gt;: Actualización del paquete a la última versión disponible.</li>\n",
    "</ul>"
   ]
  },
  {
   "cell_type": "markdown",
   "metadata": {},
   "source": [
    "# Introducción a Python - Trabajo con ficheros"
   ]
  },
  {
   "cell_type": "markdown",
   "metadata": {},
   "source": [
    "### Escritura de ficheros de texto plano"
   ]
  },
  {
   "cell_type": "markdown",
   "metadata": {},
   "source": [
    "A la hora de escribir ficheros, como en otros lenguajes de programación, los puntos clave son: el modo de apertura (\"w\" para sobreescritura y \"a\" para continuación) y el cierre del fichero una vez se ha finalizado el trabajo con el mismo."
   ]
  },
  {
   "cell_type": "code",
   "execution_count": 105,
   "metadata": {},
   "outputs": [],
   "source": [
    "fichero = open(\"prueba.txt\", \"w\")\n",
    "fichero.write(\"Esto\\n\")\n",
    "fichero.write(\"es\\n\")\n",
    "fichero.write(\"una\\n\")\n",
    "fichero.write(\"prueba\\n\")\n",
    "fichero.close()"
   ]
  },
  {
   "cell_type": "code",
   "execution_count": 106,
   "metadata": {},
   "outputs": [],
   "source": [
    "fichero = open(\"prueba.txt\", \"w\")\n",
    "fichero.write(\"Esto\\n\")\n",
    "fichero.write(\"es\\n\")\n",
    "fichero.write(\"otra\\n\")\n",
    "fichero.write(\"prueba\\n\")\n",
    "fichero.close()"
   ]
  },
  {
   "cell_type": "code",
   "execution_count": 107,
   "metadata": {},
   "outputs": [],
   "source": [
    "fichero = open(\"prueba.txt\", \"a\")\n",
    "fichero.write(\"más\\n\")\n",
    "fichero.close()"
   ]
  },
  {
   "cell_type": "markdown",
   "metadata": {},
   "source": [
    "### Lectura de ficheros de texto plano"
   ]
  },
  {
   "cell_type": "markdown",
   "metadata": {},
   "source": [
    "De nuevo, a la hora de leer ficheros, los puntos clave serán de nuevo: el modo de apertura (\"r\" para lectura y \"r+\" para lectura y escritura) y el cierre del fichero una vez se ha finalizado el trabajo con el mismo."
   ]
  },
  {
   "cell_type": "code",
   "execution_count": 108,
   "metadata": {},
   "outputs": [
    {
     "name": "stdout",
     "output_type": "stream",
     "text": [
      "Esto\n",
      "es\n",
      "otra\n",
      "prueba\n",
      "más\n",
      "\n"
     ]
    }
   ],
   "source": [
    "fichero = open(\"prueba.txt\", \"r\")\n",
    "contenido = fichero.read()\n",
    "print(contenido)\n",
    "fichero.close()"
   ]
  },
  {
   "cell_type": "code",
   "execution_count": 109,
   "metadata": {},
   "outputs": [
    {
     "name": "stdout",
     "output_type": "stream",
     "text": [
      "Esto\n",
      "\n",
      "es\n",
      "\n",
      "otra\n",
      "\n",
      "prueba\n",
      "\n",
      "más\n",
      "\n"
     ]
    }
   ],
   "source": [
    "fichero = open(\"prueba.txt\", \"r\")\n",
    "for linea in fichero:\n",
    "    print(linea)\n",
    "fichero.close()"
   ]
  },
  {
   "cell_type": "markdown",
   "metadata": {},
   "source": [
    "---\n",
    "<font size=\"6\">Tratamiento de fechas</font>\n",
    "\n",
    "Es imprescindible, en cualquier lenguaje de programación, aprender a cómo utilizar las fechas tal y como queremos. \\\n",
    "Para ello, en este módulo aprenderemos a utilizar el paquete de funciones incorporadas en **`datetime`**. \n",
    "\n",
    "---"
   ]
  },
  {
   "cell_type": "markdown",
   "metadata": {},
   "source": [
    "# **Objetos en `datetime`**\n",
    "Dispondremos de muchos objetos en los cuales se hará hincapié en las clases de fechas siguientes:\n",
    "* **date**: Objeto de fecha\n",
    "* **time**: Objeto de tiempo\n",
    "* **datetime**: Objeto que engloba a ambas\n",
    "* **timedelta**: Objeto operador de fechas\n",
    "\n",
    "Empecemos importando el paquete y viendo sus atributos."
   ]
  },
  {
   "cell_type": "code",
   "execution_count": 110,
   "metadata": {},
   "outputs": [
    {
     "data": {
      "text/plain": [
       "['MAXYEAR',\n",
       " 'MINYEAR',\n",
       " '__all__',\n",
       " '__builtins__',\n",
       " '__cached__',\n",
       " '__doc__',\n",
       " '__file__',\n",
       " '__loader__',\n",
       " '__name__',\n",
       " '__package__',\n",
       " '__spec__',\n",
       " 'date',\n",
       " 'datetime',\n",
       " 'datetime_CAPI',\n",
       " 'sys',\n",
       " 'time',\n",
       " 'timedelta',\n",
       " 'timezone',\n",
       " 'tzinfo']"
      ]
     },
     "execution_count": 110,
     "metadata": {},
     "output_type": "execute_result"
    }
   ],
   "source": [
    "import datetime\n",
    "dir(datetime)"
   ]
  },
  {
   "cell_type": "markdown",
   "metadata": {},
   "source": [
    "## **`.date`**\n",
    "Con esta clase podemos crear objetos tipo `date` el cual representa una fecha de tipo (año, mes y día). Además, como atributo más interesante, está el poder extraer el día de hoy con el método `.today()`."
   ]
  },
  {
   "cell_type": "code",
   "execution_count": 111,
   "metadata": {},
   "outputs": [
    {
     "data": {
      "text/plain": [
       "['__add__',\n",
       " '__class__',\n",
       " '__delattr__',\n",
       " '__dir__',\n",
       " '__doc__',\n",
       " '__eq__',\n",
       " '__format__',\n",
       " '__ge__',\n",
       " '__getattribute__',\n",
       " '__gt__',\n",
       " '__hash__',\n",
       " '__init__',\n",
       " '__init_subclass__',\n",
       " '__le__',\n",
       " '__lt__',\n",
       " '__ne__',\n",
       " '__new__',\n",
       " '__radd__',\n",
       " '__reduce__',\n",
       " '__reduce_ex__',\n",
       " '__repr__',\n",
       " '__rsub__',\n",
       " '__setattr__',\n",
       " '__sizeof__',\n",
       " '__str__',\n",
       " '__sub__',\n",
       " '__subclasshook__',\n",
       " 'ctime',\n",
       " 'day',\n",
       " 'fromisocalendar',\n",
       " 'fromisoformat',\n",
       " 'fromordinal',\n",
       " 'fromtimestamp',\n",
       " 'isocalendar',\n",
       " 'isoformat',\n",
       " 'isoweekday',\n",
       " 'max',\n",
       " 'min',\n",
       " 'month',\n",
       " 'replace',\n",
       " 'resolution',\n",
       " 'strftime',\n",
       " 'timetuple',\n",
       " 'today',\n",
       " 'toordinal',\n",
       " 'weekday',\n",
       " 'year']"
      ]
     },
     "execution_count": 111,
     "metadata": {},
     "output_type": "execute_result"
    }
   ],
   "source": [
    "# --\n",
    "# Atributos de datetime.date\n",
    "# --\n",
    "dir(datetime.date)"
   ]
  },
  {
   "cell_type": "code",
   "execution_count": 112,
   "metadata": {},
   "outputs": [],
   "source": [
    "# --\n",
    "# A partir de aquí, trabajemos únicamente importando todo el paquete date\n",
    "# para evitar poner \"datetime.\"\n",
    "# --\n",
    "from datetime import date"
   ]
  },
  {
   "cell_type": "markdown",
   "metadata": {},
   "source": [
    "### **Crear fechas**\n",
    "Para crear fechas, necesitamos los siguientes argumentos:\n",
    "* **Year**\n",
    "* **Month**\n",
    "* **Day**"
   ]
  },
  {
   "cell_type": "code",
   "execution_count": 113,
   "metadata": {},
   "outputs": [
    {
     "name": "stdout",
     "output_type": "stream",
     "text": [
      "Usando datetime.date: 2019-04-13\n",
      "Usando date: 2019-04-13\n"
     ]
    }
   ],
   "source": [
    "# --\n",
    "# Creamos una fecha\n",
    "# --\n",
    "ejemplo_d_1 = datetime.date(year = 2019, month = 4, day = 13)\n",
    "print('Usando datetime.date: ' + str(ejemplo_d_1))\n",
    "\n",
    "# --\n",
    "# Equivalente a usar únicamente date\n",
    "# --\n",
    "ejemplo_d_2 = date(2019, 4, 13)\n",
    "print('Usando date: ' + str(ejemplo_d_2))"
   ]
  },
  {
   "cell_type": "markdown",
   "metadata": {},
   "source": [
    "#### `.today()`\n",
    "Veamos cómo extraer el día actual"
   ]
  },
  {
   "cell_type": "code",
   "execution_count": 114,
   "metadata": {},
   "outputs": [
    {
     "name": "stdout",
     "output_type": "stream",
     "text": [
      "Fechas de hoy: 2023-03-11\n"
     ]
    }
   ],
   "source": [
    "# --\n",
    "# Equivalente a usar directamente date.today()\n",
    "# --\n",
    "hoy = date.today()\n",
    "print('Fechas de hoy: ' + str(hoy))"
   ]
  },
  {
   "cell_type": "markdown",
   "metadata": {},
   "source": [
    "### **Métodos asociados**\n",
    "Los métodos asociados más usuales a este objeto son:\n",
    "* **`.year`**\n",
    "* **`.month`**\n",
    "* **`.day`**"
   ]
  },
  {
   "cell_type": "code",
   "execution_count": 115,
   "metadata": {},
   "outputs": [
    {
     "name": "stdout",
     "output_type": "stream",
     "text": [
      "Año actual: 2023\n",
      "Mes actual: 3\n",
      "Día actual: 11\n"
     ]
    }
   ],
   "source": [
    "# --\n",
    "# Veamos el año, mes y día actual\n",
    "# --\n",
    "hoy = date.today() \n",
    "\n",
    "print(\"Año actual:\", hoy.year)\n",
    "print(\"Mes actual:\", hoy.month)\n",
    "print(\"Día actual:\", hoy.day)"
   ]
  },
  {
   "cell_type": "markdown",
   "metadata": {},
   "source": [
    "Adicionalmente, peude llegar a resultar interesante el método `fromtimestamp`que convierte un número en formato $\\text{timestamp}^1$ a fecha.\n",
    "\n",
    "<font size = 2> 1.- El $\\text{timestamp}$ es el número de segundos que han transucrrido entre el 1 de enero de 1970 y la fecha que se desee."
   ]
  },
  {
   "cell_type": "code",
   "execution_count": 116,
   "metadata": {},
   "outputs": [
    {
     "name": "stdout",
     "output_type": "stream",
     "text": [
      "Fecha = 2012-01-10\n"
     ]
    }
   ],
   "source": [
    "# --\n",
    "# Veámos a qué fecha hace referencia este número\n",
    "# --\n",
    "timestamp = date.fromtimestamp(1326244364)\n",
    "print(\"Fecha =\", timestamp)"
   ]
  },
  {
   "cell_type": "markdown",
   "metadata": {},
   "source": [
    "## **`.time`**\n",
    "Con esta clase podemos crear objetos tipo `time` el cual representa una hora de tipo (hora, minuto, segundo y microsegundo). Además, como atributo más interesante, está el poder extraer la hora actual con el método `.now()`."
   ]
  },
  {
   "cell_type": "code",
   "execution_count": 117,
   "metadata": {},
   "outputs": [
    {
     "data": {
      "text/plain": [
       "['__class__',\n",
       " '__delattr__',\n",
       " '__dir__',\n",
       " '__doc__',\n",
       " '__eq__',\n",
       " '__format__',\n",
       " '__ge__',\n",
       " '__getattribute__',\n",
       " '__gt__',\n",
       " '__hash__',\n",
       " '__init__',\n",
       " '__init_subclass__',\n",
       " '__le__',\n",
       " '__lt__',\n",
       " '__ne__',\n",
       " '__new__',\n",
       " '__reduce__',\n",
       " '__reduce_ex__',\n",
       " '__repr__',\n",
       " '__setattr__',\n",
       " '__sizeof__',\n",
       " '__str__',\n",
       " '__subclasshook__',\n",
       " 'dst',\n",
       " 'fold',\n",
       " 'fromisoformat',\n",
       " 'hour',\n",
       " 'isoformat',\n",
       " 'max',\n",
       " 'microsecond',\n",
       " 'min',\n",
       " 'minute',\n",
       " 'replace',\n",
       " 'resolution',\n",
       " 'second',\n",
       " 'strftime',\n",
       " 'tzinfo',\n",
       " 'tzname',\n",
       " 'utcoffset']"
      ]
     },
     "execution_count": 117,
     "metadata": {},
     "output_type": "execute_result"
    }
   ],
   "source": [
    "# --\n",
    "# Atributos de datetime.time\n",
    "# --\n",
    "dir(datetime.time)"
   ]
  },
  {
   "cell_type": "code",
   "execution_count": 118,
   "metadata": {},
   "outputs": [],
   "source": [
    "# --\n",
    "# A partir de aquí, trabajemos únicamente importando todo el paquete time\n",
    "# para evitar poner \"datetime.\"\n",
    "# --\n",
    "from datetime import time"
   ]
  },
  {
   "cell_type": "markdown",
   "metadata": {},
   "source": [
    "### **Crear horas**\n",
    "Para crear horas, necesitamos los siguientes argumentos:\n",
    "* **Hour**\n",
    "* **Minute**\n",
    "* **Second**\n",
    "* **Microsecond**: Opcional"
   ]
  },
  {
   "cell_type": "code",
   "execution_count": 119,
   "metadata": {},
   "outputs": [
    {
     "name": "stdout",
     "output_type": "stream",
     "text": [
      "Usando datetime.time: 11:34:13\n",
      "Usando date: 11:34:13\n",
      "Usando microsegundos: 11:34:56.234566\n"
     ]
    }
   ],
   "source": [
    "# --\n",
    "# Creamos una hora\n",
    "# --\n",
    "ejemplo_h_1 = datetime.time(hour = 11, minute = 34, second = 13)\n",
    "print('Usando datetime.time: ' + str(ejemplo_h_1))\n",
    "\n",
    "# --\n",
    "# Equivalente a usar únicamente date\n",
    "# --\n",
    "ejemplo_h_2 = time(11, 34, 13)\n",
    "print('Usando date: ' + str(ejemplo_h_2))\n",
    "\n",
    "# --\n",
    "# Usando la variable opcional \"microsecond\"\n",
    "# --\n",
    "ejemplo_h_3 = time(11, 34, 56, 234566)\n",
    "print(\"Usando microsegundos:\", ejemplo_h_3)"
   ]
  },
  {
   "cell_type": "markdown",
   "metadata": {},
   "source": [
    "### **Métodos asociados**\n",
    "Los métodos asociados más usuales a este objeto son:\n",
    "* **`.hour`**\n",
    "* **`.minute`**\n",
    "* **`.second`**\n",
    "* **`.microsecond`**"
   ]
  },
  {
   "cell_type": "code",
   "execution_count": 120,
   "metadata": {},
   "outputs": [
    {
     "name": "stdout",
     "output_type": "stream",
     "text": [
      "Hora: 11\n",
      "Minuto: 34\n",
      "Segundo: 56\n",
      "Microsegundo: 0\n"
     ]
    }
   ],
   "source": [
    "# --\n",
    "# Veamos la hora, el minuto, el segundo y el microsegundo de la variable \"mi_hora\"\n",
    "# --\n",
    "mi_hora = time(11, 34, 56)\n",
    "\n",
    "print(\"Hora:\", mi_hora.hour)\n",
    "print(\"Minuto:\", mi_hora.minute)\n",
    "print(\"Segundo:\", mi_hora.second)\n",
    "print(\"Microsegundo:\", mi_hora.microsecond)"
   ]
  },
  {
   "cell_type": "markdown",
   "metadata": {},
   "source": [
    "## **`.datetime`**\n",
    "Con esta clase podemos crear objetos tipo `datetime` el cual engloba a las dos categorías anteriores, teniendo objetos del tipo (año, mes, día, hora, minuto, segundo y microsegundo). Además, como atributo más interesante, está el poder extraer la fecha o hora actual con el método `.today()`y `.now()`."
   ]
  },
  {
   "cell_type": "code",
   "execution_count": 121,
   "metadata": {},
   "outputs": [
    {
     "data": {
      "text/plain": [
       "['__add__',\n",
       " '__class__',\n",
       " '__delattr__',\n",
       " '__dir__',\n",
       " '__doc__',\n",
       " '__eq__',\n",
       " '__format__',\n",
       " '__ge__',\n",
       " '__getattribute__',\n",
       " '__gt__',\n",
       " '__hash__',\n",
       " '__init__',\n",
       " '__init_subclass__',\n",
       " '__le__',\n",
       " '__lt__',\n",
       " '__ne__',\n",
       " '__new__',\n",
       " '__radd__',\n",
       " '__reduce__',\n",
       " '__reduce_ex__',\n",
       " '__repr__',\n",
       " '__rsub__',\n",
       " '__setattr__',\n",
       " '__sizeof__',\n",
       " '__str__',\n",
       " '__sub__',\n",
       " '__subclasshook__',\n",
       " 'astimezone',\n",
       " 'combine',\n",
       " 'ctime',\n",
       " 'date',\n",
       " 'day',\n",
       " 'dst',\n",
       " 'fold',\n",
       " 'fromisocalendar',\n",
       " 'fromisoformat',\n",
       " 'fromordinal',\n",
       " 'fromtimestamp',\n",
       " 'hour',\n",
       " 'isocalendar',\n",
       " 'isoformat',\n",
       " 'isoweekday',\n",
       " 'max',\n",
       " 'microsecond',\n",
       " 'min',\n",
       " 'minute',\n",
       " 'month',\n",
       " 'now',\n",
       " 'replace',\n",
       " 'resolution',\n",
       " 'second',\n",
       " 'strftime',\n",
       " 'strptime',\n",
       " 'time',\n",
       " 'timestamp',\n",
       " 'timetuple',\n",
       " 'timetz',\n",
       " 'today',\n",
       " 'toordinal',\n",
       " 'tzinfo',\n",
       " 'tzname',\n",
       " 'utcfromtimestamp',\n",
       " 'utcnow',\n",
       " 'utcoffset',\n",
       " 'utctimetuple',\n",
       " 'weekday',\n",
       " 'year']"
      ]
     },
     "execution_count": 121,
     "metadata": {},
     "output_type": "execute_result"
    }
   ],
   "source": [
    "import datetime\n",
    "# --\n",
    "# Atributos de datetime.time\n",
    "# --\n",
    "dir(datetime.datetime)"
   ]
  },
  {
   "cell_type": "code",
   "execution_count": 122,
   "metadata": {},
   "outputs": [],
   "source": [
    "# --\n",
    "# A partir de aquí, trabajemos únicamente importando todo el paquete datetime\n",
    "# para evitar poner \"datetime.\"\n",
    "# --\n",
    "from datetime import datetime"
   ]
  },
  {
   "cell_type": "markdown",
   "metadata": {},
   "source": [
    "### **Crear objetos datetime**\n",
    "Para crear este tipo de objetos, necesitamos los siguientes argumentos:\n",
    "* **Year**\n",
    "* **Month**\n",
    "* **Day**\n",
    "* **Hour**: Opcional. Defecto: Hour = 0\n",
    "* **Minute**: Opcional. Defecto: Minute = 0\n",
    "* **Second**: Opcional. Defecto: Second = 0\n",
    "* **Microsecond**: Opcional. Defecto: Microsecond = 0"
   ]
  },
  {
   "cell_type": "code",
   "execution_count": 123,
   "metadata": {},
   "outputs": [
    {
     "name": "stdout",
     "output_type": "stream",
     "text": [
      "Fecha utilizando datetime: 2018-11-28 00:00:00\n",
      "Fecha y hora utilizando datetime: 2017-11-28 23:55:59.342380\n"
     ]
    }
   ],
   "source": [
    "# --\n",
    "# Creamos una fecha\n",
    "# --\n",
    "mi_fecha_1 = datetime(2018, 11, 28)\n",
    "print(\"Fecha utilizando datetime: \" + str(mi_fecha_1))\n",
    "\n",
    "# --\n",
    "# Creamos una fecha con hora\n",
    "# --\n",
    "mi_fecha_2 = datetime(2017, 11, 28, 23, 55, 59, 342380)\n",
    "print(\"Fecha y hora utilizando datetime: \" + str(mi_fecha_2))"
   ]
  },
  {
   "cell_type": "markdown",
   "metadata": {},
   "source": [
    "#### `.today()` o `.now()`\n",
    "Veamos cómo extraer el día y hora actual usando datetime."
   ]
  },
  {
   "cell_type": "code",
   "execution_count": 124,
   "metadata": {},
   "outputs": [
    {
     "name": "stdout",
     "output_type": "stream",
     "text": [
      "Fecha de hoy: 2023-03-11 22:41:50.823331\n",
      "Hora actual: 2023-03-11 22:41:50.823330\n"
     ]
    }
   ],
   "source": [
    "# --\n",
    "# Extraemos la fecha actual usando .today()\n",
    "# --\n",
    "hoy = datetime.today()\n",
    "print('Fecha de hoy: ' + str(hoy))\n",
    "\n",
    "# --\n",
    "# Extraemos la fecha actual usando .now()\n",
    "# --\n",
    "ahora = datetime.now()\n",
    "print('Hora actual: ' + str(ahora))"
   ]
  },
  {
   "cell_type": "markdown",
   "metadata": {},
   "source": [
    "### **Métodos asociados**\n",
    "Los métodos asociados más usuales a este objeto son:\n",
    "* **`.year`**\n",
    "* **`.month`**\n",
    "* **`.day`**\n",
    "* **`.hour`**\n",
    "* **`.minute`**\n",
    "* **`.second`**\n",
    "* **`.microsecond`**\n",
    "* **`.timestamp`**"
   ]
  },
  {
   "cell_type": "code",
   "execution_count": 125,
   "metadata": {},
   "outputs": [
    {
     "name": "stdout",
     "output_type": "stream",
     "text": [
      "year = 2017\n",
      "month = 11\n",
      "hour = 23\n",
      "minute = 55\n",
      "timestamp = 1511931359.34238\n"
     ]
    }
   ],
   "source": [
    "# --\n",
    "# Veamos el año, mes, hora, minuto y timestamp de una fecha\"\n",
    "# --\n",
    "fecha = datetime(2017, 11, 28, 23, 55, 59, 342380)\n",
    "print(\"year =\", fecha.year)\n",
    "print(\"month =\", fecha.month)\n",
    "print(\"hour =\", fecha.hour)\n",
    "print(\"minute =\", fecha.minute)\n",
    "print(\"timestamp =\", fecha.timestamp())"
   ]
  },
  {
   "cell_type": "markdown",
   "metadata": {},
   "source": [
    "## **`.timedelta`**\n",
    "Con esta clase podemos crear objetos tipo `timedelta` representa la diferencia entre dos fechas u horas."
   ]
  },
  {
   "cell_type": "code",
   "execution_count": 126,
   "metadata": {},
   "outputs": [
    {
     "data": {
      "text/plain": [
       "['__abs__',\n",
       " '__add__',\n",
       " '__bool__',\n",
       " '__class__',\n",
       " '__delattr__',\n",
       " '__dir__',\n",
       " '__divmod__',\n",
       " '__doc__',\n",
       " '__eq__',\n",
       " '__floordiv__',\n",
       " '__format__',\n",
       " '__ge__',\n",
       " '__getattribute__',\n",
       " '__gt__',\n",
       " '__hash__',\n",
       " '__init__',\n",
       " '__init_subclass__',\n",
       " '__le__',\n",
       " '__lt__',\n",
       " '__mod__',\n",
       " '__mul__',\n",
       " '__ne__',\n",
       " '__neg__',\n",
       " '__new__',\n",
       " '__pos__',\n",
       " '__radd__',\n",
       " '__rdivmod__',\n",
       " '__reduce__',\n",
       " '__reduce_ex__',\n",
       " '__repr__',\n",
       " '__rfloordiv__',\n",
       " '__rmod__',\n",
       " '__rmul__',\n",
       " '__rsub__',\n",
       " '__rtruediv__',\n",
       " '__setattr__',\n",
       " '__sizeof__',\n",
       " '__str__',\n",
       " '__sub__',\n",
       " '__subclasshook__',\n",
       " '__truediv__',\n",
       " 'days',\n",
       " 'max',\n",
       " 'microseconds',\n",
       " 'min',\n",
       " 'resolution',\n",
       " 'seconds',\n",
       " 'total_seconds']"
      ]
     },
     "execution_count": 126,
     "metadata": {},
     "output_type": "execute_result"
    }
   ],
   "source": [
    "from datetime import timedelta \n",
    "dir(timedelta)"
   ]
  },
  {
   "cell_type": "markdown",
   "metadata": {},
   "source": [
    "### **Crear objetos timedelta**\n",
    "Para crear este tipo de objetos, necesitamos los siguientes argumentos:\n",
    "* **Weeks**: Opcional. Defecto: Weeks = 0\n",
    "* **Days**: Opcional. Defecto: Day = 0\n",
    "* **Hours**: Opcional. Defecto: Hour = 0\n",
    "* **Minutes**: Opcional. Defecto: Minute = 0\n",
    "* **Seconds**: Opcional. Defecto: Second = 0\n",
    "* **Microseconds**: Opcional. Defecto: Microsecond = 0\n",
    "* **Miliseconds**: Opcional. Defecto: Microsecond = 0"
   ]
  },
  {
   "cell_type": "code",
   "execution_count": 127,
   "metadata": {},
   "outputs": [
    {
     "name": "stdout",
     "output_type": "stream",
     "text": [
      "Diferencia = 14 days, 13:55:39\n"
     ]
    }
   ],
   "source": [
    "# --\n",
    "# Creamos un par de objetos timedelta y los restamos\n",
    "# --\n",
    "t1 = timedelta(weeks = 2, days = 5, hours = 1, seconds = 33)\n",
    "t2 = timedelta(days = 4, hours = 11, minutes = 4, seconds = 54)\n",
    "t3 = t1 - t2\n",
    "\n",
    "print(\"Diferencia =\", t3)"
   ]
  },
  {
   "cell_type": "markdown",
   "metadata": {},
   "source": [
    "Para crear un objeto `timedelta` no hace falta inicalizarlo, pues basta con hacer una operación de resta como la siguiente."
   ]
  },
  {
   "cell_type": "code",
   "execution_count": 128,
   "metadata": {},
   "outputs": [
    {
     "name": "stdout",
     "output_type": "stream",
     "text": [
      "t3 = 201 days, 0:00:00\n",
      "t6 = -333 days, 1:14:20\n",
      "Tipo de t3 = <class 'datetime.timedelta'>\n",
      "Tipo de t6 = <class 'datetime.timedelta'>\n"
     ]
    }
   ],
   "source": [
    "# --\n",
    "# Ejemplo de resta de fechas tipo date\n",
    "# --\n",
    "t1 = date(year = 2018, month = 7, day = 12)\n",
    "t2 = date(year = 2017, month = 12, day = 23)\n",
    "t3 = t1 - t2\n",
    "print(\"t3 =\", t3)\n",
    "\n",
    "t4 = datetime(year = 2018, month = 7, day = 12, hour = 7, minute = 9, second = 33)\n",
    "t5 = datetime(year = 2019, month = 6, day = 10, hour = 5, minute = 55, second = 13)\n",
    "t6 = t4 - t5\n",
    "print(\"t6 =\", t6)\n",
    "\n",
    "print(\"Tipo de t3 =\", type(t3)) \n",
    "print(\"Tipo de t6 =\", type(t6))  "
   ]
  },
  {
   "cell_type": "markdown",
   "metadata": {},
   "source": [
    "### Dias y segundos\n",
    "Para calcular el número de días o número de segundos transcurridos entre dos fechas, usamos el método `.days` o `.total_seconds`"
   ]
  },
  {
   "cell_type": "code",
   "execution_count": 129,
   "metadata": {},
   "outputs": [
    {
     "name": "stdout",
     "output_type": "stream",
     "text": [
      "Días en t: 5\n",
      "Segundos en t = 435633.233423\n"
     ]
    }
   ],
   "source": [
    "# --\n",
    "# Si queremos saber el número de días en una variable timedelta\n",
    "# --\n",
    "t = timedelta(days = 5, hours = 1, seconds = 33, microseconds = 233423)\n",
    "print('Días en t:', t.days)\n",
    "\n",
    "# --\n",
    "# Si queremos saber el número de segundos en una variable timedelta\n",
    "# --\n",
    "t = timedelta(days = 5, hours = 1, seconds = 33, microseconds = 233423)\n",
    "print(\"Segundos en t =\", t.total_seconds())"
   ]
  },
  {
   "cell_type": "markdown",
   "metadata": {},
   "source": [
    "# **Formatos asociados**\n",
    "La manera en la que la fecha y la hora es representada puede ser diferente dependiendo del lugar donde tomamos el dato. \\\n",
    "Para ello, usaremos los métodos `.strftime()` y `.strptime` para poder tratar este problema."
   ]
  },
  {
   "cell_type": "markdown",
   "metadata": {},
   "source": [
    "## **Cambiar el formato de un datetime**\n",
    "Una vez que ya tenemos un objeto datetime, para mostrarlo por pantalla en diferentes formatos utilizaremos el comando `.strftime`.\n",
    "\n",
    "El input puede ser cualquiera de la lista que aparece en la documentación de este [link](https://www.programiz.com/python-programming/datetime/strftime)"
   ]
  },
  {
   "cell_type": "code",
   "execution_count": 130,
   "metadata": {},
   "outputs": [
    {
     "name": "stdout",
     "output_type": "stream",
     "text": [
      "Hora actual: 22:41:52\n",
      "Fecha_1: 11/03/2023\n",
      "Fecha_2: 03-11-2023\n"
     ]
    }
   ],
   "source": [
    "# --\n",
    "# Veamos diferentes formas de expresar la fecha y hora actual\n",
    "# --\n",
    "ahora = datetime.now()\n",
    "\n",
    "# --\n",
    "# Únicamente la hora\n",
    "# --\n",
    "t = ahora.strftime(\"%H:%M:%S\")\n",
    "print(\"Hora actual:\", t)\n",
    "\n",
    "# --\n",
    "# Fecha en formato dd/mm/YY\n",
    "# --\n",
    "s1 = ahora.strftime(\"%d/%m/%Y\")\n",
    "print(\"Fecha_1:\", s1)\n",
    "\n",
    "# --\n",
    "# Fecha en formato mm-dd-YY\n",
    "# --\n",
    "s1 = ahora.strftime(\"%m-%d-%Y\")\n",
    "print(\"Fecha_2:\", s1)"
   ]
  },
  {
   "cell_type": "markdown",
   "metadata": {},
   "source": [
    "## **Pasar de string a datetime**\n",
    "Desde casi cualquier formato conocido, se puede pasar a formato datetime con el comando `.strptime`."
   ]
  },
  {
   "cell_type": "code",
   "execution_count": 131,
   "metadata": {},
   "outputs": [
    {
     "name": "stdout",
     "output_type": "stream",
     "text": [
      "Fecha en string = 21 jun, 2018\n",
      "Objeto datetime = 2018-06-21 00:00:00\n"
     ]
    }
   ],
   "source": [
    "# --\n",
    "# Veamos un ejemplo complicado\n",
    "# --\n",
    "fecha_string = \"21 jun, 2018\" #<-- meses en inglés\n",
    "print(\"Fecha en string =\", fecha_string)\n",
    "\n",
    "fecha_datetime = datetime.strptime(fecha_string, \"%d %b, %Y\")\n",
    "print(\"Objeto datetime =\", fecha_datetime)"
   ]
  },
  {
   "cell_type": "markdown",
   "metadata": {},
   "source": [
    "## **Zonas horarias**\n",
    "También podemos trabajar con diferentes zonas horarias. Para ello, usaremos el paquete `pytz` que tiene incorporado los siguientes usos horarios:"
   ]
  },
  {
   "cell_type": "code",
   "execution_count": 132,
   "metadata": {},
   "outputs": [
    {
     "data": {
      "text/plain": [
       "['Africa/Abidjan', 'Africa/Accra', 'Africa/Addis_Ababa', 'Africa/Algiers', 'Africa/Asmara', 'Africa/Asmera', 'Africa/Bamako', 'Africa/Bangui', 'Africa/Banjul', 'Africa/Bissau', 'Africa/Blantyre', 'Africa/Brazzaville', 'Africa/Bujumbura', 'Africa/Cairo', 'Africa/Casablanca', 'Africa/Ceuta', 'Africa/Conakry', 'Africa/Dakar', 'Africa/Dar_es_Salaam', 'Africa/Djibouti', 'Africa/Douala', 'Africa/El_Aaiun', 'Africa/Freetown', 'Africa/Gaborone', 'Africa/Harare', 'Africa/Johannesburg', 'Africa/Juba', 'Africa/Kampala', 'Africa/Khartoum', 'Africa/Kigali', 'Africa/Kinshasa', 'Africa/Lagos', 'Africa/Libreville', 'Africa/Lome', 'Africa/Luanda', 'Africa/Lubumbashi', 'Africa/Lusaka', 'Africa/Malabo', 'Africa/Maputo', 'Africa/Maseru', 'Africa/Mbabane', 'Africa/Mogadishu', 'Africa/Monrovia', 'Africa/Nairobi', 'Africa/Ndjamena', 'Africa/Niamey', 'Africa/Nouakchott', 'Africa/Ouagadougou', 'Africa/Porto-Novo', 'Africa/Sao_Tome', 'Africa/Timbuktu', 'Africa/Tripoli', 'Africa/Tunis', 'Africa/Windhoek', 'America/Adak', 'America/Anchorage', 'America/Anguilla', 'America/Antigua', 'America/Araguaina', 'America/Argentina/Buenos_Aires', 'America/Argentina/Catamarca', 'America/Argentina/ComodRivadavia', 'America/Argentina/Cordoba', 'America/Argentina/Jujuy', 'America/Argentina/La_Rioja', 'America/Argentina/Mendoza', 'America/Argentina/Rio_Gallegos', 'America/Argentina/Salta', 'America/Argentina/San_Juan', 'America/Argentina/San_Luis', 'America/Argentina/Tucuman', 'America/Argentina/Ushuaia', 'America/Aruba', 'America/Asuncion', 'America/Atikokan', 'America/Atka', 'America/Bahia', 'America/Bahia_Banderas', 'America/Barbados', 'America/Belem', 'America/Belize', 'America/Blanc-Sablon', 'America/Boa_Vista', 'America/Bogota', 'America/Boise', 'America/Buenos_Aires', 'America/Cambridge_Bay', 'America/Campo_Grande', 'America/Cancun', 'America/Caracas', 'America/Catamarca', 'America/Cayenne', 'America/Cayman', 'America/Chicago', 'America/Chihuahua', 'America/Coral_Harbour', 'America/Cordoba', 'America/Costa_Rica', 'America/Creston', 'America/Cuiaba', 'America/Curacao', 'America/Danmarkshavn', 'America/Dawson', 'America/Dawson_Creek', 'America/Denver', 'America/Detroit', 'America/Dominica', 'America/Edmonton', 'America/Eirunepe', 'America/El_Salvador', 'America/Ensenada', 'America/Fort_Nelson', 'America/Fort_Wayne', 'America/Fortaleza', 'America/Glace_Bay', 'America/Godthab', 'America/Goose_Bay', 'America/Grand_Turk', 'America/Grenada', 'America/Guadeloupe', 'America/Guatemala', 'America/Guayaquil', 'America/Guyana', 'America/Halifax', 'America/Havana', 'America/Hermosillo', 'America/Indiana/Indianapolis', 'America/Indiana/Knox', 'America/Indiana/Marengo', 'America/Indiana/Petersburg', 'America/Indiana/Tell_City', 'America/Indiana/Vevay', 'America/Indiana/Vincennes', 'America/Indiana/Winamac', 'America/Indianapolis', 'America/Inuvik', 'America/Iqaluit', 'America/Jamaica', 'America/Jujuy', 'America/Juneau', 'America/Kentucky/Louisville', 'America/Kentucky/Monticello', 'America/Knox_IN', 'America/Kralendijk', 'America/La_Paz', 'America/Lima', 'America/Los_Angeles', 'America/Louisville', 'America/Lower_Princes', 'America/Maceio', 'America/Managua', 'America/Manaus', 'America/Marigot', 'America/Martinique', 'America/Matamoros', 'America/Mazatlan', 'America/Mendoza', 'America/Menominee', 'America/Merida', 'America/Metlakatla', 'America/Mexico_City', 'America/Miquelon', 'America/Moncton', 'America/Monterrey', 'America/Montevideo', 'America/Montreal', 'America/Montserrat', 'America/Nassau', 'America/New_York', 'America/Nipigon', 'America/Nome', 'America/Noronha', 'America/North_Dakota/Beulah', 'America/North_Dakota/Center', 'America/North_Dakota/New_Salem', 'America/Nuuk', 'America/Ojinaga', 'America/Panama', 'America/Pangnirtung', 'America/Paramaribo', 'America/Phoenix', 'America/Port-au-Prince', 'America/Port_of_Spain', 'America/Porto_Acre', 'America/Porto_Velho', 'America/Puerto_Rico', 'America/Punta_Arenas', 'America/Rainy_River', 'America/Rankin_Inlet', 'America/Recife', 'America/Regina', 'America/Resolute', 'America/Rio_Branco', 'America/Rosario', 'America/Santa_Isabel', 'America/Santarem', 'America/Santiago', 'America/Santo_Domingo', 'America/Sao_Paulo', 'America/Scoresbysund', 'America/Shiprock', 'America/Sitka', 'America/St_Barthelemy', 'America/St_Johns', 'America/St_Kitts', 'America/St_Lucia', 'America/St_Thomas', 'America/St_Vincent', 'America/Swift_Current', 'America/Tegucigalpa', 'America/Thule', 'America/Thunder_Bay', 'America/Tijuana', 'America/Toronto', 'America/Tortola', 'America/Vancouver', 'America/Virgin', 'America/Whitehorse', 'America/Winnipeg', 'America/Yakutat', 'America/Yellowknife', 'Antarctica/Casey', 'Antarctica/Davis', 'Antarctica/DumontDUrville', 'Antarctica/Macquarie', 'Antarctica/Mawson', 'Antarctica/McMurdo', 'Antarctica/Palmer', 'Antarctica/Rothera', 'Antarctica/South_Pole', 'Antarctica/Syowa', 'Antarctica/Troll', 'Antarctica/Vostok', 'Arctic/Longyearbyen', 'Asia/Aden', 'Asia/Almaty', 'Asia/Amman', 'Asia/Anadyr', 'Asia/Aqtau', 'Asia/Aqtobe', 'Asia/Ashgabat', 'Asia/Ashkhabad', 'Asia/Atyrau', 'Asia/Baghdad', 'Asia/Bahrain', 'Asia/Baku', 'Asia/Bangkok', 'Asia/Barnaul', 'Asia/Beirut', 'Asia/Bishkek', 'Asia/Brunei', 'Asia/Calcutta', 'Asia/Chita', 'Asia/Choibalsan', 'Asia/Chongqing', 'Asia/Chungking', 'Asia/Colombo', 'Asia/Dacca', 'Asia/Damascus', 'Asia/Dhaka', 'Asia/Dili', 'Asia/Dubai', 'Asia/Dushanbe', 'Asia/Famagusta', 'Asia/Gaza', 'Asia/Harbin', 'Asia/Hebron', 'Asia/Ho_Chi_Minh', 'Asia/Hong_Kong', 'Asia/Hovd', 'Asia/Irkutsk', 'Asia/Istanbul', 'Asia/Jakarta', 'Asia/Jayapura', 'Asia/Jerusalem', 'Asia/Kabul', 'Asia/Kamchatka', 'Asia/Karachi', 'Asia/Kashgar', 'Asia/Kathmandu', 'Asia/Katmandu', 'Asia/Khandyga', 'Asia/Kolkata', 'Asia/Krasnoyarsk', 'Asia/Kuala_Lumpur', 'Asia/Kuching', 'Asia/Kuwait', 'Asia/Macao', 'Asia/Macau', 'Asia/Magadan', 'Asia/Makassar', 'Asia/Manila', 'Asia/Muscat', 'Asia/Nicosia', 'Asia/Novokuznetsk', 'Asia/Novosibirsk', 'Asia/Omsk', 'Asia/Oral', 'Asia/Phnom_Penh', 'Asia/Pontianak', 'Asia/Pyongyang', 'Asia/Qatar', 'Asia/Qostanay', 'Asia/Qyzylorda', 'Asia/Rangoon', 'Asia/Riyadh', 'Asia/Saigon', 'Asia/Sakhalin', 'Asia/Samarkand', 'Asia/Seoul', 'Asia/Shanghai', 'Asia/Singapore', 'Asia/Srednekolymsk', 'Asia/Taipei', 'Asia/Tashkent', 'Asia/Tbilisi', 'Asia/Tehran', 'Asia/Tel_Aviv', 'Asia/Thimbu', 'Asia/Thimphu', 'Asia/Tokyo', 'Asia/Tomsk', 'Asia/Ujung_Pandang', 'Asia/Ulaanbaatar', 'Asia/Ulan_Bator', 'Asia/Urumqi', 'Asia/Ust-Nera', 'Asia/Vientiane', 'Asia/Vladivostok', 'Asia/Yakutsk', 'Asia/Yangon', 'Asia/Yekaterinburg', 'Asia/Yerevan', 'Atlantic/Azores', 'Atlantic/Bermuda', 'Atlantic/Canary', 'Atlantic/Cape_Verde', 'Atlantic/Faeroe', 'Atlantic/Faroe', 'Atlantic/Jan_Mayen', 'Atlantic/Madeira', 'Atlantic/Reykjavik', 'Atlantic/South_Georgia', 'Atlantic/St_Helena', 'Atlantic/Stanley', 'Australia/ACT', 'Australia/Adelaide', 'Australia/Brisbane', 'Australia/Broken_Hill', 'Australia/Canberra', 'Australia/Currie', 'Australia/Darwin', 'Australia/Eucla', 'Australia/Hobart', 'Australia/LHI', 'Australia/Lindeman', 'Australia/Lord_Howe', 'Australia/Melbourne', 'Australia/NSW', 'Australia/North', 'Australia/Perth', 'Australia/Queensland', 'Australia/South', 'Australia/Sydney', 'Australia/Tasmania', 'Australia/Victoria', 'Australia/West', 'Australia/Yancowinna', 'Brazil/Acre', 'Brazil/DeNoronha', 'Brazil/East', 'Brazil/West', 'CET', 'CST6CDT', 'Canada/Atlantic', 'Canada/Central', 'Canada/Eastern', 'Canada/Mountain', 'Canada/Newfoundland', 'Canada/Pacific', 'Canada/Saskatchewan', 'Canada/Yukon', 'Chile/Continental', 'Chile/EasterIsland', 'Cuba', 'EET', 'EST', 'EST5EDT', 'Egypt', 'Eire', 'Etc/GMT', 'Etc/GMT+0', 'Etc/GMT+1', 'Etc/GMT+10', 'Etc/GMT+11', 'Etc/GMT+12', 'Etc/GMT+2', 'Etc/GMT+3', 'Etc/GMT+4', 'Etc/GMT+5', 'Etc/GMT+6', 'Etc/GMT+7', 'Etc/GMT+8', 'Etc/GMT+9', 'Etc/GMT-0', 'Etc/GMT-1', 'Etc/GMT-10', 'Etc/GMT-11', 'Etc/GMT-12', 'Etc/GMT-13', 'Etc/GMT-14', 'Etc/GMT-2', 'Etc/GMT-3', 'Etc/GMT-4', 'Etc/GMT-5', 'Etc/GMT-6', 'Etc/GMT-7', 'Etc/GMT-8', 'Etc/GMT-9', 'Etc/GMT0', 'Etc/Greenwich', 'Etc/UCT', 'Etc/UTC', 'Etc/Universal', 'Etc/Zulu', 'Europe/Amsterdam', 'Europe/Andorra', 'Europe/Astrakhan', 'Europe/Athens', 'Europe/Belfast', 'Europe/Belgrade', 'Europe/Berlin', 'Europe/Bratislava', 'Europe/Brussels', 'Europe/Bucharest', 'Europe/Budapest', 'Europe/Busingen', 'Europe/Chisinau', 'Europe/Copenhagen', 'Europe/Dublin', 'Europe/Gibraltar', 'Europe/Guernsey', 'Europe/Helsinki', 'Europe/Isle_of_Man', 'Europe/Istanbul', 'Europe/Jersey', 'Europe/Kaliningrad', 'Europe/Kiev', 'Europe/Kirov', 'Europe/Lisbon', 'Europe/Ljubljana', 'Europe/London', 'Europe/Luxembourg', 'Europe/Madrid', 'Europe/Malta', 'Europe/Mariehamn', 'Europe/Minsk', 'Europe/Monaco', 'Europe/Moscow', 'Europe/Nicosia', 'Europe/Oslo', 'Europe/Paris', 'Europe/Podgorica', 'Europe/Prague', 'Europe/Riga', 'Europe/Rome', 'Europe/Samara', 'Europe/San_Marino', 'Europe/Sarajevo', 'Europe/Saratov', 'Europe/Simferopol', 'Europe/Skopje', 'Europe/Sofia', 'Europe/Stockholm', 'Europe/Tallinn', 'Europe/Tirane', 'Europe/Tiraspol', 'Europe/Ulyanovsk', 'Europe/Uzhgorod', 'Europe/Vaduz', 'Europe/Vatican', 'Europe/Vienna', 'Europe/Vilnius', 'Europe/Volgograd', 'Europe/Warsaw', 'Europe/Zagreb', 'Europe/Zaporozhye', 'Europe/Zurich', 'GB', 'GB-Eire', 'GMT', 'GMT+0', 'GMT-0', 'GMT0', 'Greenwich', 'HST', 'Hongkong', 'Iceland', 'Indian/Antananarivo', 'Indian/Chagos', 'Indian/Christmas', 'Indian/Cocos', 'Indian/Comoro', 'Indian/Kerguelen', 'Indian/Mahe', 'Indian/Maldives', 'Indian/Mauritius', 'Indian/Mayotte', 'Indian/Reunion', 'Iran', 'Israel', 'Jamaica', 'Japan', 'Kwajalein', 'Libya', 'MET', 'MST', 'MST7MDT', 'Mexico/BajaNorte', 'Mexico/BajaSur', 'Mexico/General', 'NZ', 'NZ-CHAT', 'Navajo', 'PRC', 'PST8PDT', 'Pacific/Apia', 'Pacific/Auckland', 'Pacific/Bougainville', 'Pacific/Chatham', 'Pacific/Chuuk', 'Pacific/Easter', 'Pacific/Efate', 'Pacific/Enderbury', 'Pacific/Fakaofo', 'Pacific/Fiji', 'Pacific/Funafuti', 'Pacific/Galapagos', 'Pacific/Gambier', 'Pacific/Guadalcanal', 'Pacific/Guam', 'Pacific/Honolulu', 'Pacific/Johnston', 'Pacific/Kanton', 'Pacific/Kiritimati', 'Pacific/Kosrae', 'Pacific/Kwajalein', 'Pacific/Majuro', 'Pacific/Marquesas', 'Pacific/Midway', 'Pacific/Nauru', 'Pacific/Niue', 'Pacific/Norfolk', 'Pacific/Noumea', 'Pacific/Pago_Pago', 'Pacific/Palau', 'Pacific/Pitcairn', 'Pacific/Pohnpei', 'Pacific/Ponape', 'Pacific/Port_Moresby', 'Pacific/Rarotonga', 'Pacific/Saipan', 'Pacific/Samoa', 'Pacific/Tahiti', 'Pacific/Tarawa', 'Pacific/Tongatapu', 'Pacific/Truk', 'Pacific/Wake', 'Pacific/Wallis', 'Pacific/Yap', 'Poland', 'Portugal', 'ROC', 'ROK', 'Singapore', 'Turkey', 'UCT', 'US/Alaska', 'US/Aleutian', 'US/Arizona', 'US/Central', 'US/East-Indiana', 'US/Eastern', 'US/Hawaii', 'US/Indiana-Starke', 'US/Michigan', 'US/Mountain', 'US/Pacific', 'US/Samoa', 'UTC', 'Universal', 'W-SU', 'WET', 'Zulu']"
      ]
     },
     "execution_count": 132,
     "metadata": {},
     "output_type": "execute_result"
    }
   ],
   "source": [
    "import pytz\n",
    "pytz.all_timezones"
   ]
  },
  {
   "cell_type": "code",
   "execution_count": null,
   "metadata": {},
   "outputs": [],
   "source": []
  }
 ],
 "metadata": {
  "kernelspec": {
   "display_name": "Python 3 (ipykernel)",
   "language": "python",
   "name": "python3"
  },
  "language_info": {
   "codemirror_mode": {
    "name": "ipython",
    "version": 3
   },
   "file_extension": ".py",
   "mimetype": "text/x-python",
   "name": "python",
   "nbconvert_exporter": "python",
   "pygments_lexer": "ipython3",
   "version": "3.9.13"
  },
  "varInspector": {
   "cols": {
    "lenName": 16,
    "lenType": 16,
    "lenVar": 40
   },
   "kernels_config": {
    "python": {
     "delete_cmd_postfix": "",
     "delete_cmd_prefix": "del ",
     "library": "var_list.py",
     "varRefreshCmd": "print(var_dic_list())"
    },
    "r": {
     "delete_cmd_postfix": ") ",
     "delete_cmd_prefix": "rm(",
     "library": "var_list.r",
     "varRefreshCmd": "cat(var_dic_list()) "
    }
   },
   "types_to_exclude": [
    "module",
    "function",
    "builtin_function_or_method",
    "instance",
    "_Feature"
   ],
   "window_display": false
  }
 },
 "nbformat": 4,
 "nbformat_minor": 4
}
