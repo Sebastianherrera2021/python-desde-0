{
 "cells": [
  {
   "cell_type": "markdown",
   "metadata": {},
   "source": [
    "# Estructuras de datos"
   ]
  },
  {
   "cell_type": "markdown",
   "metadata": {},
   "source": [
    "El pilar básico de la librería <b>pandas</b>, al igual que como ocurría con <b>numpy</b>, son las estructuras de datos que pone a nuestra disposición.<br/>\n",
    "En este caso, dispondremos de dos estructuras de datos relacionadas, pero con su funcionamiento específico:<br/>\n",
    "<ul>\n",
    "<li><b>Series:</b> Para información unidimensional.</li>\n",
    "<li><b>DataFrame:</b> Para información tabular.</li>\n",
    "</ul>\n",
    "\n",
    "Son estructuras muy similares a las ofrecidas por R: vectores (con nombre) y data.frame."
   ]
  },
  {
   "cell_type": "markdown",
   "metadata": {},
   "source": [
    "## Utilización básica de elementos de pandas"
   ]
  },
  {
   "cell_type": "markdown",
   "metadata": {},
   "source": [
    "Al igual que en NumPy, pandas no pertenece al core de Python, por lo que SIEMPRE habrá que importarlo en un programa antes de poder usarlo."
   ]
  },
  {
   "cell_type": "code",
   "execution_count": 1,
   "metadata": {},
   "outputs": [],
   "source": [
    "import numpy as np\n",
    "import pandas as pd"
   ]
  },
  {
   "cell_type": "markdown",
   "metadata": {},
   "source": [
    "## Series"
   ]
  },
  {
   "cell_type": "markdown",
   "metadata": {},
   "source": [
    "Una serie es una estructura de datos unidimensional que contiene:<br/>\n",
    "<ul>\n",
    "<li>Un array de datos: que pueden tener cualquier tipo de dato de los ofrecidos por NumPy.</li>\n",
    "<li>Un array de etiquetas/<i>labels</i>: asociando una etiqueta a cada dato del array anterior y que se denomina <b>índice</b>, aunque no es obligatorio que el desarrollador especifique el mismo.</li>\n",
    "</ul>"
   ]
  },
  {
   "cell_type": "markdown",
   "metadata": {},
   "source": [
    "### Creación de Series"
   ]
  },
  {
   "cell_type": "markdown",
   "metadata": {},
   "source": [
    "Para la creación de Series contamos con una función \"constructor\" (Series) que puede recibir, principalmente, los siguientes parámetros:<br/>\n",
    "<ul>\n",
    "<li><b>data:</b> Es obligatorio, contiene los datos que queremos cargar en la Serie y podrá ser un valor escalar, una secuencia de Python o un ndarray unidimensional de NumPy.</li>\n",
    "<li><b>index:</b> Es opcional, contiene las etiquetas que queremos asignar a los valores de la Serie y podrá ser una secuencia de Python o un ndarray unidimensional de NumPy. En caso de no suministrarse el valor por defecto es np.arange(0, tam_datos).</li>\n",
    "<li><b>dtype:</b> Que podrá ser cualquier tipo de dato de NumPy.</li>\n",
    "</ul>"
   ]
  },
  {
   "cell_type": "code",
   "execution_count": 2,
   "metadata": {},
   "outputs": [
    {
     "data": {
      "text/plain": [
       "0    5\n",
       "dtype: int64"
      ]
     },
     "execution_count": 2,
     "metadata": {},
     "output_type": "execute_result"
    }
   ],
   "source": [
    "# Serie desde escalar\n",
    "serie = pd.Series(5)\n",
    "serie"
   ]
  },
  {
   "cell_type": "code",
   "execution_count": 3,
   "metadata": {},
   "outputs": [
    {
     "data": {
      "text/plain": [
       "0    1\n",
       "1    2\n",
       "2    3\n",
       "3    4\n",
       "4    5\n",
       "dtype: int64"
      ]
     },
     "execution_count": 3,
     "metadata": {},
     "output_type": "execute_result"
    }
   ],
   "source": [
    "# Serie desde secuencia\n",
    "serie = pd.Series([1, 2, 3, 4, 5]) #, dtype=np.string_)\n",
    "serie"
   ]
  },
  {
   "cell_type": "code",
   "execution_count": 4,
   "metadata": {},
   "outputs": [
    {
     "data": {
      "text/plain": [
       "0     2\n",
       "1     4\n",
       "2     6\n",
       "3     8\n",
       "4    10\n",
       "dtype: int32"
      ]
     },
     "execution_count": 4,
     "metadata": {},
     "output_type": "execute_result"
    }
   ],
   "source": [
    "# Serie desde ndarray\n",
    "array = np.array([2, 4, 6, 8, 10])\n",
    "serie = pd.Series(array)\n",
    "serie"
   ]
  },
  {
   "cell_type": "code",
   "execution_count": 5,
   "metadata": {},
   "outputs": [
    {
     "data": {
      "text/plain": [
       "a    1\n",
       "b    2\n",
       "c    3\n",
       "d    4\n",
       "e    5\n",
       "dtype: int64"
      ]
     },
     "execution_count": 5,
     "metadata": {},
     "output_type": "execute_result"
    }
   ],
   "source": [
    "# Serie con índice preestablecido\n",
    "serie = pd.Series([1, 2, 3, 4, 5], index=['a', 'b', 'c', 'd', 'e'])\n",
    "serie"
   ]
  },
  {
   "cell_type": "code",
   "execution_count": 6,
   "metadata": {},
   "outputs": [
    {
     "data": {
      "text/plain": [
       "a    1.0\n",
       "b    2.0\n",
       "c    3.0\n",
       "d    4.0\n",
       "e    5.0\n",
       "dtype: float64"
      ]
     },
     "execution_count": 6,
     "metadata": {},
     "output_type": "execute_result"
    }
   ],
   "source": [
    "# Serie desde diccionario (establece el índice desde las claves)\n",
    "serie = pd.Series({'a': 1, 'b': 2, 'c': 3, 'd': 4, 'e': 5}, dtype=np.float64)\n",
    "serie"
   ]
  },
  {
   "cell_type": "markdown",
   "metadata": {},
   "source": [
    "### Elementos de una Serie"
   ]
  },
  {
   "cell_type": "markdown",
   "metadata": {},
   "source": [
    "Disponemos de dos atributos para recuperar los datos y el índice de una Serie de forma independiente."
   ]
  },
  {
   "cell_type": "code",
   "execution_count": 7,
   "metadata": {},
   "outputs": [],
   "source": [
    "serie = pd.Series([1, 2, 3, 4, 5], index=['a', 'b', 'c', 'd', 'e'], dtype=np.float64)"
   ]
  },
  {
   "cell_type": "code",
   "execution_count": 8,
   "metadata": {},
   "outputs": [
    {
     "data": {
      "text/plain": [
       "array([1., 2., 3., 4., 5.])"
      ]
     },
     "execution_count": 8,
     "metadata": {},
     "output_type": "execute_result"
    }
   ],
   "source": [
    "# Valores de una serie\n",
    "serie.values"
   ]
  },
  {
   "cell_type": "code",
   "execution_count": 9,
   "metadata": {},
   "outputs": [
    {
     "data": {
      "text/plain": [
       "['a', 'b', 'c', 'd', 'e']"
      ]
     },
     "execution_count": 9,
     "metadata": {},
     "output_type": "execute_result"
    }
   ],
   "source": [
    "# Índice de una serie\n",
    "list(serie.index)"
   ]
  },
  {
   "cell_type": "markdown",
   "metadata": {},
   "source": [
    "Los índices son inmutables, lo que impide que cambiemos un valor de índice de forma independiente. Sin embargo, podemos modificar un índice completo por otro."
   ]
  },
  {
   "cell_type": "code",
   "execution_count": 10,
   "metadata": {},
   "outputs": [],
   "source": [
    "serie = pd.Series([1, 2, 3, 4, 5], index=['a', 'b', 'c', 'd', 'e'], dtype=np.float64)"
   ]
  },
  {
   "cell_type": "code",
   "execution_count": 11,
   "metadata": {
    "scrolled": true
   },
   "outputs": [],
   "source": [
    "# Modificar un elemento del índice de una serie\n",
    "#serie.index[0] = 4"
   ]
  },
  {
   "cell_type": "code",
   "execution_count": 12,
   "metadata": {},
   "outputs": [
    {
     "data": {
      "text/plain": [
       "f    1.0\n",
       "g    2.0\n",
       "h    3.0\n",
       "i    4.0\n",
       "j    5.0\n",
       "dtype: float64"
      ]
     },
     "execution_count": 12,
     "metadata": {},
     "output_type": "execute_result"
    }
   ],
   "source": [
    "# Modificar el índice de una serie\n",
    "serie.index = ['f', 'g', 'h', 'i', 'j']\n",
    "serie"
   ]
  },
  {
   "cell_type": "markdown",
   "metadata": {},
   "source": [
    "## DataFrame"
   ]
  },
  {
   "cell_type": "markdown",
   "metadata": {},
   "source": [
    "Un DataFrame es una estructura tabular (bidimensional) de información con las siguientes propiedades:<br/>\n",
    "<ul>\n",
    "<li>Está compuesta por una serie ordenada de filas y una serie ordenada de columnas.</li>\n",
    "<li>Tiene, por tanto, un índice para las filas y otro para las columnas.</li>\n",
    "<li>Cada columna puede tener un tipo de NumPy diferente.</li>\n",
    "<li>Puede ser visto, por tanto, como un diccionario de Series, todas ellas compartiendo el mismo índice.</li>\n",
    "</ul>"
   ]
  },
  {
   "cell_type": "markdown",
   "metadata": {},
   "source": [
    "### Creación de DataFrames"
   ]
  },
  {
   "cell_type": "markdown",
   "metadata": {},
   "source": [
    "Para la creación de DataFrames contamos con una función \"constructor\" (DataFrame) que puede recibir, principalmente, los siguientes parámetros:<br/>\n",
    "<ul>\n",
    "<li><b>data:</b> Es obligatorio, contiene los datos que queremos cargar en el DataFrame y podrá ser un diccionario de Series, un diccionario de secuencias, un ndarray bidimensional, una Serie y otro DataFrame.</li>\n",
    "<li><b>index:</b> Es opcional, contiene las etiquetas que queremos asignar a las filas del DataFrame y podrá ser una secuencia de Python o un ndarray unidimensional de NumPy. En caso de no suministrarse el valor por defecto es np.arange(0, num_filas).</li>\n",
    "<li><b>columns:</b> Es opcional, contiene las etiquetas que queremos asignar a las columnas del DataFrame y podrá ser una secuencia de Python o un ndarray unidimensional de NumPy. En caso de no suministrarse el valor por defecto es np.arange(0, num_columnas).</li>\n",
    "<li><b>dtype:</b> Es opcional, fijará el tipo de todas las columnas y podrá ser cualquier tipo de dato de NumPy.</li>\n",
    "</ul>\n",
    "\n",
    "<b>IMPORTANTE:</b> Si el tamaño de cada columna no coincide, se creara un DataFrame lo suficientemente grande como para contener al mayor y se asignará NaN en los huecos."
   ]
  },
  {
   "cell_type": "code",
   "execution_count": 13,
   "metadata": {},
   "outputs": [
    {
     "data": {
      "text/html": [
       "<div>\n",
       "<style scoped>\n",
       "    .dataframe tbody tr th:only-of-type {\n",
       "        vertical-align: middle;\n",
       "    }\n",
       "\n",
       "    .dataframe tbody tr th {\n",
       "        vertical-align: top;\n",
       "    }\n",
       "\n",
       "    .dataframe thead th {\n",
       "        text-align: right;\n",
       "    }\n",
       "</style>\n",
       "<table border=\"1\" class=\"dataframe\">\n",
       "  <thead>\n",
       "    <tr style=\"text-align: right;\">\n",
       "      <th></th>\n",
       "      <th>var1</th>\n",
       "      <th>var2</th>\n",
       "      <th>var3</th>\n",
       "    </tr>\n",
       "  </thead>\n",
       "  <tbody>\n",
       "    <tr>\n",
       "      <th>0</th>\n",
       "      <td>1</td>\n",
       "      <td>uno</td>\n",
       "      <td>1.0</td>\n",
       "    </tr>\n",
       "    <tr>\n",
       "      <th>1</th>\n",
       "      <td>2</td>\n",
       "      <td>dos</td>\n",
       "      <td>2.0</td>\n",
       "    </tr>\n",
       "    <tr>\n",
       "      <th>2</th>\n",
       "      <td>3</td>\n",
       "      <td>tres</td>\n",
       "      <td>3.0</td>\n",
       "    </tr>\n",
       "  </tbody>\n",
       "</table>\n",
       "</div>"
      ],
      "text/plain": [
       "   var1  var2  var3\n",
       "0     1   uno   1.0\n",
       "1     2   dos   2.0\n",
       "2     3  tres   3.0"
      ]
     },
     "execution_count": 13,
     "metadata": {},
     "output_type": "execute_result"
    }
   ],
   "source": [
    "# DataFrame desde diccionario de secuencias\n",
    "dataframe = pd.DataFrame({'var1': [1, 2,3], 'var2': ['uno', 'dos', 'tres'], 'var3': [1.0, 2.0, 3.0]})\n",
    "dataframe"
   ]
  },
  {
   "cell_type": "code",
   "execution_count": 14,
   "metadata": {},
   "outputs": [
    {
     "data": {
      "text/html": [
       "<div>\n",
       "<style scoped>\n",
       "    .dataframe tbody tr th:only-of-type {\n",
       "        vertical-align: middle;\n",
       "    }\n",
       "\n",
       "    .dataframe tbody tr th {\n",
       "        vertical-align: top;\n",
       "    }\n",
       "\n",
       "    .dataframe thead th {\n",
       "        text-align: right;\n",
       "    }\n",
       "</style>\n",
       "<table border=\"1\" class=\"dataframe\">\n",
       "  <thead>\n",
       "    <tr style=\"text-align: right;\">\n",
       "      <th></th>\n",
       "      <th>var1</th>\n",
       "      <th>var2</th>\n",
       "    </tr>\n",
       "  </thead>\n",
       "  <tbody>\n",
       "    <tr>\n",
       "      <th>0</th>\n",
       "      <td>1.0</td>\n",
       "      <td>a</td>\n",
       "    </tr>\n",
       "    <tr>\n",
       "      <th>1</th>\n",
       "      <td>2.0</td>\n",
       "      <td>b</td>\n",
       "    </tr>\n",
       "    <tr>\n",
       "      <th>2</th>\n",
       "      <td>3.0</td>\n",
       "      <td>NaN</td>\n",
       "    </tr>\n",
       "  </tbody>\n",
       "</table>\n",
       "</div>"
      ],
      "text/plain": [
       "   var1 var2\n",
       "0   1.0    a\n",
       "1   2.0    b\n",
       "2   3.0  NaN"
      ]
     },
     "execution_count": 14,
     "metadata": {},
     "output_type": "execute_result"
    }
   ],
   "source": [
    "# DataFrame desde diccionario de series\n",
    "dataframe = pd.DataFrame({'var1': pd.Series([1, 2, 3], dtype=np.float64), 'var2': pd.Series(['a', 'b'])})\n",
    "dataframe"
   ]
  },
  {
   "cell_type": "code",
   "execution_count": 15,
   "metadata": {},
   "outputs": [
    {
     "data": {
      "text/html": [
       "<div>\n",
       "<style scoped>\n",
       "    .dataframe tbody tr th:only-of-type {\n",
       "        vertical-align: middle;\n",
       "    }\n",
       "\n",
       "    .dataframe tbody tr th {\n",
       "        vertical-align: top;\n",
       "    }\n",
       "\n",
       "    .dataframe thead th {\n",
       "        text-align: right;\n",
       "    }\n",
       "</style>\n",
       "<table border=\"1\" class=\"dataframe\">\n",
       "  <thead>\n",
       "    <tr style=\"text-align: right;\">\n",
       "      <th></th>\n",
       "      <th>c1</th>\n",
       "      <th>c2</th>\n",
       "      <th>c3</th>\n",
       "      <th>c4</th>\n",
       "    </tr>\n",
       "  </thead>\n",
       "  <tbody>\n",
       "    <tr>\n",
       "      <th>f1</th>\n",
       "      <td>0</td>\n",
       "      <td>1</td>\n",
       "      <td>2</td>\n",
       "      <td>3</td>\n",
       "    </tr>\n",
       "    <tr>\n",
       "      <th>f2</th>\n",
       "      <td>4</td>\n",
       "      <td>5</td>\n",
       "      <td>6</td>\n",
       "      <td>7</td>\n",
       "    </tr>\n",
       "    <tr>\n",
       "      <th>f3</th>\n",
       "      <td>8</td>\n",
       "      <td>9</td>\n",
       "      <td>10</td>\n",
       "      <td>11</td>\n",
       "    </tr>\n",
       "    <tr>\n",
       "      <th>f4</th>\n",
       "      <td>12</td>\n",
       "      <td>13</td>\n",
       "      <td>14</td>\n",
       "      <td>15</td>\n",
       "    </tr>\n",
       "  </tbody>\n",
       "</table>\n",
       "</div>"
      ],
      "text/plain": [
       "    c1  c2  c3  c4\n",
       "f1   0   1   2   3\n",
       "f2   4   5   6   7\n",
       "f3   8   9  10  11\n",
       "f4  12  13  14  15"
      ]
     },
     "execution_count": 15,
     "metadata": {},
     "output_type": "execute_result"
    }
   ],
   "source": [
    "# DataFrame desde ndarray con índices para filas y columnas\n",
    "dataframe = pd.DataFrame(np.arange(16).reshape(4, 4), index=['f1', 'f2', 'f3', 'f4'], columns=['c1', 'c2', 'c3', 'c4'])\n",
    "dataframe"
   ]
  },
  {
   "cell_type": "code",
   "execution_count": 16,
   "metadata": {},
   "outputs": [
    {
     "data": {
      "text/html": [
       "<div>\n",
       "<style scoped>\n",
       "    .dataframe tbody tr th:only-of-type {\n",
       "        vertical-align: middle;\n",
       "    }\n",
       "\n",
       "    .dataframe tbody tr th {\n",
       "        vertical-align: top;\n",
       "    }\n",
       "\n",
       "    .dataframe thead th {\n",
       "        text-align: right;\n",
       "    }\n",
       "</style>\n",
       "<table border=\"1\" class=\"dataframe\">\n",
       "  <thead>\n",
       "    <tr style=\"text-align: right;\">\n",
       "      <th></th>\n",
       "      <th>0</th>\n",
       "      <th>1</th>\n",
       "      <th>2</th>\n",
       "      <th>3</th>\n",
       "    </tr>\n",
       "  </thead>\n",
       "  <tbody>\n",
       "    <tr>\n",
       "      <th>0</th>\n",
       "      <td>0</td>\n",
       "      <td>1</td>\n",
       "      <td>2</td>\n",
       "      <td>3</td>\n",
       "    </tr>\n",
       "    <tr>\n",
       "      <th>1</th>\n",
       "      <td>4</td>\n",
       "      <td>5</td>\n",
       "      <td>6</td>\n",
       "      <td>7</td>\n",
       "    </tr>\n",
       "    <tr>\n",
       "      <th>2</th>\n",
       "      <td>8</td>\n",
       "      <td>9</td>\n",
       "      <td>10</td>\n",
       "      <td>11</td>\n",
       "    </tr>\n",
       "    <tr>\n",
       "      <th>3</th>\n",
       "      <td>12</td>\n",
       "      <td>13</td>\n",
       "      <td>14</td>\n",
       "      <td>15</td>\n",
       "    </tr>\n",
       "  </tbody>\n",
       "</table>\n",
       "</div>"
      ],
      "text/plain": [
       "    0   1   2   3\n",
       "0   0   1   2   3\n",
       "1   4   5   6   7\n",
       "2   8   9  10  11\n",
       "3  12  13  14  15"
      ]
     },
     "execution_count": 16,
     "metadata": {},
     "output_type": "execute_result"
    }
   ],
   "source": [
    "# DataFrame desde ndarray con índices para filas y columnas con tipo fijo para todas\n",
    "dataframe = pd.DataFrame(np.arange(16).reshape(4,4))#, dtype=np.int32)\n",
    "dataframe"
   ]
  },
  {
   "cell_type": "markdown",
   "metadata": {},
   "source": [
    "### Elementos de un DataFrame"
   ]
  },
  {
   "cell_type": "markdown",
   "metadata": {},
   "source": [
    "Disponemos de tres atributos para recuperar los datos, el índice y las columnas de un DataFrmae de forma independiente."
   ]
  },
  {
   "cell_type": "code",
   "execution_count": 17,
   "metadata": {},
   "outputs": [],
   "source": [
    "dataframe = pd.DataFrame({'var1': [1, 2, 3], 'var2': ['uno', 'dos', 'tres'], 'var3': [1.0, 2.0, 3.0]})"
   ]
  },
  {
   "cell_type": "code",
   "execution_count": 18,
   "metadata": {},
   "outputs": [
    {
     "data": {
      "text/plain": [
       "array([[1, 'uno', 1.0],\n",
       "       [2, 'dos', 2.0],\n",
       "       [3, 'tres', 3.0]], dtype=object)"
      ]
     },
     "execution_count": 18,
     "metadata": {},
     "output_type": "execute_result"
    }
   ],
   "source": [
    "# Valores de un DataFrame\n",
    "dataframe.values"
   ]
  },
  {
   "cell_type": "code",
   "execution_count": 19,
   "metadata": {},
   "outputs": [
    {
     "data": {
      "text/plain": [
       "RangeIndex(start=0, stop=3, step=1)"
      ]
     },
     "execution_count": 19,
     "metadata": {},
     "output_type": "execute_result"
    }
   ],
   "source": [
    "# Índice de un DataFrame\n",
    "dataframe.index"
   ]
  },
  {
   "cell_type": "code",
   "execution_count": 20,
   "metadata": {},
   "outputs": [
    {
     "data": {
      "text/plain": [
       "Index(['var1', 'var2', 'var3'], dtype='object')"
      ]
     },
     "execution_count": 20,
     "metadata": {},
     "output_type": "execute_result"
    }
   ],
   "source": [
    "# Columnas de un DataFrame\n",
    "dataframe.columns"
   ]
  },
  {
   "cell_type": "code",
   "execution_count": 21,
   "metadata": {},
   "outputs": [
    {
     "data": {
      "text/plain": [
       "['var1', 'var2', 'var3']"
      ]
     },
     "execution_count": 21,
     "metadata": {},
     "output_type": "execute_result"
    }
   ],
   "source": [
    "list(dataframe)"
   ]
  },
  {
   "cell_type": "markdown",
   "metadata": {},
   "source": [
    "De nuevo, los índices (tanto el de filas como el de columnas) son inmutables, pero de nuevo, se pueden modificar de forma completa."
   ]
  },
  {
   "cell_type": "code",
   "execution_count": 22,
   "metadata": {},
   "outputs": [
    {
     "data": {
      "text/html": [
       "<div>\n",
       "<style scoped>\n",
       "    .dataframe tbody tr th:only-of-type {\n",
       "        vertical-align: middle;\n",
       "    }\n",
       "\n",
       "    .dataframe tbody tr th {\n",
       "        vertical-align: top;\n",
       "    }\n",
       "\n",
       "    .dataframe thead th {\n",
       "        text-align: right;\n",
       "    }\n",
       "</style>\n",
       "<table border=\"1\" class=\"dataframe\">\n",
       "  <thead>\n",
       "    <tr style=\"text-align: right;\">\n",
       "      <th></th>\n",
       "      <th>var1</th>\n",
       "      <th>var2</th>\n",
       "      <th>var3</th>\n",
       "    </tr>\n",
       "  </thead>\n",
       "  <tbody>\n",
       "    <tr>\n",
       "      <th>0</th>\n",
       "      <td>1</td>\n",
       "      <td>uno</td>\n",
       "      <td>1.0</td>\n",
       "    </tr>\n",
       "    <tr>\n",
       "      <th>1</th>\n",
       "      <td>2</td>\n",
       "      <td>dos</td>\n",
       "      <td>2.0</td>\n",
       "    </tr>\n",
       "    <tr>\n",
       "      <th>2</th>\n",
       "      <td>3</td>\n",
       "      <td>tres</td>\n",
       "      <td>3.0</td>\n",
       "    </tr>\n",
       "  </tbody>\n",
       "</table>\n",
       "</div>"
      ],
      "text/plain": [
       "   var1  var2  var3\n",
       "0     1   uno   1.0\n",
       "1     2   dos   2.0\n",
       "2     3  tres   3.0"
      ]
     },
     "execution_count": 22,
     "metadata": {},
     "output_type": "execute_result"
    }
   ],
   "source": [
    "dataframe = pd.DataFrame({'var1': [1, 2, 3], 'var2': ['uno', 'dos', 'tres'], 'var3': [1.0, 2.0, 3.0]})\n",
    "dataframe"
   ]
  },
  {
   "cell_type": "code",
   "execution_count": 23,
   "metadata": {},
   "outputs": [],
   "source": [
    "# Modificar un elemento del índice de filas de un dataframe\n",
    "#dataframe.index[0] = 4"
   ]
  },
  {
   "cell_type": "code",
   "execution_count": 24,
   "metadata": {},
   "outputs": [],
   "source": [
    "# Modificar un elemento del índice de columnas de un dataframe\n",
    "#dataframe.columns[0] = 4"
   ]
  },
  {
   "cell_type": "code",
   "execution_count": 25,
   "metadata": {},
   "outputs": [
    {
     "data": {
      "text/html": [
       "<div>\n",
       "<style scoped>\n",
       "    .dataframe tbody tr th:only-of-type {\n",
       "        vertical-align: middle;\n",
       "    }\n",
       "\n",
       "    .dataframe tbody tr th {\n",
       "        vertical-align: top;\n",
       "    }\n",
       "\n",
       "    .dataframe thead th {\n",
       "        text-align: right;\n",
       "    }\n",
       "</style>\n",
       "<table border=\"1\" class=\"dataframe\">\n",
       "  <thead>\n",
       "    <tr style=\"text-align: right;\">\n",
       "      <th></th>\n",
       "      <th>var1</th>\n",
       "      <th>var2</th>\n",
       "      <th>var3</th>\n",
       "    </tr>\n",
       "  </thead>\n",
       "  <tbody>\n",
       "    <tr>\n",
       "      <th>f1</th>\n",
       "      <td>1</td>\n",
       "      <td>uno</td>\n",
       "      <td>1.0</td>\n",
       "    </tr>\n",
       "    <tr>\n",
       "      <th>f2</th>\n",
       "      <td>2</td>\n",
       "      <td>dos</td>\n",
       "      <td>2.0</td>\n",
       "    </tr>\n",
       "    <tr>\n",
       "      <th>f3</th>\n",
       "      <td>3</td>\n",
       "      <td>tres</td>\n",
       "      <td>3.0</td>\n",
       "    </tr>\n",
       "  </tbody>\n",
       "</table>\n",
       "</div>"
      ],
      "text/plain": [
       "    var1  var2  var3\n",
       "f1     1   uno   1.0\n",
       "f2     2   dos   2.0\n",
       "f3     3  tres   3.0"
      ]
     },
     "execution_count": 25,
     "metadata": {},
     "output_type": "execute_result"
    }
   ],
   "source": [
    "# Modificar el índice de filas de un dataframe\n",
    "dataframe.index = ['f1', 'f2', 'f3']\n",
    "dataframe"
   ]
  },
  {
   "cell_type": "code",
   "execution_count": 26,
   "metadata": {},
   "outputs": [
    {
     "data": {
      "text/html": [
       "<div>\n",
       "<style scoped>\n",
       "    .dataframe tbody tr th:only-of-type {\n",
       "        vertical-align: middle;\n",
       "    }\n",
       "\n",
       "    .dataframe tbody tr th {\n",
       "        vertical-align: top;\n",
       "    }\n",
       "\n",
       "    .dataframe thead th {\n",
       "        text-align: right;\n",
       "    }\n",
       "</style>\n",
       "<table border=\"1\" class=\"dataframe\">\n",
       "  <thead>\n",
       "    <tr style=\"text-align: right;\">\n",
       "      <th></th>\n",
       "      <th>c1</th>\n",
       "      <th>c2</th>\n",
       "      <th>c3</th>\n",
       "    </tr>\n",
       "  </thead>\n",
       "  <tbody>\n",
       "    <tr>\n",
       "      <th>f1</th>\n",
       "      <td>1</td>\n",
       "      <td>uno</td>\n",
       "      <td>1.0</td>\n",
       "    </tr>\n",
       "    <tr>\n",
       "      <th>f2</th>\n",
       "      <td>2</td>\n",
       "      <td>dos</td>\n",
       "      <td>2.0</td>\n",
       "    </tr>\n",
       "    <tr>\n",
       "      <th>f3</th>\n",
       "      <td>3</td>\n",
       "      <td>tres</td>\n",
       "      <td>3.0</td>\n",
       "    </tr>\n",
       "  </tbody>\n",
       "</table>\n",
       "</div>"
      ],
      "text/plain": [
       "    c1    c2   c3\n",
       "f1   1   uno  1.0\n",
       "f2   2   dos  2.0\n",
       "f3   3  tres  3.0"
      ]
     },
     "execution_count": 26,
     "metadata": {},
     "output_type": "execute_result"
    }
   ],
   "source": [
    "# Modificar el índice de filas de un dataframe\n",
    "dataframe.columns = ['c1', 'c2', 'c3']\n",
    "dataframe"
   ]
  },
  {
   "cell_type": "code",
   "execution_count": 27,
   "metadata": {},
   "outputs": [],
   "source": [
    "dataframe.rename(columns = {'c2': 'col2'}, inplace = True)"
   ]
  },
  {
   "cell_type": "code",
   "execution_count": 28,
   "metadata": {},
   "outputs": [
    {
     "data": {
      "text/html": [
       "<div>\n",
       "<style scoped>\n",
       "    .dataframe tbody tr th:only-of-type {\n",
       "        vertical-align: middle;\n",
       "    }\n",
       "\n",
       "    .dataframe tbody tr th {\n",
       "        vertical-align: top;\n",
       "    }\n",
       "\n",
       "    .dataframe thead th {\n",
       "        text-align: right;\n",
       "    }\n",
       "</style>\n",
       "<table border=\"1\" class=\"dataframe\">\n",
       "  <thead>\n",
       "    <tr style=\"text-align: right;\">\n",
       "      <th></th>\n",
       "      <th>c1</th>\n",
       "      <th>col2</th>\n",
       "      <th>c3</th>\n",
       "    </tr>\n",
       "  </thead>\n",
       "  <tbody>\n",
       "    <tr>\n",
       "      <th>f1</th>\n",
       "      <td>1</td>\n",
       "      <td>uno</td>\n",
       "      <td>1.0</td>\n",
       "    </tr>\n",
       "    <tr>\n",
       "      <th>f2</th>\n",
       "      <td>2</td>\n",
       "      <td>dos</td>\n",
       "      <td>2.0</td>\n",
       "    </tr>\n",
       "    <tr>\n",
       "      <th>f3</th>\n",
       "      <td>3</td>\n",
       "      <td>tres</td>\n",
       "      <td>3.0</td>\n",
       "    </tr>\n",
       "  </tbody>\n",
       "</table>\n",
       "</div>"
      ],
      "text/plain": [
       "    c1  col2   c3\n",
       "f1   1   uno  1.0\n",
       "f2   2   dos  2.0\n",
       "f3   3  tres  3.0"
      ]
     },
     "execution_count": 28,
     "metadata": {},
     "output_type": "execute_result"
    }
   ],
   "source": [
    "dataframe"
   ]
  },
  {
   "cell_type": "markdown",
   "metadata": {},
   "source": [
    "# Operaciones básicas"
   ]
  },
  {
   "cell_type": "code",
   "execution_count": 29,
   "metadata": {},
   "outputs": [],
   "source": [
    "import numpy as np\n",
    "import pandas as pd"
   ]
  },
  {
   "cell_type": "markdown",
   "metadata": {},
   "source": [
    "## Tratamiento de Series y DataFrames como diccionarios"
   ]
  },
  {
   "cell_type": "markdown",
   "metadata": {},
   "source": [
    "Dado que internamente tanto las Series como los DataFrames pueden verse como diccionarios, podemos apilcar sobre los mismos cualquier funcionalidad que aplicaríamos sobre diccionarios básicos del core de Python.<br/>\n",
    "<b>IMPORTANTE:</b> Hay que tener en cuenta que en DataFrames el diccionario es un diccionario de \"columnas\"."
   ]
  },
  {
   "cell_type": "code",
   "execution_count": 30,
   "metadata": {},
   "outputs": [
    {
     "data": {
      "text/plain": [
       "a    1\n",
       "b    2\n",
       "c    3\n",
       "d    4\n",
       "dtype: int64"
      ]
     },
     "execution_count": 30,
     "metadata": {},
     "output_type": "execute_result"
    }
   ],
   "source": [
    "serie = pd.Series([1, 2, 3, 4], index=['a', 'b', 'c', 'd'])\n",
    "serie"
   ]
  },
  {
   "cell_type": "code",
   "execution_count": 31,
   "metadata": {},
   "outputs": [
    {
     "data": {
      "text/html": [
       "<div>\n",
       "<style scoped>\n",
       "    .dataframe tbody tr th:only-of-type {\n",
       "        vertical-align: middle;\n",
       "    }\n",
       "\n",
       "    .dataframe tbody tr th {\n",
       "        vertical-align: top;\n",
       "    }\n",
       "\n",
       "    .dataframe thead th {\n",
       "        text-align: right;\n",
       "    }\n",
       "</style>\n",
       "<table border=\"1\" class=\"dataframe\">\n",
       "  <thead>\n",
       "    <tr style=\"text-align: right;\">\n",
       "      <th></th>\n",
       "      <th>var1</th>\n",
       "      <th>var2</th>\n",
       "    </tr>\n",
       "  </thead>\n",
       "  <tbody>\n",
       "    <tr>\n",
       "      <th>a</th>\n",
       "      <td>1</td>\n",
       "      <td>1</td>\n",
       "    </tr>\n",
       "    <tr>\n",
       "      <th>b</th>\n",
       "      <td>2</td>\n",
       "      <td>2</td>\n",
       "    </tr>\n",
       "    <tr>\n",
       "      <th>c</th>\n",
       "      <td>3</td>\n",
       "      <td>3</td>\n",
       "    </tr>\n",
       "    <tr>\n",
       "      <th>d</th>\n",
       "      <td>4</td>\n",
       "      <td>4</td>\n",
       "    </tr>\n",
       "  </tbody>\n",
       "</table>\n",
       "</div>"
      ],
      "text/plain": [
       "   var1  var2\n",
       "a     1     1\n",
       "b     2     2\n",
       "c     3     3\n",
       "d     4     4"
      ]
     },
     "execution_count": 31,
     "metadata": {},
     "output_type": "execute_result"
    }
   ],
   "source": [
    "dataframe = pd.DataFrame({'var1': serie, 'var2': serie})\n",
    "dataframe"
   ]
  },
  {
   "cell_type": "markdown",
   "metadata": {},
   "source": [
    "#### Indexación por clave"
   ]
  },
  {
   "cell_type": "code",
   "execution_count": 32,
   "metadata": {},
   "outputs": [
    {
     "data": {
      "text/plain": [
       "1"
      ]
     },
     "execution_count": 32,
     "metadata": {},
     "output_type": "execute_result"
    }
   ],
   "source": [
    "# Indexación mediante clave del índice en series\n",
    "serie['a']"
   ]
  },
  {
   "cell_type": "code",
   "execution_count": 33,
   "metadata": {},
   "outputs": [
    {
     "data": {
      "text/plain": [
       "a    1\n",
       "b    2\n",
       "c    3\n",
       "d    4\n",
       "Name: var2, dtype: int64"
      ]
     },
     "execution_count": 33,
     "metadata": {},
     "output_type": "execute_result"
    }
   ],
   "source": [
    "# Indexación por nombre de columna en dataframes\n",
    "dataframe['var2']"
   ]
  },
  {
   "cell_type": "markdown",
   "metadata": {},
   "source": [
    "#### Comprobación de la existencia de una clave"
   ]
  },
  {
   "cell_type": "code",
   "execution_count": 34,
   "metadata": {},
   "outputs": [
    {
     "data": {
      "text/plain": [
       "True"
      ]
     },
     "execution_count": 34,
     "metadata": {},
     "output_type": "execute_result"
    }
   ],
   "source": [
    "# Comprobación de la existencia de una clave en el índice en series\n",
    "'b' in serie"
   ]
  },
  {
   "cell_type": "code",
   "execution_count": 35,
   "metadata": {},
   "outputs": [
    {
     "data": {
      "text/plain": [
       "False"
      ]
     },
     "execution_count": 35,
     "metadata": {},
     "output_type": "execute_result"
    }
   ],
   "source": [
    "# Comprobación de la existencia de un nombre de columna en dataframes\n",
    "'b' in dataframe"
   ]
  },
  {
   "cell_type": "code",
   "execution_count": 36,
   "metadata": {},
   "outputs": [
    {
     "data": {
      "text/plain": [
       "True"
      ]
     },
     "execution_count": 36,
     "metadata": {},
     "output_type": "execute_result"
    }
   ],
   "source": [
    "# Comprobación de la existencia de un nombre de columna en dataframes\n",
    "'var1' in dataframe"
   ]
  },
  {
   "cell_type": "markdown",
   "metadata": {},
   "source": [
    "#### Adición de elementos"
   ]
  },
  {
   "cell_type": "markdown",
   "metadata": {},
   "source": [
    "<b>IMPORTANTE:</b> Al añadir columnas a un DataFrame, el tamaño del vector añadido deberá coincidir con el del DataFrame original. En caso contrario se recibirá un error."
   ]
  },
  {
   "cell_type": "code",
   "execution_count": 37,
   "metadata": {},
   "outputs": [
    {
     "data": {
      "text/plain": [
       "a    1\n",
       "b    2\n",
       "c    3\n",
       "d    4\n",
       "dtype: int64"
      ]
     },
     "execution_count": 37,
     "metadata": {},
     "output_type": "execute_result"
    }
   ],
   "source": [
    "serie"
   ]
  },
  {
   "cell_type": "code",
   "execution_count": 38,
   "metadata": {},
   "outputs": [
    {
     "data": {
      "text/plain": [
       "a    1\n",
       "b    2\n",
       "c    3\n",
       "d    4\n",
       "e    5\n",
       "dtype: int64"
      ]
     },
     "execution_count": 38,
     "metadata": {},
     "output_type": "execute_result"
    }
   ],
   "source": [
    "# Adición de elementos a series\n",
    "serie['e'] = 5\n",
    "serie"
   ]
  },
  {
   "cell_type": "code",
   "execution_count": 39,
   "metadata": {},
   "outputs": [
    {
     "data": {
      "text/html": [
       "<div>\n",
       "<style scoped>\n",
       "    .dataframe tbody tr th:only-of-type {\n",
       "        vertical-align: middle;\n",
       "    }\n",
       "\n",
       "    .dataframe tbody tr th {\n",
       "        vertical-align: top;\n",
       "    }\n",
       "\n",
       "    .dataframe thead th {\n",
       "        text-align: right;\n",
       "    }\n",
       "</style>\n",
       "<table border=\"1\" class=\"dataframe\">\n",
       "  <thead>\n",
       "    <tr style=\"text-align: right;\">\n",
       "      <th></th>\n",
       "      <th>var1</th>\n",
       "      <th>var2</th>\n",
       "      <th>var3</th>\n",
       "    </tr>\n",
       "  </thead>\n",
       "  <tbody>\n",
       "    <tr>\n",
       "      <th>a</th>\n",
       "      <td>1</td>\n",
       "      <td>1</td>\n",
       "      <td>5</td>\n",
       "    </tr>\n",
       "    <tr>\n",
       "      <th>b</th>\n",
       "      <td>2</td>\n",
       "      <td>2</td>\n",
       "      <td>6</td>\n",
       "    </tr>\n",
       "    <tr>\n",
       "      <th>c</th>\n",
       "      <td>3</td>\n",
       "      <td>3</td>\n",
       "      <td>7</td>\n",
       "    </tr>\n",
       "    <tr>\n",
       "      <th>d</th>\n",
       "      <td>4</td>\n",
       "      <td>4</td>\n",
       "      <td>4</td>\n",
       "    </tr>\n",
       "  </tbody>\n",
       "</table>\n",
       "</div>"
      ],
      "text/plain": [
       "   var1  var2  var3\n",
       "a     1     1     5\n",
       "b     2     2     6\n",
       "c     3     3     7\n",
       "d     4     4     4"
      ]
     },
     "execution_count": 39,
     "metadata": {},
     "output_type": "execute_result"
    }
   ],
   "source": [
    "# Adición de elementos a dataframes\n",
    "dataframe['var3'] = [5, 6, 7, 4]\n",
    "dataframe"
   ]
  },
  {
   "cell_type": "markdown",
   "metadata": {},
   "source": [
    "#### Eliminación de elementos"
   ]
  },
  {
   "cell_type": "code",
   "execution_count": 40,
   "metadata": {},
   "outputs": [
    {
     "data": {
      "text/plain": [
       "a    1\n",
       "b    2\n",
       "c    3\n",
       "d    4\n",
       "dtype: int64"
      ]
     },
     "execution_count": 40,
     "metadata": {},
     "output_type": "execute_result"
    }
   ],
   "source": [
    "# Eliminación de elementos en series\n",
    "del serie['e']\n",
    "serie"
   ]
  },
  {
   "cell_type": "code",
   "execution_count": 41,
   "metadata": {},
   "outputs": [
    {
     "data": {
      "text/html": [
       "<div>\n",
       "<style scoped>\n",
       "    .dataframe tbody tr th:only-of-type {\n",
       "        vertical-align: middle;\n",
       "    }\n",
       "\n",
       "    .dataframe tbody tr th {\n",
       "        vertical-align: top;\n",
       "    }\n",
       "\n",
       "    .dataframe thead th {\n",
       "        text-align: right;\n",
       "    }\n",
       "</style>\n",
       "<table border=\"1\" class=\"dataframe\">\n",
       "  <thead>\n",
       "    <tr style=\"text-align: right;\">\n",
       "      <th></th>\n",
       "      <th>var1</th>\n",
       "      <th>var2</th>\n",
       "    </tr>\n",
       "  </thead>\n",
       "  <tbody>\n",
       "    <tr>\n",
       "      <th>a</th>\n",
       "      <td>1</td>\n",
       "      <td>1</td>\n",
       "    </tr>\n",
       "    <tr>\n",
       "      <th>b</th>\n",
       "      <td>2</td>\n",
       "      <td>2</td>\n",
       "    </tr>\n",
       "    <tr>\n",
       "      <th>c</th>\n",
       "      <td>3</td>\n",
       "      <td>3</td>\n",
       "    </tr>\n",
       "    <tr>\n",
       "      <th>d</th>\n",
       "      <td>4</td>\n",
       "      <td>4</td>\n",
       "    </tr>\n",
       "  </tbody>\n",
       "</table>\n",
       "</div>"
      ],
      "text/plain": [
       "   var1  var2\n",
       "a     1     1\n",
       "b     2     2\n",
       "c     3     3\n",
       "d     4     4"
      ]
     },
     "execution_count": 41,
     "metadata": {},
     "output_type": "execute_result"
    }
   ],
   "source": [
    "# Eliminación de columnas en dataframes\n",
    "del dataframe['var3']\n",
    "dataframe"
   ]
  },
  {
   "cell_type": "markdown",
   "metadata": {},
   "source": [
    "## Tratamiento de Series y DataFrames como ndarrays"
   ]
  },
  {
   "cell_type": "markdown",
   "metadata": {},
   "source": [
    "Dado que, internamente, cualquier estructura de pandas está implementada sobre ndarrays de NumPy, es posible realizar sobre Series y DataFrames todas las operaciones que se pueden realizar sobre un ndarrays.<br/>\n",
    "\n",
    "<b>IMPORTANTE:</b> Dado que un ndarray no puede mezclar elementos de diferentes tipos y un DataFrame sí, algunas de las operaciones sobre DataFrames estarán supeditadas a que todas sus columnas tengan el mismo tipo."
   ]
  },
  {
   "cell_type": "code",
   "execution_count": 42,
   "metadata": {},
   "outputs": [
    {
     "data": {
      "text/plain": [
       "a    1\n",
       "b    2\n",
       "c    3\n",
       "d    4\n",
       "dtype: int64"
      ]
     },
     "execution_count": 42,
     "metadata": {},
     "output_type": "execute_result"
    }
   ],
   "source": [
    "serie = pd.Series([1, 2, 3, 4], index=['a', 'b', 'c', 'd'])\n",
    "serie"
   ]
  },
  {
   "cell_type": "code",
   "execution_count": 43,
   "metadata": {},
   "outputs": [
    {
     "name": "stderr",
     "output_type": "stream",
     "text": [
      "C:\\Users\\LAURA\\AppData\\Local\\Temp\\ipykernel_8052\\3230289167.py:1: DeprecationWarning: `np.float` is a deprecated alias for the builtin `float`. To silence this warning, use `float` by itself. Doing this will not modify any behavior and is safe. If you specifically wanted the numpy scalar type, use `np.float64` here.\n",
      "Deprecated in NumPy 1.20; for more details and guidance: https://numpy.org/devdocs/release/1.20.0-notes.html#deprecations\n",
      "  dataframe = pd.DataFrame({'var1': pd.Series(serie, dtype=np.int32), 'var2': pd.Series(serie, dtype=np.float)})\n"
     ]
    },
    {
     "data": {
      "text/html": [
       "<div>\n",
       "<style scoped>\n",
       "    .dataframe tbody tr th:only-of-type {\n",
       "        vertical-align: middle;\n",
       "    }\n",
       "\n",
       "    .dataframe tbody tr th {\n",
       "        vertical-align: top;\n",
       "    }\n",
       "\n",
       "    .dataframe thead th {\n",
       "        text-align: right;\n",
       "    }\n",
       "</style>\n",
       "<table border=\"1\" class=\"dataframe\">\n",
       "  <thead>\n",
       "    <tr style=\"text-align: right;\">\n",
       "      <th></th>\n",
       "      <th>var1</th>\n",
       "      <th>var2</th>\n",
       "    </tr>\n",
       "  </thead>\n",
       "  <tbody>\n",
       "    <tr>\n",
       "      <th>a</th>\n",
       "      <td>1</td>\n",
       "      <td>1.0</td>\n",
       "    </tr>\n",
       "    <tr>\n",
       "      <th>b</th>\n",
       "      <td>2</td>\n",
       "      <td>2.0</td>\n",
       "    </tr>\n",
       "    <tr>\n",
       "      <th>c</th>\n",
       "      <td>3</td>\n",
       "      <td>3.0</td>\n",
       "    </tr>\n",
       "    <tr>\n",
       "      <th>d</th>\n",
       "      <td>4</td>\n",
       "      <td>4.0</td>\n",
       "    </tr>\n",
       "  </tbody>\n",
       "</table>\n",
       "</div>"
      ],
      "text/plain": [
       "   var1  var2\n",
       "a     1   1.0\n",
       "b     2   2.0\n",
       "c     3   3.0\n",
       "d     4   4.0"
      ]
     },
     "execution_count": 43,
     "metadata": {},
     "output_type": "execute_result"
    }
   ],
   "source": [
    "dataframe = pd.DataFrame({'var1': pd.Series(serie, dtype=np.int32), 'var2': pd.Series(serie, dtype=np.float)})\n",
    "dataframe"
   ]
  },
  {
   "cell_type": "markdown",
   "metadata": {},
   "source": [
    "#### Consulta de la composición"
   ]
  },
  {
   "cell_type": "markdown",
   "metadata": {},
   "source": [
    "Disponemos de los mismos atributos de consulta que en ndarrays, si bien hay que tener en cuenta que:<br/>\n",
    "<ul>\n",
    "<li>El atributo <b>dtype</b> será <b>dtypes</b> en DataFrames dada la posibilidad de múltiples tipos.</li>\n",
    "<li>El atributo <b>ndim</b> en Series siempre valdrá 1 dado que siempre son estructuras unidimensionales y 2 en DataFrames dado que siempre son estructuras bidimensionales.</li>\n",
    "</ul>"
   ]
  },
  {
   "cell_type": "code",
   "execution_count": 44,
   "metadata": {},
   "outputs": [
    {
     "data": {
      "text/plain": [
       "dtype('int64')"
      ]
     },
     "execution_count": 44,
     "metadata": {},
     "output_type": "execute_result"
    }
   ],
   "source": [
    "# Consulta del tipo almacenado en una serie\n",
    "serie.dtype"
   ]
  },
  {
   "cell_type": "code",
   "execution_count": 45,
   "metadata": {},
   "outputs": [
    {
     "data": {
      "text/plain": [
       "var1      int32\n",
       "var2    float64\n",
       "dtype: object"
      ]
     },
     "execution_count": 45,
     "metadata": {},
     "output_type": "execute_result"
    }
   ],
   "source": [
    "# Consulta de los tipos almacenados en un dataframe\n",
    "dataframe.dtypes"
   ]
  },
  {
   "cell_type": "code",
   "execution_count": 46,
   "metadata": {},
   "outputs": [
    {
     "data": {
      "text/plain": [
       "1"
      ]
     },
     "execution_count": 46,
     "metadata": {},
     "output_type": "execute_result"
    }
   ],
   "source": [
    "# Consulta del número de dimensiones en una serie\n",
    "serie.ndim"
   ]
  },
  {
   "cell_type": "code",
   "execution_count": 47,
   "metadata": {},
   "outputs": [
    {
     "data": {
      "text/plain": [
       "2"
      ]
     },
     "execution_count": 47,
     "metadata": {},
     "output_type": "execute_result"
    }
   ],
   "source": [
    "# Consulta del número de dimensiones en un dataframe\n",
    "dataframe.ndim"
   ]
  },
  {
   "cell_type": "code",
   "execution_count": 48,
   "metadata": {},
   "outputs": [
    {
     "data": {
      "text/plain": [
       "(4,)"
      ]
     },
     "execution_count": 48,
     "metadata": {},
     "output_type": "execute_result"
    }
   ],
   "source": [
    "# Consulta de la forma de una serie\n",
    "serie.shape"
   ]
  },
  {
   "cell_type": "code",
   "execution_count": 49,
   "metadata": {},
   "outputs": [
    {
     "data": {
      "text/plain": [
       "(4, 2)"
      ]
     },
     "execution_count": 49,
     "metadata": {},
     "output_type": "execute_result"
    }
   ],
   "source": [
    "# Consulta de la forma de un dataframe\n",
    "dataframe.shape"
   ]
  },
  {
   "cell_type": "code",
   "execution_count": 50,
   "metadata": {},
   "outputs": [
    {
     "data": {
      "text/plain": [
       "4"
      ]
     },
     "execution_count": 50,
     "metadata": {},
     "output_type": "execute_result"
    }
   ],
   "source": [
    "# Consulta del número de elementos de una serie\n",
    "serie.size"
   ]
  },
  {
   "cell_type": "code",
   "execution_count": 51,
   "metadata": {},
   "outputs": [
    {
     "data": {
      "text/plain": [
       "8"
      ]
     },
     "execution_count": 51,
     "metadata": {},
     "output_type": "execute_result"
    }
   ],
   "source": [
    "# Consulta del número de elementos de un dataframe\n",
    "dataframe.size"
   ]
  },
  {
   "cell_type": "markdown",
   "metadata": {},
   "source": [
    "#### Operaciones con escalares"
   ]
  },
  {
   "cell_type": "markdown",
   "metadata": {},
   "source": [
    "Al aplicar una operación sobre una estructura de pandas y un escalar se obtendrá otra estructura de pandas de idénticas características a la inicial pero con la operación aplicada elemento a elemento, <b>manteniendo el índice inalterado</b>.<br/>\n",
    "\n",
    "<b>IMPORTANTE</b>: Dado que un DataFrame puede mezclar tipos muy diferentes en sus columnas, la aplicación de una operación con un escalar elemento a elemento puede no ser válida (p.e. operaciones matemáticas sobre cadenas)."
   ]
  },
  {
   "cell_type": "code",
   "execution_count": 52,
   "metadata": {},
   "outputs": [
    {
     "data": {
      "text/plain": [
       "a    3\n",
       "b    4\n",
       "c    5\n",
       "d    6\n",
       "dtype: int64"
      ]
     },
     "execution_count": 52,
     "metadata": {},
     "output_type": "execute_result"
    }
   ],
   "source": [
    "# Suma de series y escalar\n",
    "serie + 2"
   ]
  },
  {
   "cell_type": "code",
   "execution_count": 53,
   "metadata": {},
   "outputs": [
    {
     "data": {
      "text/plain": [
       "a    1.000000\n",
       "b    0.500000\n",
       "c    0.333333\n",
       "d    0.250000\n",
       "dtype: float64"
      ]
     },
     "execution_count": 53,
     "metadata": {},
     "output_type": "execute_result"
    }
   ],
   "source": [
    "# División de series y escalar\n",
    "1 / serie"
   ]
  },
  {
   "cell_type": "code",
   "execution_count": 54,
   "metadata": {},
   "outputs": [
    {
     "data": {
      "text/html": [
       "<div>\n",
       "<style scoped>\n",
       "    .dataframe tbody tr th:only-of-type {\n",
       "        vertical-align: middle;\n",
       "    }\n",
       "\n",
       "    .dataframe tbody tr th {\n",
       "        vertical-align: top;\n",
       "    }\n",
       "\n",
       "    .dataframe thead th {\n",
       "        text-align: right;\n",
       "    }\n",
       "</style>\n",
       "<table border=\"1\" class=\"dataframe\">\n",
       "  <thead>\n",
       "    <tr style=\"text-align: right;\">\n",
       "      <th></th>\n",
       "      <th>var1</th>\n",
       "      <th>var2</th>\n",
       "    </tr>\n",
       "  </thead>\n",
       "  <tbody>\n",
       "    <tr>\n",
       "      <th>a</th>\n",
       "      <td>2</td>\n",
       "      <td>2.0</td>\n",
       "    </tr>\n",
       "    <tr>\n",
       "      <th>b</th>\n",
       "      <td>4</td>\n",
       "      <td>4.0</td>\n",
       "    </tr>\n",
       "    <tr>\n",
       "      <th>c</th>\n",
       "      <td>6</td>\n",
       "      <td>6.0</td>\n",
       "    </tr>\n",
       "    <tr>\n",
       "      <th>d</th>\n",
       "      <td>8</td>\n",
       "      <td>8.0</td>\n",
       "    </tr>\n",
       "  </tbody>\n",
       "</table>\n",
       "</div>"
      ],
      "text/plain": [
       "   var1  var2\n",
       "a     2   2.0\n",
       "b     4   4.0\n",
       "c     6   6.0\n",
       "d     8   8.0"
      ]
     },
     "execution_count": 54,
     "metadata": {},
     "output_type": "execute_result"
    }
   ],
   "source": [
    "# Multiplicación de dataframe y escalar\n",
    "dataframe * 2"
   ]
  },
  {
   "cell_type": "code",
   "execution_count": 55,
   "metadata": {},
   "outputs": [
    {
     "data": {
      "text/plain": [
       "a    1.000000\n",
       "b    0.500000\n",
       "c    0.333333\n",
       "d    0.250000\n",
       "Name: var1, dtype: float64"
      ]
     },
     "execution_count": 55,
     "metadata": {},
     "output_type": "execute_result"
    }
   ],
   "source": [
    "# División de dataframe y escalar\n",
    "1 / dataframe.var1"
   ]
  },
  {
   "cell_type": "markdown",
   "metadata": {},
   "source": [
    "#### Operaciones entre estructuras de pandas"
   ]
  },
  {
   "cell_type": "markdown",
   "metadata": {},
   "source": [
    "Al aplicar una operación entre estructuras de pandas se aplicará la misma elemento a elemento. En el caso de pandas no es necesario, como lo era en NumPy, que los operandos tengan el mismo tamaño y forma ya que se aplicará un proceso de \"alineación\". Este proceso devolverá:<br/>\n",
    "<ul>\n",
    "<li>Como índices: la unión de las claves de ambos operandos.</li>\n",
    "<li>Como valores: el resultado de aplicar la operación entre cada pareja de elementos (si coinciden las claves entre ambos operandos) o NaN (en caso contrario).</li>\n",
    "</ul>\n",
    "\n",
    "<b>IMPORTANTE:</b> De nuevo, el hecho de que un DataFrame pueda mezclar tipos en sus contenidos hace que no todas las operaciones matemáticas se puedan aplicar a los mismos."
   ]
  },
  {
   "cell_type": "code",
   "execution_count": 56,
   "metadata": {},
   "outputs": [
    {
     "data": {
      "text/plain": [
       "a    1\n",
       "b    2\n",
       "c    3\n",
       "d    4\n",
       "dtype: int64"
      ]
     },
     "execution_count": 56,
     "metadata": {},
     "output_type": "execute_result"
    }
   ],
   "source": [
    "serie"
   ]
  },
  {
   "cell_type": "code",
   "execution_count": 57,
   "metadata": {},
   "outputs": [
    {
     "data": {
      "text/html": [
       "<div>\n",
       "<style scoped>\n",
       "    .dataframe tbody tr th:only-of-type {\n",
       "        vertical-align: middle;\n",
       "    }\n",
       "\n",
       "    .dataframe tbody tr th {\n",
       "        vertical-align: top;\n",
       "    }\n",
       "\n",
       "    .dataframe thead th {\n",
       "        text-align: right;\n",
       "    }\n",
       "</style>\n",
       "<table border=\"1\" class=\"dataframe\">\n",
       "  <thead>\n",
       "    <tr style=\"text-align: right;\">\n",
       "      <th></th>\n",
       "      <th>var1</th>\n",
       "      <th>var2</th>\n",
       "    </tr>\n",
       "  </thead>\n",
       "  <tbody>\n",
       "    <tr>\n",
       "      <th>a</th>\n",
       "      <td>1</td>\n",
       "      <td>1.0</td>\n",
       "    </tr>\n",
       "    <tr>\n",
       "      <th>b</th>\n",
       "      <td>2</td>\n",
       "      <td>2.0</td>\n",
       "    </tr>\n",
       "    <tr>\n",
       "      <th>c</th>\n",
       "      <td>3</td>\n",
       "      <td>3.0</td>\n",
       "    </tr>\n",
       "    <tr>\n",
       "      <th>d</th>\n",
       "      <td>4</td>\n",
       "      <td>4.0</td>\n",
       "    </tr>\n",
       "  </tbody>\n",
       "</table>\n",
       "</div>"
      ],
      "text/plain": [
       "   var1  var2\n",
       "a     1   1.0\n",
       "b     2   2.0\n",
       "c     3   3.0\n",
       "d     4   4.0"
      ]
     },
     "execution_count": 57,
     "metadata": {},
     "output_type": "execute_result"
    }
   ],
   "source": [
    "dataframe"
   ]
  },
  {
   "cell_type": "code",
   "execution_count": 58,
   "metadata": {},
   "outputs": [
    {
     "data": {
      "text/plain": [
       "a    1\n",
       "b    2\n",
       "c    3\n",
       "d    4\n",
       "dtype: int64"
      ]
     },
     "execution_count": 58,
     "metadata": {},
     "output_type": "execute_result"
    }
   ],
   "source": [
    "serie1 = serie[:]\n",
    "serie1"
   ]
  },
  {
   "cell_type": "code",
   "execution_count": 59,
   "metadata": {},
   "outputs": [
    {
     "data": {
      "text/plain": [
       "a    1\n",
       "b    2\n",
       "c    3\n",
       "d    4\n",
       "e    7\n",
       "dtype: int64"
      ]
     },
     "execution_count": 59,
     "metadata": {},
     "output_type": "execute_result"
    }
   ],
   "source": [
    "serie1['e'] = 7\n",
    "serie1"
   ]
  },
  {
   "cell_type": "code",
   "execution_count": 60,
   "metadata": {},
   "outputs": [
    {
     "data": {
      "text/html": [
       "<div>\n",
       "<style scoped>\n",
       "    .dataframe tbody tr th:only-of-type {\n",
       "        vertical-align: middle;\n",
       "    }\n",
       "\n",
       "    .dataframe tbody tr th {\n",
       "        vertical-align: top;\n",
       "    }\n",
       "\n",
       "    .dataframe thead th {\n",
       "        text-align: right;\n",
       "    }\n",
       "</style>\n",
       "<table border=\"1\" class=\"dataframe\">\n",
       "  <thead>\n",
       "    <tr style=\"text-align: right;\">\n",
       "      <th></th>\n",
       "      <th>var1</th>\n",
       "      <th>var2</th>\n",
       "      <th>var3</th>\n",
       "    </tr>\n",
       "  </thead>\n",
       "  <tbody>\n",
       "    <tr>\n",
       "      <th>a</th>\n",
       "      <td>1</td>\n",
       "      <td>1.0</td>\n",
       "      <td>1</td>\n",
       "    </tr>\n",
       "    <tr>\n",
       "      <th>b</th>\n",
       "      <td>2</td>\n",
       "      <td>2.0</td>\n",
       "      <td>2</td>\n",
       "    </tr>\n",
       "    <tr>\n",
       "      <th>c</th>\n",
       "      <td>3</td>\n",
       "      <td>3.0</td>\n",
       "      <td>3</td>\n",
       "    </tr>\n",
       "    <tr>\n",
       "      <th>d</th>\n",
       "      <td>4</td>\n",
       "      <td>4.0</td>\n",
       "      <td>4</td>\n",
       "    </tr>\n",
       "  </tbody>\n",
       "</table>\n",
       "</div>"
      ],
      "text/plain": [
       "   var1  var2  var3\n",
       "a     1   1.0     1\n",
       "b     2   2.0     2\n",
       "c     3   3.0     3\n",
       "d     4   4.0     4"
      ]
     },
     "execution_count": 60,
     "metadata": {},
     "output_type": "execute_result"
    }
   ],
   "source": [
    "dataframe1 = dataframe.copy()\n",
    "dataframe1['var3'] = [1, 2, 3, 4]\n",
    "dataframe1"
   ]
  },
  {
   "cell_type": "code",
   "execution_count": 61,
   "metadata": {},
   "outputs": [
    {
     "data": {
      "text/plain": [
       "a    2.0\n",
       "b    4.0\n",
       "c    6.0\n",
       "d    8.0\n",
       "e    NaN\n",
       "dtype: float64"
      ]
     },
     "execution_count": 61,
     "metadata": {},
     "output_type": "execute_result"
    }
   ],
   "source": [
    "# Suma de series\n",
    "serie + serie1"
   ]
  },
  {
   "cell_type": "code",
   "execution_count": 62,
   "metadata": {},
   "outputs": [
    {
     "data": {
      "text/html": [
       "<div>\n",
       "<style scoped>\n",
       "    .dataframe tbody tr th:only-of-type {\n",
       "        vertical-align: middle;\n",
       "    }\n",
       "\n",
       "    .dataframe tbody tr th {\n",
       "        vertical-align: top;\n",
       "    }\n",
       "\n",
       "    .dataframe thead th {\n",
       "        text-align: right;\n",
       "    }\n",
       "</style>\n",
       "<table border=\"1\" class=\"dataframe\">\n",
       "  <thead>\n",
       "    <tr style=\"text-align: right;\">\n",
       "      <th></th>\n",
       "      <th>var1</th>\n",
       "      <th>var2</th>\n",
       "      <th>var3</th>\n",
       "    </tr>\n",
       "  </thead>\n",
       "  <tbody>\n",
       "    <tr>\n",
       "      <th>a</th>\n",
       "      <td>2</td>\n",
       "      <td>2.0</td>\n",
       "      <td>NaN</td>\n",
       "    </tr>\n",
       "    <tr>\n",
       "      <th>b</th>\n",
       "      <td>4</td>\n",
       "      <td>4.0</td>\n",
       "      <td>NaN</td>\n",
       "    </tr>\n",
       "    <tr>\n",
       "      <th>c</th>\n",
       "      <td>6</td>\n",
       "      <td>6.0</td>\n",
       "      <td>NaN</td>\n",
       "    </tr>\n",
       "    <tr>\n",
       "      <th>d</th>\n",
       "      <td>8</td>\n",
       "      <td>8.0</td>\n",
       "      <td>NaN</td>\n",
       "    </tr>\n",
       "  </tbody>\n",
       "</table>\n",
       "</div>"
      ],
      "text/plain": [
       "   var1  var2  var3\n",
       "a     2   2.0   NaN\n",
       "b     4   4.0   NaN\n",
       "c     6   6.0   NaN\n",
       "d     8   8.0   NaN"
      ]
     },
     "execution_count": 62,
     "metadata": {},
     "output_type": "execute_result"
    }
   ],
   "source": [
    "# Suma de dataframes\n",
    "dataframe + dataframe1"
   ]
  },
  {
   "cell_type": "code",
   "execution_count": 63,
   "metadata": {},
   "outputs": [
    {
     "data": {
      "text/html": [
       "<div>\n",
       "<style scoped>\n",
       "    .dataframe tbody tr th:only-of-type {\n",
       "        vertical-align: middle;\n",
       "    }\n",
       "\n",
       "    .dataframe tbody tr th {\n",
       "        vertical-align: top;\n",
       "    }\n",
       "\n",
       "    .dataframe thead th {\n",
       "        text-align: right;\n",
       "    }\n",
       "</style>\n",
       "<table border=\"1\" class=\"dataframe\">\n",
       "  <thead>\n",
       "    <tr style=\"text-align: right;\">\n",
       "      <th></th>\n",
       "      <th>var1</th>\n",
       "      <th>var2</th>\n",
       "    </tr>\n",
       "  </thead>\n",
       "  <tbody>\n",
       "    <tr>\n",
       "      <th>a</th>\n",
       "      <td>1</td>\n",
       "      <td>1.0</td>\n",
       "    </tr>\n",
       "    <tr>\n",
       "      <th>b</th>\n",
       "      <td>2</td>\n",
       "      <td>2.0</td>\n",
       "    </tr>\n",
       "    <tr>\n",
       "      <th>c</th>\n",
       "      <td>3</td>\n",
       "      <td>3.0</td>\n",
       "    </tr>\n",
       "    <tr>\n",
       "      <th>d</th>\n",
       "      <td>4</td>\n",
       "      <td>4.0</td>\n",
       "    </tr>\n",
       "  </tbody>\n",
       "</table>\n",
       "</div>"
      ],
      "text/plain": [
       "   var1  var2\n",
       "a     1   1.0\n",
       "b     2   2.0\n",
       "c     3   3.0\n",
       "d     4   4.0"
      ]
     },
     "execution_count": 63,
     "metadata": {},
     "output_type": "execute_result"
    }
   ],
   "source": [
    "dataframe"
   ]
  },
  {
   "cell_type": "code",
   "execution_count": 64,
   "metadata": {},
   "outputs": [
    {
     "data": {
      "text/html": [
       "<div>\n",
       "<style scoped>\n",
       "    .dataframe tbody tr th:only-of-type {\n",
       "        vertical-align: middle;\n",
       "    }\n",
       "\n",
       "    .dataframe tbody tr th {\n",
       "        vertical-align: top;\n",
       "    }\n",
       "\n",
       "    .dataframe thead th {\n",
       "        text-align: right;\n",
       "    }\n",
       "</style>\n",
       "<table border=\"1\" class=\"dataframe\">\n",
       "  <thead>\n",
       "    <tr style=\"text-align: right;\">\n",
       "      <th></th>\n",
       "      <th>var1</th>\n",
       "      <th>var2</th>\n",
       "      <th>var3</th>\n",
       "    </tr>\n",
       "  </thead>\n",
       "  <tbody>\n",
       "    <tr>\n",
       "      <th>a</th>\n",
       "      <td>1</td>\n",
       "      <td>1.0</td>\n",
       "      <td>1</td>\n",
       "    </tr>\n",
       "    <tr>\n",
       "      <th>b</th>\n",
       "      <td>2</td>\n",
       "      <td>2.0</td>\n",
       "      <td>2</td>\n",
       "    </tr>\n",
       "    <tr>\n",
       "      <th>c</th>\n",
       "      <td>3</td>\n",
       "      <td>3.0</td>\n",
       "      <td>3</td>\n",
       "    </tr>\n",
       "    <tr>\n",
       "      <th>d</th>\n",
       "      <td>4</td>\n",
       "      <td>4.0</td>\n",
       "      <td>4</td>\n",
       "    </tr>\n",
       "  </tbody>\n",
       "</table>\n",
       "</div>"
      ],
      "text/plain": [
       "   var1  var2  var3\n",
       "a     1   1.0     1\n",
       "b     2   2.0     2\n",
       "c     3   3.0     3\n",
       "d     4   4.0     4"
      ]
     },
     "execution_count": 64,
     "metadata": {},
     "output_type": "execute_result"
    }
   ],
   "source": [
    "dataframe1"
   ]
  },
  {
   "cell_type": "code",
   "execution_count": 65,
   "metadata": {},
   "outputs": [
    {
     "data": {
      "text/html": [
       "<div>\n",
       "<style scoped>\n",
       "    .dataframe tbody tr th:only-of-type {\n",
       "        vertical-align: middle;\n",
       "    }\n",
       "\n",
       "    .dataframe tbody tr th {\n",
       "        vertical-align: top;\n",
       "    }\n",
       "\n",
       "    .dataframe thead th {\n",
       "        text-align: right;\n",
       "    }\n",
       "</style>\n",
       "<table border=\"1\" class=\"dataframe\">\n",
       "  <thead>\n",
       "    <tr style=\"text-align: right;\">\n",
       "      <th></th>\n",
       "      <th>var1</th>\n",
       "      <th>var2</th>\n",
       "      <th>var3</th>\n",
       "    </tr>\n",
       "  </thead>\n",
       "  <tbody>\n",
       "    <tr>\n",
       "      <th>a</th>\n",
       "      <td>1</td>\n",
       "      <td>1.0</td>\n",
       "      <td>NaN</td>\n",
       "    </tr>\n",
       "    <tr>\n",
       "      <th>b</th>\n",
       "      <td>4</td>\n",
       "      <td>4.0</td>\n",
       "      <td>NaN</td>\n",
       "    </tr>\n",
       "    <tr>\n",
       "      <th>c</th>\n",
       "      <td>9</td>\n",
       "      <td>9.0</td>\n",
       "      <td>NaN</td>\n",
       "    </tr>\n",
       "    <tr>\n",
       "      <th>d</th>\n",
       "      <td>16</td>\n",
       "      <td>16.0</td>\n",
       "      <td>NaN</td>\n",
       "    </tr>\n",
       "  </tbody>\n",
       "</table>\n",
       "</div>"
      ],
      "text/plain": [
       "   var1  var2  var3\n",
       "a     1   1.0   NaN\n",
       "b     4   4.0   NaN\n",
       "c     9   9.0   NaN\n",
       "d    16  16.0   NaN"
      ]
     },
     "execution_count": 65,
     "metadata": {},
     "output_type": "execute_result"
    }
   ],
   "source": [
    "# Producto de dataframes\n",
    "dataframe * dataframe1"
   ]
  },
  {
   "cell_type": "markdown",
   "metadata": {},
   "source": [
    "#### Trasposición - Sólo DataFrames"
   ]
  },
  {
   "cell_type": "markdown",
   "metadata": {},
   "source": [
    "Podemos trasponer filas por columnas, pero únicamente en DataFrame (ya que las series sólo pueden ser unidimensionales). Básicamente lo que se realizará es intercambiar el índice de columnas por el de filas."
   ]
  },
  {
   "cell_type": "code",
   "execution_count": 66,
   "metadata": {},
   "outputs": [
    {
     "data": {
      "text/html": [
       "<div>\n",
       "<style scoped>\n",
       "    .dataframe tbody tr th:only-of-type {\n",
       "        vertical-align: middle;\n",
       "    }\n",
       "\n",
       "    .dataframe tbody tr th {\n",
       "        vertical-align: top;\n",
       "    }\n",
       "\n",
       "    .dataframe thead th {\n",
       "        text-align: right;\n",
       "    }\n",
       "</style>\n",
       "<table border=\"1\" class=\"dataframe\">\n",
       "  <thead>\n",
       "    <tr style=\"text-align: right;\">\n",
       "      <th></th>\n",
       "      <th>var1</th>\n",
       "      <th>var2</th>\n",
       "    </tr>\n",
       "  </thead>\n",
       "  <tbody>\n",
       "    <tr>\n",
       "      <th>a</th>\n",
       "      <td>1</td>\n",
       "      <td>1.0</td>\n",
       "    </tr>\n",
       "    <tr>\n",
       "      <th>b</th>\n",
       "      <td>2</td>\n",
       "      <td>2.0</td>\n",
       "    </tr>\n",
       "    <tr>\n",
       "      <th>c</th>\n",
       "      <td>3</td>\n",
       "      <td>3.0</td>\n",
       "    </tr>\n",
       "    <tr>\n",
       "      <th>d</th>\n",
       "      <td>4</td>\n",
       "      <td>4.0</td>\n",
       "    </tr>\n",
       "  </tbody>\n",
       "</table>\n",
       "</div>"
      ],
      "text/plain": [
       "   var1  var2\n",
       "a     1   1.0\n",
       "b     2   2.0\n",
       "c     3   3.0\n",
       "d     4   4.0"
      ]
     },
     "execution_count": 66,
     "metadata": {},
     "output_type": "execute_result"
    }
   ],
   "source": [
    "dataframe"
   ]
  },
  {
   "cell_type": "code",
   "execution_count": 67,
   "metadata": {},
   "outputs": [
    {
     "data": {
      "text/html": [
       "<div>\n",
       "<style scoped>\n",
       "    .dataframe tbody tr th:only-of-type {\n",
       "        vertical-align: middle;\n",
       "    }\n",
       "\n",
       "    .dataframe tbody tr th {\n",
       "        vertical-align: top;\n",
       "    }\n",
       "\n",
       "    .dataframe thead th {\n",
       "        text-align: right;\n",
       "    }\n",
       "</style>\n",
       "<table border=\"1\" class=\"dataframe\">\n",
       "  <thead>\n",
       "    <tr style=\"text-align: right;\">\n",
       "      <th></th>\n",
       "      <th>a</th>\n",
       "      <th>b</th>\n",
       "      <th>c</th>\n",
       "      <th>d</th>\n",
       "    </tr>\n",
       "  </thead>\n",
       "  <tbody>\n",
       "    <tr>\n",
       "      <th>var1</th>\n",
       "      <td>1.0</td>\n",
       "      <td>2.0</td>\n",
       "      <td>3.0</td>\n",
       "      <td>4.0</td>\n",
       "    </tr>\n",
       "    <tr>\n",
       "      <th>var2</th>\n",
       "      <td>1.0</td>\n",
       "      <td>2.0</td>\n",
       "      <td>3.0</td>\n",
       "      <td>4.0</td>\n",
       "    </tr>\n",
       "  </tbody>\n",
       "</table>\n",
       "</div>"
      ],
      "text/plain": [
       "        a    b    c    d\n",
       "var1  1.0  2.0  3.0  4.0\n",
       "var2  1.0  2.0  3.0  4.0"
      ]
     },
     "execution_count": 67,
     "metadata": {},
     "output_type": "execute_result"
    }
   ],
   "source": [
    "dataframe.T"
   ]
  },
  {
   "cell_type": "markdown",
   "metadata": {},
   "source": [
    "#### Funciones de numpy (Universal functions, operaciones matemáticas...)"
   ]
  },
  {
   "cell_type": "markdown",
   "metadata": {},
   "source": [
    "Podemos aplicar cualquier función de NumPy a cualquier estructura de pandas.<br/>\n",
    "\n",
    "<b>IMPORTANTE:</b> De nuevo, al poder tener múltiples tipos en DataFrames no siempre se podrán aplicar las operaciones (o el resultado obtenido no será el esperado). Además, en el caso de DataFrames en caso de no indicar un valor para <b>axis</b> se aplicará la operación por columnas y nunca sobre el DataFrame completo."
   ]
  },
  {
   "cell_type": "code",
   "execution_count": 68,
   "metadata": {},
   "outputs": [
    {
     "data": {
      "text/plain": [
       "a    1.000000\n",
       "b    1.414214\n",
       "c    1.732051\n",
       "d    2.000000\n",
       "dtype: float64"
      ]
     },
     "execution_count": 68,
     "metadata": {},
     "output_type": "execute_result"
    }
   ],
   "source": [
    "# Operaciones sobre series\n",
    "np.sqrt(serie)"
   ]
  },
  {
   "cell_type": "code",
   "execution_count": 69,
   "metadata": {},
   "outputs": [
    {
     "data": {
      "text/html": [
       "<div>\n",
       "<style scoped>\n",
       "    .dataframe tbody tr th:only-of-type {\n",
       "        vertical-align: middle;\n",
       "    }\n",
       "\n",
       "    .dataframe tbody tr th {\n",
       "        vertical-align: top;\n",
       "    }\n",
       "\n",
       "    .dataframe thead th {\n",
       "        text-align: right;\n",
       "    }\n",
       "</style>\n",
       "<table border=\"1\" class=\"dataframe\">\n",
       "  <thead>\n",
       "    <tr style=\"text-align: right;\">\n",
       "      <th></th>\n",
       "      <th>var1</th>\n",
       "      <th>var2</th>\n",
       "    </tr>\n",
       "  </thead>\n",
       "  <tbody>\n",
       "    <tr>\n",
       "      <th>a</th>\n",
       "      <td>1</td>\n",
       "      <td>1.0</td>\n",
       "    </tr>\n",
       "    <tr>\n",
       "      <th>b</th>\n",
       "      <td>2</td>\n",
       "      <td>2.0</td>\n",
       "    </tr>\n",
       "    <tr>\n",
       "      <th>c</th>\n",
       "      <td>3</td>\n",
       "      <td>3.0</td>\n",
       "    </tr>\n",
       "    <tr>\n",
       "      <th>d</th>\n",
       "      <td>4</td>\n",
       "      <td>4.0</td>\n",
       "    </tr>\n",
       "  </tbody>\n",
       "</table>\n",
       "</div>"
      ],
      "text/plain": [
       "   var1  var2\n",
       "a     1   1.0\n",
       "b     2   2.0\n",
       "c     3   3.0\n",
       "d     4   4.0"
      ]
     },
     "execution_count": 69,
     "metadata": {},
     "output_type": "execute_result"
    }
   ],
   "source": [
    "dataframe"
   ]
  },
  {
   "cell_type": "code",
   "execution_count": 70,
   "metadata": {},
   "outputs": [
    {
     "data": {
      "text/plain": [
       "var1    10.0\n",
       "var2    10.0\n",
       "dtype: float64"
      ]
     },
     "execution_count": 70,
     "metadata": {},
     "output_type": "execute_result"
    }
   ],
   "source": [
    "# Operaciones sobre dataframes (columna a columna, por defecto)\n",
    "np.sum(dataframe)"
   ]
  },
  {
   "cell_type": "code",
   "execution_count": 71,
   "metadata": {},
   "outputs": [
    {
     "data": {
      "text/plain": [
       "a    2.0\n",
       "b    4.0\n",
       "c    6.0\n",
       "d    8.0\n",
       "dtype: float64"
      ]
     },
     "execution_count": 71,
     "metadata": {},
     "output_type": "execute_result"
    }
   ],
   "source": [
    "# Operaciones sobre dataframes (especificando eje)\n",
    "np.sum(dataframe, axis=1)"
   ]
  },
  {
   "cell_type": "markdown",
   "metadata": {},
   "source": [
    "# Operaciones básicas (II)"
   ]
  },
  {
   "cell_type": "code",
   "execution_count": 72,
   "metadata": {},
   "outputs": [],
   "source": [
    "import numpy as np\n",
    "import pandas as pd"
   ]
  },
  {
   "cell_type": "markdown",
   "metadata": {},
   "source": [
    "## Indexación y slicing en pandas"
   ]
  },
  {
   "cell_type": "markdown",
   "metadata": {},
   "source": [
    "Además de poder reutilizar los métodos de indexación y slicing de NumPy sobre Series y DataFrames (con las limitaciones ya comentadas), pandas pone a nuestra disposición nuevos métodos de indexación que permiten tener un mayor control sobre la misma y superar las limitaciones que nos impone NumPy sobre este tipo de estructuras. Veamos todas las posibles combinaciones.<br/>"
   ]
  },
  {
   "cell_type": "markdown",
   "metadata": {},
   "source": [
    "#### Indexación por atributo de clave"
   ]
  },
  {
   "cell_type": "markdown",
   "metadata": {},
   "source": [
    "Podemos indexar un elemento concreto de una Serie o una columna concreta de un DataFrame mediante el uso de su etiqueta/clave como atributo, con sintaxis obj.etiqueta."
   ]
  },
  {
   "cell_type": "code",
   "execution_count": 73,
   "metadata": {},
   "outputs": [
    {
     "data": {
      "text/plain": [
       "1"
      ]
     },
     "execution_count": 73,
     "metadata": {},
     "output_type": "execute_result"
    }
   ],
   "source": [
    "serie = pd.Series([1, 2, 3, 4], index = ['a', 'b', 'c', 'd'])\n",
    "serie['a']"
   ]
  },
  {
   "cell_type": "code",
   "execution_count": 74,
   "metadata": {},
   "outputs": [
    {
     "data": {
      "text/plain": [
       "1"
      ]
     },
     "execution_count": 74,
     "metadata": {},
     "output_type": "execute_result"
    }
   ],
   "source": [
    "serie.a"
   ]
  },
  {
   "cell_type": "code",
   "execution_count": 75,
   "metadata": {},
   "outputs": [
    {
     "data": {
      "text/html": [
       "<div>\n",
       "<style scoped>\n",
       "    .dataframe tbody tr th:only-of-type {\n",
       "        vertical-align: middle;\n",
       "    }\n",
       "\n",
       "    .dataframe tbody tr th {\n",
       "        vertical-align: top;\n",
       "    }\n",
       "\n",
       "    .dataframe thead th {\n",
       "        text-align: right;\n",
       "    }\n",
       "</style>\n",
       "<table border=\"1\" class=\"dataframe\">\n",
       "  <thead>\n",
       "    <tr style=\"text-align: right;\">\n",
       "      <th></th>\n",
       "      <th>c1</th>\n",
       "      <th>c2</th>\n",
       "      <th>c3</th>\n",
       "      <th>c4</th>\n",
       "    </tr>\n",
       "  </thead>\n",
       "  <tbody>\n",
       "    <tr>\n",
       "      <th>f1</th>\n",
       "      <td>0</td>\n",
       "      <td>1</td>\n",
       "      <td>2</td>\n",
       "      <td>3</td>\n",
       "    </tr>\n",
       "    <tr>\n",
       "      <th>f2</th>\n",
       "      <td>4</td>\n",
       "      <td>5</td>\n",
       "      <td>6</td>\n",
       "      <td>7</td>\n",
       "    </tr>\n",
       "    <tr>\n",
       "      <th>f3</th>\n",
       "      <td>8</td>\n",
       "      <td>9</td>\n",
       "      <td>10</td>\n",
       "      <td>11</td>\n",
       "    </tr>\n",
       "    <tr>\n",
       "      <th>f4</th>\n",
       "      <td>12</td>\n",
       "      <td>13</td>\n",
       "      <td>14</td>\n",
       "      <td>15</td>\n",
       "    </tr>\n",
       "  </tbody>\n",
       "</table>\n",
       "</div>"
      ],
      "text/plain": [
       "    c1  c2  c3  c4\n",
       "f1   0   1   2   3\n",
       "f2   4   5   6   7\n",
       "f3   8   9  10  11\n",
       "f4  12  13  14  15"
      ]
     },
     "execution_count": 75,
     "metadata": {},
     "output_type": "execute_result"
    }
   ],
   "source": [
    "dataframe = pd.DataFrame(np.arange(16).reshape(4, 4), index=['f1', 'f2', 'f3', 'f4'], columns=['c1','c2','c3','c4'])\n",
    "dataframe"
   ]
  },
  {
   "cell_type": "code",
   "execution_count": 76,
   "metadata": {},
   "outputs": [
    {
     "data": {
      "text/plain": [
       "f1     0\n",
       "f2     4\n",
       "f3     8\n",
       "f4    12\n",
       "Name: c1, dtype: int32"
      ]
     },
     "execution_count": 76,
     "metadata": {},
     "output_type": "execute_result"
    }
   ],
   "source": [
    "dataframe.c1"
   ]
  },
  {
   "cell_type": "markdown",
   "metadata": {},
   "source": [
    "#### Indexación con sintáxis [ ] directa"
   ]
  },
  {
   "cell_type": "markdown",
   "metadata": {},
   "source": [
    "<table>\n",
    "<tr>\n",
    "<th>Tipo</th>\n",
    "<th>En Series</th>\n",
    "<th>En DataFrames</th>\n",
    "</tr>\n",
    "<tr>\n",
    "<td>obj[num_val]</td>\n",
    "<td>Selección por posición (salvo si el índice es numérico)</td>\n",
    "<td>Selección por clave de columna</td>\n",
    "</tr>\n",
    "<tr>\n",
    "<td>obj[key]</td>\n",
    "<td>Selección por clave</td>\n",
    "<td>Selección por clave de columna</td>\n",
    "</tr>\n",
    "<tr>\n",
    "<td>obj[num_val1:num_val2]</td>\n",
    "<td>Selección por posición (salvo si el índice es numérico)</td>\n",
    "<td>Selección por posición de fila (salvo si el índice de filas es numérico)</td>\n",
    "</tr>\n",
    "<tr>\n",
    "<td>obj[key1:key2]</td>\n",
    "<td>Selección por clave</td>\n",
    "<td>Selección por clave de fila</td>\n",
    "</tr>\n",
    "<tr>\n",
    "<td>obj[[num_val1,..,num_valn]]</td>\n",
    "<td>Selección por posición (salvo si el índice es numérico)</td>\n",
    "<td>Selección por posición de columna</td>\n",
    "</tr>\n",
    "<tr>\n",
    "<td>obj[[key1,..,keyn]]</td>\n",
    "<td>Selección por clave</td>\n",
    "<td>Selección por clave de columna</td>\n",
    "</tr>\n",
    "<tr>\n",
    "<td>obj[condition]</td>\n",
    "<td>Selección por estructura booleana</td>\n",
    "<td>Selección por estructura booleana</td>\n",
    "</tr>\n",
    "</table>"
   ]
  },
  {
   "cell_type": "code",
   "execution_count": 77,
   "metadata": {},
   "outputs": [
    {
     "data": {
      "text/plain": [
       "a    1\n",
       "b    2\n",
       "c    3\n",
       "d    4\n",
       "dtype: int64"
      ]
     },
     "execution_count": 77,
     "metadata": {},
     "output_type": "execute_result"
    }
   ],
   "source": [
    "serie"
   ]
  },
  {
   "cell_type": "code",
   "execution_count": 78,
   "metadata": {},
   "outputs": [
    {
     "data": {
      "text/plain": [
       "1"
      ]
     },
     "execution_count": 78,
     "metadata": {},
     "output_type": "execute_result"
    }
   ],
   "source": [
    "serie[0]"
   ]
  },
  {
   "cell_type": "code",
   "execution_count": 79,
   "metadata": {},
   "outputs": [
    {
     "data": {
      "text/plain": [
       "f1     2\n",
       "f2     6\n",
       "f3    10\n",
       "f4    14\n",
       "Name: c3, dtype: int32"
      ]
     },
     "execution_count": 79,
     "metadata": {},
     "output_type": "execute_result"
    }
   ],
   "source": [
    "dataframe['c3']"
   ]
  },
  {
   "cell_type": "markdown",
   "metadata": {},
   "source": [
    "#### Indexación con método .loc - Por claves"
   ]
  },
  {
   "cell_type": "markdown",
   "metadata": {},
   "source": [
    "<table>\n",
    "<tr>\n",
    "<th>Tipo</th>\n",
    "<th>En Series</th>\n",
    "<th>En DataFrames</th>\n",
    "</tr>\n",
    "<tr>\n",
    "<td>obj.loc[key]</td>\n",
    "<td>Selección por clave</td>\n",
    "<td>Selección por clave de filas</td>\n",
    "</tr>\n",
    "<tr>\n",
    "<td>obj.loc[key1:key2]</td>\n",
    "<td>Selección por clave</td>\n",
    "<td>Selección por clave de filas</td>\n",
    "</tr>\n",
    "<tr>\n",
    "<td>obj.loc[[key1,...,keyn]]</td>\n",
    "<td>Selección por clave</td>\n",
    "<td>Selección por clave de filas</td>\n",
    "</tr>\n",
    "<tr>\n",
    "<td>obj.loc[condition]</td>\n",
    "<td>Selección por estructura booleana</td>\n",
    "<td>Selección por estructura booleana sobre filas</td>\n",
    "</tr>\n",
    "<tr>\n",
    "<td>obj.loc[sel1, sel2]</td>\n",
    "<td>ERROR</td>\n",
    "<td>Selección por clave de fila (sel1) y columna (sel2). Selectores: clave, slice, secuencia o condición</td>\n",
    "</tr>\n",
    "</table>"
   ]
  },
  {
   "cell_type": "code",
   "execution_count": 80,
   "metadata": {},
   "outputs": [
    {
     "data": {
      "text/plain": [
       "2"
      ]
     },
     "execution_count": 80,
     "metadata": {},
     "output_type": "execute_result"
    }
   ],
   "source": [
    "serie.loc['b']"
   ]
  },
  {
   "cell_type": "code",
   "execution_count": 81,
   "metadata": {},
   "outputs": [
    {
     "data": {
      "text/plain": [
       "f1     1\n",
       "f2     5\n",
       "f3     9\n",
       "f4    13\n",
       "Name: c2, dtype: int32"
      ]
     },
     "execution_count": 81,
     "metadata": {},
     "output_type": "execute_result"
    }
   ],
   "source": [
    "dataframe.loc[:,'c2']"
   ]
  },
  {
   "cell_type": "markdown",
   "metadata": {},
   "source": [
    "#### Indexación con método .iloc - Por índices"
   ]
  },
  {
   "cell_type": "markdown",
   "metadata": {},
   "source": [
    "<table>\n",
    "<tr>\n",
    "<th>Tipo</th>\n",
    "<th>En Series</th>\n",
    "<th>En DataFrames</th>\n",
    "</tr>\n",
    "<tr>\n",
    "<td>obj.iloc[num_val]</td>\n",
    "<td>Selección por posición</td>\n",
    "<td>Selección por posición de filas</td>\n",
    "</tr>\n",
    "<tr>\n",
    "<td>obj.iloc[num_val1:num_val2]</td>\n",
    "<td>Selección por posición</td>\n",
    "<td>Selección por posición de filas</td>\n",
    "</tr>\n",
    "<tr>\n",
    "<td>obj.iloc[[num_val1,...,num_valn]]</td>\n",
    "<td>Selección por posición</td>\n",
    "<td>Selección por posición de filas</td>\n",
    "</tr>\n",
    "<tr>\n",
    "<td>obj.iloc[sel1, sel2]</td>\n",
    "<td>ERROR</td>\n",
    "<td>Selección por clave de fila (sel1) y columna (sel2). Selectores: posición, slice o secuencia</td>\n",
    "</tr>\n",
    "</table>"
   ]
  },
  {
   "cell_type": "code",
   "execution_count": 82,
   "metadata": {},
   "outputs": [
    {
     "data": {
      "text/plain": [
       "1"
      ]
     },
     "execution_count": 82,
     "metadata": {},
     "output_type": "execute_result"
    }
   ],
   "source": [
    "serie.iloc[0]"
   ]
  },
  {
   "cell_type": "code",
   "execution_count": 83,
   "metadata": {},
   "outputs": [
    {
     "data": {
      "text/html": [
       "<div>\n",
       "<style scoped>\n",
       "    .dataframe tbody tr th:only-of-type {\n",
       "        vertical-align: middle;\n",
       "    }\n",
       "\n",
       "    .dataframe tbody tr th {\n",
       "        vertical-align: top;\n",
       "    }\n",
       "\n",
       "    .dataframe thead th {\n",
       "        text-align: right;\n",
       "    }\n",
       "</style>\n",
       "<table border=\"1\" class=\"dataframe\">\n",
       "  <thead>\n",
       "    <tr style=\"text-align: right;\">\n",
       "      <th></th>\n",
       "      <th>c1</th>\n",
       "      <th>c2</th>\n",
       "      <th>c3</th>\n",
       "      <th>c4</th>\n",
       "    </tr>\n",
       "  </thead>\n",
       "  <tbody>\n",
       "    <tr>\n",
       "      <th>f1</th>\n",
       "      <td>0</td>\n",
       "      <td>1</td>\n",
       "      <td>2</td>\n",
       "      <td>3</td>\n",
       "    </tr>\n",
       "    <tr>\n",
       "      <th>f2</th>\n",
       "      <td>4</td>\n",
       "      <td>5</td>\n",
       "      <td>6</td>\n",
       "      <td>7</td>\n",
       "    </tr>\n",
       "    <tr>\n",
       "      <th>f3</th>\n",
       "      <td>8</td>\n",
       "      <td>9</td>\n",
       "      <td>10</td>\n",
       "      <td>11</td>\n",
       "    </tr>\n",
       "    <tr>\n",
       "      <th>f4</th>\n",
       "      <td>12</td>\n",
       "      <td>13</td>\n",
       "      <td>14</td>\n",
       "      <td>15</td>\n",
       "    </tr>\n",
       "  </tbody>\n",
       "</table>\n",
       "</div>"
      ],
      "text/plain": [
       "    c1  c2  c3  c4\n",
       "f1   0   1   2   3\n",
       "f2   4   5   6   7\n",
       "f3   8   9  10  11\n",
       "f4  12  13  14  15"
      ]
     },
     "execution_count": 83,
     "metadata": {},
     "output_type": "execute_result"
    }
   ],
   "source": [
    "dataframe"
   ]
  },
  {
   "cell_type": "code",
   "execution_count": 84,
   "metadata": {},
   "outputs": [
    {
     "data": {
      "text/plain": [
       "f1     2\n",
       "f2     6\n",
       "f3    10\n",
       "f4    14\n",
       "Name: c3, dtype: int32"
      ]
     },
     "execution_count": 84,
     "metadata": {},
     "output_type": "execute_result"
    }
   ],
   "source": [
    "dataframe.iloc[:, 2]"
   ]
  },
  {
   "cell_type": "markdown",
   "metadata": {},
   "source": [
    "## Índices jerárquicos en pandas"
   ]
  },
  {
   "cell_type": "markdown",
   "metadata": {},
   "source": [
    "Los índices jerárquicos de 'pandas' permiten tener más de un nivel en cualquiera de los índices de una estructura. Esto puede servir para agrupar más claramente los datos, o para conseguir identificar las filas por una clave única. En cierto modo, también es una forma de poder trabajar con tablas de más de dos dimensiones."
   ]
  },
  {
   "cell_type": "code",
   "execution_count": 85,
   "metadata": {},
   "outputs": [
    {
     "data": {
      "text/html": [
       "<div>\n",
       "<style scoped>\n",
       "    .dataframe tbody tr th:only-of-type {\n",
       "        vertical-align: middle;\n",
       "    }\n",
       "\n",
       "    .dataframe tbody tr th {\n",
       "        vertical-align: top;\n",
       "    }\n",
       "\n",
       "    .dataframe thead th {\n",
       "        text-align: right;\n",
       "    }\n",
       "</style>\n",
       "<table border=\"1\" class=\"dataframe\">\n",
       "  <thead>\n",
       "    <tr style=\"text-align: right;\">\n",
       "      <th></th>\n",
       "      <th></th>\n",
       "      <th>Valoración</th>\n",
       "      <th>Presupuesto</th>\n",
       "      <th>Director</th>\n",
       "    </tr>\n",
       "  </thead>\n",
       "  <tbody>\n",
       "    <tr>\n",
       "      <th rowspan=\"2\" valign=\"top\">2014</th>\n",
       "      <th>Godzilla</th>\n",
       "      <td>6.00</td>\n",
       "      <td>160.0</td>\n",
       "      <td>Peter Jackson</td>\n",
       "    </tr>\n",
       "    <tr>\n",
       "      <th>El Hobbit III</th>\n",
       "      <td>NaN</td>\n",
       "      <td>250.0</td>\n",
       "      <td>Gareth Edwards</td>\n",
       "    </tr>\n",
       "    <tr>\n",
       "      <th rowspan=\"2\" valign=\"top\">2013</th>\n",
       "      <th>El lobo de Wall Street</th>\n",
       "      <td>8.75</td>\n",
       "      <td>100.0</td>\n",
       "      <td>Martin Scorsese</td>\n",
       "    </tr>\n",
       "    <tr>\n",
       "      <th>Gravity</th>\n",
       "      <td>NaN</td>\n",
       "      <td>NaN</td>\n",
       "      <td>Alfonso Cuarón</td>\n",
       "    </tr>\n",
       "  </tbody>\n",
       "</table>\n",
       "</div>"
      ],
      "text/plain": [
       "                             Valoración  Presupuesto         Director\n",
       "2014 Godzilla                      6.00        160.0    Peter Jackson\n",
       "     El Hobbit III                  NaN        250.0   Gareth Edwards\n",
       "2013 El lobo de Wall Street        8.75        100.0  Martin Scorsese\n",
       "     Gravity                        NaN          NaN   Alfonso Cuarón"
      ]
     },
     "execution_count": 85,
     "metadata": {},
     "output_type": "execute_result"
    }
   ],
   "source": [
    "peliculas = pd.DataFrame(\n",
    "            {'Valoración':[6, None, 8.75, None],\n",
    "             'Presupuesto':[160, 250, 100, None],\n",
    "             'Director':['Peter Jackson', 'Gareth Edwards', 'Martin Scorsese', 'Alfonso Cuarón']},\n",
    "            index = [[2014, 2014, 2013, 2013], ['Godzilla', 'El Hobbit III', 'El lobo de Wall Street', 'Gravity']]\n",
    ")\n",
    "peliculas"
   ]
  },
  {
   "cell_type": "markdown",
   "metadata": {},
   "source": [
    "A partir de la construcción del índice jerárquico, podemos hacer indexaciones totales (mediante tuplas) o parciales (mediante selección de uno de los elementos del índice)."
   ]
  },
  {
   "cell_type": "code",
   "execution_count": 86,
   "metadata": {},
   "outputs": [
    {
     "data": {
      "text/plain": [
       "Valoración               6.0\n",
       "Presupuesto            160.0\n",
       "Director       Peter Jackson\n",
       "Name: (2014, Godzilla), dtype: object"
      ]
     },
     "execution_count": 86,
     "metadata": {},
     "output_type": "execute_result"
    }
   ],
   "source": [
    "# Indexación total\n",
    "peliculas.loc[(2014, 'Godzilla')]"
   ]
  },
  {
   "cell_type": "code",
   "execution_count": 87,
   "metadata": {},
   "outputs": [
    {
     "data": {
      "text/html": [
       "<div>\n",
       "<style scoped>\n",
       "    .dataframe tbody tr th:only-of-type {\n",
       "        vertical-align: middle;\n",
       "    }\n",
       "\n",
       "    .dataframe tbody tr th {\n",
       "        vertical-align: top;\n",
       "    }\n",
       "\n",
       "    .dataframe thead th {\n",
       "        text-align: right;\n",
       "    }\n",
       "</style>\n",
       "<table border=\"1\" class=\"dataframe\">\n",
       "  <thead>\n",
       "    <tr style=\"text-align: right;\">\n",
       "      <th></th>\n",
       "      <th>Valoración</th>\n",
       "      <th>Presupuesto</th>\n",
       "      <th>Director</th>\n",
       "    </tr>\n",
       "  </thead>\n",
       "  <tbody>\n",
       "    <tr>\n",
       "      <th>Godzilla</th>\n",
       "      <td>6.0</td>\n",
       "      <td>160.0</td>\n",
       "      <td>Peter Jackson</td>\n",
       "    </tr>\n",
       "    <tr>\n",
       "      <th>El Hobbit III</th>\n",
       "      <td>NaN</td>\n",
       "      <td>250.0</td>\n",
       "      <td>Gareth Edwards</td>\n",
       "    </tr>\n",
       "  </tbody>\n",
       "</table>\n",
       "</div>"
      ],
      "text/plain": [
       "               Valoración  Presupuesto        Director\n",
       "Godzilla              6.0        160.0   Peter Jackson\n",
       "El Hobbit III         NaN        250.0  Gareth Edwards"
      ]
     },
     "execution_count": 87,
     "metadata": {},
     "output_type": "execute_result"
    }
   ],
   "source": [
    "# Indexación parcial\n",
    "peliculas.loc[2014]"
   ]
  },
  {
   "cell_type": "markdown",
   "metadata": {},
   "source": [
    "Podemos pasar niveles del índice jerárquico de las filas a las columnas mediante la función <b>unstack</b>, como si de una Pivot Table de Excel se tratase. Con <b>stack</b> realizarmeos la operación contraria."
   ]
  },
  {
   "cell_type": "code",
   "execution_count": 88,
   "metadata": {},
   "outputs": [
    {
     "data": {
      "text/html": [
       "<div>\n",
       "<style scoped>\n",
       "    .dataframe tbody tr th:only-of-type {\n",
       "        vertical-align: middle;\n",
       "    }\n",
       "\n",
       "    .dataframe tbody tr th {\n",
       "        vertical-align: top;\n",
       "    }\n",
       "\n",
       "    .dataframe thead tr th {\n",
       "        text-align: left;\n",
       "    }\n",
       "</style>\n",
       "<table border=\"1\" class=\"dataframe\">\n",
       "  <thead>\n",
       "    <tr>\n",
       "      <th></th>\n",
       "      <th colspan=\"4\" halign=\"left\">Valoración</th>\n",
       "      <th colspan=\"4\" halign=\"left\">Presupuesto</th>\n",
       "      <th colspan=\"4\" halign=\"left\">Director</th>\n",
       "    </tr>\n",
       "    <tr>\n",
       "      <th></th>\n",
       "      <th>El Hobbit III</th>\n",
       "      <th>El lobo de Wall Street</th>\n",
       "      <th>Godzilla</th>\n",
       "      <th>Gravity</th>\n",
       "      <th>El Hobbit III</th>\n",
       "      <th>El lobo de Wall Street</th>\n",
       "      <th>Godzilla</th>\n",
       "      <th>Gravity</th>\n",
       "      <th>El Hobbit III</th>\n",
       "      <th>El lobo de Wall Street</th>\n",
       "      <th>Godzilla</th>\n",
       "      <th>Gravity</th>\n",
       "    </tr>\n",
       "  </thead>\n",
       "  <tbody>\n",
       "    <tr>\n",
       "      <th>2013</th>\n",
       "      <td>NaN</td>\n",
       "      <td>8.75</td>\n",
       "      <td>NaN</td>\n",
       "      <td>NaN</td>\n",
       "      <td>NaN</td>\n",
       "      <td>100.0</td>\n",
       "      <td>NaN</td>\n",
       "      <td>NaN</td>\n",
       "      <td>NaN</td>\n",
       "      <td>Martin Scorsese</td>\n",
       "      <td>NaN</td>\n",
       "      <td>Alfonso Cuarón</td>\n",
       "    </tr>\n",
       "    <tr>\n",
       "      <th>2014</th>\n",
       "      <td>NaN</td>\n",
       "      <td>NaN</td>\n",
       "      <td>6.0</td>\n",
       "      <td>NaN</td>\n",
       "      <td>250.0</td>\n",
       "      <td>NaN</td>\n",
       "      <td>160.0</td>\n",
       "      <td>NaN</td>\n",
       "      <td>Gareth Edwards</td>\n",
       "      <td>NaN</td>\n",
       "      <td>Peter Jackson</td>\n",
       "      <td>NaN</td>\n",
       "    </tr>\n",
       "  </tbody>\n",
       "</table>\n",
       "</div>"
      ],
      "text/plain": [
       "        Valoración                                           Presupuesto  \\\n",
       "     El Hobbit III El lobo de Wall Street Godzilla Gravity El Hobbit III   \n",
       "2013           NaN                   8.75      NaN     NaN           NaN   \n",
       "2014           NaN                    NaN      6.0     NaN         250.0   \n",
       "\n",
       "                                                    Director  \\\n",
       "     El lobo de Wall Street Godzilla Gravity   El Hobbit III   \n",
       "2013                  100.0      NaN     NaN             NaN   \n",
       "2014                    NaN    160.0     NaN  Gareth Edwards   \n",
       "\n",
       "                                                            \n",
       "     El lobo de Wall Street       Godzilla         Gravity  \n",
       "2013        Martin Scorsese            NaN  Alfonso Cuarón  \n",
       "2014                    NaN  Peter Jackson             NaN  "
      ]
     },
     "execution_count": 88,
     "metadata": {},
     "output_type": "execute_result"
    }
   ],
   "source": [
    "# Pasamos el último nivel del índice de filas al de columnas\n",
    "peliculas_2 = peliculas.unstack()\n",
    "peliculas_2"
   ]
  },
  {
   "cell_type": "code",
   "execution_count": 89,
   "metadata": {},
   "outputs": [
    {
     "data": {
      "text/html": [
       "<div>\n",
       "<style scoped>\n",
       "    .dataframe tbody tr th:only-of-type {\n",
       "        vertical-align: middle;\n",
       "    }\n",
       "\n",
       "    .dataframe tbody tr th {\n",
       "        vertical-align: top;\n",
       "    }\n",
       "\n",
       "    .dataframe thead th {\n",
       "        text-align: right;\n",
       "    }\n",
       "</style>\n",
       "<table border=\"1\" class=\"dataframe\">\n",
       "  <thead>\n",
       "    <tr style=\"text-align: right;\">\n",
       "      <th></th>\n",
       "      <th></th>\n",
       "      <th>Valoración</th>\n",
       "      <th>Presupuesto</th>\n",
       "      <th>Director</th>\n",
       "    </tr>\n",
       "  </thead>\n",
       "  <tbody>\n",
       "    <tr>\n",
       "      <th rowspan=\"2\" valign=\"top\">2014</th>\n",
       "      <th>Godzilla</th>\n",
       "      <td>6.00</td>\n",
       "      <td>160.0</td>\n",
       "      <td>Peter Jackson</td>\n",
       "    </tr>\n",
       "    <tr>\n",
       "      <th>El Hobbit III</th>\n",
       "      <td>NaN</td>\n",
       "      <td>250.0</td>\n",
       "      <td>Gareth Edwards</td>\n",
       "    </tr>\n",
       "    <tr>\n",
       "      <th rowspan=\"2\" valign=\"top\">2013</th>\n",
       "      <th>El lobo de Wall Street</th>\n",
       "      <td>8.75</td>\n",
       "      <td>100.0</td>\n",
       "      <td>Martin Scorsese</td>\n",
       "    </tr>\n",
       "    <tr>\n",
       "      <th>Gravity</th>\n",
       "      <td>NaN</td>\n",
       "      <td>NaN</td>\n",
       "      <td>Alfonso Cuarón</td>\n",
       "    </tr>\n",
       "  </tbody>\n",
       "</table>\n",
       "</div>"
      ],
      "text/plain": [
       "                             Valoración  Presupuesto         Director\n",
       "2014 Godzilla                      6.00        160.0    Peter Jackson\n",
       "     El Hobbit III                  NaN        250.0   Gareth Edwards\n",
       "2013 El lobo de Wall Street        8.75        100.0  Martin Scorsese\n",
       "     Gravity                        NaN          NaN   Alfonso Cuarón"
      ]
     },
     "execution_count": 89,
     "metadata": {},
     "output_type": "execute_result"
    }
   ],
   "source": [
    "peliculas"
   ]
  },
  {
   "cell_type": "code",
   "execution_count": 90,
   "metadata": {},
   "outputs": [
    {
     "data": {
      "text/plain": [
       "2014  Godzilla                Valoración                 6.0\n",
       "                              Presupuesto              160.0\n",
       "                              Director         Peter Jackson\n",
       "      El Hobbit III           Presupuesto              250.0\n",
       "                              Director        Gareth Edwards\n",
       "2013  El lobo de Wall Street  Valoración                8.75\n",
       "                              Presupuesto              100.0\n",
       "                              Director       Martin Scorsese\n",
       "      Gravity                 Director        Alfonso Cuarón\n",
       "dtype: object"
      ]
     },
     "execution_count": 90,
     "metadata": {},
     "output_type": "execute_result"
    }
   ],
   "source": [
    "# Pasamos el último nivel del índice de columnas al de filas\n",
    "peliculas.stack()"
   ]
  },
  {
   "cell_type": "code",
   "execution_count": 91,
   "metadata": {},
   "outputs": [
    {
     "data": {
      "text/html": [
       "<div>\n",
       "<style scoped>\n",
       "    .dataframe tbody tr th:only-of-type {\n",
       "        vertical-align: middle;\n",
       "    }\n",
       "\n",
       "    .dataframe tbody tr th {\n",
       "        vertical-align: top;\n",
       "    }\n",
       "\n",
       "    .dataframe thead th {\n",
       "        text-align: right;\n",
       "    }\n",
       "</style>\n",
       "<table border=\"1\" class=\"dataframe\">\n",
       "  <thead>\n",
       "    <tr style=\"text-align: right;\">\n",
       "      <th></th>\n",
       "      <th></th>\n",
       "      <th>Valoración</th>\n",
       "      <th>Presupuesto</th>\n",
       "      <th>Director</th>\n",
       "    </tr>\n",
       "  </thead>\n",
       "  <tbody>\n",
       "    <tr>\n",
       "      <th rowspan=\"2\" valign=\"top\">2013</th>\n",
       "      <th>El lobo de Wall Street</th>\n",
       "      <td>8.75</td>\n",
       "      <td>100.0</td>\n",
       "      <td>Martin Scorsese</td>\n",
       "    </tr>\n",
       "    <tr>\n",
       "      <th>Gravity</th>\n",
       "      <td>NaN</td>\n",
       "      <td>NaN</td>\n",
       "      <td>Alfonso Cuarón</td>\n",
       "    </tr>\n",
       "    <tr>\n",
       "      <th rowspan=\"2\" valign=\"top\">2014</th>\n",
       "      <th>El Hobbit III</th>\n",
       "      <td>NaN</td>\n",
       "      <td>250.0</td>\n",
       "      <td>Gareth Edwards</td>\n",
       "    </tr>\n",
       "    <tr>\n",
       "      <th>Godzilla</th>\n",
       "      <td>6.00</td>\n",
       "      <td>160.0</td>\n",
       "      <td>Peter Jackson</td>\n",
       "    </tr>\n",
       "  </tbody>\n",
       "</table>\n",
       "</div>"
      ],
      "text/plain": [
       "                             Valoración  Presupuesto         Director\n",
       "2013 El lobo de Wall Street        8.75        100.0  Martin Scorsese\n",
       "     Gravity                        NaN          NaN   Alfonso Cuarón\n",
       "2014 El Hobbit III                  NaN        250.0   Gareth Edwards\n",
       "     Godzilla                      6.00        160.0    Peter Jackson"
      ]
     },
     "execution_count": 91,
     "metadata": {},
     "output_type": "execute_result"
    }
   ],
   "source": [
    "peliculas_2.stack()"
   ]
  },
  {
   "cell_type": "markdown",
   "metadata": {},
   "source": [
    "## Modificación de índices en Pandas"
   ]
  },
  {
   "cell_type": "markdown",
   "metadata": {},
   "source": [
    "En cualquier momento, podemos descartar el índice de un DataFrame incorporando el mismo como una columna más de nuestros datos. Esto lo haremos mediante la función <b>reset_index</b>. Esto hará que el índice pase a ser una secuencia numérica."
   ]
  },
  {
   "cell_type": "code",
   "execution_count": 92,
   "metadata": {},
   "outputs": [
    {
     "data": {
      "text/html": [
       "<div>\n",
       "<style scoped>\n",
       "    .dataframe tbody tr th:only-of-type {\n",
       "        vertical-align: middle;\n",
       "    }\n",
       "\n",
       "    .dataframe tbody tr th {\n",
       "        vertical-align: top;\n",
       "    }\n",
       "\n",
       "    .dataframe thead th {\n",
       "        text-align: right;\n",
       "    }\n",
       "</style>\n",
       "<table border=\"1\" class=\"dataframe\">\n",
       "  <thead>\n",
       "    <tr style=\"text-align: right;\">\n",
       "      <th></th>\n",
       "      <th>index</th>\n",
       "      <th>c1</th>\n",
       "      <th>c2</th>\n",
       "      <th>c3</th>\n",
       "      <th>c4</th>\n",
       "    </tr>\n",
       "  </thead>\n",
       "  <tbody>\n",
       "    <tr>\n",
       "      <th>0</th>\n",
       "      <td>f1</td>\n",
       "      <td>0</td>\n",
       "      <td>1</td>\n",
       "      <td>2</td>\n",
       "      <td>3</td>\n",
       "    </tr>\n",
       "    <tr>\n",
       "      <th>1</th>\n",
       "      <td>f2</td>\n",
       "      <td>4</td>\n",
       "      <td>5</td>\n",
       "      <td>6</td>\n",
       "      <td>7</td>\n",
       "    </tr>\n",
       "    <tr>\n",
       "      <th>2</th>\n",
       "      <td>f3</td>\n",
       "      <td>8</td>\n",
       "      <td>9</td>\n",
       "      <td>10</td>\n",
       "      <td>11</td>\n",
       "    </tr>\n",
       "    <tr>\n",
       "      <th>3</th>\n",
       "      <td>f4</td>\n",
       "      <td>12</td>\n",
       "      <td>13</td>\n",
       "      <td>14</td>\n",
       "      <td>15</td>\n",
       "    </tr>\n",
       "  </tbody>\n",
       "</table>\n",
       "</div>"
      ],
      "text/plain": [
       "  index  c1  c2  c3  c4\n",
       "0    f1   0   1   2   3\n",
       "1    f2   4   5   6   7\n",
       "2    f3   8   9  10  11\n",
       "3    f4  12  13  14  15"
      ]
     },
     "execution_count": 92,
     "metadata": {},
     "output_type": "execute_result"
    }
   ],
   "source": [
    "dataframe.reset_index()"
   ]
  },
  {
   "cell_type": "markdown",
   "metadata": {},
   "source": [
    "Del mismo modo, podemos reestablecer un conjunto de columnas como índice de un DataFrame con la función <b>set_index</b>."
   ]
  },
  {
   "cell_type": "code",
   "execution_count": 93,
   "metadata": {},
   "outputs": [
    {
     "data": {
      "text/html": [
       "<div>\n",
       "<style scoped>\n",
       "    .dataframe tbody tr th:only-of-type {\n",
       "        vertical-align: middle;\n",
       "    }\n",
       "\n",
       "    .dataframe tbody tr th {\n",
       "        vertical-align: top;\n",
       "    }\n",
       "\n",
       "    .dataframe thead th {\n",
       "        text-align: right;\n",
       "    }\n",
       "</style>\n",
       "<table border=\"1\" class=\"dataframe\">\n",
       "  <thead>\n",
       "    <tr style=\"text-align: right;\">\n",
       "      <th></th>\n",
       "      <th>c1</th>\n",
       "      <th>c2</th>\n",
       "      <th>c3</th>\n",
       "      <th>c4</th>\n",
       "    </tr>\n",
       "  </thead>\n",
       "  <tbody>\n",
       "    <tr>\n",
       "      <th>f1</th>\n",
       "      <td>0</td>\n",
       "      <td>1</td>\n",
       "      <td>2</td>\n",
       "      <td>3</td>\n",
       "    </tr>\n",
       "    <tr>\n",
       "      <th>f2</th>\n",
       "      <td>4</td>\n",
       "      <td>5</td>\n",
       "      <td>6</td>\n",
       "      <td>7</td>\n",
       "    </tr>\n",
       "    <tr>\n",
       "      <th>f3</th>\n",
       "      <td>8</td>\n",
       "      <td>9</td>\n",
       "      <td>10</td>\n",
       "      <td>11</td>\n",
       "    </tr>\n",
       "    <tr>\n",
       "      <th>f4</th>\n",
       "      <td>12</td>\n",
       "      <td>13</td>\n",
       "      <td>14</td>\n",
       "      <td>15</td>\n",
       "    </tr>\n",
       "  </tbody>\n",
       "</table>\n",
       "</div>"
      ],
      "text/plain": [
       "    c1  c2  c3  c4\n",
       "f1   0   1   2   3\n",
       "f2   4   5   6   7\n",
       "f3   8   9  10  11\n",
       "f4  12  13  14  15"
      ]
     },
     "execution_count": 93,
     "metadata": {},
     "output_type": "execute_result"
    }
   ],
   "source": [
    "dataframe"
   ]
  },
  {
   "cell_type": "code",
   "execution_count": 94,
   "metadata": {},
   "outputs": [
    {
     "data": {
      "text/html": [
       "<div>\n",
       "<style scoped>\n",
       "    .dataframe tbody tr th:only-of-type {\n",
       "        vertical-align: middle;\n",
       "    }\n",
       "\n",
       "    .dataframe tbody tr th {\n",
       "        vertical-align: top;\n",
       "    }\n",
       "\n",
       "    .dataframe thead th {\n",
       "        text-align: right;\n",
       "    }\n",
       "</style>\n",
       "<table border=\"1\" class=\"dataframe\">\n",
       "  <thead>\n",
       "    <tr style=\"text-align: right;\">\n",
       "      <th></th>\n",
       "      <th>c2</th>\n",
       "      <th>c3</th>\n",
       "      <th>c4</th>\n",
       "    </tr>\n",
       "    <tr>\n",
       "      <th>c1</th>\n",
       "      <th></th>\n",
       "      <th></th>\n",
       "      <th></th>\n",
       "    </tr>\n",
       "  </thead>\n",
       "  <tbody>\n",
       "    <tr>\n",
       "      <th>0</th>\n",
       "      <td>1</td>\n",
       "      <td>2</td>\n",
       "      <td>3</td>\n",
       "    </tr>\n",
       "    <tr>\n",
       "      <th>4</th>\n",
       "      <td>5</td>\n",
       "      <td>6</td>\n",
       "      <td>7</td>\n",
       "    </tr>\n",
       "    <tr>\n",
       "      <th>8</th>\n",
       "      <td>9</td>\n",
       "      <td>10</td>\n",
       "      <td>11</td>\n",
       "    </tr>\n",
       "    <tr>\n",
       "      <th>12</th>\n",
       "      <td>13</td>\n",
       "      <td>14</td>\n",
       "      <td>15</td>\n",
       "    </tr>\n",
       "  </tbody>\n",
       "</table>\n",
       "</div>"
      ],
      "text/plain": [
       "    c2  c3  c4\n",
       "c1            \n",
       "0    1   2   3\n",
       "4    5   6   7\n",
       "8    9  10  11\n",
       "12  13  14  15"
      ]
     },
     "execution_count": 94,
     "metadata": {},
     "output_type": "execute_result"
    }
   ],
   "source": [
    "dataframe.set_index(['c1'])"
   ]
  },
  {
   "cell_type": "markdown",
   "metadata": {},
   "source": [
    "# Operaciones básicas (III)"
   ]
  },
  {
   "cell_type": "code",
   "execution_count": 95,
   "metadata": {},
   "outputs": [],
   "source": [
    "import numpy as np\n",
    "import pandas as pd"
   ]
  },
  {
   "cell_type": "markdown",
   "metadata": {},
   "source": [
    "## Tablas pivote"
   ]
  },
  {
   "cell_type": "markdown",
   "metadata": {},
   "source": [
    "Siguiendo con las funciones de gestión de índices, pandas incluye la posibilidad de gestionar los mismos como si de una Pivot Table de Excel se tratase, haciendo mucho más sencillo el análisis de información resultante."
   ]
  },
  {
   "cell_type": "code",
   "execution_count": 96,
   "metadata": {},
   "outputs": [
    {
     "data": {
      "text/html": [
       "<div>\n",
       "<style scoped>\n",
       "    .dataframe tbody tr th:only-of-type {\n",
       "        vertical-align: middle;\n",
       "    }\n",
       "\n",
       "    .dataframe tbody tr th {\n",
       "        vertical-align: top;\n",
       "    }\n",
       "\n",
       "    .dataframe thead th {\n",
       "        text-align: right;\n",
       "    }\n",
       "</style>\n",
       "<table border=\"1\" class=\"dataframe\">\n",
       "  <thead>\n",
       "    <tr style=\"text-align: right;\">\n",
       "      <th></th>\n",
       "      <th>Año</th>\n",
       "      <th>Valoración</th>\n",
       "      <th>Presupuesto</th>\n",
       "      <th>Director</th>\n",
       "      <th>Título</th>\n",
       "    </tr>\n",
       "  </thead>\n",
       "  <tbody>\n",
       "    <tr>\n",
       "      <th>0</th>\n",
       "      <td>2014</td>\n",
       "      <td>6.00</td>\n",
       "      <td>160.0</td>\n",
       "      <td>Gareth Edwards</td>\n",
       "      <td>Godzilla</td>\n",
       "    </tr>\n",
       "    <tr>\n",
       "      <th>1</th>\n",
       "      <td>2014</td>\n",
       "      <td>NaN</td>\n",
       "      <td>250.0</td>\n",
       "      <td>Peter Jackson</td>\n",
       "      <td>El Hobbit III</td>\n",
       "    </tr>\n",
       "    <tr>\n",
       "      <th>2</th>\n",
       "      <td>2013</td>\n",
       "      <td>8.75</td>\n",
       "      <td>100.0</td>\n",
       "      <td>Martin Scorsese</td>\n",
       "      <td>El lobo de Wall Street</td>\n",
       "    </tr>\n",
       "    <tr>\n",
       "      <th>3</th>\n",
       "      <td>2013</td>\n",
       "      <td>NaN</td>\n",
       "      <td>NaN</td>\n",
       "      <td>Alfonso Cuarón</td>\n",
       "      <td>Gravity</td>\n",
       "    </tr>\n",
       "    <tr>\n",
       "      <th>4</th>\n",
       "      <td>2001</td>\n",
       "      <td>8.90</td>\n",
       "      <td>93.0</td>\n",
       "      <td>Peter Jackson</td>\n",
       "      <td>Lord of the Rings</td>\n",
       "    </tr>\n",
       "  </tbody>\n",
       "</table>\n",
       "</div>"
      ],
      "text/plain": [
       "    Año  Valoración  Presupuesto         Director                  Título\n",
       "0  2014        6.00        160.0   Gareth Edwards                Godzilla\n",
       "1  2014         NaN        250.0    Peter Jackson           El Hobbit III\n",
       "2  2013        8.75        100.0  Martin Scorsese  El lobo de Wall Street\n",
       "3  2013         NaN          NaN   Alfonso Cuarón                 Gravity\n",
       "4  2001        8.90         93.0    Peter Jackson       Lord of the Rings"
      ]
     },
     "execution_count": 96,
     "metadata": {},
     "output_type": "execute_result"
    }
   ],
   "source": [
    "peliculas = pd.DataFrame(\n",
    "            {'Año':[2014, 2014, 2013, 2013, 2001], \n",
    "             'Valoración':[6, None, 8.75, None, 8.9],\n",
    "             'Presupuesto':[160, 250, 100, None, 93],\n",
    "             'Director':['Gareth Edwards', 'Peter Jackson', 'Martin Scorsese', 'Alfonso Cuarón', 'Peter Jackson'],\n",
    "             'Título':['Godzilla', 'El Hobbit III', 'El lobo de Wall Street', 'Gravity', 'Lord of the Rings']}\n",
    ")\n",
    "peliculas"
   ]
  },
  {
   "cell_type": "code",
   "execution_count": 97,
   "metadata": {},
   "outputs": [
    {
     "data": {
      "text/html": [
       "<div>\n",
       "<style scoped>\n",
       "    .dataframe tbody tr th:only-of-type {\n",
       "        vertical-align: middle;\n",
       "    }\n",
       "\n",
       "    .dataframe tbody tr th {\n",
       "        vertical-align: top;\n",
       "    }\n",
       "\n",
       "    .dataframe thead th {\n",
       "        text-align: right;\n",
       "    }\n",
       "</style>\n",
       "<table border=\"1\" class=\"dataframe\">\n",
       "  <thead>\n",
       "    <tr style=\"text-align: right;\">\n",
       "      <th>Director</th>\n",
       "      <th>Alfonso Cuarón</th>\n",
       "      <th>Gareth Edwards</th>\n",
       "      <th>Martin Scorsese</th>\n",
       "      <th>Peter Jackson</th>\n",
       "    </tr>\n",
       "    <tr>\n",
       "      <th>Año</th>\n",
       "      <th></th>\n",
       "      <th></th>\n",
       "      <th></th>\n",
       "      <th></th>\n",
       "    </tr>\n",
       "  </thead>\n",
       "  <tbody>\n",
       "    <tr>\n",
       "      <th>2001</th>\n",
       "      <td>NaN</td>\n",
       "      <td>NaN</td>\n",
       "      <td>NaN</td>\n",
       "      <td>Lord of the Rings</td>\n",
       "    </tr>\n",
       "    <tr>\n",
       "      <th>2013</th>\n",
       "      <td>Gravity</td>\n",
       "      <td>NaN</td>\n",
       "      <td>El lobo de Wall Street</td>\n",
       "      <td>NaN</td>\n",
       "    </tr>\n",
       "    <tr>\n",
       "      <th>2014</th>\n",
       "      <td>NaN</td>\n",
       "      <td>Godzilla</td>\n",
       "      <td>NaN</td>\n",
       "      <td>El Hobbit III</td>\n",
       "    </tr>\n",
       "  </tbody>\n",
       "</table>\n",
       "</div>"
      ],
      "text/plain": [
       "Director Alfonso Cuarón Gareth Edwards         Martin Scorsese  \\\n",
       "Año                                                              \n",
       "2001                NaN            NaN                     NaN   \n",
       "2013            Gravity            NaN  El lobo de Wall Street   \n",
       "2014                NaN       Godzilla                     NaN   \n",
       "\n",
       "Director      Peter Jackson  \n",
       "Año                          \n",
       "2001      Lord of the Rings  \n",
       "2013                    NaN  \n",
       "2014          El Hobbit III  "
      ]
     },
     "execution_count": 97,
     "metadata": {},
     "output_type": "execute_result"
    }
   ],
   "source": [
    "# Filas: Año, Columnas: Director, Valores: Título\n",
    "peliculas.pivot(columns = 'Director', index = 'Año', values = 'Título')"
   ]
  },
  {
   "cell_type": "markdown",
   "metadata": {},
   "source": [
    "Si bien esto mismo ya lo podíamos realizar con las operaciones vistas hasta ahora."
   ]
  },
  {
   "cell_type": "code",
   "execution_count": 98,
   "metadata": {},
   "outputs": [
    {
     "data": {
      "text/html": [
       "<div>\n",
       "<style scoped>\n",
       "    .dataframe tbody tr th:only-of-type {\n",
       "        vertical-align: middle;\n",
       "    }\n",
       "\n",
       "    .dataframe tbody tr th {\n",
       "        vertical-align: top;\n",
       "    }\n",
       "\n",
       "    .dataframe thead th {\n",
       "        text-align: right;\n",
       "    }\n",
       "</style>\n",
       "<table border=\"1\" class=\"dataframe\">\n",
       "  <thead>\n",
       "    <tr style=\"text-align: right;\">\n",
       "      <th></th>\n",
       "      <th></th>\n",
       "      <th>Valoración</th>\n",
       "      <th>Presupuesto</th>\n",
       "      <th>Título</th>\n",
       "    </tr>\n",
       "    <tr>\n",
       "      <th>Año</th>\n",
       "      <th>Director</th>\n",
       "      <th></th>\n",
       "      <th></th>\n",
       "      <th></th>\n",
       "    </tr>\n",
       "  </thead>\n",
       "  <tbody>\n",
       "    <tr>\n",
       "      <th rowspan=\"2\" valign=\"top\">2014</th>\n",
       "      <th>Gareth Edwards</th>\n",
       "      <td>6.00</td>\n",
       "      <td>160.0</td>\n",
       "      <td>Godzilla</td>\n",
       "    </tr>\n",
       "    <tr>\n",
       "      <th>Peter Jackson</th>\n",
       "      <td>NaN</td>\n",
       "      <td>250.0</td>\n",
       "      <td>El Hobbit III</td>\n",
       "    </tr>\n",
       "    <tr>\n",
       "      <th rowspan=\"2\" valign=\"top\">2013</th>\n",
       "      <th>Martin Scorsese</th>\n",
       "      <td>8.75</td>\n",
       "      <td>100.0</td>\n",
       "      <td>El lobo de Wall Street</td>\n",
       "    </tr>\n",
       "    <tr>\n",
       "      <th>Alfonso Cuarón</th>\n",
       "      <td>NaN</td>\n",
       "      <td>NaN</td>\n",
       "      <td>Gravity</td>\n",
       "    </tr>\n",
       "    <tr>\n",
       "      <th>2001</th>\n",
       "      <th>Peter Jackson</th>\n",
       "      <td>8.90</td>\n",
       "      <td>93.0</td>\n",
       "      <td>Lord of the Rings</td>\n",
       "    </tr>\n",
       "  </tbody>\n",
       "</table>\n",
       "</div>"
      ],
      "text/plain": [
       "                      Valoración  Presupuesto                  Título\n",
       "Año  Director                                                        \n",
       "2014 Gareth Edwards         6.00        160.0                Godzilla\n",
       "     Peter Jackson           NaN        250.0           El Hobbit III\n",
       "2013 Martin Scorsese        8.75        100.0  El lobo de Wall Street\n",
       "     Alfonso Cuarón          NaN          NaN                 Gravity\n",
       "2001 Peter Jackson          8.90         93.0       Lord of the Rings"
      ]
     },
     "execution_count": 98,
     "metadata": {},
     "output_type": "execute_result"
    }
   ],
   "source": [
    "# Establecemos el índice a las dos variables sobre las que queremos \"pivotar\"\n",
    "p = peliculas.set_index(['Año', 'Director'])\n",
    "p"
   ]
  },
  {
   "cell_type": "code",
   "execution_count": 99,
   "metadata": {},
   "outputs": [
    {
     "data": {
      "text/html": [
       "<div>\n",
       "<style scoped>\n",
       "    .dataframe tbody tr th:only-of-type {\n",
       "        vertical-align: middle;\n",
       "    }\n",
       "\n",
       "    .dataframe tbody tr th {\n",
       "        vertical-align: top;\n",
       "    }\n",
       "\n",
       "    .dataframe thead tr th {\n",
       "        text-align: left;\n",
       "    }\n",
       "\n",
       "    .dataframe thead tr:last-of-type th {\n",
       "        text-align: right;\n",
       "    }\n",
       "</style>\n",
       "<table border=\"1\" class=\"dataframe\">\n",
       "  <thead>\n",
       "    <tr>\n",
       "      <th></th>\n",
       "      <th colspan=\"4\" halign=\"left\">Valoración</th>\n",
       "      <th colspan=\"4\" halign=\"left\">Presupuesto</th>\n",
       "      <th colspan=\"4\" halign=\"left\">Título</th>\n",
       "    </tr>\n",
       "    <tr>\n",
       "      <th>Director</th>\n",
       "      <th>Alfonso Cuarón</th>\n",
       "      <th>Gareth Edwards</th>\n",
       "      <th>Martin Scorsese</th>\n",
       "      <th>Peter Jackson</th>\n",
       "      <th>Alfonso Cuarón</th>\n",
       "      <th>Gareth Edwards</th>\n",
       "      <th>Martin Scorsese</th>\n",
       "      <th>Peter Jackson</th>\n",
       "      <th>Alfonso Cuarón</th>\n",
       "      <th>Gareth Edwards</th>\n",
       "      <th>Martin Scorsese</th>\n",
       "      <th>Peter Jackson</th>\n",
       "    </tr>\n",
       "    <tr>\n",
       "      <th>Año</th>\n",
       "      <th></th>\n",
       "      <th></th>\n",
       "      <th></th>\n",
       "      <th></th>\n",
       "      <th></th>\n",
       "      <th></th>\n",
       "      <th></th>\n",
       "      <th></th>\n",
       "      <th></th>\n",
       "      <th></th>\n",
       "      <th></th>\n",
       "      <th></th>\n",
       "    </tr>\n",
       "  </thead>\n",
       "  <tbody>\n",
       "    <tr>\n",
       "      <th>2001</th>\n",
       "      <td>NaN</td>\n",
       "      <td>NaN</td>\n",
       "      <td>NaN</td>\n",
       "      <td>8.9</td>\n",
       "      <td>NaN</td>\n",
       "      <td>NaN</td>\n",
       "      <td>NaN</td>\n",
       "      <td>93.0</td>\n",
       "      <td>NaN</td>\n",
       "      <td>NaN</td>\n",
       "      <td>NaN</td>\n",
       "      <td>Lord of the Rings</td>\n",
       "    </tr>\n",
       "    <tr>\n",
       "      <th>2013</th>\n",
       "      <td>NaN</td>\n",
       "      <td>NaN</td>\n",
       "      <td>8.75</td>\n",
       "      <td>NaN</td>\n",
       "      <td>NaN</td>\n",
       "      <td>NaN</td>\n",
       "      <td>100.0</td>\n",
       "      <td>NaN</td>\n",
       "      <td>Gravity</td>\n",
       "      <td>NaN</td>\n",
       "      <td>El lobo de Wall Street</td>\n",
       "      <td>NaN</td>\n",
       "    </tr>\n",
       "    <tr>\n",
       "      <th>2014</th>\n",
       "      <td>NaN</td>\n",
       "      <td>6.0</td>\n",
       "      <td>NaN</td>\n",
       "      <td>NaN</td>\n",
       "      <td>NaN</td>\n",
       "      <td>160.0</td>\n",
       "      <td>NaN</td>\n",
       "      <td>250.0</td>\n",
       "      <td>NaN</td>\n",
       "      <td>Godzilla</td>\n",
       "      <td>NaN</td>\n",
       "      <td>El Hobbit III</td>\n",
       "    </tr>\n",
       "  </tbody>\n",
       "</table>\n",
       "</div>"
      ],
      "text/plain": [
       "             Valoración                                               \\\n",
       "Director Alfonso Cuarón Gareth Edwards Martin Scorsese Peter Jackson   \n",
       "Año                                                                    \n",
       "2001                NaN            NaN             NaN           8.9   \n",
       "2013                NaN            NaN            8.75           NaN   \n",
       "2014                NaN            6.0             NaN           NaN   \n",
       "\n",
       "            Presupuesto                                               \\\n",
       "Director Alfonso Cuarón Gareth Edwards Martin Scorsese Peter Jackson   \n",
       "Año                                                                    \n",
       "2001                NaN            NaN             NaN          93.0   \n",
       "2013                NaN            NaN           100.0           NaN   \n",
       "2014                NaN          160.0             NaN         250.0   \n",
       "\n",
       "                 Título                                         \\\n",
       "Director Alfonso Cuarón Gareth Edwards         Martin Scorsese   \n",
       "Año                                                              \n",
       "2001                NaN            NaN                     NaN   \n",
       "2013            Gravity            NaN  El lobo de Wall Street   \n",
       "2014                NaN       Godzilla                     NaN   \n",
       "\n",
       "                             \n",
       "Director      Peter Jackson  \n",
       "Año                          \n",
       "2001      Lord of the Rings  \n",
       "2013                    NaN  \n",
       "2014          El Hobbit III  "
      ]
     },
     "execution_count": 99,
     "metadata": {},
     "output_type": "execute_result"
    }
   ],
   "source": [
    "# Pasamos el último nivel de índice de filas a columnas\n",
    "p = p.unstack()\n",
    "p"
   ]
  },
  {
   "cell_type": "code",
   "execution_count": 100,
   "metadata": {},
   "outputs": [
    {
     "data": {
      "text/html": [
       "<div>\n",
       "<style scoped>\n",
       "    .dataframe tbody tr th:only-of-type {\n",
       "        vertical-align: middle;\n",
       "    }\n",
       "\n",
       "    .dataframe tbody tr th {\n",
       "        vertical-align: top;\n",
       "    }\n",
       "\n",
       "    .dataframe thead th {\n",
       "        text-align: right;\n",
       "    }\n",
       "</style>\n",
       "<table border=\"1\" class=\"dataframe\">\n",
       "  <thead>\n",
       "    <tr style=\"text-align: right;\">\n",
       "      <th>Director</th>\n",
       "      <th>Alfonso Cuarón</th>\n",
       "      <th>Gareth Edwards</th>\n",
       "      <th>Martin Scorsese</th>\n",
       "      <th>Peter Jackson</th>\n",
       "    </tr>\n",
       "    <tr>\n",
       "      <th>Año</th>\n",
       "      <th></th>\n",
       "      <th></th>\n",
       "      <th></th>\n",
       "      <th></th>\n",
       "    </tr>\n",
       "  </thead>\n",
       "  <tbody>\n",
       "    <tr>\n",
       "      <th>2001</th>\n",
       "      <td>NaN</td>\n",
       "      <td>NaN</td>\n",
       "      <td>NaN</td>\n",
       "      <td>Lord of the Rings</td>\n",
       "    </tr>\n",
       "    <tr>\n",
       "      <th>2013</th>\n",
       "      <td>Gravity</td>\n",
       "      <td>NaN</td>\n",
       "      <td>El lobo de Wall Street</td>\n",
       "      <td>NaN</td>\n",
       "    </tr>\n",
       "    <tr>\n",
       "      <th>2014</th>\n",
       "      <td>NaN</td>\n",
       "      <td>Godzilla</td>\n",
       "      <td>NaN</td>\n",
       "      <td>El Hobbit III</td>\n",
       "    </tr>\n",
       "  </tbody>\n",
       "</table>\n",
       "</div>"
      ],
      "text/plain": [
       "Director Alfonso Cuarón Gareth Edwards         Martin Scorsese  \\\n",
       "Año                                                              \n",
       "2001                NaN            NaN                     NaN   \n",
       "2013            Gravity            NaN  El lobo de Wall Street   \n",
       "2014                NaN       Godzilla                     NaN   \n",
       "\n",
       "Director      Peter Jackson  \n",
       "Año                          \n",
       "2001      Lord of the Rings  \n",
       "2013                    NaN  \n",
       "2014          El Hobbit III  "
      ]
     },
     "execution_count": 100,
     "metadata": {},
     "output_type": "execute_result"
    }
   ],
   "source": [
    "# Elegimos únicamente el valor de la columna Título\n",
    "p['Título']"
   ]
  },
  {
   "cell_type": "markdown",
   "metadata": {},
   "source": [
    "También podemos crear tablas pivote utilizando una función de agregación para los valores, de forma que se haga una agrupación de resultados."
   ]
  },
  {
   "cell_type": "code",
   "execution_count": 101,
   "metadata": {},
   "outputs": [
    {
     "data": {
      "text/html": [
       "<div>\n",
       "<style scoped>\n",
       "    .dataframe tbody tr th:only-of-type {\n",
       "        vertical-align: middle;\n",
       "    }\n",
       "\n",
       "    .dataframe tbody tr th {\n",
       "        vertical-align: top;\n",
       "    }\n",
       "\n",
       "    .dataframe thead th {\n",
       "        text-align: right;\n",
       "    }\n",
       "</style>\n",
       "<table border=\"1\" class=\"dataframe\">\n",
       "  <thead>\n",
       "    <tr style=\"text-align: right;\">\n",
       "      <th></th>\n",
       "      <th>Año</th>\n",
       "      <th>Valoración</th>\n",
       "      <th>Presupuesto</th>\n",
       "      <th>Director</th>\n",
       "      <th>Título</th>\n",
       "    </tr>\n",
       "  </thead>\n",
       "  <tbody>\n",
       "    <tr>\n",
       "      <th>0</th>\n",
       "      <td>2014</td>\n",
       "      <td>6.00</td>\n",
       "      <td>160.0</td>\n",
       "      <td>Gareth Edwards</td>\n",
       "      <td>Godzilla</td>\n",
       "    </tr>\n",
       "    <tr>\n",
       "      <th>1</th>\n",
       "      <td>2014</td>\n",
       "      <td>NaN</td>\n",
       "      <td>250.0</td>\n",
       "      <td>Peter Jackson</td>\n",
       "      <td>El Hobbit III</td>\n",
       "    </tr>\n",
       "    <tr>\n",
       "      <th>2</th>\n",
       "      <td>2013</td>\n",
       "      <td>8.75</td>\n",
       "      <td>100.0</td>\n",
       "      <td>Martin Scorsese</td>\n",
       "      <td>El lobo de Wall Street</td>\n",
       "    </tr>\n",
       "    <tr>\n",
       "      <th>3</th>\n",
       "      <td>2013</td>\n",
       "      <td>NaN</td>\n",
       "      <td>NaN</td>\n",
       "      <td>Alfonso Cuarón</td>\n",
       "      <td>Gravity</td>\n",
       "    </tr>\n",
       "    <tr>\n",
       "      <th>4</th>\n",
       "      <td>2001</td>\n",
       "      <td>8.90</td>\n",
       "      <td>93.0</td>\n",
       "      <td>Peter Jackson</td>\n",
       "      <td>Lord of the Rings</td>\n",
       "    </tr>\n",
       "  </tbody>\n",
       "</table>\n",
       "</div>"
      ],
      "text/plain": [
       "    Año  Valoración  Presupuesto         Director                  Título\n",
       "0  2014        6.00        160.0   Gareth Edwards                Godzilla\n",
       "1  2014         NaN        250.0    Peter Jackson           El Hobbit III\n",
       "2  2013        8.75        100.0  Martin Scorsese  El lobo de Wall Street\n",
       "3  2013         NaN          NaN   Alfonso Cuarón                 Gravity\n",
       "4  2001        8.90         93.0    Peter Jackson       Lord of the Rings"
      ]
     },
     "execution_count": 101,
     "metadata": {},
     "output_type": "execute_result"
    }
   ],
   "source": [
    "peliculas"
   ]
  },
  {
   "cell_type": "code",
   "execution_count": 102,
   "metadata": {},
   "outputs": [
    {
     "data": {
      "text/plain": [
       "4    2001\n",
       "Name: Año, dtype: int64"
      ]
     },
     "execution_count": 102,
     "metadata": {},
     "output_type": "execute_result"
    }
   ],
   "source": [
    "peliculas.loc[peliculas['Año'] == 2001, 'Año']"
   ]
  },
  {
   "cell_type": "code",
   "execution_count": 103,
   "metadata": {},
   "outputs": [
    {
     "data": {
      "text/html": [
       "<div>\n",
       "<style scoped>\n",
       "    .dataframe tbody tr th:only-of-type {\n",
       "        vertical-align: middle;\n",
       "    }\n",
       "\n",
       "    .dataframe tbody tr th {\n",
       "        vertical-align: top;\n",
       "    }\n",
       "\n",
       "    .dataframe thead th {\n",
       "        text-align: right;\n",
       "    }\n",
       "</style>\n",
       "<table border=\"1\" class=\"dataframe\">\n",
       "  <thead>\n",
       "    <tr style=\"text-align: right;\">\n",
       "      <th></th>\n",
       "      <th>Año</th>\n",
       "      <th>Valoración</th>\n",
       "      <th>Presupuesto</th>\n",
       "      <th>Director</th>\n",
       "      <th>Título</th>\n",
       "    </tr>\n",
       "  </thead>\n",
       "  <tbody>\n",
       "    <tr>\n",
       "      <th>0</th>\n",
       "      <td>2014</td>\n",
       "      <td>6.00</td>\n",
       "      <td>160.0</td>\n",
       "      <td>Gareth Edwards</td>\n",
       "      <td>Godzilla</td>\n",
       "    </tr>\n",
       "    <tr>\n",
       "      <th>1</th>\n",
       "      <td>2014</td>\n",
       "      <td>NaN</td>\n",
       "      <td>250.0</td>\n",
       "      <td>Peter Jackson</td>\n",
       "      <td>El Hobbit III</td>\n",
       "    </tr>\n",
       "    <tr>\n",
       "      <th>2</th>\n",
       "      <td>2013</td>\n",
       "      <td>8.75</td>\n",
       "      <td>100.0</td>\n",
       "      <td>Martin Scorsese</td>\n",
       "      <td>El lobo de Wall Street</td>\n",
       "    </tr>\n",
       "    <tr>\n",
       "      <th>3</th>\n",
       "      <td>2013</td>\n",
       "      <td>NaN</td>\n",
       "      <td>NaN</td>\n",
       "      <td>Alfonso Cuarón</td>\n",
       "      <td>Gravity</td>\n",
       "    </tr>\n",
       "    <tr>\n",
       "      <th>4</th>\n",
       "      <td>2014</td>\n",
       "      <td>8.90</td>\n",
       "      <td>93.0</td>\n",
       "      <td>Peter Jackson</td>\n",
       "      <td>Lord of the Rings</td>\n",
       "    </tr>\n",
       "  </tbody>\n",
       "</table>\n",
       "</div>"
      ],
      "text/plain": [
       "    Año  Valoración  Presupuesto         Director                  Título\n",
       "0  2014        6.00        160.0   Gareth Edwards                Godzilla\n",
       "1  2014         NaN        250.0    Peter Jackson           El Hobbit III\n",
       "2  2013        8.75        100.0  Martin Scorsese  El lobo de Wall Street\n",
       "3  2013         NaN          NaN   Alfonso Cuarón                 Gravity\n",
       "4  2014        8.90         93.0    Peter Jackson       Lord of the Rings"
      ]
     },
     "execution_count": 103,
     "metadata": {},
     "output_type": "execute_result"
    }
   ],
   "source": [
    "# Hacemos que haya dos películas para el mismo año y director\n",
    "peliculas.loc[peliculas['Año'] == 2001, 'Año'] = 2014\n",
    "peliculas"
   ]
  },
  {
   "cell_type": "code",
   "execution_count": 104,
   "metadata": {},
   "outputs": [
    {
     "data": {
      "text/html": [
       "<div>\n",
       "<style scoped>\n",
       "    .dataframe tbody tr th:only-of-type {\n",
       "        vertical-align: middle;\n",
       "    }\n",
       "\n",
       "    .dataframe tbody tr th {\n",
       "        vertical-align: top;\n",
       "    }\n",
       "\n",
       "    .dataframe thead th {\n",
       "        text-align: right;\n",
       "    }\n",
       "</style>\n",
       "<table border=\"1\" class=\"dataframe\">\n",
       "  <thead>\n",
       "    <tr style=\"text-align: right;\">\n",
       "      <th>Año</th>\n",
       "      <th>2013</th>\n",
       "      <th>2014</th>\n",
       "    </tr>\n",
       "    <tr>\n",
       "      <th>Director</th>\n",
       "      <th></th>\n",
       "      <th></th>\n",
       "    </tr>\n",
       "  </thead>\n",
       "  <tbody>\n",
       "    <tr>\n",
       "      <th>Alfonso Cuarón</th>\n",
       "      <td>0.0</td>\n",
       "      <td>NaN</td>\n",
       "    </tr>\n",
       "    <tr>\n",
       "      <th>Gareth Edwards</th>\n",
       "      <td>NaN</td>\n",
       "      <td>160.0</td>\n",
       "    </tr>\n",
       "    <tr>\n",
       "      <th>Martin Scorsese</th>\n",
       "      <td>100.0</td>\n",
       "      <td>NaN</td>\n",
       "    </tr>\n",
       "    <tr>\n",
       "      <th>Peter Jackson</th>\n",
       "      <td>NaN</td>\n",
       "      <td>343.0</td>\n",
       "    </tr>\n",
       "  </tbody>\n",
       "</table>\n",
       "</div>"
      ],
      "text/plain": [
       "Año               2013   2014\n",
       "Director                     \n",
       "Alfonso Cuarón     0.0    NaN\n",
       "Gareth Edwards     NaN  160.0\n",
       "Martin Scorsese  100.0    NaN\n",
       "Peter Jackson      NaN  343.0"
      ]
     },
     "execution_count": 104,
     "metadata": {},
     "output_type": "execute_result"
    }
   ],
   "source": [
    "# Utilizamos la función pivot_table para establecer: valor, índice, columnas y función de agregación en caso de colisión\n",
    "pd.pivot_table(peliculas, values='Presupuesto', index=['Director'], columns=['Año'], aggfunc=np.sum)"
   ]
  },
  {
   "cell_type": "markdown",
   "metadata": {},
   "source": [
    "## Eliminación de filas y/o columnas en pandas"
   ]
  },
  {
   "cell_type": "markdown",
   "metadata": {},
   "source": [
    "Aunque el proceso de eliminación de columnas se puede hacer mediante la aplicación de los mismos métodos que en el caso de diccionarios, pandas pone a nuestra disposición el método <b>drop</b>."
   ]
  },
  {
   "cell_type": "code",
   "execution_count": 105,
   "metadata": {},
   "outputs": [
    {
     "data": {
      "text/plain": [
       "a    1\n",
       "b    2\n",
       "c    3\n",
       "d    4\n",
       "dtype: int64"
      ]
     },
     "execution_count": 105,
     "metadata": {},
     "output_type": "execute_result"
    }
   ],
   "source": [
    "serie = pd.Series([1,2,3,4], index=['a','b','c','d'])\n",
    "serie"
   ]
  },
  {
   "cell_type": "code",
   "execution_count": 106,
   "metadata": {},
   "outputs": [
    {
     "data": {
      "text/html": [
       "<div>\n",
       "<style scoped>\n",
       "    .dataframe tbody tr th:only-of-type {\n",
       "        vertical-align: middle;\n",
       "    }\n",
       "\n",
       "    .dataframe tbody tr th {\n",
       "        vertical-align: top;\n",
       "    }\n",
       "\n",
       "    .dataframe thead th {\n",
       "        text-align: right;\n",
       "    }\n",
       "</style>\n",
       "<table border=\"1\" class=\"dataframe\">\n",
       "  <thead>\n",
       "    <tr style=\"text-align: right;\">\n",
       "      <th></th>\n",
       "      <th>c1</th>\n",
       "      <th>c2</th>\n",
       "      <th>c3</th>\n",
       "      <th>c4</th>\n",
       "    </tr>\n",
       "  </thead>\n",
       "  <tbody>\n",
       "    <tr>\n",
       "      <th>f1</th>\n",
       "      <td>0</td>\n",
       "      <td>1</td>\n",
       "      <td>2</td>\n",
       "      <td>3</td>\n",
       "    </tr>\n",
       "    <tr>\n",
       "      <th>f2</th>\n",
       "      <td>4</td>\n",
       "      <td>5</td>\n",
       "      <td>6</td>\n",
       "      <td>7</td>\n",
       "    </tr>\n",
       "    <tr>\n",
       "      <th>f3</th>\n",
       "      <td>8</td>\n",
       "      <td>9</td>\n",
       "      <td>10</td>\n",
       "      <td>11</td>\n",
       "    </tr>\n",
       "    <tr>\n",
       "      <th>f4</th>\n",
       "      <td>12</td>\n",
       "      <td>13</td>\n",
       "      <td>14</td>\n",
       "      <td>15</td>\n",
       "    </tr>\n",
       "  </tbody>\n",
       "</table>\n",
       "</div>"
      ],
      "text/plain": [
       "    c1  c2  c3  c4\n",
       "f1   0   1   2   3\n",
       "f2   4   5   6   7\n",
       "f3   8   9  10  11\n",
       "f4  12  13  14  15"
      ]
     },
     "execution_count": 106,
     "metadata": {},
     "output_type": "execute_result"
    }
   ],
   "source": [
    "dataframe = pd.DataFrame(np.arange(16).reshape(4, 4), index=['f1', 'f2', 'f3', 'f4'], columns=['c1','c2','c3','c4'])\n",
    "dataframe"
   ]
  },
  {
   "cell_type": "code",
   "execution_count": 107,
   "metadata": {},
   "outputs": [
    {
     "data": {
      "text/plain": [
       "b    2\n",
       "c    3\n",
       "d    4\n",
       "dtype: int64"
      ]
     },
     "execution_count": 107,
     "metadata": {},
     "output_type": "execute_result"
    }
   ],
   "source": [
    "# Eliminación de valores de una Serie\n",
    "serie.drop('a')"
   ]
  },
  {
   "cell_type": "code",
   "execution_count": 108,
   "metadata": {},
   "outputs": [],
   "source": [
    "del serie['b']"
   ]
  },
  {
   "cell_type": "code",
   "execution_count": 109,
   "metadata": {},
   "outputs": [
    {
     "data": {
      "text/html": [
       "<div>\n",
       "<style scoped>\n",
       "    .dataframe tbody tr th:only-of-type {\n",
       "        vertical-align: middle;\n",
       "    }\n",
       "\n",
       "    .dataframe tbody tr th {\n",
       "        vertical-align: top;\n",
       "    }\n",
       "\n",
       "    .dataframe thead th {\n",
       "        text-align: right;\n",
       "    }\n",
       "</style>\n",
       "<table border=\"1\" class=\"dataframe\">\n",
       "  <thead>\n",
       "    <tr style=\"text-align: right;\">\n",
       "      <th></th>\n",
       "      <th>c1</th>\n",
       "      <th>c2</th>\n",
       "      <th>c3</th>\n",
       "      <th>c4</th>\n",
       "    </tr>\n",
       "  </thead>\n",
       "  <tbody>\n",
       "    <tr>\n",
       "      <th>f3</th>\n",
       "      <td>8</td>\n",
       "      <td>9</td>\n",
       "      <td>10</td>\n",
       "      <td>11</td>\n",
       "    </tr>\n",
       "    <tr>\n",
       "      <th>f4</th>\n",
       "      <td>12</td>\n",
       "      <td>13</td>\n",
       "      <td>14</td>\n",
       "      <td>15</td>\n",
       "    </tr>\n",
       "  </tbody>\n",
       "</table>\n",
       "</div>"
      ],
      "text/plain": [
       "    c1  c2  c3  c4\n",
       "f3   8   9  10  11\n",
       "f4  12  13  14  15"
      ]
     },
     "execution_count": 109,
     "metadata": {},
     "output_type": "execute_result"
    }
   ],
   "source": [
    "# Eliminación de filas de un DataFrame\n",
    "dataframe.drop(['f1',  'f2'])"
   ]
  },
  {
   "cell_type": "code",
   "execution_count": 110,
   "metadata": {},
   "outputs": [
    {
     "data": {
      "text/html": [
       "<div>\n",
       "<style scoped>\n",
       "    .dataframe tbody tr th:only-of-type {\n",
       "        vertical-align: middle;\n",
       "    }\n",
       "\n",
       "    .dataframe tbody tr th {\n",
       "        vertical-align: top;\n",
       "    }\n",
       "\n",
       "    .dataframe thead th {\n",
       "        text-align: right;\n",
       "    }\n",
       "</style>\n",
       "<table border=\"1\" class=\"dataframe\">\n",
       "  <thead>\n",
       "    <tr style=\"text-align: right;\">\n",
       "      <th></th>\n",
       "      <th>c1</th>\n",
       "      <th>c2</th>\n",
       "      <th>c3</th>\n",
       "      <th>c4</th>\n",
       "    </tr>\n",
       "  </thead>\n",
       "  <tbody>\n",
       "    <tr>\n",
       "      <th>f1</th>\n",
       "      <td>0</td>\n",
       "      <td>1</td>\n",
       "      <td>2</td>\n",
       "      <td>3</td>\n",
       "    </tr>\n",
       "    <tr>\n",
       "      <th>f2</th>\n",
       "      <td>4</td>\n",
       "      <td>5</td>\n",
       "      <td>6</td>\n",
       "      <td>7</td>\n",
       "    </tr>\n",
       "    <tr>\n",
       "      <th>f3</th>\n",
       "      <td>8</td>\n",
       "      <td>9</td>\n",
       "      <td>10</td>\n",
       "      <td>11</td>\n",
       "    </tr>\n",
       "    <tr>\n",
       "      <th>f4</th>\n",
       "      <td>12</td>\n",
       "      <td>13</td>\n",
       "      <td>14</td>\n",
       "      <td>15</td>\n",
       "    </tr>\n",
       "  </tbody>\n",
       "</table>\n",
       "</div>"
      ],
      "text/plain": [
       "    c1  c2  c3  c4\n",
       "f1   0   1   2   3\n",
       "f2   4   5   6   7\n",
       "f3   8   9  10  11\n",
       "f4  12  13  14  15"
      ]
     },
     "execution_count": 110,
     "metadata": {},
     "output_type": "execute_result"
    }
   ],
   "source": [
    "dataframe"
   ]
  },
  {
   "cell_type": "code",
   "execution_count": 111,
   "metadata": {},
   "outputs": [
    {
     "data": {
      "text/html": [
       "<div>\n",
       "<style scoped>\n",
       "    .dataframe tbody tr th:only-of-type {\n",
       "        vertical-align: middle;\n",
       "    }\n",
       "\n",
       "    .dataframe tbody tr th {\n",
       "        vertical-align: top;\n",
       "    }\n",
       "\n",
       "    .dataframe thead th {\n",
       "        text-align: right;\n",
       "    }\n",
       "</style>\n",
       "<table border=\"1\" class=\"dataframe\">\n",
       "  <thead>\n",
       "    <tr style=\"text-align: right;\">\n",
       "      <th></th>\n",
       "      <th>c1</th>\n",
       "      <th>c3</th>\n",
       "      <th>c4</th>\n",
       "    </tr>\n",
       "  </thead>\n",
       "  <tbody>\n",
       "    <tr>\n",
       "      <th>f1</th>\n",
       "      <td>0</td>\n",
       "      <td>2</td>\n",
       "      <td>3</td>\n",
       "    </tr>\n",
       "    <tr>\n",
       "      <th>f2</th>\n",
       "      <td>4</td>\n",
       "      <td>6</td>\n",
       "      <td>7</td>\n",
       "    </tr>\n",
       "    <tr>\n",
       "      <th>f3</th>\n",
       "      <td>8</td>\n",
       "      <td>10</td>\n",
       "      <td>11</td>\n",
       "    </tr>\n",
       "    <tr>\n",
       "      <th>f4</th>\n",
       "      <td>12</td>\n",
       "      <td>14</td>\n",
       "      <td>15</td>\n",
       "    </tr>\n",
       "  </tbody>\n",
       "</table>\n",
       "</div>"
      ],
      "text/plain": [
       "    c1  c3  c4\n",
       "f1   0   2   3\n",
       "f2   4   6   7\n",
       "f3   8  10  11\n",
       "f4  12  14  15"
      ]
     },
     "execution_count": 111,
     "metadata": {},
     "output_type": "execute_result"
    }
   ],
   "source": [
    "# Eliminación de columnas de un DataFrame\n",
    "dataframe.drop('c2', axis=1)"
   ]
  },
  {
   "cell_type": "markdown",
   "metadata": {},
   "source": [
    "## Aritmética con estructuras de pandas"
   ]
  },
  {
   "cell_type": "markdown",
   "metadata": {},
   "source": [
    "Aunque, como ya se ha visto, podemos aprovechar la compatibilidad con NumPy para llevar a cabo operaciones aritméticas básicas, estas operaciones aplican el proceso de \"alineación\" de índices introduciendo valores NaN en los resultados cuando no hay coincidencia de claves. Para solucionar este problema, pandas nos ofrece algunas funciones de utilidad para las más básicas (suma, resta, multiplicación y división) que permiten establecer un valor de \"relleno\" en el caso de claves no coincidentes."
   ]
  },
  {
   "cell_type": "code",
   "execution_count": 112,
   "metadata": {},
   "outputs": [
    {
     "data": {
      "text/plain": [
       "a    1\n",
       "b    2\n",
       "c    3\n",
       "d    4\n",
       "dtype: int64"
      ]
     },
     "execution_count": 112,
     "metadata": {},
     "output_type": "execute_result"
    }
   ],
   "source": [
    "serie1 = pd.Series([1, 2, 3, 4], index=['a', 'b', 'c', 'd'])\n",
    "serie1"
   ]
  },
  {
   "cell_type": "code",
   "execution_count": 113,
   "metadata": {},
   "outputs": [
    {
     "data": {
      "text/plain": [
       "c    5\n",
       "d    6\n",
       "e    7\n",
       "f    8\n",
       "dtype: int64"
      ]
     },
     "execution_count": 113,
     "metadata": {},
     "output_type": "execute_result"
    }
   ],
   "source": [
    "serie2 = pd.Series([5, 6, 7, 8], index=['c', 'd', 'e', 'f'])\n",
    "serie2"
   ]
  },
  {
   "cell_type": "code",
   "execution_count": 114,
   "metadata": {},
   "outputs": [
    {
     "data": {
      "text/plain": [
       "a     NaN\n",
       "b     NaN\n",
       "c     8.0\n",
       "d    10.0\n",
       "e     NaN\n",
       "f     NaN\n",
       "dtype: float64"
      ]
     },
     "execution_count": 114,
     "metadata": {},
     "output_type": "execute_result"
    }
   ],
   "source": [
    "# Resultado de operación básica\"\n",
    "serie1 + serie2"
   ]
  },
  {
   "cell_type": "code",
   "execution_count": 115,
   "metadata": {},
   "outputs": [
    {
     "data": {
      "text/plain": [
       "a     NaN\n",
       "b     NaN\n",
       "c     8.0\n",
       "d    10.0\n",
       "e     NaN\n",
       "f     NaN\n",
       "dtype: float64"
      ]
     },
     "execution_count": 115,
     "metadata": {},
     "output_type": "execute_result"
    }
   ],
   "source": [
    "# Resultado con operación pandas\n",
    "serie1.add(serie2)"
   ]
  },
  {
   "cell_type": "code",
   "execution_count": 116,
   "metadata": {},
   "outputs": [
    {
     "data": {
      "text/plain": [
       "a     1.0\n",
       "b     2.0\n",
       "c     8.0\n",
       "d    10.0\n",
       "e     7.0\n",
       "f     8.0\n",
       "dtype: float64"
      ]
     },
     "execution_count": 116,
     "metadata": {},
     "output_type": "execute_result"
    }
   ],
   "source": [
    "# Resultado con operación pandas y relleno\n",
    "serie1.add(serie2, fill_value=0)"
   ]
  },
  {
   "cell_type": "code",
   "execution_count": 117,
   "metadata": {},
   "outputs": [
    {
     "data": {
      "text/plain": [
       "a    1.0\n",
       "b    2.0\n",
       "c   -2.0\n",
       "d   -2.0\n",
       "e   -7.0\n",
       "f   -8.0\n",
       "dtype: float64"
      ]
     },
     "execution_count": 117,
     "metadata": {},
     "output_type": "execute_result"
    }
   ],
   "source": [
    "serie1.sub(serie2, fill_value=0)"
   ]
  },
  {
   "cell_type": "code",
   "execution_count": 118,
   "metadata": {},
   "outputs": [
    {
     "data": {
      "text/plain": [
       "a     0.0\n",
       "b     0.0\n",
       "c    15.0\n",
       "d    24.0\n",
       "e     0.0\n",
       "f     0.0\n",
       "dtype: float64"
      ]
     },
     "execution_count": 118,
     "metadata": {},
     "output_type": "execute_result"
    }
   ],
   "source": [
    "serie1.mul(serie2, fill_value=0)"
   ]
  },
  {
   "cell_type": "code",
   "execution_count": 119,
   "metadata": {},
   "outputs": [
    {
     "data": {
      "text/plain": [
       "a         inf\n",
       "b         inf\n",
       "c    0.600000\n",
       "d    0.666667\n",
       "e    0.000000\n",
       "f    0.000000\n",
       "dtype: float64"
      ]
     },
     "execution_count": 119,
     "metadata": {},
     "output_type": "execute_result"
    }
   ],
   "source": [
    "serie1.div(serie2, fill_value=0)"
   ]
  },
  {
   "cell_type": "markdown",
   "metadata": {},
   "source": [
    "## Ordenación en estructuras de pandas"
   ]
  },
  {
   "cell_type": "markdown",
   "metadata": {},
   "source": [
    "pandas pone a nuestra disposición varias formas de realizar ordenaciones de los contenidos de una Serie o un DataFrame. Vamos a ver los más utilizados."
   ]
  },
  {
   "cell_type": "markdown",
   "metadata": {},
   "source": [
    "#### Ordenación en Series"
   ]
  },
  {
   "cell_type": "code",
   "execution_count": 120,
   "metadata": {},
   "outputs": [
    {
     "data": {
      "text/plain": [
       "d    3\n",
       "a    2\n",
       "c    1\n",
       "b    4\n",
       "dtype: int64"
      ]
     },
     "execution_count": 120,
     "metadata": {},
     "output_type": "execute_result"
    }
   ],
   "source": [
    "serie = pd.Series([3, 2, 1, 4], index=['d', 'a', 'c', 'b'])\n",
    "serie"
   ]
  },
  {
   "cell_type": "code",
   "execution_count": 121,
   "metadata": {},
   "outputs": [
    {
     "data": {
      "text/plain": [
       "a    2\n",
       "b    4\n",
       "c    1\n",
       "d    3\n",
       "dtype: int64"
      ]
     },
     "execution_count": 121,
     "metadata": {},
     "output_type": "execute_result"
    }
   ],
   "source": [
    "# Ordenación por índice\n",
    "serie.sort_index()"
   ]
  },
  {
   "cell_type": "code",
   "execution_count": 122,
   "metadata": {},
   "outputs": [
    {
     "data": {
      "text/plain": [
       "d    3\n",
       "c    1\n",
       "b    4\n",
       "a    2\n",
       "dtype: int64"
      ]
     },
     "execution_count": 122,
     "metadata": {},
     "output_type": "execute_result"
    }
   ],
   "source": [
    "# Ordenación descendente por índice\n",
    "serie.sort_index(ascending=False)"
   ]
  },
  {
   "cell_type": "code",
   "execution_count": 123,
   "metadata": {},
   "outputs": [
    {
     "data": {
      "text/plain": [
       "c    1\n",
       "a    2\n",
       "d    3\n",
       "b    4\n",
       "dtype: int64"
      ]
     },
     "execution_count": 123,
     "metadata": {},
     "output_type": "execute_result"
    }
   ],
   "source": [
    "# Ordenación por valores\n",
    "serie.sort_values()"
   ]
  },
  {
   "cell_type": "code",
   "execution_count": 124,
   "metadata": {},
   "outputs": [
    {
     "data": {
      "text/plain": [
       "b    4\n",
       "d    3\n",
       "a    2\n",
       "c    1\n",
       "dtype: int64"
      ]
     },
     "execution_count": 124,
     "metadata": {},
     "output_type": "execute_result"
    }
   ],
   "source": [
    "# Ordenación por valores descendente\n",
    "serie.sort_values(ascending=False)"
   ]
  },
  {
   "cell_type": "markdown",
   "metadata": {},
   "source": [
    "#### Ordenación en DataFrames"
   ]
  },
  {
   "cell_type": "code",
   "execution_count": 125,
   "metadata": {},
   "outputs": [
    {
     "data": {
      "text/html": [
       "<div>\n",
       "<style scoped>\n",
       "    .dataframe tbody tr th:only-of-type {\n",
       "        vertical-align: middle;\n",
       "    }\n",
       "\n",
       "    .dataframe tbody tr th {\n",
       "        vertical-align: top;\n",
       "    }\n",
       "\n",
       "    .dataframe thead th {\n",
       "        text-align: right;\n",
       "    }\n",
       "</style>\n",
       "<table border=\"1\" class=\"dataframe\">\n",
       "  <thead>\n",
       "    <tr style=\"text-align: right;\">\n",
       "      <th></th>\n",
       "      <th>c3</th>\n",
       "      <th>c1</th>\n",
       "      <th>c4</th>\n",
       "      <th>c2</th>\n",
       "    </tr>\n",
       "  </thead>\n",
       "  <tbody>\n",
       "    <tr>\n",
       "      <th>f3</th>\n",
       "      <td>0</td>\n",
       "      <td>1</td>\n",
       "      <td>2</td>\n",
       "      <td>3</td>\n",
       "    </tr>\n",
       "    <tr>\n",
       "      <th>f1</th>\n",
       "      <td>4</td>\n",
       "      <td>5</td>\n",
       "      <td>6</td>\n",
       "      <td>7</td>\n",
       "    </tr>\n",
       "    <tr>\n",
       "      <th>f4</th>\n",
       "      <td>8</td>\n",
       "      <td>9</td>\n",
       "      <td>10</td>\n",
       "      <td>11</td>\n",
       "    </tr>\n",
       "    <tr>\n",
       "      <th>f2</th>\n",
       "      <td>12</td>\n",
       "      <td>13</td>\n",
       "      <td>14</td>\n",
       "      <td>15</td>\n",
       "    </tr>\n",
       "  </tbody>\n",
       "</table>\n",
       "</div>"
      ],
      "text/plain": [
       "    c3  c1  c4  c2\n",
       "f3   0   1   2   3\n",
       "f1   4   5   6   7\n",
       "f4   8   9  10  11\n",
       "f2  12  13  14  15"
      ]
     },
     "execution_count": 125,
     "metadata": {},
     "output_type": "execute_result"
    }
   ],
   "source": [
    "dataframe = pd.DataFrame(np.arange(16).reshape(4, 4), index=['f3', 'f1', 'f4', 'f2'], columns=['c3', 'c1', 'c4', 'c2'])\n",
    "dataframe"
   ]
  },
  {
   "cell_type": "code",
   "execution_count": 126,
   "metadata": {},
   "outputs": [
    {
     "data": {
      "text/html": [
       "<div>\n",
       "<style scoped>\n",
       "    .dataframe tbody tr th:only-of-type {\n",
       "        vertical-align: middle;\n",
       "    }\n",
       "\n",
       "    .dataframe tbody tr th {\n",
       "        vertical-align: top;\n",
       "    }\n",
       "\n",
       "    .dataframe thead th {\n",
       "        text-align: right;\n",
       "    }\n",
       "</style>\n",
       "<table border=\"1\" class=\"dataframe\">\n",
       "  <thead>\n",
       "    <tr style=\"text-align: right;\">\n",
       "      <th></th>\n",
       "      <th>c3</th>\n",
       "      <th>c1</th>\n",
       "      <th>c4</th>\n",
       "      <th>c2</th>\n",
       "    </tr>\n",
       "  </thead>\n",
       "  <tbody>\n",
       "    <tr>\n",
       "      <th>f1</th>\n",
       "      <td>4</td>\n",
       "      <td>5</td>\n",
       "      <td>6</td>\n",
       "      <td>7</td>\n",
       "    </tr>\n",
       "    <tr>\n",
       "      <th>f2</th>\n",
       "      <td>12</td>\n",
       "      <td>13</td>\n",
       "      <td>14</td>\n",
       "      <td>15</td>\n",
       "    </tr>\n",
       "    <tr>\n",
       "      <th>f3</th>\n",
       "      <td>0</td>\n",
       "      <td>1</td>\n",
       "      <td>2</td>\n",
       "      <td>3</td>\n",
       "    </tr>\n",
       "    <tr>\n",
       "      <th>f4</th>\n",
       "      <td>8</td>\n",
       "      <td>9</td>\n",
       "      <td>10</td>\n",
       "      <td>11</td>\n",
       "    </tr>\n",
       "  </tbody>\n",
       "</table>\n",
       "</div>"
      ],
      "text/plain": [
       "    c3  c1  c4  c2\n",
       "f1   4   5   6   7\n",
       "f2  12  13  14  15\n",
       "f3   0   1   2   3\n",
       "f4   8   9  10  11"
      ]
     },
     "execution_count": 126,
     "metadata": {},
     "output_type": "execute_result"
    }
   ],
   "source": [
    "# Ordenación por índice de filas\n",
    "dataframe.sort_index()"
   ]
  },
  {
   "cell_type": "code",
   "execution_count": 127,
   "metadata": {},
   "outputs": [
    {
     "data": {
      "text/html": [
       "<div>\n",
       "<style scoped>\n",
       "    .dataframe tbody tr th:only-of-type {\n",
       "        vertical-align: middle;\n",
       "    }\n",
       "\n",
       "    .dataframe tbody tr th {\n",
       "        vertical-align: top;\n",
       "    }\n",
       "\n",
       "    .dataframe thead th {\n",
       "        text-align: right;\n",
       "    }\n",
       "</style>\n",
       "<table border=\"1\" class=\"dataframe\">\n",
       "  <thead>\n",
       "    <tr style=\"text-align: right;\">\n",
       "      <th></th>\n",
       "      <th>c1</th>\n",
       "      <th>c2</th>\n",
       "      <th>c3</th>\n",
       "      <th>c4</th>\n",
       "    </tr>\n",
       "  </thead>\n",
       "  <tbody>\n",
       "    <tr>\n",
       "      <th>f3</th>\n",
       "      <td>1</td>\n",
       "      <td>3</td>\n",
       "      <td>0</td>\n",
       "      <td>2</td>\n",
       "    </tr>\n",
       "    <tr>\n",
       "      <th>f1</th>\n",
       "      <td>5</td>\n",
       "      <td>7</td>\n",
       "      <td>4</td>\n",
       "      <td>6</td>\n",
       "    </tr>\n",
       "    <tr>\n",
       "      <th>f4</th>\n",
       "      <td>9</td>\n",
       "      <td>11</td>\n",
       "      <td>8</td>\n",
       "      <td>10</td>\n",
       "    </tr>\n",
       "    <tr>\n",
       "      <th>f2</th>\n",
       "      <td>13</td>\n",
       "      <td>15</td>\n",
       "      <td>12</td>\n",
       "      <td>14</td>\n",
       "    </tr>\n",
       "  </tbody>\n",
       "</table>\n",
       "</div>"
      ],
      "text/plain": [
       "    c1  c2  c3  c4\n",
       "f3   1   3   0   2\n",
       "f1   5   7   4   6\n",
       "f4   9  11   8  10\n",
       "f2  13  15  12  14"
      ]
     },
     "execution_count": 127,
     "metadata": {},
     "output_type": "execute_result"
    }
   ],
   "source": [
    "# Ordenación por índice de columnas\n",
    "dataframe.sort_index(axis=1)"
   ]
  },
  {
   "cell_type": "code",
   "execution_count": 128,
   "metadata": {},
   "outputs": [
    {
     "data": {
      "text/html": [
       "<div>\n",
       "<style scoped>\n",
       "    .dataframe tbody tr th:only-of-type {\n",
       "        vertical-align: middle;\n",
       "    }\n",
       "\n",
       "    .dataframe tbody tr th {\n",
       "        vertical-align: top;\n",
       "    }\n",
       "\n",
       "    .dataframe thead th {\n",
       "        text-align: right;\n",
       "    }\n",
       "</style>\n",
       "<table border=\"1\" class=\"dataframe\">\n",
       "  <thead>\n",
       "    <tr style=\"text-align: right;\">\n",
       "      <th></th>\n",
       "      <th>c3</th>\n",
       "      <th>c1</th>\n",
       "      <th>c4</th>\n",
       "      <th>c2</th>\n",
       "    </tr>\n",
       "  </thead>\n",
       "  <tbody>\n",
       "    <tr>\n",
       "      <th>f4</th>\n",
       "      <td>8</td>\n",
       "      <td>9</td>\n",
       "      <td>10</td>\n",
       "      <td>11</td>\n",
       "    </tr>\n",
       "    <tr>\n",
       "      <th>f3</th>\n",
       "      <td>0</td>\n",
       "      <td>1</td>\n",
       "      <td>2</td>\n",
       "      <td>3</td>\n",
       "    </tr>\n",
       "    <tr>\n",
       "      <th>f2</th>\n",
       "      <td>12</td>\n",
       "      <td>13</td>\n",
       "      <td>14</td>\n",
       "      <td>15</td>\n",
       "    </tr>\n",
       "    <tr>\n",
       "      <th>f1</th>\n",
       "      <td>4</td>\n",
       "      <td>5</td>\n",
       "      <td>6</td>\n",
       "      <td>7</td>\n",
       "    </tr>\n",
       "  </tbody>\n",
       "</table>\n",
       "</div>"
      ],
      "text/plain": [
       "    c3  c1  c4  c2\n",
       "f4   8   9  10  11\n",
       "f3   0   1   2   3\n",
       "f2  12  13  14  15\n",
       "f1   4   5   6   7"
      ]
     },
     "execution_count": 128,
     "metadata": {},
     "output_type": "execute_result"
    }
   ],
   "source": [
    "# Ordenación descendente por índice de filas\n",
    "dataframe.sort_index(ascending=False)"
   ]
  },
  {
   "cell_type": "code",
   "execution_count": 129,
   "metadata": {},
   "outputs": [
    {
     "data": {
      "text/html": [
       "<div>\n",
       "<style scoped>\n",
       "    .dataframe tbody tr th:only-of-type {\n",
       "        vertical-align: middle;\n",
       "    }\n",
       "\n",
       "    .dataframe tbody tr th {\n",
       "        vertical-align: top;\n",
       "    }\n",
       "\n",
       "    .dataframe thead th {\n",
       "        text-align: right;\n",
       "    }\n",
       "</style>\n",
       "<table border=\"1\" class=\"dataframe\">\n",
       "  <thead>\n",
       "    <tr style=\"text-align: right;\">\n",
       "      <th></th>\n",
       "      <th>c3</th>\n",
       "      <th>c1</th>\n",
       "      <th>c4</th>\n",
       "      <th>c2</th>\n",
       "    </tr>\n",
       "  </thead>\n",
       "  <tbody>\n",
       "    <tr>\n",
       "      <th>f3</th>\n",
       "      <td>0</td>\n",
       "      <td>1</td>\n",
       "      <td>2</td>\n",
       "      <td>3</td>\n",
       "    </tr>\n",
       "    <tr>\n",
       "      <th>f1</th>\n",
       "      <td>4</td>\n",
       "      <td>5</td>\n",
       "      <td>6</td>\n",
       "      <td>7</td>\n",
       "    </tr>\n",
       "    <tr>\n",
       "      <th>f4</th>\n",
       "      <td>8</td>\n",
       "      <td>9</td>\n",
       "      <td>10</td>\n",
       "      <td>11</td>\n",
       "    </tr>\n",
       "    <tr>\n",
       "      <th>f2</th>\n",
       "      <td>12</td>\n",
       "      <td>13</td>\n",
       "      <td>14</td>\n",
       "      <td>15</td>\n",
       "    </tr>\n",
       "  </tbody>\n",
       "</table>\n",
       "</div>"
      ],
      "text/plain": [
       "    c3  c1  c4  c2\n",
       "f3   0   1   2   3\n",
       "f1   4   5   6   7\n",
       "f4   8   9  10  11\n",
       "f2  12  13  14  15"
      ]
     },
     "execution_count": 129,
     "metadata": {},
     "output_type": "execute_result"
    }
   ],
   "source": [
    "# Ordenación por valores de filas\n",
    "dataframe.sort_values(['f1'], axis=1)"
   ]
  },
  {
   "cell_type": "code",
   "execution_count": 130,
   "metadata": {},
   "outputs": [
    {
     "data": {
      "text/html": [
       "<div>\n",
       "<style scoped>\n",
       "    .dataframe tbody tr th:only-of-type {\n",
       "        vertical-align: middle;\n",
       "    }\n",
       "\n",
       "    .dataframe tbody tr th {\n",
       "        vertical-align: top;\n",
       "    }\n",
       "\n",
       "    .dataframe thead th {\n",
       "        text-align: right;\n",
       "    }\n",
       "</style>\n",
       "<table border=\"1\" class=\"dataframe\">\n",
       "  <thead>\n",
       "    <tr style=\"text-align: right;\">\n",
       "      <th></th>\n",
       "      <th>c3</th>\n",
       "      <th>c1</th>\n",
       "      <th>c4</th>\n",
       "      <th>c2</th>\n",
       "    </tr>\n",
       "  </thead>\n",
       "  <tbody>\n",
       "    <tr>\n",
       "      <th>f3</th>\n",
       "      <td>0</td>\n",
       "      <td>1</td>\n",
       "      <td>2</td>\n",
       "      <td>3</td>\n",
       "    </tr>\n",
       "    <tr>\n",
       "      <th>f1</th>\n",
       "      <td>4</td>\n",
       "      <td>5</td>\n",
       "      <td>6</td>\n",
       "      <td>7</td>\n",
       "    </tr>\n",
       "    <tr>\n",
       "      <th>f4</th>\n",
       "      <td>8</td>\n",
       "      <td>9</td>\n",
       "      <td>10</td>\n",
       "      <td>11</td>\n",
       "    </tr>\n",
       "    <tr>\n",
       "      <th>f2</th>\n",
       "      <td>12</td>\n",
       "      <td>13</td>\n",
       "      <td>14</td>\n",
       "      <td>15</td>\n",
       "    </tr>\n",
       "  </tbody>\n",
       "</table>\n",
       "</div>"
      ],
      "text/plain": [
       "    c3  c1  c4  c2\n",
       "f3   0   1   2   3\n",
       "f1   4   5   6   7\n",
       "f4   8   9  10  11\n",
       "f2  12  13  14  15"
      ]
     },
     "execution_count": 130,
     "metadata": {},
     "output_type": "execute_result"
    }
   ],
   "source": [
    "# Ordenación por valores de columnas\n",
    "dataframe.sort_values(['c1'])"
   ]
  },
  {
   "cell_type": "markdown",
   "metadata": {},
   "source": [
    "## Recuperación de muestras parciales del contenido"
   ]
  },
  {
   "cell_type": "markdown",
   "metadata": {},
   "source": [
    "En estructuras de datos potencialmente grandes, suele ser muy necesaria la recuperación de una muestra de ejemplo de un conjunto reducido de elementos que permitan hacerse una idea del contenido de la estructura sin necesidad de listar TODO el contenido de la misma. Pandas, como R, pone a nuestra disposición dos métodos <b>head</b> (para obtener un muestra del inicio de la estructura) y <b>tail</b> para obtener la muestras del final. Ambos métodos recibirán como parámetro el número de registros a recuperar."
   ]
  },
  {
   "cell_type": "code",
   "execution_count": 131,
   "metadata": {},
   "outputs": [
    {
     "data": {
      "text/plain": [
       "0      0\n",
       "1      1\n",
       "2      2\n",
       "3      3\n",
       "4      4\n",
       "      ..\n",
       "95    95\n",
       "96    96\n",
       "97    97\n",
       "98    98\n",
       "99    99\n",
       "Length: 100, dtype: int32"
      ]
     },
     "execution_count": 131,
     "metadata": {},
     "output_type": "execute_result"
    }
   ],
   "source": [
    "serie = pd.Series(np.arange(100))\n",
    "serie"
   ]
  },
  {
   "cell_type": "code",
   "execution_count": 132,
   "metadata": {},
   "outputs": [
    {
     "data": {
      "text/html": [
       "<div>\n",
       "<style scoped>\n",
       "    .dataframe tbody tr th:only-of-type {\n",
       "        vertical-align: middle;\n",
       "    }\n",
       "\n",
       "    .dataframe tbody tr th {\n",
       "        vertical-align: top;\n",
       "    }\n",
       "\n",
       "    .dataframe thead th {\n",
       "        text-align: right;\n",
       "    }\n",
       "</style>\n",
       "<table border=\"1\" class=\"dataframe\">\n",
       "  <thead>\n",
       "    <tr style=\"text-align: right;\">\n",
       "      <th></th>\n",
       "      <th>0</th>\n",
       "      <th>1</th>\n",
       "      <th>2</th>\n",
       "      <th>3</th>\n",
       "      <th>4</th>\n",
       "      <th>5</th>\n",
       "      <th>6</th>\n",
       "      <th>7</th>\n",
       "      <th>8</th>\n",
       "      <th>9</th>\n",
       "    </tr>\n",
       "  </thead>\n",
       "  <tbody>\n",
       "    <tr>\n",
       "      <th>0</th>\n",
       "      <td>0</td>\n",
       "      <td>1</td>\n",
       "      <td>2</td>\n",
       "      <td>3</td>\n",
       "      <td>4</td>\n",
       "      <td>5</td>\n",
       "      <td>6</td>\n",
       "      <td>7</td>\n",
       "      <td>8</td>\n",
       "      <td>9</td>\n",
       "    </tr>\n",
       "    <tr>\n",
       "      <th>1</th>\n",
       "      <td>10</td>\n",
       "      <td>11</td>\n",
       "      <td>12</td>\n",
       "      <td>13</td>\n",
       "      <td>14</td>\n",
       "      <td>15</td>\n",
       "      <td>16</td>\n",
       "      <td>17</td>\n",
       "      <td>18</td>\n",
       "      <td>19</td>\n",
       "    </tr>\n",
       "    <tr>\n",
       "      <th>2</th>\n",
       "      <td>20</td>\n",
       "      <td>21</td>\n",
       "      <td>22</td>\n",
       "      <td>23</td>\n",
       "      <td>24</td>\n",
       "      <td>25</td>\n",
       "      <td>26</td>\n",
       "      <td>27</td>\n",
       "      <td>28</td>\n",
       "      <td>29</td>\n",
       "    </tr>\n",
       "    <tr>\n",
       "      <th>3</th>\n",
       "      <td>30</td>\n",
       "      <td>31</td>\n",
       "      <td>32</td>\n",
       "      <td>33</td>\n",
       "      <td>34</td>\n",
       "      <td>35</td>\n",
       "      <td>36</td>\n",
       "      <td>37</td>\n",
       "      <td>38</td>\n",
       "      <td>39</td>\n",
       "    </tr>\n",
       "    <tr>\n",
       "      <th>4</th>\n",
       "      <td>40</td>\n",
       "      <td>41</td>\n",
       "      <td>42</td>\n",
       "      <td>43</td>\n",
       "      <td>44</td>\n",
       "      <td>45</td>\n",
       "      <td>46</td>\n",
       "      <td>47</td>\n",
       "      <td>48</td>\n",
       "      <td>49</td>\n",
       "    </tr>\n",
       "    <tr>\n",
       "      <th>5</th>\n",
       "      <td>50</td>\n",
       "      <td>51</td>\n",
       "      <td>52</td>\n",
       "      <td>53</td>\n",
       "      <td>54</td>\n",
       "      <td>55</td>\n",
       "      <td>56</td>\n",
       "      <td>57</td>\n",
       "      <td>58</td>\n",
       "      <td>59</td>\n",
       "    </tr>\n",
       "    <tr>\n",
       "      <th>6</th>\n",
       "      <td>60</td>\n",
       "      <td>61</td>\n",
       "      <td>62</td>\n",
       "      <td>63</td>\n",
       "      <td>64</td>\n",
       "      <td>65</td>\n",
       "      <td>66</td>\n",
       "      <td>67</td>\n",
       "      <td>68</td>\n",
       "      <td>69</td>\n",
       "    </tr>\n",
       "    <tr>\n",
       "      <th>7</th>\n",
       "      <td>70</td>\n",
       "      <td>71</td>\n",
       "      <td>72</td>\n",
       "      <td>73</td>\n",
       "      <td>74</td>\n",
       "      <td>75</td>\n",
       "      <td>76</td>\n",
       "      <td>77</td>\n",
       "      <td>78</td>\n",
       "      <td>79</td>\n",
       "    </tr>\n",
       "    <tr>\n",
       "      <th>8</th>\n",
       "      <td>80</td>\n",
       "      <td>81</td>\n",
       "      <td>82</td>\n",
       "      <td>83</td>\n",
       "      <td>84</td>\n",
       "      <td>85</td>\n",
       "      <td>86</td>\n",
       "      <td>87</td>\n",
       "      <td>88</td>\n",
       "      <td>89</td>\n",
       "    </tr>\n",
       "    <tr>\n",
       "      <th>9</th>\n",
       "      <td>90</td>\n",
       "      <td>91</td>\n",
       "      <td>92</td>\n",
       "      <td>93</td>\n",
       "      <td>94</td>\n",
       "      <td>95</td>\n",
       "      <td>96</td>\n",
       "      <td>97</td>\n",
       "      <td>98</td>\n",
       "      <td>99</td>\n",
       "    </tr>\n",
       "  </tbody>\n",
       "</table>\n",
       "</div>"
      ],
      "text/plain": [
       "    0   1   2   3   4   5   6   7   8   9\n",
       "0   0   1   2   3   4   5   6   7   8   9\n",
       "1  10  11  12  13  14  15  16  17  18  19\n",
       "2  20  21  22  23  24  25  26  27  28  29\n",
       "3  30  31  32  33  34  35  36  37  38  39\n",
       "4  40  41  42  43  44  45  46  47  48  49\n",
       "5  50  51  52  53  54  55  56  57  58  59\n",
       "6  60  61  62  63  64  65  66  67  68  69\n",
       "7  70  71  72  73  74  75  76  77  78  79\n",
       "8  80  81  82  83  84  85  86  87  88  89\n",
       "9  90  91  92  93  94  95  96  97  98  99"
      ]
     },
     "execution_count": 132,
     "metadata": {},
     "output_type": "execute_result"
    }
   ],
   "source": [
    "dataframe = pd.DataFrame(np.arange(100).reshape(10, 10))\n",
    "dataframe"
   ]
  },
  {
   "cell_type": "code",
   "execution_count": 133,
   "metadata": {},
   "outputs": [
    {
     "data": {
      "text/html": [
       "<div>\n",
       "<style scoped>\n",
       "    .dataframe tbody tr th:only-of-type {\n",
       "        vertical-align: middle;\n",
       "    }\n",
       "\n",
       "    .dataframe tbody tr th {\n",
       "        vertical-align: top;\n",
       "    }\n",
       "\n",
       "    .dataframe thead th {\n",
       "        text-align: right;\n",
       "    }\n",
       "</style>\n",
       "<table border=\"1\" class=\"dataframe\">\n",
       "  <thead>\n",
       "    <tr style=\"text-align: right;\">\n",
       "      <th></th>\n",
       "      <th>0</th>\n",
       "      <th>1</th>\n",
       "      <th>2</th>\n",
       "      <th>3</th>\n",
       "      <th>4</th>\n",
       "      <th>5</th>\n",
       "      <th>6</th>\n",
       "      <th>7</th>\n",
       "      <th>8</th>\n",
       "      <th>9</th>\n",
       "    </tr>\n",
       "  </thead>\n",
       "  <tbody>\n",
       "    <tr>\n",
       "      <th>5</th>\n",
       "      <td>50</td>\n",
       "      <td>51</td>\n",
       "      <td>52</td>\n",
       "      <td>53</td>\n",
       "      <td>54</td>\n",
       "      <td>55</td>\n",
       "      <td>56</td>\n",
       "      <td>57</td>\n",
       "      <td>58</td>\n",
       "      <td>59</td>\n",
       "    </tr>\n",
       "    <tr>\n",
       "      <th>6</th>\n",
       "      <td>60</td>\n",
       "      <td>61</td>\n",
       "      <td>62</td>\n",
       "      <td>63</td>\n",
       "      <td>64</td>\n",
       "      <td>65</td>\n",
       "      <td>66</td>\n",
       "      <td>67</td>\n",
       "      <td>68</td>\n",
       "      <td>69</td>\n",
       "    </tr>\n",
       "    <tr>\n",
       "      <th>7</th>\n",
       "      <td>70</td>\n",
       "      <td>71</td>\n",
       "      <td>72</td>\n",
       "      <td>73</td>\n",
       "      <td>74</td>\n",
       "      <td>75</td>\n",
       "      <td>76</td>\n",
       "      <td>77</td>\n",
       "      <td>78</td>\n",
       "      <td>79</td>\n",
       "    </tr>\n",
       "    <tr>\n",
       "      <th>8</th>\n",
       "      <td>80</td>\n",
       "      <td>81</td>\n",
       "      <td>82</td>\n",
       "      <td>83</td>\n",
       "      <td>84</td>\n",
       "      <td>85</td>\n",
       "      <td>86</td>\n",
       "      <td>87</td>\n",
       "      <td>88</td>\n",
       "      <td>89</td>\n",
       "    </tr>\n",
       "    <tr>\n",
       "      <th>9</th>\n",
       "      <td>90</td>\n",
       "      <td>91</td>\n",
       "      <td>92</td>\n",
       "      <td>93</td>\n",
       "      <td>94</td>\n",
       "      <td>95</td>\n",
       "      <td>96</td>\n",
       "      <td>97</td>\n",
       "      <td>98</td>\n",
       "      <td>99</td>\n",
       "    </tr>\n",
       "  </tbody>\n",
       "</table>\n",
       "</div>"
      ],
      "text/plain": [
       "    0   1   2   3   4   5   6   7   8   9\n",
       "5  50  51  52  53  54  55  56  57  58  59\n",
       "6  60  61  62  63  64  65  66  67  68  69\n",
       "7  70  71  72  73  74  75  76  77  78  79\n",
       "8  80  81  82  83  84  85  86  87  88  89\n",
       "9  90  91  92  93  94  95  96  97  98  99"
      ]
     },
     "execution_count": 133,
     "metadata": {},
     "output_type": "execute_result"
    }
   ],
   "source": [
    "# Recuperación de los 5 primeros elementos de una Serie\n",
    "dataframe.tail()"
   ]
  },
  {
   "cell_type": "code",
   "execution_count": 134,
   "metadata": {},
   "outputs": [
    {
     "data": {
      "text/plain": [
       "95    95\n",
       "96    96\n",
       "97    97\n",
       "98    98\n",
       "99    99\n",
       "dtype: int32"
      ]
     },
     "execution_count": 134,
     "metadata": {},
     "output_type": "execute_result"
    }
   ],
   "source": [
    "# Recueperación de los 5 últimos elementos de una Serie\n",
    "serie.tail()"
   ]
  },
  {
   "cell_type": "code",
   "execution_count": 135,
   "metadata": {},
   "outputs": [
    {
     "data": {
      "text/html": [
       "<div>\n",
       "<style scoped>\n",
       "    .dataframe tbody tr th:only-of-type {\n",
       "        vertical-align: middle;\n",
       "    }\n",
       "\n",
       "    .dataframe tbody tr th {\n",
       "        vertical-align: top;\n",
       "    }\n",
       "\n",
       "    .dataframe thead th {\n",
       "        text-align: right;\n",
       "    }\n",
       "</style>\n",
       "<table border=\"1\" class=\"dataframe\">\n",
       "  <thead>\n",
       "    <tr style=\"text-align: right;\">\n",
       "      <th></th>\n",
       "      <th>0</th>\n",
       "      <th>1</th>\n",
       "      <th>2</th>\n",
       "      <th>3</th>\n",
       "      <th>4</th>\n",
       "      <th>5</th>\n",
       "      <th>6</th>\n",
       "      <th>7</th>\n",
       "      <th>8</th>\n",
       "      <th>9</th>\n",
       "    </tr>\n",
       "  </thead>\n",
       "  <tbody>\n",
       "    <tr>\n",
       "      <th>0</th>\n",
       "      <td>0</td>\n",
       "      <td>1</td>\n",
       "      <td>2</td>\n",
       "      <td>3</td>\n",
       "      <td>4</td>\n",
       "      <td>5</td>\n",
       "      <td>6</td>\n",
       "      <td>7</td>\n",
       "      <td>8</td>\n",
       "      <td>9</td>\n",
       "    </tr>\n",
       "    <tr>\n",
       "      <th>1</th>\n",
       "      <td>10</td>\n",
       "      <td>11</td>\n",
       "      <td>12</td>\n",
       "      <td>13</td>\n",
       "      <td>14</td>\n",
       "      <td>15</td>\n",
       "      <td>16</td>\n",
       "      <td>17</td>\n",
       "      <td>18</td>\n",
       "      <td>19</td>\n",
       "    </tr>\n",
       "    <tr>\n",
       "      <th>2</th>\n",
       "      <td>20</td>\n",
       "      <td>21</td>\n",
       "      <td>22</td>\n",
       "      <td>23</td>\n",
       "      <td>24</td>\n",
       "      <td>25</td>\n",
       "      <td>26</td>\n",
       "      <td>27</td>\n",
       "      <td>28</td>\n",
       "      <td>29</td>\n",
       "    </tr>\n",
       "  </tbody>\n",
       "</table>\n",
       "</div>"
      ],
      "text/plain": [
       "    0   1   2   3   4   5   6   7   8   9\n",
       "0   0   1   2   3   4   5   6   7   8   9\n",
       "1  10  11  12  13  14  15  16  17  18  19\n",
       "2  20  21  22  23  24  25  26  27  28  29"
      ]
     },
     "execution_count": 135,
     "metadata": {},
     "output_type": "execute_result"
    }
   ],
   "source": [
    "# Recuperación de los 3 primeros elementos de un DataFrame\n",
    "dataframe.head(3)"
   ]
  },
  {
   "cell_type": "code",
   "execution_count": 136,
   "metadata": {},
   "outputs": [
    {
     "data": {
      "text/html": [
       "<div>\n",
       "<style scoped>\n",
       "    .dataframe tbody tr th:only-of-type {\n",
       "        vertical-align: middle;\n",
       "    }\n",
       "\n",
       "    .dataframe tbody tr th {\n",
       "        vertical-align: top;\n",
       "    }\n",
       "\n",
       "    .dataframe thead th {\n",
       "        text-align: right;\n",
       "    }\n",
       "</style>\n",
       "<table border=\"1\" class=\"dataframe\">\n",
       "  <thead>\n",
       "    <tr style=\"text-align: right;\">\n",
       "      <th></th>\n",
       "      <th>0</th>\n",
       "      <th>1</th>\n",
       "      <th>2</th>\n",
       "      <th>3</th>\n",
       "      <th>4</th>\n",
       "      <th>5</th>\n",
       "      <th>6</th>\n",
       "      <th>7</th>\n",
       "      <th>8</th>\n",
       "      <th>9</th>\n",
       "    </tr>\n",
       "  </thead>\n",
       "  <tbody>\n",
       "    <tr>\n",
       "      <th>7</th>\n",
       "      <td>70</td>\n",
       "      <td>71</td>\n",
       "      <td>72</td>\n",
       "      <td>73</td>\n",
       "      <td>74</td>\n",
       "      <td>75</td>\n",
       "      <td>76</td>\n",
       "      <td>77</td>\n",
       "      <td>78</td>\n",
       "      <td>79</td>\n",
       "    </tr>\n",
       "    <tr>\n",
       "      <th>8</th>\n",
       "      <td>80</td>\n",
       "      <td>81</td>\n",
       "      <td>82</td>\n",
       "      <td>83</td>\n",
       "      <td>84</td>\n",
       "      <td>85</td>\n",
       "      <td>86</td>\n",
       "      <td>87</td>\n",
       "      <td>88</td>\n",
       "      <td>89</td>\n",
       "    </tr>\n",
       "    <tr>\n",
       "      <th>9</th>\n",
       "      <td>90</td>\n",
       "      <td>91</td>\n",
       "      <td>92</td>\n",
       "      <td>93</td>\n",
       "      <td>94</td>\n",
       "      <td>95</td>\n",
       "      <td>96</td>\n",
       "      <td>97</td>\n",
       "      <td>98</td>\n",
       "      <td>99</td>\n",
       "    </tr>\n",
       "  </tbody>\n",
       "</table>\n",
       "</div>"
      ],
      "text/plain": [
       "    0   1   2   3   4   5   6   7   8   9\n",
       "7  70  71  72  73  74  75  76  77  78  79\n",
       "8  80  81  82  83  84  85  86  87  88  89\n",
       "9  90  91  92  93  94  95  96  97  98  99"
      ]
     },
     "execution_count": 136,
     "metadata": {},
     "output_type": "execute_result"
    }
   ],
   "source": [
    "# Recueperación de los 3 últimos elementos de un DataFrame\n",
    "dataframe.tail(3)"
   ]
  },
  {
   "cell_type": "markdown",
   "metadata": {},
   "source": [
    "# Lectura y escritura de información"
   ]
  },
  {
   "cell_type": "markdown",
   "metadata": {},
   "source": [
    "Más que creando Series o DataFrames de cero, o incluso a partir de secuencias del core de Python o ndarrays, el uso más típico de pandas se basa en la carga de información desde ficheros/fuentes de información para su posterior exploración, transformación y análisis."
   ]
  },
  {
   "cell_type": "code",
   "execution_count": 137,
   "metadata": {},
   "outputs": [],
   "source": [
    "import numpy as np\n",
    "import pandas as pd"
   ]
  },
  {
   "cell_type": "markdown",
   "metadata": {},
   "source": [
    "## Lectura de ficheros en formato texto"
   ]
  },
  {
   "cell_type": "markdown",
   "metadata": {},
   "source": [
    "Probablemente, una de las formas más recurrentes de trabajo para el análisis de datos: fuentes de datos públicas, logs, tablas históricas de información, exportaciones desde base de datos... La librería pandas, nos ofrece funciones para trabajar con ficheros en múltiples formatos, todos ellos creando un DataFrame con la información leída:<br/>\n",
    "<ul>\n",
    "<li>Ficheros separados por coma (.csv): mediante la función <b>read_csv</b>.</li>\n",
    "<li>Ficheros separados por tabulador (.tsv): mediante la función <b>read_table</b></li>\n",
    "<li>Ficheros de ancho fijo: mediante la función <b>read_fwf</b>.</li>\n",
    "</ul>\n",
    "\n",
    "De estos tres métodos de lectura de información, el más común es el segundo, ya que, por un lado, engloba al primero permitiendo el establecimiento del carácter separador por parte del desarrollado y, por otro, porque los ficheros de ancho fijo son cada vez menos frecuentes (aunque se siguen usando).<br/>\n",
    "\n",
    "Tanto <b>read_csv</b> como <b>read_table</b> tienen un conjunto muy amplio de parámetros que permiten configurar de un modo preciso la lectura de información que se va a hacer. Los parámetros más importantes/comunes son los siguientes:<br/>\n",
    "<ul>\n",
    "<li><b>path:</b> Ruta del fichero del que se va a realizar la lectura.</li>\n",
    "<li><b>sep:</b> Carácter(es) que se utilizan como separador de campos en el fichero.</li>\n",
    "<li><b>header:</b> Índice de la fila que contiene los nombres de las columnas (None en caso de no haber).</li>\n",
    "<li><b>index_col:</b> Índice de la columna o secuencia de índices que se deben usar como índice de filas de los datos.</li>\n",
    "<li><b>skiprows:</b> Número de filas o secuencia de índices de fila que se deben ignorar en la carga.</li>\n",
    "<li><b>names:</b> Secuencia que contiene los nombres de las columnas (usado junto con header=None).</li>\n",
    "<li><b>na_values:</b> Secuencia de valores que, de encontrarse en el fichero, deben ser tratados como NaN.</li>\n",
    "<li><b>dtype:</b> Diccionario en el que las claves serán nombres de columnas y los valores serán tipos de NumPy a los que se debe convertir su contenido.</li>\n",
    "<li><b>parse_dates:</b> Flag que indica si Python debe intentar parsear datos con formato semejante a las fechas como fechas. Puede contenter un listado de nombres de columnas que deberán unirse para el parseo como fecha.</li>\n",
    "<li><b>converters:</b> Diccionario en el que las claves serán nombres de columnas y los valores funciones que se deberán aplicar al contenido de dichas columnas durante la carga.</li>\n",
    "<li><b>dayfirst:</b> Indica si al parsear fechas se debe esperar el día primero o el mes. </li>\n",
    "<li><b>nrows:</b> Número de filas a leer desde el principio del fichero.</li>\n",
    "<li><b>chunksize:</b> Tamaño a utilizar para la lectura incremental del fichero.</li>\n",
    "<li><b>skip_footer:</b> Número de filas a ignorar del final del fichero.</li>\n",
    "<li><b>enconding:</b> Codificación a esperar del fichero leído.</li>\n",
    "<li><b>squeeze:</b> Flag que indica que si los datos leídos sólo contienen una columna el resultado sea una Serie en lugar de un DataFrame.</li>\n",
    "<li><b>thousands:</b> Carácter a utilizar para detectar el separador de miles.</li>\n",
    "<li><b>decimal:</b> Carácter a utilizar para detectar el separador de decimales.</li>\n",
    "</ul>"
   ]
  },
  {
   "cell_type": "code",
   "execution_count": 138,
   "metadata": {},
   "outputs": [
    {
     "data": {
      "text/html": [
       "<div>\n",
       "<style scoped>\n",
       "    .dataframe tbody tr th:only-of-type {\n",
       "        vertical-align: middle;\n",
       "    }\n",
       "\n",
       "    .dataframe tbody tr th {\n",
       "        vertical-align: top;\n",
       "    }\n",
       "\n",
       "    .dataframe thead th {\n",
       "        text-align: right;\n",
       "    }\n",
       "</style>\n",
       "<table border=\"1\" class=\"dataframe\">\n",
       "  <thead>\n",
       "    <tr style=\"text-align: right;\">\n",
       "      <th></th>\n",
       "      <th>año</th>\n",
       "      <th>id_distrito</th>\n",
       "      <th>distrito</th>\n",
       "      <th>id_barrio</th>\n",
       "      <th>barrio</th>\n",
       "      <th>id_uso</th>\n",
       "      <th>uso</th>\n",
       "      <th>num_inmuebles</th>\n",
       "      <th>año_cons_medio</th>\n",
       "      <th>sup_cons</th>\n",
       "      <th>sup_suelo</th>\n",
       "      <th>valor_catastral</th>\n",
       "    </tr>\n",
       "  </thead>\n",
       "  <tbody>\n",
       "    <tr>\n",
       "      <th>0</th>\n",
       "      <td>2014</td>\n",
       "      <td>1</td>\n",
       "      <td>Centro</td>\n",
       "      <td>11</td>\n",
       "      <td>PALACIO</td>\n",
       "      <td>A</td>\n",
       "      <td>Almacén-Estacionamiento</td>\n",
       "      <td>3034</td>\n",
       "      <td>1969.0</td>\n",
       "      <td>214457.0</td>\n",
       "      <td>NaN</td>\n",
       "      <td>1.295259e+08</td>\n",
       "    </tr>\n",
       "    <tr>\n",
       "      <th>1</th>\n",
       "      <td>2014</td>\n",
       "      <td>1</td>\n",
       "      <td>Centro</td>\n",
       "      <td>11</td>\n",
       "      <td>PALACIO</td>\n",
       "      <td>C</td>\n",
       "      <td>Comercial</td>\n",
       "      <td>1407</td>\n",
       "      <td>1921.0</td>\n",
       "      <td>223552.0</td>\n",
       "      <td>NaN</td>\n",
       "      <td>4.076055e+08</td>\n",
       "    </tr>\n",
       "    <tr>\n",
       "      <th>2</th>\n",
       "      <td>2014</td>\n",
       "      <td>1</td>\n",
       "      <td>Centro</td>\n",
       "      <td>11</td>\n",
       "      <td>PALACIO</td>\n",
       "      <td>E</td>\n",
       "      <td>Cultural</td>\n",
       "      <td>36</td>\n",
       "      <td>1937.0</td>\n",
       "      <td>62963.0</td>\n",
       "      <td>NaN</td>\n",
       "      <td>7.582872e+07</td>\n",
       "    </tr>\n",
       "    <tr>\n",
       "      <th>3</th>\n",
       "      <td>2014</td>\n",
       "      <td>1</td>\n",
       "      <td>Centro</td>\n",
       "      <td>11</td>\n",
       "      <td>PALACIO</td>\n",
       "      <td>G</td>\n",
       "      <td>Ocio y Hostelería</td>\n",
       "      <td>254</td>\n",
       "      <td>1919.0</td>\n",
       "      <td>114226.0</td>\n",
       "      <td>NaN</td>\n",
       "      <td>1.954138e+08</td>\n",
       "    </tr>\n",
       "    <tr>\n",
       "      <th>4</th>\n",
       "      <td>2014</td>\n",
       "      <td>1</td>\n",
       "      <td>Centro</td>\n",
       "      <td>11</td>\n",
       "      <td>PALACIO</td>\n",
       "      <td>I</td>\n",
       "      <td>Industrial</td>\n",
       "      <td>22</td>\n",
       "      <td>1942.0</td>\n",
       "      <td>13228.0</td>\n",
       "      <td>NaN</td>\n",
       "      <td>1.180795e+07</td>\n",
       "    </tr>\n",
       "  </tbody>\n",
       "</table>\n",
       "</div>"
      ],
      "text/plain": [
       "    año  id_distrito distrito  id_barrio   barrio id_uso  \\\n",
       "0  2014            1   Centro         11  PALACIO      A   \n",
       "1  2014            1   Centro         11  PALACIO      C   \n",
       "2  2014            1   Centro         11  PALACIO      E   \n",
       "3  2014            1   Centro         11  PALACIO      G   \n",
       "4  2014            1   Centro         11  PALACIO      I   \n",
       "\n",
       "                       uso  num_inmuebles  año_cons_medio  sup_cons  \\\n",
       "0  Almacén-Estacionamiento           3034          1969.0  214457.0   \n",
       "1                Comercial           1407          1921.0  223552.0   \n",
       "2                 Cultural             36          1937.0   62963.0   \n",
       "3        Ocio y Hostelería            254          1919.0  114226.0   \n",
       "4               Industrial             22          1942.0   13228.0   \n",
       "\n",
       "   sup_suelo  valor_catastral  \n",
       "0        NaN     1.295259e+08  \n",
       "1        NaN     4.076055e+08  \n",
       "2        NaN     7.582872e+07  \n",
       "3        NaN     1.954138e+08  \n",
       "4        NaN     1.180795e+07  "
      ]
     },
     "execution_count": 138,
     "metadata": {},
     "output_type": "execute_result"
    }
   ],
   "source": [
    "catastro = pd.read_csv('datos/catastro.tsv', sep = \"\\t\")\n",
    "catastro.head()"
   ]
  },
  {
   "cell_type": "code",
   "execution_count": 139,
   "metadata": {},
   "outputs": [],
   "source": [
    "col = list(catastro.columns)"
   ]
  },
  {
   "cell_type": "markdown",
   "metadata": {},
   "source": [
    "## Escritura de ficheros en formato texto"
   ]
  },
  {
   "cell_type": "markdown",
   "metadata": {},
   "source": [
    "En el caso de la escritura de estructuras de datos de pandas como ficheros de texto, las posibilidades están mucho más unificadas, existiendo una única función <b>to_csv</b>. Es importante indicar que, por defecto, el fichero seleccionado será SIEMPRE sobreescrito.<br/>\n",
    "\n",
    "Los parámetros más comunes de esta función son:<br/>\n",
    "<ul>\n",
    "<li><b>path:</b> Ruta del fichero que se utilizará para la escritura.</li>\n",
    "<li><b>sep:</b> Carácter utilizado como separador de campos.</li>\n",
    "<li><b>na_rep:</b> Cadena que se deberá utilizar para darle representación a los valores NaN.</li>\n",
    "<li><b>float_format:</b> Indicador de formato para los números en coma flotante.</li>\n",
    "<li><b>columns:</b> Secuencia de selección del conjunto de columnas que se desea volcar al fichero.</li>\n",
    "<li><b>header:</b> Flag o secuencia de cadenas que indica si se debe volcar la cabecera al fichero.</li>\n",
    "<li><b>index:</b> Flag que indica si el índice debe ser incluido o no como una columna más en el fichero.</li>\n",
    "<li><b>index_label:</b> Nombre que se le debe dar a la columna de índice en el fichero.</li>\n",
    "<li><b>mode:</b> Modo de apertura del fichero. Por defecto, \"w\".</li>\n",
    "<li><b>encoding:</b> Codificación a utilizar en la escritura del fichero.</li>\n",
    "<li><b>date_format:</b> Indicador de formato a utilizar para escribir fechas.</li>\n",
    "<li><b>decimal:</b> Carácter a utilizar como separador de decimales</li>\n",
    "</ul>"
   ]
  },
  {
   "cell_type": "code",
   "execution_count": 140,
   "metadata": {},
   "outputs": [],
   "source": [
    "catastro.to_csv('datos/catastro_copia.csv', sep = \"|\", index = False)"
   ]
  },
  {
   "cell_type": "markdown",
   "metadata": {},
   "source": [
    "## Trabajo con otros formatos"
   ]
  },
  {
   "cell_type": "markdown",
   "metadata": {},
   "source": [
    "Pandas ofrece facilidades para trabajar con otro tipo de formatos como pueden ser:<br/>\n",
    "<ul>\n",
    "<li><b>Ficheros binarios \"pickle\":</b> <i>pickle</i> es un módulo del core de Python que establece un formato binario que permite almacenar y recuperar cualquier objeto Python en disco. Todos los objetos de pandas tienen un método <b>save</b> y otro <b>load</b> que permiten almacenar y recuperar información en este formato.</li>\n",
    "<li><b>Ficheros binarios \"HDF5\":</b> HDF5 es un \"estándar\" de almacenamiento de información binaria que optimiza las lecturas y escrituras (mediante el almacenamiento de una estructura jerárquica de índices) y permite llevar a cabo diferentes niveles de compresión sobre la información (a costa de rendimiento). Pandas ofrece clases y funciones para trabajar con este tipo de ficheros.</li>\n",
    "<li><b>Ficheros Excel:</b> Pandas contiene clases y funciones que permiten llevar a cabo la carga directa de información desde hojas de ficheros Excel (que deben tener un formato tabular). Por rendimiento y consumo de memoria, siempre que sea viable, es mejor traducir estos ficheros a formatos de texto.</li>\n",
    "</ul>"
   ]
  },
  {
   "cell_type": "markdown",
   "metadata": {},
   "source": [
    "# Preparación y exploración de datos"
   ]
  },
  {
   "cell_type": "markdown",
   "metadata": {},
   "source": [
    "Una vez conocidas las estructuras de datos de pandas, las operaciones básicas que se pueden realizar sobre las mismas y el modo en el que realizar la carga y almacenamiento de dichas estructuras en discos, vamos a centrarnos en aquellas funcionalidades ofrecidas por pandas que están más orientadas al tratamiento y análisis de datos."
   ]
  },
  {
   "cell_type": "code",
   "execution_count": 141,
   "metadata": {},
   "outputs": [],
   "source": [
    "import numpy as np\n",
    "import pandas as pd"
   ]
  },
  {
   "cell_type": "markdown",
   "metadata": {},
   "source": [
    "## Gestión de datos en blanco (<i>missing values</i>)"
   ]
  },
  {
   "cell_type": "markdown",
   "metadata": {},
   "source": [
    "En la mayoría de los ficheros utilizados como fuente de datos, es muy común la existencia de valores nulos (en blanco, <i>missing</i>...). Estos \"huecos\" en la información suelen ser muy problemáticos ya que tiene un impacto importante a la hora de realizar cualquier tipo de cálculo numérico y son difícilmente interpretables.<br/>\n",
    "Uno de los objetivos de pandas en su construcción fue facilitar el tratamiento de este tipo de datos no existentes ofreciendo múltiples funciones que permiten llevar a cabo tanto su detección, como su eliminación o imputación..."
   ]
  },
  {
   "cell_type": "markdown",
   "metadata": {},
   "source": [
    "#### Detección de <i>missing values</i>"
   ]
  },
  {
   "cell_type": "markdown",
   "metadata": {},
   "source": [
    "Pandas ofrece principalmente dos funciones para manejar la detección de valores nulos.<br/>\n",
    "<ul>\n",
    "<li><b>isnull:</b> Que devuelve una Serie o DataFrame booleano indicando qué elemetos son NaN o None.</li>\n",
    "<li><b>notnull:</b> Que devuelve el inverso del anterior.</li>"
   ]
  },
  {
   "cell_type": "code",
   "execution_count": 142,
   "metadata": {},
   "outputs": [
    {
     "data": {
      "text/html": [
       "<div>\n",
       "<style scoped>\n",
       "    .dataframe tbody tr th:only-of-type {\n",
       "        vertical-align: middle;\n",
       "    }\n",
       "\n",
       "    .dataframe tbody tr th {\n",
       "        vertical-align: top;\n",
       "    }\n",
       "\n",
       "    .dataframe thead th {\n",
       "        text-align: right;\n",
       "    }\n",
       "</style>\n",
       "<table border=\"1\" class=\"dataframe\">\n",
       "  <thead>\n",
       "    <tr style=\"text-align: right;\">\n",
       "      <th></th>\n",
       "      <th>año</th>\n",
       "      <th>id_distrito</th>\n",
       "      <th>distrito</th>\n",
       "      <th>id_barrio</th>\n",
       "      <th>barrio</th>\n",
       "      <th>id_uso</th>\n",
       "      <th>uso</th>\n",
       "      <th>num_inmuebles</th>\n",
       "      <th>año_cons_medio</th>\n",
       "      <th>sup_cons</th>\n",
       "      <th>sup_suelo</th>\n",
       "      <th>valor_catastral</th>\n",
       "    </tr>\n",
       "  </thead>\n",
       "  <tbody>\n",
       "    <tr>\n",
       "      <th>0</th>\n",
       "      <td>2014</td>\n",
       "      <td>1</td>\n",
       "      <td>Centro</td>\n",
       "      <td>11</td>\n",
       "      <td>PALACIO</td>\n",
       "      <td>A</td>\n",
       "      <td>Almacén-Estacionamiento</td>\n",
       "      <td>3034</td>\n",
       "      <td>1969.0</td>\n",
       "      <td>214457.0</td>\n",
       "      <td>NaN</td>\n",
       "      <td>1.295259e+08</td>\n",
       "    </tr>\n",
       "    <tr>\n",
       "      <th>1</th>\n",
       "      <td>2014</td>\n",
       "      <td>1</td>\n",
       "      <td>Centro</td>\n",
       "      <td>11</td>\n",
       "      <td>PALACIO</td>\n",
       "      <td>C</td>\n",
       "      <td>Comercial</td>\n",
       "      <td>1407</td>\n",
       "      <td>1921.0</td>\n",
       "      <td>223552.0</td>\n",
       "      <td>NaN</td>\n",
       "      <td>4.076055e+08</td>\n",
       "    </tr>\n",
       "    <tr>\n",
       "      <th>2</th>\n",
       "      <td>2014</td>\n",
       "      <td>1</td>\n",
       "      <td>Centro</td>\n",
       "      <td>11</td>\n",
       "      <td>PALACIO</td>\n",
       "      <td>E</td>\n",
       "      <td>Cultural</td>\n",
       "      <td>36</td>\n",
       "      <td>1937.0</td>\n",
       "      <td>62963.0</td>\n",
       "      <td>NaN</td>\n",
       "      <td>7.582872e+07</td>\n",
       "    </tr>\n",
       "    <tr>\n",
       "      <th>3</th>\n",
       "      <td>2014</td>\n",
       "      <td>1</td>\n",
       "      <td>Centro</td>\n",
       "      <td>11</td>\n",
       "      <td>PALACIO</td>\n",
       "      <td>G</td>\n",
       "      <td>Ocio y Hostelería</td>\n",
       "      <td>254</td>\n",
       "      <td>1919.0</td>\n",
       "      <td>114226.0</td>\n",
       "      <td>NaN</td>\n",
       "      <td>1.954138e+08</td>\n",
       "    </tr>\n",
       "    <tr>\n",
       "      <th>4</th>\n",
       "      <td>2014</td>\n",
       "      <td>1</td>\n",
       "      <td>Centro</td>\n",
       "      <td>11</td>\n",
       "      <td>PALACIO</td>\n",
       "      <td>I</td>\n",
       "      <td>Industrial</td>\n",
       "      <td>22</td>\n",
       "      <td>1942.0</td>\n",
       "      <td>13228.0</td>\n",
       "      <td>NaN</td>\n",
       "      <td>1.180795e+07</td>\n",
       "    </tr>\n",
       "    <tr>\n",
       "      <th>5</th>\n",
       "      <td>2014</td>\n",
       "      <td>1</td>\n",
       "      <td>Centro</td>\n",
       "      <td>11</td>\n",
       "      <td>PALACIO</td>\n",
       "      <td>K</td>\n",
       "      <td>Deportivo</td>\n",
       "      <td>8</td>\n",
       "      <td>1946.0</td>\n",
       "      <td>7238.0</td>\n",
       "      <td>NaN</td>\n",
       "      <td>1.061466e+07</td>\n",
       "    </tr>\n",
       "    <tr>\n",
       "      <th>6</th>\n",
       "      <td>2014</td>\n",
       "      <td>1</td>\n",
       "      <td>Centro</td>\n",
       "      <td>11</td>\n",
       "      <td>PALACIO</td>\n",
       "      <td>M</td>\n",
       "      <td>Suelos sin edificar, obras de urbanización y j...</td>\n",
       "      <td>47</td>\n",
       "      <td>NaN</td>\n",
       "      <td>NaN</td>\n",
       "      <td>130010.0</td>\n",
       "      <td>1.991520e+07</td>\n",
       "    </tr>\n",
       "    <tr>\n",
       "      <th>7</th>\n",
       "      <td>2014</td>\n",
       "      <td>1</td>\n",
       "      <td>Centro</td>\n",
       "      <td>11</td>\n",
       "      <td>PALACIO</td>\n",
       "      <td>O</td>\n",
       "      <td>Oficinas</td>\n",
       "      <td>559</td>\n",
       "      <td>1947.0</td>\n",
       "      <td>196893.0</td>\n",
       "      <td>NaN</td>\n",
       "      <td>3.407841e+08</td>\n",
       "    </tr>\n",
       "    <tr>\n",
       "      <th>8</th>\n",
       "      <td>2014</td>\n",
       "      <td>1</td>\n",
       "      <td>Centro</td>\n",
       "      <td>11</td>\n",
       "      <td>PALACIO</td>\n",
       "      <td>P</td>\n",
       "      <td>Edificio Singular</td>\n",
       "      <td>15</td>\n",
       "      <td>1891.0</td>\n",
       "      <td>197518.0</td>\n",
       "      <td>NaN</td>\n",
       "      <td>2.816668e+08</td>\n",
       "    </tr>\n",
       "    <tr>\n",
       "      <th>9</th>\n",
       "      <td>2014</td>\n",
       "      <td>1</td>\n",
       "      <td>Centro</td>\n",
       "      <td>11</td>\n",
       "      <td>PALACIO</td>\n",
       "      <td>R</td>\n",
       "      <td>Religioso</td>\n",
       "      <td>17</td>\n",
       "      <td>1884.0</td>\n",
       "      <td>102718.0</td>\n",
       "      <td>NaN</td>\n",
       "      <td>1.142542e+08</td>\n",
       "    </tr>\n",
       "  </tbody>\n",
       "</table>\n",
       "</div>"
      ],
      "text/plain": [
       "    año  id_distrito distrito  id_barrio   barrio id_uso  \\\n",
       "0  2014            1   Centro         11  PALACIO      A   \n",
       "1  2014            1   Centro         11  PALACIO      C   \n",
       "2  2014            1   Centro         11  PALACIO      E   \n",
       "3  2014            1   Centro         11  PALACIO      G   \n",
       "4  2014            1   Centro         11  PALACIO      I   \n",
       "5  2014            1   Centro         11  PALACIO      K   \n",
       "6  2014            1   Centro         11  PALACIO      M   \n",
       "7  2014            1   Centro         11  PALACIO      O   \n",
       "8  2014            1   Centro         11  PALACIO      P   \n",
       "9  2014            1   Centro         11  PALACIO      R   \n",
       "\n",
       "                                                 uso  num_inmuebles  \\\n",
       "0                            Almacén-Estacionamiento           3034   \n",
       "1                                          Comercial           1407   \n",
       "2                                           Cultural             36   \n",
       "3                                  Ocio y Hostelería            254   \n",
       "4                                         Industrial             22   \n",
       "5                                          Deportivo              8   \n",
       "6  Suelos sin edificar, obras de urbanización y j...             47   \n",
       "7                                           Oficinas            559   \n",
       "8                                  Edificio Singular             15   \n",
       "9                                          Religioso             17   \n",
       "\n",
       "   año_cons_medio  sup_cons  sup_suelo  valor_catastral  \n",
       "0          1969.0  214457.0        NaN     1.295259e+08  \n",
       "1          1921.0  223552.0        NaN     4.076055e+08  \n",
       "2          1937.0   62963.0        NaN     7.582872e+07  \n",
       "3          1919.0  114226.0        NaN     1.954138e+08  \n",
       "4          1942.0   13228.0        NaN     1.180795e+07  \n",
       "5          1946.0    7238.0        NaN     1.061466e+07  \n",
       "6             NaN       NaN   130010.0     1.991520e+07  \n",
       "7          1947.0  196893.0        NaN     3.407841e+08  \n",
       "8          1891.0  197518.0        NaN     2.816668e+08  \n",
       "9          1884.0  102718.0        NaN     1.142542e+08  "
      ]
     },
     "execution_count": 142,
     "metadata": {},
     "output_type": "execute_result"
    }
   ],
   "source": [
    "catastro = pd.read_table('datos/catastro.tsv', nrows=10)\n",
    "catastro"
   ]
  },
  {
   "cell_type": "code",
   "execution_count": 143,
   "metadata": {},
   "outputs": [
    {
     "data": {
      "text/html": [
       "<div>\n",
       "<style scoped>\n",
       "    .dataframe tbody tr th:only-of-type {\n",
       "        vertical-align: middle;\n",
       "    }\n",
       "\n",
       "    .dataframe tbody tr th {\n",
       "        vertical-align: top;\n",
       "    }\n",
       "\n",
       "    .dataframe thead th {\n",
       "        text-align: right;\n",
       "    }\n",
       "</style>\n",
       "<table border=\"1\" class=\"dataframe\">\n",
       "  <thead>\n",
       "    <tr style=\"text-align: right;\">\n",
       "      <th></th>\n",
       "      <th>año</th>\n",
       "      <th>id_distrito</th>\n",
       "      <th>distrito</th>\n",
       "      <th>id_barrio</th>\n",
       "      <th>barrio</th>\n",
       "      <th>id_uso</th>\n",
       "      <th>uso</th>\n",
       "      <th>num_inmuebles</th>\n",
       "      <th>año_cons_medio</th>\n",
       "      <th>sup_cons</th>\n",
       "      <th>sup_suelo</th>\n",
       "      <th>valor_catastral</th>\n",
       "    </tr>\n",
       "  </thead>\n",
       "  <tbody>\n",
       "    <tr>\n",
       "      <th>0</th>\n",
       "      <td>False</td>\n",
       "      <td>False</td>\n",
       "      <td>False</td>\n",
       "      <td>False</td>\n",
       "      <td>False</td>\n",
       "      <td>False</td>\n",
       "      <td>False</td>\n",
       "      <td>False</td>\n",
       "      <td>False</td>\n",
       "      <td>False</td>\n",
       "      <td>True</td>\n",
       "      <td>False</td>\n",
       "    </tr>\n",
       "    <tr>\n",
       "      <th>1</th>\n",
       "      <td>False</td>\n",
       "      <td>False</td>\n",
       "      <td>False</td>\n",
       "      <td>False</td>\n",
       "      <td>False</td>\n",
       "      <td>False</td>\n",
       "      <td>False</td>\n",
       "      <td>False</td>\n",
       "      <td>False</td>\n",
       "      <td>False</td>\n",
       "      <td>True</td>\n",
       "      <td>False</td>\n",
       "    </tr>\n",
       "    <tr>\n",
       "      <th>2</th>\n",
       "      <td>False</td>\n",
       "      <td>False</td>\n",
       "      <td>False</td>\n",
       "      <td>False</td>\n",
       "      <td>False</td>\n",
       "      <td>False</td>\n",
       "      <td>False</td>\n",
       "      <td>False</td>\n",
       "      <td>False</td>\n",
       "      <td>False</td>\n",
       "      <td>True</td>\n",
       "      <td>False</td>\n",
       "    </tr>\n",
       "    <tr>\n",
       "      <th>3</th>\n",
       "      <td>False</td>\n",
       "      <td>False</td>\n",
       "      <td>False</td>\n",
       "      <td>False</td>\n",
       "      <td>False</td>\n",
       "      <td>False</td>\n",
       "      <td>False</td>\n",
       "      <td>False</td>\n",
       "      <td>False</td>\n",
       "      <td>False</td>\n",
       "      <td>True</td>\n",
       "      <td>False</td>\n",
       "    </tr>\n",
       "    <tr>\n",
       "      <th>4</th>\n",
       "      <td>False</td>\n",
       "      <td>False</td>\n",
       "      <td>False</td>\n",
       "      <td>False</td>\n",
       "      <td>False</td>\n",
       "      <td>False</td>\n",
       "      <td>False</td>\n",
       "      <td>False</td>\n",
       "      <td>False</td>\n",
       "      <td>False</td>\n",
       "      <td>True</td>\n",
       "      <td>False</td>\n",
       "    </tr>\n",
       "    <tr>\n",
       "      <th>5</th>\n",
       "      <td>False</td>\n",
       "      <td>False</td>\n",
       "      <td>False</td>\n",
       "      <td>False</td>\n",
       "      <td>False</td>\n",
       "      <td>False</td>\n",
       "      <td>False</td>\n",
       "      <td>False</td>\n",
       "      <td>False</td>\n",
       "      <td>False</td>\n",
       "      <td>True</td>\n",
       "      <td>False</td>\n",
       "    </tr>\n",
       "    <tr>\n",
       "      <th>6</th>\n",
       "      <td>False</td>\n",
       "      <td>False</td>\n",
       "      <td>False</td>\n",
       "      <td>False</td>\n",
       "      <td>False</td>\n",
       "      <td>False</td>\n",
       "      <td>False</td>\n",
       "      <td>False</td>\n",
       "      <td>True</td>\n",
       "      <td>True</td>\n",
       "      <td>False</td>\n",
       "      <td>False</td>\n",
       "    </tr>\n",
       "    <tr>\n",
       "      <th>7</th>\n",
       "      <td>False</td>\n",
       "      <td>False</td>\n",
       "      <td>False</td>\n",
       "      <td>False</td>\n",
       "      <td>False</td>\n",
       "      <td>False</td>\n",
       "      <td>False</td>\n",
       "      <td>False</td>\n",
       "      <td>False</td>\n",
       "      <td>False</td>\n",
       "      <td>True</td>\n",
       "      <td>False</td>\n",
       "    </tr>\n",
       "    <tr>\n",
       "      <th>8</th>\n",
       "      <td>False</td>\n",
       "      <td>False</td>\n",
       "      <td>False</td>\n",
       "      <td>False</td>\n",
       "      <td>False</td>\n",
       "      <td>False</td>\n",
       "      <td>False</td>\n",
       "      <td>False</td>\n",
       "      <td>False</td>\n",
       "      <td>False</td>\n",
       "      <td>True</td>\n",
       "      <td>False</td>\n",
       "    </tr>\n",
       "    <tr>\n",
       "      <th>9</th>\n",
       "      <td>False</td>\n",
       "      <td>False</td>\n",
       "      <td>False</td>\n",
       "      <td>False</td>\n",
       "      <td>False</td>\n",
       "      <td>False</td>\n",
       "      <td>False</td>\n",
       "      <td>False</td>\n",
       "      <td>False</td>\n",
       "      <td>False</td>\n",
       "      <td>True</td>\n",
       "      <td>False</td>\n",
       "    </tr>\n",
       "  </tbody>\n",
       "</table>\n",
       "</div>"
      ],
      "text/plain": [
       "     año  id_distrito  distrito  id_barrio  barrio  id_uso    uso  \\\n",
       "0  False        False     False      False   False   False  False   \n",
       "1  False        False     False      False   False   False  False   \n",
       "2  False        False     False      False   False   False  False   \n",
       "3  False        False     False      False   False   False  False   \n",
       "4  False        False     False      False   False   False  False   \n",
       "5  False        False     False      False   False   False  False   \n",
       "6  False        False     False      False   False   False  False   \n",
       "7  False        False     False      False   False   False  False   \n",
       "8  False        False     False      False   False   False  False   \n",
       "9  False        False     False      False   False   False  False   \n",
       "\n",
       "   num_inmuebles  año_cons_medio  sup_cons  sup_suelo  valor_catastral  \n",
       "0          False           False     False       True            False  \n",
       "1          False           False     False       True            False  \n",
       "2          False           False     False       True            False  \n",
       "3          False           False     False       True            False  \n",
       "4          False           False     False       True            False  \n",
       "5          False           False     False       True            False  \n",
       "6          False            True      True      False            False  \n",
       "7          False           False     False       True            False  \n",
       "8          False           False     False       True            False  \n",
       "9          False           False     False       True            False  "
      ]
     },
     "execution_count": 143,
     "metadata": {},
     "output_type": "execute_result"
    }
   ],
   "source": [
    "# Detección de valores nulos\n",
    "catastro.isnull()"
   ]
  },
  {
   "cell_type": "code",
   "execution_count": 144,
   "metadata": {},
   "outputs": [
    {
     "data": {
      "text/html": [
       "<div>\n",
       "<style scoped>\n",
       "    .dataframe tbody tr th:only-of-type {\n",
       "        vertical-align: middle;\n",
       "    }\n",
       "\n",
       "    .dataframe tbody tr th {\n",
       "        vertical-align: top;\n",
       "    }\n",
       "\n",
       "    .dataframe thead th {\n",
       "        text-align: right;\n",
       "    }\n",
       "</style>\n",
       "<table border=\"1\" class=\"dataframe\">\n",
       "  <thead>\n",
       "    <tr style=\"text-align: right;\">\n",
       "      <th></th>\n",
       "      <th>año</th>\n",
       "      <th>id_distrito</th>\n",
       "      <th>distrito</th>\n",
       "      <th>id_barrio</th>\n",
       "      <th>barrio</th>\n",
       "      <th>id_uso</th>\n",
       "      <th>uso</th>\n",
       "      <th>num_inmuebles</th>\n",
       "      <th>año_cons_medio</th>\n",
       "      <th>sup_cons</th>\n",
       "      <th>sup_suelo</th>\n",
       "      <th>valor_catastral</th>\n",
       "    </tr>\n",
       "  </thead>\n",
       "  <tbody>\n",
       "    <tr>\n",
       "      <th>0</th>\n",
       "      <td>True</td>\n",
       "      <td>True</td>\n",
       "      <td>True</td>\n",
       "      <td>True</td>\n",
       "      <td>True</td>\n",
       "      <td>True</td>\n",
       "      <td>True</td>\n",
       "      <td>True</td>\n",
       "      <td>True</td>\n",
       "      <td>True</td>\n",
       "      <td>False</td>\n",
       "      <td>True</td>\n",
       "    </tr>\n",
       "    <tr>\n",
       "      <th>1</th>\n",
       "      <td>True</td>\n",
       "      <td>True</td>\n",
       "      <td>True</td>\n",
       "      <td>True</td>\n",
       "      <td>True</td>\n",
       "      <td>True</td>\n",
       "      <td>True</td>\n",
       "      <td>True</td>\n",
       "      <td>True</td>\n",
       "      <td>True</td>\n",
       "      <td>False</td>\n",
       "      <td>True</td>\n",
       "    </tr>\n",
       "    <tr>\n",
       "      <th>2</th>\n",
       "      <td>True</td>\n",
       "      <td>True</td>\n",
       "      <td>True</td>\n",
       "      <td>True</td>\n",
       "      <td>True</td>\n",
       "      <td>True</td>\n",
       "      <td>True</td>\n",
       "      <td>True</td>\n",
       "      <td>True</td>\n",
       "      <td>True</td>\n",
       "      <td>False</td>\n",
       "      <td>True</td>\n",
       "    </tr>\n",
       "    <tr>\n",
       "      <th>3</th>\n",
       "      <td>True</td>\n",
       "      <td>True</td>\n",
       "      <td>True</td>\n",
       "      <td>True</td>\n",
       "      <td>True</td>\n",
       "      <td>True</td>\n",
       "      <td>True</td>\n",
       "      <td>True</td>\n",
       "      <td>True</td>\n",
       "      <td>True</td>\n",
       "      <td>False</td>\n",
       "      <td>True</td>\n",
       "    </tr>\n",
       "    <tr>\n",
       "      <th>4</th>\n",
       "      <td>True</td>\n",
       "      <td>True</td>\n",
       "      <td>True</td>\n",
       "      <td>True</td>\n",
       "      <td>True</td>\n",
       "      <td>True</td>\n",
       "      <td>True</td>\n",
       "      <td>True</td>\n",
       "      <td>True</td>\n",
       "      <td>True</td>\n",
       "      <td>False</td>\n",
       "      <td>True</td>\n",
       "    </tr>\n",
       "    <tr>\n",
       "      <th>5</th>\n",
       "      <td>True</td>\n",
       "      <td>True</td>\n",
       "      <td>True</td>\n",
       "      <td>True</td>\n",
       "      <td>True</td>\n",
       "      <td>True</td>\n",
       "      <td>True</td>\n",
       "      <td>True</td>\n",
       "      <td>True</td>\n",
       "      <td>True</td>\n",
       "      <td>False</td>\n",
       "      <td>True</td>\n",
       "    </tr>\n",
       "    <tr>\n",
       "      <th>6</th>\n",
       "      <td>True</td>\n",
       "      <td>True</td>\n",
       "      <td>True</td>\n",
       "      <td>True</td>\n",
       "      <td>True</td>\n",
       "      <td>True</td>\n",
       "      <td>True</td>\n",
       "      <td>True</td>\n",
       "      <td>False</td>\n",
       "      <td>False</td>\n",
       "      <td>True</td>\n",
       "      <td>True</td>\n",
       "    </tr>\n",
       "    <tr>\n",
       "      <th>7</th>\n",
       "      <td>True</td>\n",
       "      <td>True</td>\n",
       "      <td>True</td>\n",
       "      <td>True</td>\n",
       "      <td>True</td>\n",
       "      <td>True</td>\n",
       "      <td>True</td>\n",
       "      <td>True</td>\n",
       "      <td>True</td>\n",
       "      <td>True</td>\n",
       "      <td>False</td>\n",
       "      <td>True</td>\n",
       "    </tr>\n",
       "    <tr>\n",
       "      <th>8</th>\n",
       "      <td>True</td>\n",
       "      <td>True</td>\n",
       "      <td>True</td>\n",
       "      <td>True</td>\n",
       "      <td>True</td>\n",
       "      <td>True</td>\n",
       "      <td>True</td>\n",
       "      <td>True</td>\n",
       "      <td>True</td>\n",
       "      <td>True</td>\n",
       "      <td>False</td>\n",
       "      <td>True</td>\n",
       "    </tr>\n",
       "    <tr>\n",
       "      <th>9</th>\n",
       "      <td>True</td>\n",
       "      <td>True</td>\n",
       "      <td>True</td>\n",
       "      <td>True</td>\n",
       "      <td>True</td>\n",
       "      <td>True</td>\n",
       "      <td>True</td>\n",
       "      <td>True</td>\n",
       "      <td>True</td>\n",
       "      <td>True</td>\n",
       "      <td>False</td>\n",
       "      <td>True</td>\n",
       "    </tr>\n",
       "  </tbody>\n",
       "</table>\n",
       "</div>"
      ],
      "text/plain": [
       "    año  id_distrito  distrito  id_barrio  barrio  id_uso   uso  \\\n",
       "0  True         True      True       True    True    True  True   \n",
       "1  True         True      True       True    True    True  True   \n",
       "2  True         True      True       True    True    True  True   \n",
       "3  True         True      True       True    True    True  True   \n",
       "4  True         True      True       True    True    True  True   \n",
       "5  True         True      True       True    True    True  True   \n",
       "6  True         True      True       True    True    True  True   \n",
       "7  True         True      True       True    True    True  True   \n",
       "8  True         True      True       True    True    True  True   \n",
       "9  True         True      True       True    True    True  True   \n",
       "\n",
       "   num_inmuebles  año_cons_medio  sup_cons  sup_suelo  valor_catastral  \n",
       "0           True            True      True      False             True  \n",
       "1           True            True      True      False             True  \n",
       "2           True            True      True      False             True  \n",
       "3           True            True      True      False             True  \n",
       "4           True            True      True      False             True  \n",
       "5           True            True      True      False             True  \n",
       "6           True           False     False       True             True  \n",
       "7           True            True      True      False             True  \n",
       "8           True            True      True      False             True  \n",
       "9           True            True      True      False             True  "
      ]
     },
     "execution_count": 144,
     "metadata": {},
     "output_type": "execute_result"
    }
   ],
   "source": [
    "# Detección de valores no nulos\n",
    "catastro.notnull()"
   ]
  },
  {
   "cell_type": "markdown",
   "metadata": {},
   "source": [
    "#### Eliminación de registros con <i>missing values</i>"
   ]
  },
  {
   "cell_type": "markdown",
   "metadata": {},
   "source": [
    "Aunque SIEMPRE conviene hacer un estudio cuidadoso del por qué y la casuística de los valores nulos, uno de los posibles tratamientos a aplicar es su eliminación directa del set de datos. Pandas, nos ofrece el método <b>dropna</b> para llevar a cabo esta tarea. Los parámetros de este método son:<br/>\n",
    "<ul>\n",
    "<li><b>axis:</b> Selección de eje sobre el que realizar la eliminación.</li>\n",
    "<li><b>how:</b> Tomará posibles valores 'any' y 'all' e indica si se debe eliminar la fila o columna cuando haya uno o más valores NaN o cuando todos los valores sean NaN.</li>\n",
    "<li><b>thresh:</b> Permite indicar, el número de observaciones no nulas que se deben tener para no realizar el borrado.</li>\n",
    "</ul>"
   ]
  },
  {
   "cell_type": "code",
   "execution_count": 145,
   "metadata": {},
   "outputs": [
    {
     "data": {
      "text/html": [
       "<div>\n",
       "<style scoped>\n",
       "    .dataframe tbody tr th:only-of-type {\n",
       "        vertical-align: middle;\n",
       "    }\n",
       "\n",
       "    .dataframe tbody tr th {\n",
       "        vertical-align: top;\n",
       "    }\n",
       "\n",
       "    .dataframe thead th {\n",
       "        text-align: right;\n",
       "    }\n",
       "</style>\n",
       "<table border=\"1\" class=\"dataframe\">\n",
       "  <thead>\n",
       "    <tr style=\"text-align: right;\">\n",
       "      <th></th>\n",
       "      <th>año</th>\n",
       "      <th>id_distrito</th>\n",
       "      <th>distrito</th>\n",
       "      <th>id_barrio</th>\n",
       "      <th>barrio</th>\n",
       "      <th>id_uso</th>\n",
       "      <th>uso</th>\n",
       "      <th>num_inmuebles</th>\n",
       "      <th>año_cons_medio</th>\n",
       "      <th>sup_cons</th>\n",
       "      <th>sup_suelo</th>\n",
       "      <th>valor_catastral</th>\n",
       "    </tr>\n",
       "  </thead>\n",
       "  <tbody>\n",
       "    <tr>\n",
       "      <th>0</th>\n",
       "      <td>2014</td>\n",
       "      <td>1</td>\n",
       "      <td>Centro</td>\n",
       "      <td>11</td>\n",
       "      <td>PALACIO</td>\n",
       "      <td>A</td>\n",
       "      <td>Almacén-Estacionamiento</td>\n",
       "      <td>3034</td>\n",
       "      <td>1969.0</td>\n",
       "      <td>214457.0</td>\n",
       "      <td>NaN</td>\n",
       "      <td>1.295259e+08</td>\n",
       "    </tr>\n",
       "    <tr>\n",
       "      <th>1</th>\n",
       "      <td>2014</td>\n",
       "      <td>1</td>\n",
       "      <td>Centro</td>\n",
       "      <td>11</td>\n",
       "      <td>PALACIO</td>\n",
       "      <td>C</td>\n",
       "      <td>Comercial</td>\n",
       "      <td>1407</td>\n",
       "      <td>1921.0</td>\n",
       "      <td>223552.0</td>\n",
       "      <td>NaN</td>\n",
       "      <td>4.076055e+08</td>\n",
       "    </tr>\n",
       "    <tr>\n",
       "      <th>2</th>\n",
       "      <td>2014</td>\n",
       "      <td>1</td>\n",
       "      <td>Centro</td>\n",
       "      <td>11</td>\n",
       "      <td>PALACIO</td>\n",
       "      <td>E</td>\n",
       "      <td>Cultural</td>\n",
       "      <td>36</td>\n",
       "      <td>1937.0</td>\n",
       "      <td>62963.0</td>\n",
       "      <td>NaN</td>\n",
       "      <td>7.582872e+07</td>\n",
       "    </tr>\n",
       "    <tr>\n",
       "      <th>3</th>\n",
       "      <td>2014</td>\n",
       "      <td>1</td>\n",
       "      <td>Centro</td>\n",
       "      <td>11</td>\n",
       "      <td>PALACIO</td>\n",
       "      <td>G</td>\n",
       "      <td>Ocio y Hostelería</td>\n",
       "      <td>254</td>\n",
       "      <td>1919.0</td>\n",
       "      <td>114226.0</td>\n",
       "      <td>NaN</td>\n",
       "      <td>1.954138e+08</td>\n",
       "    </tr>\n",
       "    <tr>\n",
       "      <th>4</th>\n",
       "      <td>2014</td>\n",
       "      <td>1</td>\n",
       "      <td>Centro</td>\n",
       "      <td>11</td>\n",
       "      <td>PALACIO</td>\n",
       "      <td>I</td>\n",
       "      <td>Industrial</td>\n",
       "      <td>22</td>\n",
       "      <td>1942.0</td>\n",
       "      <td>13228.0</td>\n",
       "      <td>NaN</td>\n",
       "      <td>1.180795e+07</td>\n",
       "    </tr>\n",
       "    <tr>\n",
       "      <th>5</th>\n",
       "      <td>2014</td>\n",
       "      <td>1</td>\n",
       "      <td>Centro</td>\n",
       "      <td>11</td>\n",
       "      <td>PALACIO</td>\n",
       "      <td>K</td>\n",
       "      <td>Deportivo</td>\n",
       "      <td>8</td>\n",
       "      <td>1946.0</td>\n",
       "      <td>7238.0</td>\n",
       "      <td>NaN</td>\n",
       "      <td>1.061466e+07</td>\n",
       "    </tr>\n",
       "    <tr>\n",
       "      <th>6</th>\n",
       "      <td>2014</td>\n",
       "      <td>1</td>\n",
       "      <td>Centro</td>\n",
       "      <td>11</td>\n",
       "      <td>PALACIO</td>\n",
       "      <td>M</td>\n",
       "      <td>Suelos sin edificar, obras de urbanización y j...</td>\n",
       "      <td>47</td>\n",
       "      <td>NaN</td>\n",
       "      <td>NaN</td>\n",
       "      <td>130010.0</td>\n",
       "      <td>1.991520e+07</td>\n",
       "    </tr>\n",
       "    <tr>\n",
       "      <th>7</th>\n",
       "      <td>2014</td>\n",
       "      <td>1</td>\n",
       "      <td>Centro</td>\n",
       "      <td>11</td>\n",
       "      <td>PALACIO</td>\n",
       "      <td>O</td>\n",
       "      <td>Oficinas</td>\n",
       "      <td>559</td>\n",
       "      <td>1947.0</td>\n",
       "      <td>196893.0</td>\n",
       "      <td>NaN</td>\n",
       "      <td>3.407841e+08</td>\n",
       "    </tr>\n",
       "    <tr>\n",
       "      <th>8</th>\n",
       "      <td>2014</td>\n",
       "      <td>1</td>\n",
       "      <td>Centro</td>\n",
       "      <td>11</td>\n",
       "      <td>PALACIO</td>\n",
       "      <td>P</td>\n",
       "      <td>Edificio Singular</td>\n",
       "      <td>15</td>\n",
       "      <td>1891.0</td>\n",
       "      <td>197518.0</td>\n",
       "      <td>NaN</td>\n",
       "      <td>2.816668e+08</td>\n",
       "    </tr>\n",
       "    <tr>\n",
       "      <th>9</th>\n",
       "      <td>2014</td>\n",
       "      <td>1</td>\n",
       "      <td>Centro</td>\n",
       "      <td>11</td>\n",
       "      <td>PALACIO</td>\n",
       "      <td>R</td>\n",
       "      <td>Religioso</td>\n",
       "      <td>17</td>\n",
       "      <td>1884.0</td>\n",
       "      <td>102718.0</td>\n",
       "      <td>NaN</td>\n",
       "      <td>1.142542e+08</td>\n",
       "    </tr>\n",
       "  </tbody>\n",
       "</table>\n",
       "</div>"
      ],
      "text/plain": [
       "    año  id_distrito distrito  id_barrio   barrio id_uso  \\\n",
       "0  2014            1   Centro         11  PALACIO      A   \n",
       "1  2014            1   Centro         11  PALACIO      C   \n",
       "2  2014            1   Centro         11  PALACIO      E   \n",
       "3  2014            1   Centro         11  PALACIO      G   \n",
       "4  2014            1   Centro         11  PALACIO      I   \n",
       "5  2014            1   Centro         11  PALACIO      K   \n",
       "6  2014            1   Centro         11  PALACIO      M   \n",
       "7  2014            1   Centro         11  PALACIO      O   \n",
       "8  2014            1   Centro         11  PALACIO      P   \n",
       "9  2014            1   Centro         11  PALACIO      R   \n",
       "\n",
       "                                                 uso  num_inmuebles  \\\n",
       "0                            Almacén-Estacionamiento           3034   \n",
       "1                                          Comercial           1407   \n",
       "2                                           Cultural             36   \n",
       "3                                  Ocio y Hostelería            254   \n",
       "4                                         Industrial             22   \n",
       "5                                          Deportivo              8   \n",
       "6  Suelos sin edificar, obras de urbanización y j...             47   \n",
       "7                                           Oficinas            559   \n",
       "8                                  Edificio Singular             15   \n",
       "9                                          Religioso             17   \n",
       "\n",
       "   año_cons_medio  sup_cons  sup_suelo  valor_catastral  \n",
       "0          1969.0  214457.0        NaN     1.295259e+08  \n",
       "1          1921.0  223552.0        NaN     4.076055e+08  \n",
       "2          1937.0   62963.0        NaN     7.582872e+07  \n",
       "3          1919.0  114226.0        NaN     1.954138e+08  \n",
       "4          1942.0   13228.0        NaN     1.180795e+07  \n",
       "5          1946.0    7238.0        NaN     1.061466e+07  \n",
       "6             NaN       NaN   130010.0     1.991520e+07  \n",
       "7          1947.0  196893.0        NaN     3.407841e+08  \n",
       "8          1891.0  197518.0        NaN     2.816668e+08  \n",
       "9          1884.0  102718.0        NaN     1.142542e+08  "
      ]
     },
     "execution_count": 145,
     "metadata": {},
     "output_type": "execute_result"
    }
   ],
   "source": [
    "catastro = pd.read_table('datos/catastro.tsv', nrows=10)\n",
    "catastro"
   ]
  },
  {
   "cell_type": "code",
   "execution_count": 146,
   "metadata": {},
   "outputs": [
    {
     "data": {
      "text/html": [
       "<div>\n",
       "<style scoped>\n",
       "    .dataframe tbody tr th:only-of-type {\n",
       "        vertical-align: middle;\n",
       "    }\n",
       "\n",
       "    .dataframe tbody tr th {\n",
       "        vertical-align: top;\n",
       "    }\n",
       "\n",
       "    .dataframe thead th {\n",
       "        text-align: right;\n",
       "    }\n",
       "</style>\n",
       "<table border=\"1\" class=\"dataframe\">\n",
       "  <thead>\n",
       "    <tr style=\"text-align: right;\">\n",
       "      <th></th>\n",
       "      <th>año</th>\n",
       "      <th>id_distrito</th>\n",
       "      <th>distrito</th>\n",
       "      <th>id_barrio</th>\n",
       "      <th>barrio</th>\n",
       "      <th>id_uso</th>\n",
       "      <th>uso</th>\n",
       "      <th>num_inmuebles</th>\n",
       "      <th>año_cons_medio</th>\n",
       "      <th>sup_cons</th>\n",
       "      <th>sup_suelo</th>\n",
       "      <th>valor_catastral</th>\n",
       "    </tr>\n",
       "  </thead>\n",
       "  <tbody>\n",
       "  </tbody>\n",
       "</table>\n",
       "</div>"
      ],
      "text/plain": [
       "Empty DataFrame\n",
       "Columns: [año, id_distrito, distrito, id_barrio, barrio, id_uso, uso, num_inmuebles, año_cons_medio, sup_cons, sup_suelo, valor_catastral]\n",
       "Index: []"
      ]
     },
     "execution_count": 146,
     "metadata": {},
     "output_type": "execute_result"
    }
   ],
   "source": [
    "# Eliminación de filas con al menos 1 NA\n",
    "catastro.dropna(axis=0, how='any')"
   ]
  },
  {
   "cell_type": "code",
   "execution_count": 147,
   "metadata": {},
   "outputs": [
    {
     "data": {
      "text/html": [
       "<div>\n",
       "<style scoped>\n",
       "    .dataframe tbody tr th:only-of-type {\n",
       "        vertical-align: middle;\n",
       "    }\n",
       "\n",
       "    .dataframe tbody tr th {\n",
       "        vertical-align: top;\n",
       "    }\n",
       "\n",
       "    .dataframe thead th {\n",
       "        text-align: right;\n",
       "    }\n",
       "</style>\n",
       "<table border=\"1\" class=\"dataframe\">\n",
       "  <thead>\n",
       "    <tr style=\"text-align: right;\">\n",
       "      <th></th>\n",
       "      <th>año</th>\n",
       "      <th>id_distrito</th>\n",
       "      <th>distrito</th>\n",
       "      <th>id_barrio</th>\n",
       "      <th>barrio</th>\n",
       "      <th>id_uso</th>\n",
       "      <th>uso</th>\n",
       "      <th>num_inmuebles</th>\n",
       "      <th>valor_catastral</th>\n",
       "    </tr>\n",
       "  </thead>\n",
       "  <tbody>\n",
       "    <tr>\n",
       "      <th>0</th>\n",
       "      <td>2014</td>\n",
       "      <td>1</td>\n",
       "      <td>Centro</td>\n",
       "      <td>11</td>\n",
       "      <td>PALACIO</td>\n",
       "      <td>A</td>\n",
       "      <td>Almacén-Estacionamiento</td>\n",
       "      <td>3034</td>\n",
       "      <td>1.295259e+08</td>\n",
       "    </tr>\n",
       "    <tr>\n",
       "      <th>1</th>\n",
       "      <td>2014</td>\n",
       "      <td>1</td>\n",
       "      <td>Centro</td>\n",
       "      <td>11</td>\n",
       "      <td>PALACIO</td>\n",
       "      <td>C</td>\n",
       "      <td>Comercial</td>\n",
       "      <td>1407</td>\n",
       "      <td>4.076055e+08</td>\n",
       "    </tr>\n",
       "    <tr>\n",
       "      <th>2</th>\n",
       "      <td>2014</td>\n",
       "      <td>1</td>\n",
       "      <td>Centro</td>\n",
       "      <td>11</td>\n",
       "      <td>PALACIO</td>\n",
       "      <td>E</td>\n",
       "      <td>Cultural</td>\n",
       "      <td>36</td>\n",
       "      <td>7.582872e+07</td>\n",
       "    </tr>\n",
       "    <tr>\n",
       "      <th>3</th>\n",
       "      <td>2014</td>\n",
       "      <td>1</td>\n",
       "      <td>Centro</td>\n",
       "      <td>11</td>\n",
       "      <td>PALACIO</td>\n",
       "      <td>G</td>\n",
       "      <td>Ocio y Hostelería</td>\n",
       "      <td>254</td>\n",
       "      <td>1.954138e+08</td>\n",
       "    </tr>\n",
       "    <tr>\n",
       "      <th>4</th>\n",
       "      <td>2014</td>\n",
       "      <td>1</td>\n",
       "      <td>Centro</td>\n",
       "      <td>11</td>\n",
       "      <td>PALACIO</td>\n",
       "      <td>I</td>\n",
       "      <td>Industrial</td>\n",
       "      <td>22</td>\n",
       "      <td>1.180795e+07</td>\n",
       "    </tr>\n",
       "    <tr>\n",
       "      <th>5</th>\n",
       "      <td>2014</td>\n",
       "      <td>1</td>\n",
       "      <td>Centro</td>\n",
       "      <td>11</td>\n",
       "      <td>PALACIO</td>\n",
       "      <td>K</td>\n",
       "      <td>Deportivo</td>\n",
       "      <td>8</td>\n",
       "      <td>1.061466e+07</td>\n",
       "    </tr>\n",
       "    <tr>\n",
       "      <th>6</th>\n",
       "      <td>2014</td>\n",
       "      <td>1</td>\n",
       "      <td>Centro</td>\n",
       "      <td>11</td>\n",
       "      <td>PALACIO</td>\n",
       "      <td>M</td>\n",
       "      <td>Suelos sin edificar, obras de urbanización y j...</td>\n",
       "      <td>47</td>\n",
       "      <td>1.991520e+07</td>\n",
       "    </tr>\n",
       "    <tr>\n",
       "      <th>7</th>\n",
       "      <td>2014</td>\n",
       "      <td>1</td>\n",
       "      <td>Centro</td>\n",
       "      <td>11</td>\n",
       "      <td>PALACIO</td>\n",
       "      <td>O</td>\n",
       "      <td>Oficinas</td>\n",
       "      <td>559</td>\n",
       "      <td>3.407841e+08</td>\n",
       "    </tr>\n",
       "    <tr>\n",
       "      <th>8</th>\n",
       "      <td>2014</td>\n",
       "      <td>1</td>\n",
       "      <td>Centro</td>\n",
       "      <td>11</td>\n",
       "      <td>PALACIO</td>\n",
       "      <td>P</td>\n",
       "      <td>Edificio Singular</td>\n",
       "      <td>15</td>\n",
       "      <td>2.816668e+08</td>\n",
       "    </tr>\n",
       "    <tr>\n",
       "      <th>9</th>\n",
       "      <td>2014</td>\n",
       "      <td>1</td>\n",
       "      <td>Centro</td>\n",
       "      <td>11</td>\n",
       "      <td>PALACIO</td>\n",
       "      <td>R</td>\n",
       "      <td>Religioso</td>\n",
       "      <td>17</td>\n",
       "      <td>1.142542e+08</td>\n",
       "    </tr>\n",
       "  </tbody>\n",
       "</table>\n",
       "</div>"
      ],
      "text/plain": [
       "    año  id_distrito distrito  id_barrio   barrio id_uso  \\\n",
       "0  2014            1   Centro         11  PALACIO      A   \n",
       "1  2014            1   Centro         11  PALACIO      C   \n",
       "2  2014            1   Centro         11  PALACIO      E   \n",
       "3  2014            1   Centro         11  PALACIO      G   \n",
       "4  2014            1   Centro         11  PALACIO      I   \n",
       "5  2014            1   Centro         11  PALACIO      K   \n",
       "6  2014            1   Centro         11  PALACIO      M   \n",
       "7  2014            1   Centro         11  PALACIO      O   \n",
       "8  2014            1   Centro         11  PALACIO      P   \n",
       "9  2014            1   Centro         11  PALACIO      R   \n",
       "\n",
       "                                                 uso  num_inmuebles  \\\n",
       "0                            Almacén-Estacionamiento           3034   \n",
       "1                                          Comercial           1407   \n",
       "2                                           Cultural             36   \n",
       "3                                  Ocio y Hostelería            254   \n",
       "4                                         Industrial             22   \n",
       "5                                          Deportivo              8   \n",
       "6  Suelos sin edificar, obras de urbanización y j...             47   \n",
       "7                                           Oficinas            559   \n",
       "8                                  Edificio Singular             15   \n",
       "9                                          Religioso             17   \n",
       "\n",
       "   valor_catastral  \n",
       "0     1.295259e+08  \n",
       "1     4.076055e+08  \n",
       "2     7.582872e+07  \n",
       "3     1.954138e+08  \n",
       "4     1.180795e+07  \n",
       "5     1.061466e+07  \n",
       "6     1.991520e+07  \n",
       "7     3.407841e+08  \n",
       "8     2.816668e+08  \n",
       "9     1.142542e+08  "
      ]
     },
     "execution_count": 147,
     "metadata": {},
     "output_type": "execute_result"
    }
   ],
   "source": [
    "# Eliminación de columnas con al menos 1 NA\n",
    "catastro.dropna(axis=1, how='any')"
   ]
  },
  {
   "cell_type": "code",
   "execution_count": 148,
   "metadata": {},
   "outputs": [
    {
     "data": {
      "text/html": [
       "<div>\n",
       "<style scoped>\n",
       "    .dataframe tbody tr th:only-of-type {\n",
       "        vertical-align: middle;\n",
       "    }\n",
       "\n",
       "    .dataframe tbody tr th {\n",
       "        vertical-align: top;\n",
       "    }\n",
       "\n",
       "    .dataframe thead th {\n",
       "        text-align: right;\n",
       "    }\n",
       "</style>\n",
       "<table border=\"1\" class=\"dataframe\">\n",
       "  <thead>\n",
       "    <tr style=\"text-align: right;\">\n",
       "      <th></th>\n",
       "      <th>año</th>\n",
       "      <th>id_distrito</th>\n",
       "      <th>distrito</th>\n",
       "      <th>id_barrio</th>\n",
       "      <th>barrio</th>\n",
       "      <th>id_uso</th>\n",
       "      <th>uso</th>\n",
       "      <th>num_inmuebles</th>\n",
       "      <th>año_cons_medio</th>\n",
       "      <th>sup_cons</th>\n",
       "      <th>sup_suelo</th>\n",
       "      <th>valor_catastral</th>\n",
       "    </tr>\n",
       "  </thead>\n",
       "  <tbody>\n",
       "    <tr>\n",
       "      <th>0</th>\n",
       "      <td>2014</td>\n",
       "      <td>1</td>\n",
       "      <td>Centro</td>\n",
       "      <td>11</td>\n",
       "      <td>PALACIO</td>\n",
       "      <td>A</td>\n",
       "      <td>Almacén-Estacionamiento</td>\n",
       "      <td>3034</td>\n",
       "      <td>1969.0</td>\n",
       "      <td>214457.0</td>\n",
       "      <td>NaN</td>\n",
       "      <td>1.295259e+08</td>\n",
       "    </tr>\n",
       "    <tr>\n",
       "      <th>1</th>\n",
       "      <td>2014</td>\n",
       "      <td>1</td>\n",
       "      <td>Centro</td>\n",
       "      <td>11</td>\n",
       "      <td>PALACIO</td>\n",
       "      <td>C</td>\n",
       "      <td>Comercial</td>\n",
       "      <td>1407</td>\n",
       "      <td>1921.0</td>\n",
       "      <td>223552.0</td>\n",
       "      <td>NaN</td>\n",
       "      <td>4.076055e+08</td>\n",
       "    </tr>\n",
       "    <tr>\n",
       "      <th>2</th>\n",
       "      <td>2014</td>\n",
       "      <td>1</td>\n",
       "      <td>Centro</td>\n",
       "      <td>11</td>\n",
       "      <td>PALACIO</td>\n",
       "      <td>E</td>\n",
       "      <td>Cultural</td>\n",
       "      <td>36</td>\n",
       "      <td>1937.0</td>\n",
       "      <td>62963.0</td>\n",
       "      <td>NaN</td>\n",
       "      <td>7.582872e+07</td>\n",
       "    </tr>\n",
       "    <tr>\n",
       "      <th>3</th>\n",
       "      <td>2014</td>\n",
       "      <td>1</td>\n",
       "      <td>Centro</td>\n",
       "      <td>11</td>\n",
       "      <td>PALACIO</td>\n",
       "      <td>G</td>\n",
       "      <td>Ocio y Hostelería</td>\n",
       "      <td>254</td>\n",
       "      <td>1919.0</td>\n",
       "      <td>114226.0</td>\n",
       "      <td>NaN</td>\n",
       "      <td>1.954138e+08</td>\n",
       "    </tr>\n",
       "    <tr>\n",
       "      <th>4</th>\n",
       "      <td>2014</td>\n",
       "      <td>1</td>\n",
       "      <td>Centro</td>\n",
       "      <td>11</td>\n",
       "      <td>PALACIO</td>\n",
       "      <td>I</td>\n",
       "      <td>Industrial</td>\n",
       "      <td>22</td>\n",
       "      <td>1942.0</td>\n",
       "      <td>13228.0</td>\n",
       "      <td>NaN</td>\n",
       "      <td>1.180795e+07</td>\n",
       "    </tr>\n",
       "    <tr>\n",
       "      <th>5</th>\n",
       "      <td>2014</td>\n",
       "      <td>1</td>\n",
       "      <td>Centro</td>\n",
       "      <td>11</td>\n",
       "      <td>PALACIO</td>\n",
       "      <td>K</td>\n",
       "      <td>Deportivo</td>\n",
       "      <td>8</td>\n",
       "      <td>1946.0</td>\n",
       "      <td>7238.0</td>\n",
       "      <td>NaN</td>\n",
       "      <td>1.061466e+07</td>\n",
       "    </tr>\n",
       "    <tr>\n",
       "      <th>7</th>\n",
       "      <td>2014</td>\n",
       "      <td>1</td>\n",
       "      <td>Centro</td>\n",
       "      <td>11</td>\n",
       "      <td>PALACIO</td>\n",
       "      <td>O</td>\n",
       "      <td>Oficinas</td>\n",
       "      <td>559</td>\n",
       "      <td>1947.0</td>\n",
       "      <td>196893.0</td>\n",
       "      <td>NaN</td>\n",
       "      <td>3.407841e+08</td>\n",
       "    </tr>\n",
       "    <tr>\n",
       "      <th>8</th>\n",
       "      <td>2014</td>\n",
       "      <td>1</td>\n",
       "      <td>Centro</td>\n",
       "      <td>11</td>\n",
       "      <td>PALACIO</td>\n",
       "      <td>P</td>\n",
       "      <td>Edificio Singular</td>\n",
       "      <td>15</td>\n",
       "      <td>1891.0</td>\n",
       "      <td>197518.0</td>\n",
       "      <td>NaN</td>\n",
       "      <td>2.816668e+08</td>\n",
       "    </tr>\n",
       "    <tr>\n",
       "      <th>9</th>\n",
       "      <td>2014</td>\n",
       "      <td>1</td>\n",
       "      <td>Centro</td>\n",
       "      <td>11</td>\n",
       "      <td>PALACIO</td>\n",
       "      <td>R</td>\n",
       "      <td>Religioso</td>\n",
       "      <td>17</td>\n",
       "      <td>1884.0</td>\n",
       "      <td>102718.0</td>\n",
       "      <td>NaN</td>\n",
       "      <td>1.142542e+08</td>\n",
       "    </tr>\n",
       "  </tbody>\n",
       "</table>\n",
       "</div>"
      ],
      "text/plain": [
       "    año  id_distrito distrito  id_barrio   barrio id_uso  \\\n",
       "0  2014            1   Centro         11  PALACIO      A   \n",
       "1  2014            1   Centro         11  PALACIO      C   \n",
       "2  2014            1   Centro         11  PALACIO      E   \n",
       "3  2014            1   Centro         11  PALACIO      G   \n",
       "4  2014            1   Centro         11  PALACIO      I   \n",
       "5  2014            1   Centro         11  PALACIO      K   \n",
       "7  2014            1   Centro         11  PALACIO      O   \n",
       "8  2014            1   Centro         11  PALACIO      P   \n",
       "9  2014            1   Centro         11  PALACIO      R   \n",
       "\n",
       "                       uso  num_inmuebles  año_cons_medio  sup_cons  \\\n",
       "0  Almacén-Estacionamiento           3034          1969.0  214457.0   \n",
       "1                Comercial           1407          1921.0  223552.0   \n",
       "2                 Cultural             36          1937.0   62963.0   \n",
       "3        Ocio y Hostelería            254          1919.0  114226.0   \n",
       "4               Industrial             22          1942.0   13228.0   \n",
       "5                Deportivo              8          1946.0    7238.0   \n",
       "7                 Oficinas            559          1947.0  196893.0   \n",
       "8        Edificio Singular             15          1891.0  197518.0   \n",
       "9                Religioso             17          1884.0  102718.0   \n",
       "\n",
       "   sup_suelo  valor_catastral  \n",
       "0        NaN     1.295259e+08  \n",
       "1        NaN     4.076055e+08  \n",
       "2        NaN     7.582872e+07  \n",
       "3        NaN     1.954138e+08  \n",
       "4        NaN     1.180795e+07  \n",
       "5        NaN     1.061466e+07  \n",
       "7        NaN     3.407841e+08  \n",
       "8        NaN     2.816668e+08  \n",
       "9        NaN     1.142542e+08  "
      ]
     },
     "execution_count": 148,
     "metadata": {},
     "output_type": "execute_result"
    }
   ],
   "source": [
    "# Eliminación de filas con 2 o más NA\n",
    "catastro.dropna(thresh=len(catastro.columns)-1)"
   ]
  },
  {
   "cell_type": "markdown",
   "metadata": {},
   "source": [
    "#### Imputación de registros con <i>missing values</i>"
   ]
  },
  {
   "cell_type": "markdown",
   "metadata": {},
   "source": [
    "Existirán casos en los que no se desee (o no se pueda) eliminar los registros con valores nulos (p.e. podrían suponer un porcentaje demasiado elevado de nuestro set de datos). En estos casos, habrá que realizar una imputación de los mismos a un valor preestablecidor.<br/>\n",
    "Pandas pone a nuestra disposición el método <b>fillna</b>, que cuenta, entre otros, con los siguientes parámetros:<br/>\n",
    "<ul>\n",
    "<li><b>axis:</b> Que decide si aplicará el criterio de relleno por filas o columnas.</li>\n",
    "<li><b>value:</b> Que rellena los valores nulos a un valor fijo.</li>\n",
    "</ul>"
   ]
  },
  {
   "cell_type": "code",
   "execution_count": 149,
   "metadata": {},
   "outputs": [
    {
     "data": {
      "text/html": [
       "<div>\n",
       "<style scoped>\n",
       "    .dataframe tbody tr th:only-of-type {\n",
       "        vertical-align: middle;\n",
       "    }\n",
       "\n",
       "    .dataframe tbody tr th {\n",
       "        vertical-align: top;\n",
       "    }\n",
       "\n",
       "    .dataframe thead th {\n",
       "        text-align: right;\n",
       "    }\n",
       "</style>\n",
       "<table border=\"1\" class=\"dataframe\">\n",
       "  <thead>\n",
       "    <tr style=\"text-align: right;\">\n",
       "      <th></th>\n",
       "      <th>año</th>\n",
       "      <th>id_distrito</th>\n",
       "      <th>distrito</th>\n",
       "      <th>id_barrio</th>\n",
       "      <th>barrio</th>\n",
       "      <th>id_uso</th>\n",
       "      <th>uso</th>\n",
       "      <th>num_inmuebles</th>\n",
       "      <th>año_cons_medio</th>\n",
       "      <th>sup_cons</th>\n",
       "      <th>sup_suelo</th>\n",
       "      <th>valor_catastral</th>\n",
       "    </tr>\n",
       "  </thead>\n",
       "  <tbody>\n",
       "    <tr>\n",
       "      <th>0</th>\n",
       "      <td>2014</td>\n",
       "      <td>1</td>\n",
       "      <td>Centro</td>\n",
       "      <td>11</td>\n",
       "      <td>PALACIO</td>\n",
       "      <td>A</td>\n",
       "      <td>Almacén-Estacionamiento</td>\n",
       "      <td>3034</td>\n",
       "      <td>1969.0</td>\n",
       "      <td>214457.0</td>\n",
       "      <td>NaN</td>\n",
       "      <td>1.295259e+08</td>\n",
       "    </tr>\n",
       "    <tr>\n",
       "      <th>1</th>\n",
       "      <td>2014</td>\n",
       "      <td>1</td>\n",
       "      <td>Centro</td>\n",
       "      <td>11</td>\n",
       "      <td>PALACIO</td>\n",
       "      <td>C</td>\n",
       "      <td>Comercial</td>\n",
       "      <td>1407</td>\n",
       "      <td>1921.0</td>\n",
       "      <td>223552.0</td>\n",
       "      <td>NaN</td>\n",
       "      <td>4.076055e+08</td>\n",
       "    </tr>\n",
       "    <tr>\n",
       "      <th>2</th>\n",
       "      <td>2014</td>\n",
       "      <td>1</td>\n",
       "      <td>Centro</td>\n",
       "      <td>11</td>\n",
       "      <td>PALACIO</td>\n",
       "      <td>E</td>\n",
       "      <td>Cultural</td>\n",
       "      <td>36</td>\n",
       "      <td>1937.0</td>\n",
       "      <td>62963.0</td>\n",
       "      <td>NaN</td>\n",
       "      <td>7.582872e+07</td>\n",
       "    </tr>\n",
       "    <tr>\n",
       "      <th>3</th>\n",
       "      <td>2014</td>\n",
       "      <td>1</td>\n",
       "      <td>Centro</td>\n",
       "      <td>11</td>\n",
       "      <td>PALACIO</td>\n",
       "      <td>G</td>\n",
       "      <td>Ocio y Hostelería</td>\n",
       "      <td>254</td>\n",
       "      <td>1919.0</td>\n",
       "      <td>114226.0</td>\n",
       "      <td>NaN</td>\n",
       "      <td>1.954138e+08</td>\n",
       "    </tr>\n",
       "    <tr>\n",
       "      <th>4</th>\n",
       "      <td>2014</td>\n",
       "      <td>1</td>\n",
       "      <td>Centro</td>\n",
       "      <td>11</td>\n",
       "      <td>PALACIO</td>\n",
       "      <td>I</td>\n",
       "      <td>Industrial</td>\n",
       "      <td>22</td>\n",
       "      <td>1942.0</td>\n",
       "      <td>13228.0</td>\n",
       "      <td>NaN</td>\n",
       "      <td>1.180795e+07</td>\n",
       "    </tr>\n",
       "    <tr>\n",
       "      <th>5</th>\n",
       "      <td>2014</td>\n",
       "      <td>1</td>\n",
       "      <td>Centro</td>\n",
       "      <td>11</td>\n",
       "      <td>PALACIO</td>\n",
       "      <td>K</td>\n",
       "      <td>Deportivo</td>\n",
       "      <td>8</td>\n",
       "      <td>1946.0</td>\n",
       "      <td>7238.0</td>\n",
       "      <td>NaN</td>\n",
       "      <td>1.061466e+07</td>\n",
       "    </tr>\n",
       "    <tr>\n",
       "      <th>6</th>\n",
       "      <td>2014</td>\n",
       "      <td>1</td>\n",
       "      <td>Centro</td>\n",
       "      <td>11</td>\n",
       "      <td>PALACIO</td>\n",
       "      <td>M</td>\n",
       "      <td>Suelos sin edificar, obras de urbanización y j...</td>\n",
       "      <td>47</td>\n",
       "      <td>NaN</td>\n",
       "      <td>NaN</td>\n",
       "      <td>130010.0</td>\n",
       "      <td>1.991520e+07</td>\n",
       "    </tr>\n",
       "    <tr>\n",
       "      <th>7</th>\n",
       "      <td>2014</td>\n",
       "      <td>1</td>\n",
       "      <td>Centro</td>\n",
       "      <td>11</td>\n",
       "      <td>PALACIO</td>\n",
       "      <td>O</td>\n",
       "      <td>Oficinas</td>\n",
       "      <td>559</td>\n",
       "      <td>1947.0</td>\n",
       "      <td>196893.0</td>\n",
       "      <td>NaN</td>\n",
       "      <td>3.407841e+08</td>\n",
       "    </tr>\n",
       "    <tr>\n",
       "      <th>8</th>\n",
       "      <td>2014</td>\n",
       "      <td>1</td>\n",
       "      <td>Centro</td>\n",
       "      <td>11</td>\n",
       "      <td>PALACIO</td>\n",
       "      <td>P</td>\n",
       "      <td>Edificio Singular</td>\n",
       "      <td>15</td>\n",
       "      <td>1891.0</td>\n",
       "      <td>197518.0</td>\n",
       "      <td>NaN</td>\n",
       "      <td>2.816668e+08</td>\n",
       "    </tr>\n",
       "    <tr>\n",
       "      <th>9</th>\n",
       "      <td>2014</td>\n",
       "      <td>1</td>\n",
       "      <td>Centro</td>\n",
       "      <td>11</td>\n",
       "      <td>PALACIO</td>\n",
       "      <td>R</td>\n",
       "      <td>Religioso</td>\n",
       "      <td>17</td>\n",
       "      <td>1884.0</td>\n",
       "      <td>102718.0</td>\n",
       "      <td>NaN</td>\n",
       "      <td>1.142542e+08</td>\n",
       "    </tr>\n",
       "  </tbody>\n",
       "</table>\n",
       "</div>"
      ],
      "text/plain": [
       "    año  id_distrito distrito  id_barrio   barrio id_uso  \\\n",
       "0  2014            1   Centro         11  PALACIO      A   \n",
       "1  2014            1   Centro         11  PALACIO      C   \n",
       "2  2014            1   Centro         11  PALACIO      E   \n",
       "3  2014            1   Centro         11  PALACIO      G   \n",
       "4  2014            1   Centro         11  PALACIO      I   \n",
       "5  2014            1   Centro         11  PALACIO      K   \n",
       "6  2014            1   Centro         11  PALACIO      M   \n",
       "7  2014            1   Centro         11  PALACIO      O   \n",
       "8  2014            1   Centro         11  PALACIO      P   \n",
       "9  2014            1   Centro         11  PALACIO      R   \n",
       "\n",
       "                                                 uso  num_inmuebles  \\\n",
       "0                            Almacén-Estacionamiento           3034   \n",
       "1                                          Comercial           1407   \n",
       "2                                           Cultural             36   \n",
       "3                                  Ocio y Hostelería            254   \n",
       "4                                         Industrial             22   \n",
       "5                                          Deportivo              8   \n",
       "6  Suelos sin edificar, obras de urbanización y j...             47   \n",
       "7                                           Oficinas            559   \n",
       "8                                  Edificio Singular             15   \n",
       "9                                          Religioso             17   \n",
       "\n",
       "   año_cons_medio  sup_cons  sup_suelo  valor_catastral  \n",
       "0          1969.0  214457.0        NaN     1.295259e+08  \n",
       "1          1921.0  223552.0        NaN     4.076055e+08  \n",
       "2          1937.0   62963.0        NaN     7.582872e+07  \n",
       "3          1919.0  114226.0        NaN     1.954138e+08  \n",
       "4          1942.0   13228.0        NaN     1.180795e+07  \n",
       "5          1946.0    7238.0        NaN     1.061466e+07  \n",
       "6             NaN       NaN   130010.0     1.991520e+07  \n",
       "7          1947.0  196893.0        NaN     3.407841e+08  \n",
       "8          1891.0  197518.0        NaN     2.816668e+08  \n",
       "9          1884.0  102718.0        NaN     1.142542e+08  "
      ]
     },
     "execution_count": 149,
     "metadata": {},
     "output_type": "execute_result"
    }
   ],
   "source": [
    "catastro = pd.read_table('datos/catastro.tsv', nrows=10)\n",
    "catastro"
   ]
  },
  {
   "cell_type": "code",
   "execution_count": 150,
   "metadata": {},
   "outputs": [
    {
     "data": {
      "text/html": [
       "<div>\n",
       "<style scoped>\n",
       "    .dataframe tbody tr th:only-of-type {\n",
       "        vertical-align: middle;\n",
       "    }\n",
       "\n",
       "    .dataframe tbody tr th {\n",
       "        vertical-align: top;\n",
       "    }\n",
       "\n",
       "    .dataframe thead th {\n",
       "        text-align: right;\n",
       "    }\n",
       "</style>\n",
       "<table border=\"1\" class=\"dataframe\">\n",
       "  <thead>\n",
       "    <tr style=\"text-align: right;\">\n",
       "      <th></th>\n",
       "      <th>año</th>\n",
       "      <th>id_distrito</th>\n",
       "      <th>distrito</th>\n",
       "      <th>id_barrio</th>\n",
       "      <th>barrio</th>\n",
       "      <th>id_uso</th>\n",
       "      <th>uso</th>\n",
       "      <th>num_inmuebles</th>\n",
       "      <th>año_cons_medio</th>\n",
       "      <th>sup_cons</th>\n",
       "      <th>sup_suelo</th>\n",
       "      <th>valor_catastral</th>\n",
       "    </tr>\n",
       "  </thead>\n",
       "  <tbody>\n",
       "    <tr>\n",
       "      <th>0</th>\n",
       "      <td>2014</td>\n",
       "      <td>1</td>\n",
       "      <td>Centro</td>\n",
       "      <td>11</td>\n",
       "      <td>PALACIO</td>\n",
       "      <td>A</td>\n",
       "      <td>Almacén-Estacionamiento</td>\n",
       "      <td>3034</td>\n",
       "      <td>1969.0</td>\n",
       "      <td>214457.0</td>\n",
       "      <td>0.0</td>\n",
       "      <td>1.295259e+08</td>\n",
       "    </tr>\n",
       "    <tr>\n",
       "      <th>1</th>\n",
       "      <td>2014</td>\n",
       "      <td>1</td>\n",
       "      <td>Centro</td>\n",
       "      <td>11</td>\n",
       "      <td>PALACIO</td>\n",
       "      <td>C</td>\n",
       "      <td>Comercial</td>\n",
       "      <td>1407</td>\n",
       "      <td>1921.0</td>\n",
       "      <td>223552.0</td>\n",
       "      <td>0.0</td>\n",
       "      <td>4.076055e+08</td>\n",
       "    </tr>\n",
       "    <tr>\n",
       "      <th>2</th>\n",
       "      <td>2014</td>\n",
       "      <td>1</td>\n",
       "      <td>Centro</td>\n",
       "      <td>11</td>\n",
       "      <td>PALACIO</td>\n",
       "      <td>E</td>\n",
       "      <td>Cultural</td>\n",
       "      <td>36</td>\n",
       "      <td>1937.0</td>\n",
       "      <td>62963.0</td>\n",
       "      <td>0.0</td>\n",
       "      <td>7.582872e+07</td>\n",
       "    </tr>\n",
       "    <tr>\n",
       "      <th>3</th>\n",
       "      <td>2014</td>\n",
       "      <td>1</td>\n",
       "      <td>Centro</td>\n",
       "      <td>11</td>\n",
       "      <td>PALACIO</td>\n",
       "      <td>G</td>\n",
       "      <td>Ocio y Hostelería</td>\n",
       "      <td>254</td>\n",
       "      <td>1919.0</td>\n",
       "      <td>114226.0</td>\n",
       "      <td>0.0</td>\n",
       "      <td>1.954138e+08</td>\n",
       "    </tr>\n",
       "    <tr>\n",
       "      <th>4</th>\n",
       "      <td>2014</td>\n",
       "      <td>1</td>\n",
       "      <td>Centro</td>\n",
       "      <td>11</td>\n",
       "      <td>PALACIO</td>\n",
       "      <td>I</td>\n",
       "      <td>Industrial</td>\n",
       "      <td>22</td>\n",
       "      <td>1942.0</td>\n",
       "      <td>13228.0</td>\n",
       "      <td>0.0</td>\n",
       "      <td>1.180795e+07</td>\n",
       "    </tr>\n",
       "    <tr>\n",
       "      <th>5</th>\n",
       "      <td>2014</td>\n",
       "      <td>1</td>\n",
       "      <td>Centro</td>\n",
       "      <td>11</td>\n",
       "      <td>PALACIO</td>\n",
       "      <td>K</td>\n",
       "      <td>Deportivo</td>\n",
       "      <td>8</td>\n",
       "      <td>1946.0</td>\n",
       "      <td>7238.0</td>\n",
       "      <td>0.0</td>\n",
       "      <td>1.061466e+07</td>\n",
       "    </tr>\n",
       "    <tr>\n",
       "      <th>6</th>\n",
       "      <td>2014</td>\n",
       "      <td>1</td>\n",
       "      <td>Centro</td>\n",
       "      <td>11</td>\n",
       "      <td>PALACIO</td>\n",
       "      <td>M</td>\n",
       "      <td>Suelos sin edificar, obras de urbanización y j...</td>\n",
       "      <td>47</td>\n",
       "      <td>0.0</td>\n",
       "      <td>0.0</td>\n",
       "      <td>130010.0</td>\n",
       "      <td>1.991520e+07</td>\n",
       "    </tr>\n",
       "    <tr>\n",
       "      <th>7</th>\n",
       "      <td>2014</td>\n",
       "      <td>1</td>\n",
       "      <td>Centro</td>\n",
       "      <td>11</td>\n",
       "      <td>PALACIO</td>\n",
       "      <td>O</td>\n",
       "      <td>Oficinas</td>\n",
       "      <td>559</td>\n",
       "      <td>1947.0</td>\n",
       "      <td>196893.0</td>\n",
       "      <td>0.0</td>\n",
       "      <td>3.407841e+08</td>\n",
       "    </tr>\n",
       "    <tr>\n",
       "      <th>8</th>\n",
       "      <td>2014</td>\n",
       "      <td>1</td>\n",
       "      <td>Centro</td>\n",
       "      <td>11</td>\n",
       "      <td>PALACIO</td>\n",
       "      <td>P</td>\n",
       "      <td>Edificio Singular</td>\n",
       "      <td>15</td>\n",
       "      <td>1891.0</td>\n",
       "      <td>197518.0</td>\n",
       "      <td>0.0</td>\n",
       "      <td>2.816668e+08</td>\n",
       "    </tr>\n",
       "    <tr>\n",
       "      <th>9</th>\n",
       "      <td>2014</td>\n",
       "      <td>1</td>\n",
       "      <td>Centro</td>\n",
       "      <td>11</td>\n",
       "      <td>PALACIO</td>\n",
       "      <td>R</td>\n",
       "      <td>Religioso</td>\n",
       "      <td>17</td>\n",
       "      <td>1884.0</td>\n",
       "      <td>102718.0</td>\n",
       "      <td>0.0</td>\n",
       "      <td>1.142542e+08</td>\n",
       "    </tr>\n",
       "  </tbody>\n",
       "</table>\n",
       "</div>"
      ],
      "text/plain": [
       "    año  id_distrito distrito  id_barrio   barrio id_uso  \\\n",
       "0  2014            1   Centro         11  PALACIO      A   \n",
       "1  2014            1   Centro         11  PALACIO      C   \n",
       "2  2014            1   Centro         11  PALACIO      E   \n",
       "3  2014            1   Centro         11  PALACIO      G   \n",
       "4  2014            1   Centro         11  PALACIO      I   \n",
       "5  2014            1   Centro         11  PALACIO      K   \n",
       "6  2014            1   Centro         11  PALACIO      M   \n",
       "7  2014            1   Centro         11  PALACIO      O   \n",
       "8  2014            1   Centro         11  PALACIO      P   \n",
       "9  2014            1   Centro         11  PALACIO      R   \n",
       "\n",
       "                                                 uso  num_inmuebles  \\\n",
       "0                            Almacén-Estacionamiento           3034   \n",
       "1                                          Comercial           1407   \n",
       "2                                           Cultural             36   \n",
       "3                                  Ocio y Hostelería            254   \n",
       "4                                         Industrial             22   \n",
       "5                                          Deportivo              8   \n",
       "6  Suelos sin edificar, obras de urbanización y j...             47   \n",
       "7                                           Oficinas            559   \n",
       "8                                  Edificio Singular             15   \n",
       "9                                          Religioso             17   \n",
       "\n",
       "   año_cons_medio  sup_cons  sup_suelo  valor_catastral  \n",
       "0          1969.0  214457.0        0.0     1.295259e+08  \n",
       "1          1921.0  223552.0        0.0     4.076055e+08  \n",
       "2          1937.0   62963.0        0.0     7.582872e+07  \n",
       "3          1919.0  114226.0        0.0     1.954138e+08  \n",
       "4          1942.0   13228.0        0.0     1.180795e+07  \n",
       "5          1946.0    7238.0        0.0     1.061466e+07  \n",
       "6             0.0       0.0   130010.0     1.991520e+07  \n",
       "7          1947.0  196893.0        0.0     3.407841e+08  \n",
       "8          1891.0  197518.0        0.0     2.816668e+08  \n",
       "9          1884.0  102718.0        0.0     1.142542e+08  "
      ]
     },
     "execution_count": 150,
     "metadata": {},
     "output_type": "execute_result"
    }
   ],
   "source": [
    "# Imputación de valores a 0\n",
    "catastro.fillna(0)"
   ]
  },
  {
   "cell_type": "markdown",
   "metadata": {},
   "source": [
    "## Resumen de datos y estadísticos básicos"
   ]
  },
  {
   "cell_type": "markdown",
   "metadata": {},
   "source": [
    "Al igual que NumPy, pandas ofrece un conjunto amplio de funciones para llevar a cabo un análisis estadístico de datos.  Las más relevantes serían:<br/>\n",
    "<ul>\n",
    "<li><b>describe:</b> Presenta un conjunto con las estadísticas básicas más comunes calculadas sobre todas las columnas de la estructura. Equivalente a la función <i>summary</i> de R.</li>\n",
    "<li><b>count:</b> Número de elementos no nulos.</li>\n",
    "<li><b>min, max:</b> Valor mínimo y máximo.</li>\n",
    "<li><b>argmin, argmax, idxmax, idxmin:</b> Posiciones con valor mínimo y máximo.</li>\n",
    "<li><b>quantile:</b> Cuantil calculado.</li>\n",
    "<li><b>sum:</b> Suma de elementos.</li>\n",
    "<li><b>mean:</b> Media aritmética de los elementos.</li>\n",
    "<li><b>median:</b> Mediana de los elementos.</li>\n",
    "<li><b>std:</b> Desviación estándar de los elementos.</li>\n",
    "<li><b>var:</b> Varianza de los elementos.</li>\n",
    "<li><b>cumsum:</b> Suma acumulada de los elementos.</li>\n",
    "<li><b>cumprod:</b> Producto acumulado de los elementos.</li>\n",
    "</ul>\n",
    "\n",
    "La mayor parte de estos métodos, podrán recibir 3 parámetros:\n",
    "<ul>\n",
    "<li><b>axis:</b> Que indica si realizar el cálculo por filas o columnas.</li>\n",
    "<li><b>skipna:</b> Que indica si se deben ignorar o no los valores NaN a la hora de realizar los cálculos.</li>\n",
    "</ul>"
   ]
  },
  {
   "cell_type": "code",
   "execution_count": 151,
   "metadata": {},
   "outputs": [
    {
     "data": {
      "text/html": [
       "<div>\n",
       "<style scoped>\n",
       "    .dataframe tbody tr th:only-of-type {\n",
       "        vertical-align: middle;\n",
       "    }\n",
       "\n",
       "    .dataframe tbody tr th {\n",
       "        vertical-align: top;\n",
       "    }\n",
       "\n",
       "    .dataframe thead th {\n",
       "        text-align: right;\n",
       "    }\n",
       "</style>\n",
       "<table border=\"1\" class=\"dataframe\">\n",
       "  <thead>\n",
       "    <tr style=\"text-align: right;\">\n",
       "      <th></th>\n",
       "      <th>año</th>\n",
       "      <th>id_distrito</th>\n",
       "      <th>distrito</th>\n",
       "      <th>id_barrio</th>\n",
       "      <th>barrio</th>\n",
       "      <th>id_uso</th>\n",
       "      <th>uso</th>\n",
       "      <th>num_inmuebles</th>\n",
       "      <th>año_cons_medio</th>\n",
       "      <th>sup_cons</th>\n",
       "      <th>sup_suelo</th>\n",
       "      <th>valor_catastral</th>\n",
       "    </tr>\n",
       "  </thead>\n",
       "  <tbody>\n",
       "    <tr>\n",
       "      <th>0</th>\n",
       "      <td>2014</td>\n",
       "      <td>1</td>\n",
       "      <td>Centro</td>\n",
       "      <td>11</td>\n",
       "      <td>PALACIO</td>\n",
       "      <td>A</td>\n",
       "      <td>Almacén-Estacionamiento</td>\n",
       "      <td>3034</td>\n",
       "      <td>1969.0</td>\n",
       "      <td>214457.0</td>\n",
       "      <td>NaN</td>\n",
       "      <td>1.295259e+08</td>\n",
       "    </tr>\n",
       "    <tr>\n",
       "      <th>1</th>\n",
       "      <td>2014</td>\n",
       "      <td>1</td>\n",
       "      <td>Centro</td>\n",
       "      <td>11</td>\n",
       "      <td>PALACIO</td>\n",
       "      <td>C</td>\n",
       "      <td>Comercial</td>\n",
       "      <td>1407</td>\n",
       "      <td>1921.0</td>\n",
       "      <td>223552.0</td>\n",
       "      <td>NaN</td>\n",
       "      <td>4.076055e+08</td>\n",
       "    </tr>\n",
       "    <tr>\n",
       "      <th>2</th>\n",
       "      <td>2014</td>\n",
       "      <td>1</td>\n",
       "      <td>Centro</td>\n",
       "      <td>11</td>\n",
       "      <td>PALACIO</td>\n",
       "      <td>E</td>\n",
       "      <td>Cultural</td>\n",
       "      <td>36</td>\n",
       "      <td>1937.0</td>\n",
       "      <td>62963.0</td>\n",
       "      <td>NaN</td>\n",
       "      <td>7.582872e+07</td>\n",
       "    </tr>\n",
       "    <tr>\n",
       "      <th>3</th>\n",
       "      <td>2014</td>\n",
       "      <td>1</td>\n",
       "      <td>Centro</td>\n",
       "      <td>11</td>\n",
       "      <td>PALACIO</td>\n",
       "      <td>G</td>\n",
       "      <td>Ocio y Hostelería</td>\n",
       "      <td>254</td>\n",
       "      <td>1919.0</td>\n",
       "      <td>114226.0</td>\n",
       "      <td>NaN</td>\n",
       "      <td>1.954138e+08</td>\n",
       "    </tr>\n",
       "    <tr>\n",
       "      <th>4</th>\n",
       "      <td>2014</td>\n",
       "      <td>1</td>\n",
       "      <td>Centro</td>\n",
       "      <td>11</td>\n",
       "      <td>PALACIO</td>\n",
       "      <td>I</td>\n",
       "      <td>Industrial</td>\n",
       "      <td>22</td>\n",
       "      <td>1942.0</td>\n",
       "      <td>13228.0</td>\n",
       "      <td>NaN</td>\n",
       "      <td>1.180795e+07</td>\n",
       "    </tr>\n",
       "    <tr>\n",
       "      <th>5</th>\n",
       "      <td>2014</td>\n",
       "      <td>1</td>\n",
       "      <td>Centro</td>\n",
       "      <td>11</td>\n",
       "      <td>PALACIO</td>\n",
       "      <td>K</td>\n",
       "      <td>Deportivo</td>\n",
       "      <td>8</td>\n",
       "      <td>1946.0</td>\n",
       "      <td>7238.0</td>\n",
       "      <td>NaN</td>\n",
       "      <td>1.061466e+07</td>\n",
       "    </tr>\n",
       "    <tr>\n",
       "      <th>6</th>\n",
       "      <td>2014</td>\n",
       "      <td>1</td>\n",
       "      <td>Centro</td>\n",
       "      <td>11</td>\n",
       "      <td>PALACIO</td>\n",
       "      <td>M</td>\n",
       "      <td>Suelos sin edificar, obras de urbanización y j...</td>\n",
       "      <td>47</td>\n",
       "      <td>NaN</td>\n",
       "      <td>NaN</td>\n",
       "      <td>130010.0</td>\n",
       "      <td>1.991520e+07</td>\n",
       "    </tr>\n",
       "    <tr>\n",
       "      <th>7</th>\n",
       "      <td>2014</td>\n",
       "      <td>1</td>\n",
       "      <td>Centro</td>\n",
       "      <td>11</td>\n",
       "      <td>PALACIO</td>\n",
       "      <td>O</td>\n",
       "      <td>Oficinas</td>\n",
       "      <td>559</td>\n",
       "      <td>1947.0</td>\n",
       "      <td>196893.0</td>\n",
       "      <td>NaN</td>\n",
       "      <td>3.407841e+08</td>\n",
       "    </tr>\n",
       "    <tr>\n",
       "      <th>8</th>\n",
       "      <td>2014</td>\n",
       "      <td>1</td>\n",
       "      <td>Centro</td>\n",
       "      <td>11</td>\n",
       "      <td>PALACIO</td>\n",
       "      <td>P</td>\n",
       "      <td>Edificio Singular</td>\n",
       "      <td>15</td>\n",
       "      <td>1891.0</td>\n",
       "      <td>197518.0</td>\n",
       "      <td>NaN</td>\n",
       "      <td>2.816668e+08</td>\n",
       "    </tr>\n",
       "    <tr>\n",
       "      <th>9</th>\n",
       "      <td>2014</td>\n",
       "      <td>1</td>\n",
       "      <td>Centro</td>\n",
       "      <td>11</td>\n",
       "      <td>PALACIO</td>\n",
       "      <td>R</td>\n",
       "      <td>Religioso</td>\n",
       "      <td>17</td>\n",
       "      <td>1884.0</td>\n",
       "      <td>102718.0</td>\n",
       "      <td>NaN</td>\n",
       "      <td>1.142542e+08</td>\n",
       "    </tr>\n",
       "  </tbody>\n",
       "</table>\n",
       "</div>"
      ],
      "text/plain": [
       "    año  id_distrito distrito  id_barrio   barrio id_uso  \\\n",
       "0  2014            1   Centro         11  PALACIO      A   \n",
       "1  2014            1   Centro         11  PALACIO      C   \n",
       "2  2014            1   Centro         11  PALACIO      E   \n",
       "3  2014            1   Centro         11  PALACIO      G   \n",
       "4  2014            1   Centro         11  PALACIO      I   \n",
       "5  2014            1   Centro         11  PALACIO      K   \n",
       "6  2014            1   Centro         11  PALACIO      M   \n",
       "7  2014            1   Centro         11  PALACIO      O   \n",
       "8  2014            1   Centro         11  PALACIO      P   \n",
       "9  2014            1   Centro         11  PALACIO      R   \n",
       "\n",
       "                                                 uso  num_inmuebles  \\\n",
       "0                            Almacén-Estacionamiento           3034   \n",
       "1                                          Comercial           1407   \n",
       "2                                           Cultural             36   \n",
       "3                                  Ocio y Hostelería            254   \n",
       "4                                         Industrial             22   \n",
       "5                                          Deportivo              8   \n",
       "6  Suelos sin edificar, obras de urbanización y j...             47   \n",
       "7                                           Oficinas            559   \n",
       "8                                  Edificio Singular             15   \n",
       "9                                          Religioso             17   \n",
       "\n",
       "   año_cons_medio  sup_cons  sup_suelo  valor_catastral  \n",
       "0          1969.0  214457.0        NaN     1.295259e+08  \n",
       "1          1921.0  223552.0        NaN     4.076055e+08  \n",
       "2          1937.0   62963.0        NaN     7.582872e+07  \n",
       "3          1919.0  114226.0        NaN     1.954138e+08  \n",
       "4          1942.0   13228.0        NaN     1.180795e+07  \n",
       "5          1946.0    7238.0        NaN     1.061466e+07  \n",
       "6             NaN       NaN   130010.0     1.991520e+07  \n",
       "7          1947.0  196893.0        NaN     3.407841e+08  \n",
       "8          1891.0  197518.0        NaN     2.816668e+08  \n",
       "9          1884.0  102718.0        NaN     1.142542e+08  "
      ]
     },
     "execution_count": 151,
     "metadata": {},
     "output_type": "execute_result"
    }
   ],
   "source": [
    "catastro = pd.read_table('datos/catastro.tsv', nrows=10)\n",
    "catastro"
   ]
  },
  {
   "cell_type": "code",
   "execution_count": 152,
   "metadata": {},
   "outputs": [
    {
     "data": {
      "text/html": [
       "<div>\n",
       "<style scoped>\n",
       "    .dataframe tbody tr th:only-of-type {\n",
       "        vertical-align: middle;\n",
       "    }\n",
       "\n",
       "    .dataframe tbody tr th {\n",
       "        vertical-align: top;\n",
       "    }\n",
       "\n",
       "    .dataframe thead th {\n",
       "        text-align: right;\n",
       "    }\n",
       "</style>\n",
       "<table border=\"1\" class=\"dataframe\">\n",
       "  <thead>\n",
       "    <tr style=\"text-align: right;\">\n",
       "      <th></th>\n",
       "      <th>año</th>\n",
       "      <th>id_distrito</th>\n",
       "      <th>id_barrio</th>\n",
       "      <th>num_inmuebles</th>\n",
       "      <th>año_cons_medio</th>\n",
       "      <th>sup_cons</th>\n",
       "      <th>sup_suelo</th>\n",
       "      <th>valor_catastral</th>\n",
       "    </tr>\n",
       "  </thead>\n",
       "  <tbody>\n",
       "    <tr>\n",
       "      <th>count</th>\n",
       "      <td>10.0</td>\n",
       "      <td>10.0</td>\n",
       "      <td>10.0</td>\n",
       "      <td>10.000000</td>\n",
       "      <td>9.000000</td>\n",
       "      <td>9.000000</td>\n",
       "      <td>1.0</td>\n",
       "      <td>1.000000e+01</td>\n",
       "    </tr>\n",
       "    <tr>\n",
       "      <th>mean</th>\n",
       "      <td>2014.0</td>\n",
       "      <td>1.0</td>\n",
       "      <td>11.0</td>\n",
       "      <td>539.900000</td>\n",
       "      <td>1928.444444</td>\n",
       "      <td>125865.888889</td>\n",
       "      <td>130010.0</td>\n",
       "      <td>1.587417e+08</td>\n",
       "    </tr>\n",
       "    <tr>\n",
       "      <th>std</th>\n",
       "      <td>0.0</td>\n",
       "      <td>0.0</td>\n",
       "      <td>0.0</td>\n",
       "      <td>980.444848</td>\n",
       "      <td>27.559532</td>\n",
       "      <td>85847.096668</td>\n",
       "      <td>NaN</td>\n",
       "      <td>1.429993e+08</td>\n",
       "    </tr>\n",
       "    <tr>\n",
       "      <th>min</th>\n",
       "      <td>2014.0</td>\n",
       "      <td>1.0</td>\n",
       "      <td>11.0</td>\n",
       "      <td>8.000000</td>\n",
       "      <td>1884.000000</td>\n",
       "      <td>7238.000000</td>\n",
       "      <td>130010.0</td>\n",
       "      <td>1.061466e+07</td>\n",
       "    </tr>\n",
       "    <tr>\n",
       "      <th>25%</th>\n",
       "      <td>2014.0</td>\n",
       "      <td>1.0</td>\n",
       "      <td>11.0</td>\n",
       "      <td>18.250000</td>\n",
       "      <td>1919.000000</td>\n",
       "      <td>62963.000000</td>\n",
       "      <td>130010.0</td>\n",
       "      <td>3.389358e+07</td>\n",
       "    </tr>\n",
       "    <tr>\n",
       "      <th>50%</th>\n",
       "      <td>2014.0</td>\n",
       "      <td>1.0</td>\n",
       "      <td>11.0</td>\n",
       "      <td>41.500000</td>\n",
       "      <td>1937.000000</td>\n",
       "      <td>114226.000000</td>\n",
       "      <td>130010.0</td>\n",
       "      <td>1.218900e+08</td>\n",
       "    </tr>\n",
       "    <tr>\n",
       "      <th>75%</th>\n",
       "      <td>2014.0</td>\n",
       "      <td>1.0</td>\n",
       "      <td>11.0</td>\n",
       "      <td>482.750000</td>\n",
       "      <td>1946.000000</td>\n",
       "      <td>197518.000000</td>\n",
       "      <td>130010.0</td>\n",
       "      <td>2.601035e+08</td>\n",
       "    </tr>\n",
       "    <tr>\n",
       "      <th>max</th>\n",
       "      <td>2014.0</td>\n",
       "      <td>1.0</td>\n",
       "      <td>11.0</td>\n",
       "      <td>3034.000000</td>\n",
       "      <td>1969.000000</td>\n",
       "      <td>223552.000000</td>\n",
       "      <td>130010.0</td>\n",
       "      <td>4.076055e+08</td>\n",
       "    </tr>\n",
       "  </tbody>\n",
       "</table>\n",
       "</div>"
      ],
      "text/plain": [
       "          año  id_distrito  id_barrio  num_inmuebles  año_cons_medio  \\\n",
       "count    10.0         10.0       10.0      10.000000        9.000000   \n",
       "mean   2014.0          1.0       11.0     539.900000     1928.444444   \n",
       "std       0.0          0.0        0.0     980.444848       27.559532   \n",
       "min    2014.0          1.0       11.0       8.000000     1884.000000   \n",
       "25%    2014.0          1.0       11.0      18.250000     1919.000000   \n",
       "50%    2014.0          1.0       11.0      41.500000     1937.000000   \n",
       "75%    2014.0          1.0       11.0     482.750000     1946.000000   \n",
       "max    2014.0          1.0       11.0    3034.000000     1969.000000   \n",
       "\n",
       "            sup_cons  sup_suelo  valor_catastral  \n",
       "count       9.000000        1.0     1.000000e+01  \n",
       "mean   125865.888889   130010.0     1.587417e+08  \n",
       "std     85847.096668        NaN     1.429993e+08  \n",
       "min      7238.000000   130010.0     1.061466e+07  \n",
       "25%     62963.000000   130010.0     3.389358e+07  \n",
       "50%    114226.000000   130010.0     1.218900e+08  \n",
       "75%    197518.000000   130010.0     2.601035e+08  \n",
       "max    223552.000000   130010.0     4.076055e+08  "
      ]
     },
     "execution_count": 152,
     "metadata": {},
     "output_type": "execute_result"
    }
   ],
   "source": [
    "# Estadísticos básicos sobre el data set\n",
    "catastro.describe()"
   ]
  },
  {
   "cell_type": "code",
   "execution_count": 153,
   "metadata": {},
   "outputs": [
    {
     "data": {
      "text/plain": [
       "año                                                            20140\n",
       "id_distrito                                                       10\n",
       "distrito           CentroCentroCentroCentroCentroCentroCentroCent...\n",
       "id_barrio                                                        110\n",
       "barrio             PALACIOPALACIOPALACIOPALACIOPALACIOPALACIOPALA...\n",
       "id_uso                                                    ACEGIKMOPR\n",
       "uso                Almacén-EstacionamientoComercialCulturalOcio y...\n",
       "num_inmuebles                                                   5399\n",
       "año_cons_medio                                               17356.0\n",
       "sup_cons                                                   1132793.0\n",
       "sup_suelo                                                   130010.0\n",
       "valor_catastral                                        1587416814.45\n",
       "dtype: object"
      ]
     },
     "execution_count": 153,
     "metadata": {},
     "output_type": "execute_result"
    }
   ],
   "source": [
    "# Suma por columnas\n",
    "catastro.sum()"
   ]
  },
  {
   "cell_type": "code",
   "execution_count": 154,
   "metadata": {},
   "outputs": [
    {
     "name": "stderr",
     "output_type": "stream",
     "text": [
      "C:\\Users\\LAURA\\AppData\\Local\\Temp\\ipykernel_8052\\1047567944.py:2: FutureWarning: Dropping of nuisance columns in DataFrame reductions (with 'numeric_only=None') is deprecated; in a future version this will raise TypeError.  Select only valid columns before calling the reduction.\n",
      "  catastro.sum(axis=1, skipna=True)\n"
     ]
    },
    {
     "data": {
      "text/plain": [
       "0    1.297474e+08\n",
       "1    4.078344e+08\n",
       "2    7.589568e+07\n",
       "3    1.955323e+08\n",
       "4    1.182517e+07\n",
       "5    1.062588e+07\n",
       "6    2.004728e+07\n",
       "7    3.409856e+08\n",
       "8    2.818682e+08\n",
       "9    1.143608e+08\n",
       "dtype: float64"
      ]
     },
     "execution_count": 154,
     "metadata": {},
     "output_type": "execute_result"
    }
   ],
   "source": [
    "# Suma por filas ignorando NA\n",
    "catastro.sum(axis=1, skipna=True)"
   ]
  },
  {
   "cell_type": "code",
   "execution_count": 155,
   "metadata": {},
   "outputs": [
    {
     "name": "stderr",
     "output_type": "stream",
     "text": [
      "C:\\Users\\LAURA\\AppData\\Local\\Temp\\ipykernel_8052\\931258369.py:1: FutureWarning: Dropping of nuisance columns in DataFrame reductions (with 'numeric_only=None') is deprecated; in a future version this will raise TypeError.  Select only valid columns before calling the reduction.\n",
      "  catastro.mean()\n"
     ]
    },
    {
     "data": {
      "text/plain": [
       "año                2.014000e+03\n",
       "id_distrito        1.000000e+00\n",
       "id_barrio          1.100000e+01\n",
       "num_inmuebles      5.399000e+02\n",
       "año_cons_medio     1.928444e+03\n",
       "sup_cons           1.258659e+05\n",
       "sup_suelo          1.300100e+05\n",
       "valor_catastral    1.587417e+08\n",
       "dtype: float64"
      ]
     },
     "execution_count": 155,
     "metadata": {},
     "output_type": "execute_result"
    }
   ],
   "source": [
    "catastro.mean()"
   ]
  },
  {
   "cell_type": "markdown",
   "metadata": {},
   "source": [
    "## Elementos únicos y frecuencias"
   ]
  },
  {
   "cell_type": "markdown",
   "metadata": {},
   "source": [
    "<ul>\n",
    "<li><b>unique</b>: Que nos devuelve un array con el conjunto de elementos únicos de una Serie.</li>\n",
    "<li><b>value_counts</b>: Que realiza un cálculo de frecuencias sobre los elementos únicos de una Serie.</li>\n",
    "<li><b>isin:</b> Que nos permite chequear si un conjunto de valores se encuentra en una Serie.</li>\n",
    "</ul>"
   ]
  },
  {
   "cell_type": "code",
   "execution_count": 156,
   "metadata": {},
   "outputs": [
    {
     "data": {
      "text/html": [
       "<div>\n",
       "<style scoped>\n",
       "    .dataframe tbody tr th:only-of-type {\n",
       "        vertical-align: middle;\n",
       "    }\n",
       "\n",
       "    .dataframe tbody tr th {\n",
       "        vertical-align: top;\n",
       "    }\n",
       "\n",
       "    .dataframe thead th {\n",
       "        text-align: right;\n",
       "    }\n",
       "</style>\n",
       "<table border=\"1\" class=\"dataframe\">\n",
       "  <thead>\n",
       "    <tr style=\"text-align: right;\">\n",
       "      <th></th>\n",
       "      <th>año</th>\n",
       "      <th>id_distrito</th>\n",
       "      <th>distrito</th>\n",
       "      <th>id_barrio</th>\n",
       "      <th>barrio</th>\n",
       "      <th>id_uso</th>\n",
       "      <th>uso</th>\n",
       "      <th>num_inmuebles</th>\n",
       "      <th>año_cons_medio</th>\n",
       "      <th>sup_cons</th>\n",
       "      <th>sup_suelo</th>\n",
       "      <th>valor_catastral</th>\n",
       "    </tr>\n",
       "  </thead>\n",
       "  <tbody>\n",
       "    <tr>\n",
       "      <th>0</th>\n",
       "      <td>2014</td>\n",
       "      <td>1</td>\n",
       "      <td>Centro</td>\n",
       "      <td>11</td>\n",
       "      <td>PALACIO</td>\n",
       "      <td>A</td>\n",
       "      <td>Almacén-Estacionamiento</td>\n",
       "      <td>3034</td>\n",
       "      <td>1969.0</td>\n",
       "      <td>214457.0</td>\n",
       "      <td>NaN</td>\n",
       "      <td>1.295259e+08</td>\n",
       "    </tr>\n",
       "    <tr>\n",
       "      <th>1</th>\n",
       "      <td>2014</td>\n",
       "      <td>1</td>\n",
       "      <td>Centro</td>\n",
       "      <td>11</td>\n",
       "      <td>PALACIO</td>\n",
       "      <td>C</td>\n",
       "      <td>Comercial</td>\n",
       "      <td>1407</td>\n",
       "      <td>1921.0</td>\n",
       "      <td>223552.0</td>\n",
       "      <td>NaN</td>\n",
       "      <td>4.076055e+08</td>\n",
       "    </tr>\n",
       "    <tr>\n",
       "      <th>2</th>\n",
       "      <td>2014</td>\n",
       "      <td>1</td>\n",
       "      <td>Centro</td>\n",
       "      <td>11</td>\n",
       "      <td>PALACIO</td>\n",
       "      <td>E</td>\n",
       "      <td>Cultural</td>\n",
       "      <td>36</td>\n",
       "      <td>1937.0</td>\n",
       "      <td>62963.0</td>\n",
       "      <td>NaN</td>\n",
       "      <td>7.582872e+07</td>\n",
       "    </tr>\n",
       "    <tr>\n",
       "      <th>3</th>\n",
       "      <td>2014</td>\n",
       "      <td>1</td>\n",
       "      <td>Centro</td>\n",
       "      <td>11</td>\n",
       "      <td>PALACIO</td>\n",
       "      <td>G</td>\n",
       "      <td>Ocio y Hostelería</td>\n",
       "      <td>254</td>\n",
       "      <td>1919.0</td>\n",
       "      <td>114226.0</td>\n",
       "      <td>NaN</td>\n",
       "      <td>1.954138e+08</td>\n",
       "    </tr>\n",
       "    <tr>\n",
       "      <th>4</th>\n",
       "      <td>2014</td>\n",
       "      <td>1</td>\n",
       "      <td>Centro</td>\n",
       "      <td>11</td>\n",
       "      <td>PALACIO</td>\n",
       "      <td>I</td>\n",
       "      <td>Industrial</td>\n",
       "      <td>22</td>\n",
       "      <td>1942.0</td>\n",
       "      <td>13228.0</td>\n",
       "      <td>NaN</td>\n",
       "      <td>1.180795e+07</td>\n",
       "    </tr>\n",
       "    <tr>\n",
       "      <th>...</th>\n",
       "      <td>...</td>\n",
       "      <td>...</td>\n",
       "      <td>...</td>\n",
       "      <td>...</td>\n",
       "      <td>...</td>\n",
       "      <td>...</td>\n",
       "      <td>...</td>\n",
       "      <td>...</td>\n",
       "      <td>...</td>\n",
       "      <td>...</td>\n",
       "      <td>...</td>\n",
       "      <td>...</td>\n",
       "    </tr>\n",
       "    <tr>\n",
       "      <th>3025</th>\n",
       "      <td>2013</td>\n",
       "      <td>21</td>\n",
       "      <td>Barajas</td>\n",
       "      <td>215</td>\n",
       "      <td>CORRALEJOS</td>\n",
       "      <td>O</td>\n",
       "      <td>Oficinas</td>\n",
       "      <td>172</td>\n",
       "      <td>1994.0</td>\n",
       "      <td>538345.0</td>\n",
       "      <td>NaN</td>\n",
       "      <td>6.893051e+08</td>\n",
       "    </tr>\n",
       "    <tr>\n",
       "      <th>3026</th>\n",
       "      <td>2013</td>\n",
       "      <td>21</td>\n",
       "      <td>Barajas</td>\n",
       "      <td>215</td>\n",
       "      <td>CORRALEJOS</td>\n",
       "      <td>R</td>\n",
       "      <td>Religioso</td>\n",
       "      <td>2</td>\n",
       "      <td>2006.0</td>\n",
       "      <td>3264.0</td>\n",
       "      <td>NaN</td>\n",
       "      <td>3.059075e+06</td>\n",
       "    </tr>\n",
       "    <tr>\n",
       "      <th>3027</th>\n",
       "      <td>2013</td>\n",
       "      <td>21</td>\n",
       "      <td>Barajas</td>\n",
       "      <td>215</td>\n",
       "      <td>CORRALEJOS</td>\n",
       "      <td>T</td>\n",
       "      <td>Espectáculos</td>\n",
       "      <td>1</td>\n",
       "      <td>1995.0</td>\n",
       "      <td>14720.0</td>\n",
       "      <td>NaN</td>\n",
       "      <td>1.639676e+07</td>\n",
       "    </tr>\n",
       "    <tr>\n",
       "      <th>3028</th>\n",
       "      <td>2013</td>\n",
       "      <td>21</td>\n",
       "      <td>Barajas</td>\n",
       "      <td>215</td>\n",
       "      <td>CORRALEJOS</td>\n",
       "      <td>V</td>\n",
       "      <td>Residencial</td>\n",
       "      <td>2939</td>\n",
       "      <td>1999.0</td>\n",
       "      <td>433231.0</td>\n",
       "      <td>NaN</td>\n",
       "      <td>5.177294e+08</td>\n",
       "    </tr>\n",
       "    <tr>\n",
       "      <th>3029</th>\n",
       "      <td>2013</td>\n",
       "      <td>21</td>\n",
       "      <td>Barajas</td>\n",
       "      <td>215</td>\n",
       "      <td>CORRALEJOS</td>\n",
       "      <td>Y</td>\n",
       "      <td>Sanidad y Beneficencia</td>\n",
       "      <td>2</td>\n",
       "      <td>2000.0</td>\n",
       "      <td>7395.0</td>\n",
       "      <td>NaN</td>\n",
       "      <td>1.040851e+07</td>\n",
       "    </tr>\n",
       "  </tbody>\n",
       "</table>\n",
       "<p>3030 rows × 12 columns</p>\n",
       "</div>"
      ],
      "text/plain": [
       "       año  id_distrito distrito  id_barrio      barrio id_uso  \\\n",
       "0     2014            1   Centro         11     PALACIO      A   \n",
       "1     2014            1   Centro         11     PALACIO      C   \n",
       "2     2014            1   Centro         11     PALACIO      E   \n",
       "3     2014            1   Centro         11     PALACIO      G   \n",
       "4     2014            1   Centro         11     PALACIO      I   \n",
       "...    ...          ...      ...        ...         ...    ...   \n",
       "3025  2013           21  Barajas        215  CORRALEJOS      O   \n",
       "3026  2013           21  Barajas        215  CORRALEJOS      R   \n",
       "3027  2013           21  Barajas        215  CORRALEJOS      T   \n",
       "3028  2013           21  Barajas        215  CORRALEJOS      V   \n",
       "3029  2013           21  Barajas        215  CORRALEJOS      Y   \n",
       "\n",
       "                          uso  num_inmuebles  año_cons_medio  sup_cons  \\\n",
       "0     Almacén-Estacionamiento           3034          1969.0  214457.0   \n",
       "1                   Comercial           1407          1921.0  223552.0   \n",
       "2                    Cultural             36          1937.0   62963.0   \n",
       "3           Ocio y Hostelería            254          1919.0  114226.0   \n",
       "4                  Industrial             22          1942.0   13228.0   \n",
       "...                       ...            ...             ...       ...   \n",
       "3025                 Oficinas            172          1994.0  538345.0   \n",
       "3026                Religioso              2          2006.0    3264.0   \n",
       "3027             Espectáculos              1          1995.0   14720.0   \n",
       "3028              Residencial           2939          1999.0  433231.0   \n",
       "3029   Sanidad y Beneficencia              2          2000.0    7395.0   \n",
       "\n",
       "      sup_suelo  valor_catastral  \n",
       "0           NaN     1.295259e+08  \n",
       "1           NaN     4.076055e+08  \n",
       "2           NaN     7.582872e+07  \n",
       "3           NaN     1.954138e+08  \n",
       "4           NaN     1.180795e+07  \n",
       "...         ...              ...  \n",
       "3025        NaN     6.893051e+08  \n",
       "3026        NaN     3.059075e+06  \n",
       "3027        NaN     1.639676e+07  \n",
       "3028        NaN     5.177294e+08  \n",
       "3029        NaN     1.040851e+07  \n",
       "\n",
       "[3030 rows x 12 columns]"
      ]
     },
     "execution_count": 156,
     "metadata": {},
     "output_type": "execute_result"
    }
   ],
   "source": [
    "catastro = pd.read_table('datos/catastro.tsv')\n",
    "catastro"
   ]
  },
  {
   "cell_type": "code",
   "execution_count": 157,
   "metadata": {},
   "outputs": [
    {
     "data": {
      "text/plain": [
       "array(['PALACIO', 'EMBAJADORES', 'CORTES', 'JUSTICIA', 'UNIVERSIDAD',\n",
       "       'SOL', 'IMPERIAL', 'ACACIAS', 'CHOPERA', 'LEGAZPI', 'DELICIAS',\n",
       "       'PALOS DE MOGUER', 'ATOCHA', 'PACÍFICO', 'ADELFAS', 'ESTRELLA',\n",
       "       'IBIZA', 'LOS JERÓNIMOS', 'NIÑO JESÚS', 'RECOLETOS', 'GOYA',\n",
       "       'FUENTE DEL BERRO', 'GUINDALERA', 'LISTA', 'CASTELLANA', 'EL VISO',\n",
       "       'PROSPERIDAD', 'CIUDAD JARDÍN', 'HISPANOAMÉRICA', 'NUEVA ESPAÑA',\n",
       "       'CASTILLA', 'BELLAS VISTAS', 'CUATRO CAMINOS', 'CASTILLEJOS',\n",
       "       'ALMENARA', 'VALDEACEDERAS', 'BERRUGUETE', 'GAZTAMBIDE',\n",
       "       'ARAPILES', 'TRAFALGAR', 'ALMAGRO', 'RIOS ROSAS', 'VALLEHERMOSO',\n",
       "       'EL PARDO', 'FUENTELARREINA', 'PEÑA GRANDE', 'EL PILAR', 'LA PAZ',\n",
       "       'VALVERDE', 'MIRASIERRA', 'EL GOLOSO', 'CASA DE CAMPO',\n",
       "       'ARGÜELLES', 'CIUDAD UNIVERSITARIA', 'VALDEZARZA', 'VALDEMARÍN',\n",
       "       'EL PLANTÍO', 'ARAVACA', 'LOS CARMENES', 'PUERTA DEL ANGEL',\n",
       "       'LUCERO', 'ALUCHE', 'CAMPAMENTO', 'CUATRO VIENTOS', 'LAS AGUILAS',\n",
       "       'COMILLAS', 'OPAÑEL', 'SAN ISIDRO', 'VISTA ALEGRE',\n",
       "       'PUERTA BONITA', 'BUENAVISTA', 'ABRANTES', 'ORCASITAS', 'ORCASUR',\n",
       "       'SAN FERMÍN', 'ALMENDRALES', 'MOSCARDO', 'ZOFÍO', 'PRADOLONGO',\n",
       "       'ENTREVÍAS', 'SAN DIEGO', 'PALOMERAS BAJAS', 'PALOMERAS SURESTE',\n",
       "       'PORTAZGO', 'NUMANCIA', 'PAVONES', 'HORCAJO', 'MARROQUINA',\n",
       "       'MEDIA LEGUA', 'FONTARRÓN', 'VINATEROS', 'VENTAS', 'PUEBLO NUEVO',\n",
       "       'QUINTANA', 'CONCEPCION', 'SAN PASCUAL', 'SAN JUAN BAUTISTA',\n",
       "       'COLINA', 'ATALAYA', 'COSTILLARES', 'PALOMAS', 'PIOVERA',\n",
       "       'CANILLAS', 'PINAR DEL REY', 'APOSTOL SANTIAGO', 'VALDEFUENTES',\n",
       "       'SAN ANDRÉS', 'SAN CRISTOBAL', 'BUTARQUE', 'LOS ROSALES',\n",
       "       'LOS ANGELES', 'CASCO H. VALLECAS', 'SANTA EUGENIA',\n",
       "       'CASCO H. VICALVARO', 'AMBROZ', 'SIMANCAS', 'HELLÍN', 'AMPOSTA',\n",
       "       'ARCOS', 'ROSAS', 'REJAS', 'CANILLEJAS', 'EL SALVADOR',\n",
       "       'ALAMEDA DE OSUNA', 'AEROPUERTO', 'CASCO H. BARAJAS', 'TIMÓN',\n",
       "       'CORRALEJOS'], dtype=object)"
      ]
     },
     "execution_count": 157,
     "metadata": {},
     "output_type": "execute_result"
    }
   ],
   "source": [
    "# Conjunto de de barrios\n",
    "catastro.barrio.unique()"
   ]
  },
  {
   "cell_type": "code",
   "execution_count": 158,
   "metadata": {},
   "outputs": [
    {
     "data": {
      "text/plain": [
       "Ciudad Lineal            214\n",
       "Fuencarral - El Pardo    189\n",
       "San Blas                 186\n",
       "Moncloa - Aravaca        172\n",
       "Carabanchel              166\n",
       "Latina                   165\n",
       "Usera                    160\n",
       "Centro                   156\n",
       "Salamanca                155\n",
       "Arganzuela               153\n",
       "Puente de Vallecas       150\n",
       "Chamartín                148\n",
       "Chamberí                 147\n",
       "Tetuán                   144\n",
       "Hortaleza                142\n",
       "Retiro                   137\n",
       "Moratalaz                125\n",
       "Barajas                  114\n",
       "Villaverde               112\n",
       "Vicálvaro                 49\n",
       "Villa de Vallecas         46\n",
       "Name: distrito, dtype: int64"
      ]
     },
     "execution_count": 158,
     "metadata": {},
     "output_type": "execute_result"
    }
   ],
   "source": [
    "# Tabla de frecuencias de distritos\n",
    "catastro.distrito.value_counts()"
   ]
  },
  {
   "cell_type": "code",
   "execution_count": 159,
   "metadata": {},
   "outputs": [
    {
     "data": {
      "text/html": [
       "<div>\n",
       "<style scoped>\n",
       "    .dataframe tbody tr th:only-of-type {\n",
       "        vertical-align: middle;\n",
       "    }\n",
       "\n",
       "    .dataframe tbody tr th {\n",
       "        vertical-align: top;\n",
       "    }\n",
       "\n",
       "    .dataframe thead th {\n",
       "        text-align: right;\n",
       "    }\n",
       "</style>\n",
       "<table border=\"1\" class=\"dataframe\">\n",
       "  <thead>\n",
       "    <tr style=\"text-align: right;\">\n",
       "      <th></th>\n",
       "      <th>año</th>\n",
       "      <th>id_distrito</th>\n",
       "      <th>distrito</th>\n",
       "      <th>id_barrio</th>\n",
       "      <th>barrio</th>\n",
       "      <th>id_uso</th>\n",
       "      <th>uso</th>\n",
       "      <th>num_inmuebles</th>\n",
       "      <th>año_cons_medio</th>\n",
       "      <th>sup_cons</th>\n",
       "      <th>sup_suelo</th>\n",
       "      <th>valor_catastral</th>\n",
       "    </tr>\n",
       "  </thead>\n",
       "  <tbody>\n",
       "    <tr>\n",
       "      <th>0</th>\n",
       "      <td>2014</td>\n",
       "      <td>1</td>\n",
       "      <td>Centro</td>\n",
       "      <td>11</td>\n",
       "      <td>PALACIO</td>\n",
       "      <td>A</td>\n",
       "      <td>Almacén-Estacionamiento</td>\n",
       "      <td>3034</td>\n",
       "      <td>1969.0</td>\n",
       "      <td>214457.0</td>\n",
       "      <td>NaN</td>\n",
       "      <td>1.295259e+08</td>\n",
       "    </tr>\n",
       "    <tr>\n",
       "      <th>1</th>\n",
       "      <td>2014</td>\n",
       "      <td>1</td>\n",
       "      <td>Centro</td>\n",
       "      <td>11</td>\n",
       "      <td>PALACIO</td>\n",
       "      <td>C</td>\n",
       "      <td>Comercial</td>\n",
       "      <td>1407</td>\n",
       "      <td>1921.0</td>\n",
       "      <td>223552.0</td>\n",
       "      <td>NaN</td>\n",
       "      <td>4.076055e+08</td>\n",
       "    </tr>\n",
       "    <tr>\n",
       "      <th>2</th>\n",
       "      <td>2014</td>\n",
       "      <td>1</td>\n",
       "      <td>Centro</td>\n",
       "      <td>11</td>\n",
       "      <td>PALACIO</td>\n",
       "      <td>E</td>\n",
       "      <td>Cultural</td>\n",
       "      <td>36</td>\n",
       "      <td>1937.0</td>\n",
       "      <td>62963.0</td>\n",
       "      <td>NaN</td>\n",
       "      <td>7.582872e+07</td>\n",
       "    </tr>\n",
       "    <tr>\n",
       "      <th>3</th>\n",
       "      <td>2014</td>\n",
       "      <td>1</td>\n",
       "      <td>Centro</td>\n",
       "      <td>11</td>\n",
       "      <td>PALACIO</td>\n",
       "      <td>G</td>\n",
       "      <td>Ocio y Hostelería</td>\n",
       "      <td>254</td>\n",
       "      <td>1919.0</td>\n",
       "      <td>114226.0</td>\n",
       "      <td>NaN</td>\n",
       "      <td>1.954138e+08</td>\n",
       "    </tr>\n",
       "    <tr>\n",
       "      <th>4</th>\n",
       "      <td>2014</td>\n",
       "      <td>1</td>\n",
       "      <td>Centro</td>\n",
       "      <td>11</td>\n",
       "      <td>PALACIO</td>\n",
       "      <td>I</td>\n",
       "      <td>Industrial</td>\n",
       "      <td>22</td>\n",
       "      <td>1942.0</td>\n",
       "      <td>13228.0</td>\n",
       "      <td>NaN</td>\n",
       "      <td>1.180795e+07</td>\n",
       "    </tr>\n",
       "    <tr>\n",
       "      <th>...</th>\n",
       "      <td>...</td>\n",
       "      <td>...</td>\n",
       "      <td>...</td>\n",
       "      <td>...</td>\n",
       "      <td>...</td>\n",
       "      <td>...</td>\n",
       "      <td>...</td>\n",
       "      <td>...</td>\n",
       "      <td>...</td>\n",
       "      <td>...</td>\n",
       "      <td>...</td>\n",
       "      <td>...</td>\n",
       "    </tr>\n",
       "    <tr>\n",
       "      <th>2294</th>\n",
       "      <td>2013</td>\n",
       "      <td>10</td>\n",
       "      <td>Latina</td>\n",
       "      <td>107</td>\n",
       "      <td>LAS AGUILAS</td>\n",
       "      <td>O</td>\n",
       "      <td>Oficinas</td>\n",
       "      <td>80</td>\n",
       "      <td>1994.0</td>\n",
       "      <td>12218.0</td>\n",
       "      <td>NaN</td>\n",
       "      <td>1.413729e+07</td>\n",
       "    </tr>\n",
       "    <tr>\n",
       "      <th>2295</th>\n",
       "      <td>2013</td>\n",
       "      <td>10</td>\n",
       "      <td>Latina</td>\n",
       "      <td>107</td>\n",
       "      <td>LAS AGUILAS</td>\n",
       "      <td>P</td>\n",
       "      <td>Edificio Singular</td>\n",
       "      <td>7</td>\n",
       "      <td>1966.0</td>\n",
       "      <td>59258.0</td>\n",
       "      <td>NaN</td>\n",
       "      <td>3.585992e+07</td>\n",
       "    </tr>\n",
       "    <tr>\n",
       "      <th>2296</th>\n",
       "      <td>2013</td>\n",
       "      <td>10</td>\n",
       "      <td>Latina</td>\n",
       "      <td>107</td>\n",
       "      <td>LAS AGUILAS</td>\n",
       "      <td>R</td>\n",
       "      <td>Religioso</td>\n",
       "      <td>6</td>\n",
       "      <td>1985.0</td>\n",
       "      <td>7135.0</td>\n",
       "      <td>NaN</td>\n",
       "      <td>5.193782e+06</td>\n",
       "    </tr>\n",
       "    <tr>\n",
       "      <th>2297</th>\n",
       "      <td>2013</td>\n",
       "      <td>10</td>\n",
       "      <td>Latina</td>\n",
       "      <td>107</td>\n",
       "      <td>LAS AGUILAS</td>\n",
       "      <td>V</td>\n",
       "      <td>Residencial</td>\n",
       "      <td>22925</td>\n",
       "      <td>1973.0</td>\n",
       "      <td>1902523.0</td>\n",
       "      <td>NaN</td>\n",
       "      <td>1.398108e+09</td>\n",
       "    </tr>\n",
       "    <tr>\n",
       "      <th>2298</th>\n",
       "      <td>2013</td>\n",
       "      <td>10</td>\n",
       "      <td>Latina</td>\n",
       "      <td>107</td>\n",
       "      <td>LAS AGUILAS</td>\n",
       "      <td>Y</td>\n",
       "      <td>Sanidad y Beneficencia</td>\n",
       "      <td>22</td>\n",
       "      <td>1977.0</td>\n",
       "      <td>32309.0</td>\n",
       "      <td>NaN</td>\n",
       "      <td>2.822491e+07</td>\n",
       "    </tr>\n",
       "  </tbody>\n",
       "</table>\n",
       "<p>321 rows × 12 columns</p>\n",
       "</div>"
      ],
      "text/plain": [
       "       año  id_distrito distrito  id_barrio       barrio id_uso  \\\n",
       "0     2014            1   Centro         11      PALACIO      A   \n",
       "1     2014            1   Centro         11      PALACIO      C   \n",
       "2     2014            1   Centro         11      PALACIO      E   \n",
       "3     2014            1   Centro         11      PALACIO      G   \n",
       "4     2014            1   Centro         11      PALACIO      I   \n",
       "...    ...          ...      ...        ...          ...    ...   \n",
       "2294  2013           10   Latina        107  LAS AGUILAS      O   \n",
       "2295  2013           10   Latina        107  LAS AGUILAS      P   \n",
       "2296  2013           10   Latina        107  LAS AGUILAS      R   \n",
       "2297  2013           10   Latina        107  LAS AGUILAS      V   \n",
       "2298  2013           10   Latina        107  LAS AGUILAS      Y   \n",
       "\n",
       "                          uso  num_inmuebles  año_cons_medio   sup_cons  \\\n",
       "0     Almacén-Estacionamiento           3034          1969.0   214457.0   \n",
       "1                   Comercial           1407          1921.0   223552.0   \n",
       "2                    Cultural             36          1937.0    62963.0   \n",
       "3           Ocio y Hostelería            254          1919.0   114226.0   \n",
       "4                  Industrial             22          1942.0    13228.0   \n",
       "...                       ...            ...             ...        ...   \n",
       "2294                 Oficinas             80          1994.0    12218.0   \n",
       "2295        Edificio Singular              7          1966.0    59258.0   \n",
       "2296                Religioso              6          1985.0     7135.0   \n",
       "2297              Residencial          22925          1973.0  1902523.0   \n",
       "2298   Sanidad y Beneficencia             22          1977.0    32309.0   \n",
       "\n",
       "      sup_suelo  valor_catastral  \n",
       "0           NaN     1.295259e+08  \n",
       "1           NaN     4.076055e+08  \n",
       "2           NaN     7.582872e+07  \n",
       "3           NaN     1.954138e+08  \n",
       "4           NaN     1.180795e+07  \n",
       "...         ...              ...  \n",
       "2294        NaN     1.413729e+07  \n",
       "2295        NaN     3.585992e+07  \n",
       "2296        NaN     5.193782e+06  \n",
       "2297        NaN     1.398108e+09  \n",
       "2298        NaN     2.822491e+07  \n",
       "\n",
       "[321 rows x 12 columns]"
      ]
     },
     "execution_count": 159,
     "metadata": {},
     "output_type": "execute_result"
    }
   ],
   "source": [
    "# Chequeo de existencia de distritos\n",
    "catastro[catastro['distrito'].isin(['Centro', 'Latina'])]"
   ]
  },
  {
   "cell_type": "markdown",
   "metadata": {},
   "source": [
    "## Aplicación de funciones sobre estructuras"
   ]
  },
  {
   "cell_type": "markdown",
   "metadata": {},
   "source": [
    "Al igual que en R tenemos la familia de funciones <i>apply</i>, pandas pone a nuestra disposición un conjunto de funciones que nos permiten aplicar operaciones elemento a elemento (o fila a fila, o columna a columna) en sus estructuras de datos. En concreto disponemos de tres funciones."
   ]
  },
  {
   "cell_type": "markdown",
   "metadata": {},
   "source": [
    "#### Aplicación de funciones elemento a elemento sobre Series - Función map"
   ]
  },
  {
   "cell_type": "code",
   "execution_count": 160,
   "metadata": {},
   "outputs": [
    {
     "data": {
      "text/plain": [
       "0    1\n",
       "1    2\n",
       "2    3\n",
       "3    4\n",
       "4    5\n",
       "5    6\n",
       "dtype: int64"
      ]
     },
     "execution_count": 160,
     "metadata": {},
     "output_type": "execute_result"
    }
   ],
   "source": [
    "serie = pd.Series([1, 2, 3, 4, 5, 6])\n",
    "serie"
   ]
  },
  {
   "cell_type": "code",
   "execution_count": 161,
   "metadata": {},
   "outputs": [],
   "source": [
    "def es_par(elemento):\n",
    "    if elemento % 2 == 0:\n",
    "        return 'Par: ' + str(elemento)\n",
    "    else:\n",
    "        return 'Impar: ' + str(elemento)"
   ]
  },
  {
   "cell_type": "code",
   "execution_count": 162,
   "metadata": {},
   "outputs": [
    {
     "data": {
      "text/plain": [
       "0    Impar: 1\n",
       "1      Par: 2\n",
       "2    Impar: 3\n",
       "3      Par: 4\n",
       "4    Impar: 5\n",
       "5      Par: 6\n",
       "dtype: object"
      ]
     },
     "execution_count": 162,
     "metadata": {},
     "output_type": "execute_result"
    }
   ],
   "source": [
    "# Aplicación de función elemento a elemento sobre Serie\n",
    "serie.map(es_par)"
   ]
  },
  {
   "cell_type": "markdown",
   "metadata": {},
   "source": [
    "#### Aplicación de funciones elemento a elemento sobre DataFrames - Función applymap"
   ]
  },
  {
   "cell_type": "code",
   "execution_count": 163,
   "metadata": {},
   "outputs": [
    {
     "data": {
      "text/html": [
       "<div>\n",
       "<style scoped>\n",
       "    .dataframe tbody tr th:only-of-type {\n",
       "        vertical-align: middle;\n",
       "    }\n",
       "\n",
       "    .dataframe tbody tr th {\n",
       "        vertical-align: top;\n",
       "    }\n",
       "\n",
       "    .dataframe thead th {\n",
       "        text-align: right;\n",
       "    }\n",
       "</style>\n",
       "<table border=\"1\" class=\"dataframe\">\n",
       "  <thead>\n",
       "    <tr style=\"text-align: right;\">\n",
       "      <th></th>\n",
       "      <th>0</th>\n",
       "      <th>1</th>\n",
       "      <th>2</th>\n",
       "      <th>3</th>\n",
       "    </tr>\n",
       "  </thead>\n",
       "  <tbody>\n",
       "    <tr>\n",
       "      <th>0</th>\n",
       "      <td>0</td>\n",
       "      <td>1</td>\n",
       "      <td>2</td>\n",
       "      <td>3</td>\n",
       "    </tr>\n",
       "    <tr>\n",
       "      <th>1</th>\n",
       "      <td>4</td>\n",
       "      <td>5</td>\n",
       "      <td>6</td>\n",
       "      <td>7</td>\n",
       "    </tr>\n",
       "    <tr>\n",
       "      <th>2</th>\n",
       "      <td>8</td>\n",
       "      <td>9</td>\n",
       "      <td>10</td>\n",
       "      <td>11</td>\n",
       "    </tr>\n",
       "    <tr>\n",
       "      <th>3</th>\n",
       "      <td>12</td>\n",
       "      <td>13</td>\n",
       "      <td>14</td>\n",
       "      <td>15</td>\n",
       "    </tr>\n",
       "  </tbody>\n",
       "</table>\n",
       "</div>"
      ],
      "text/plain": [
       "    0   1   2   3\n",
       "0   0   1   2   3\n",
       "1   4   5   6   7\n",
       "2   8   9  10  11\n",
       "3  12  13  14  15"
      ]
     },
     "execution_count": 163,
     "metadata": {},
     "output_type": "execute_result"
    }
   ],
   "source": [
    "dataframe = pd.DataFrame(np.arange(16).reshape(4, 4))\n",
    "dataframe"
   ]
  },
  {
   "cell_type": "code",
   "execution_count": 164,
   "metadata": {},
   "outputs": [],
   "source": [
    "def es_par(elemento):\n",
    "    if elemento % 2 == 0:\n",
    "        return 'Par: ' + str(elemento)\n",
    "    else:\n",
    "        return 'Impar: ' + str(elemento)"
   ]
  },
  {
   "cell_type": "code",
   "execution_count": 165,
   "metadata": {},
   "outputs": [
    {
     "data": {
      "text/html": [
       "<div>\n",
       "<style scoped>\n",
       "    .dataframe tbody tr th:only-of-type {\n",
       "        vertical-align: middle;\n",
       "    }\n",
       "\n",
       "    .dataframe tbody tr th {\n",
       "        vertical-align: top;\n",
       "    }\n",
       "\n",
       "    .dataframe thead th {\n",
       "        text-align: right;\n",
       "    }\n",
       "</style>\n",
       "<table border=\"1\" class=\"dataframe\">\n",
       "  <thead>\n",
       "    <tr style=\"text-align: right;\">\n",
       "      <th></th>\n",
       "      <th>0</th>\n",
       "      <th>1</th>\n",
       "      <th>2</th>\n",
       "      <th>3</th>\n",
       "    </tr>\n",
       "  </thead>\n",
       "  <tbody>\n",
       "    <tr>\n",
       "      <th>0</th>\n",
       "      <td>Par: 0</td>\n",
       "      <td>Impar: 1</td>\n",
       "      <td>Par: 2</td>\n",
       "      <td>Impar: 3</td>\n",
       "    </tr>\n",
       "    <tr>\n",
       "      <th>1</th>\n",
       "      <td>Par: 4</td>\n",
       "      <td>Impar: 5</td>\n",
       "      <td>Par: 6</td>\n",
       "      <td>Impar: 7</td>\n",
       "    </tr>\n",
       "    <tr>\n",
       "      <th>2</th>\n",
       "      <td>Par: 8</td>\n",
       "      <td>Impar: 9</td>\n",
       "      <td>Par: 10</td>\n",
       "      <td>Impar: 11</td>\n",
       "    </tr>\n",
       "    <tr>\n",
       "      <th>3</th>\n",
       "      <td>Par: 12</td>\n",
       "      <td>Impar: 13</td>\n",
       "      <td>Par: 14</td>\n",
       "      <td>Impar: 15</td>\n",
       "    </tr>\n",
       "  </tbody>\n",
       "</table>\n",
       "</div>"
      ],
      "text/plain": [
       "         0          1        2          3\n",
       "0   Par: 0   Impar: 1   Par: 2   Impar: 3\n",
       "1   Par: 4   Impar: 5   Par: 6   Impar: 7\n",
       "2   Par: 8   Impar: 9  Par: 10  Impar: 11\n",
       "3  Par: 12  Impar: 13  Par: 14  Impar: 15"
      ]
     },
     "execution_count": 165,
     "metadata": {},
     "output_type": "execute_result"
    }
   ],
   "source": [
    "# Aplicación de función elemento a elemento sobre DataFrame\n",
    "dataframe.applymap(es_par)"
   ]
  },
  {
   "cell_type": "markdown",
   "metadata": {},
   "source": [
    "#### Aplicación de funciones fila a fila o columna a columna sobre DataFrames - Función apply"
   ]
  },
  {
   "cell_type": "code",
   "execution_count": 166,
   "metadata": {},
   "outputs": [
    {
     "data": {
      "text/html": [
       "<div>\n",
       "<style scoped>\n",
       "    .dataframe tbody tr th:only-of-type {\n",
       "        vertical-align: middle;\n",
       "    }\n",
       "\n",
       "    .dataframe tbody tr th {\n",
       "        vertical-align: top;\n",
       "    }\n",
       "\n",
       "    .dataframe thead th {\n",
       "        text-align: right;\n",
       "    }\n",
       "</style>\n",
       "<table border=\"1\" class=\"dataframe\">\n",
       "  <thead>\n",
       "    <tr style=\"text-align: right;\">\n",
       "      <th></th>\n",
       "      <th>0</th>\n",
       "      <th>1</th>\n",
       "      <th>2</th>\n",
       "      <th>3</th>\n",
       "    </tr>\n",
       "  </thead>\n",
       "  <tbody>\n",
       "    <tr>\n",
       "      <th>0</th>\n",
       "      <td>0</td>\n",
       "      <td>1</td>\n",
       "      <td>2</td>\n",
       "      <td>3</td>\n",
       "    </tr>\n",
       "    <tr>\n",
       "      <th>1</th>\n",
       "      <td>4</td>\n",
       "      <td>5</td>\n",
       "      <td>6</td>\n",
       "      <td>7</td>\n",
       "    </tr>\n",
       "    <tr>\n",
       "      <th>2</th>\n",
       "      <td>8</td>\n",
       "      <td>9</td>\n",
       "      <td>10</td>\n",
       "      <td>11</td>\n",
       "    </tr>\n",
       "    <tr>\n",
       "      <th>3</th>\n",
       "      <td>12</td>\n",
       "      <td>13</td>\n",
       "      <td>14</td>\n",
       "      <td>15</td>\n",
       "    </tr>\n",
       "  </tbody>\n",
       "</table>\n",
       "</div>"
      ],
      "text/plain": [
       "    0   1   2   3\n",
       "0   0   1   2   3\n",
       "1   4   5   6   7\n",
       "2   8   9  10  11\n",
       "3  12  13  14  15"
      ]
     },
     "execution_count": 166,
     "metadata": {},
     "output_type": "execute_result"
    }
   ],
   "source": [
    "dataframe = pd.DataFrame(np.arange(16).reshape(4, 4))\n",
    "dataframe"
   ]
  },
  {
   "cell_type": "code",
   "execution_count": 167,
   "metadata": {},
   "outputs": [],
   "source": [
    "def es_suma_par(elemento):\n",
    "    if np.sum(elemento) % 2 == 0:\n",
    "        return 'Suma par: ' + str(np.sum(elemento))\n",
    "    else:\n",
    "        return 'Suma impar: ' + str(np.sum(elemento))"
   ]
  },
  {
   "cell_type": "code",
   "execution_count": 168,
   "metadata": {},
   "outputs": [
    {
     "data": {
      "text/plain": [
       "0    Suma par: 24\n",
       "1    Suma par: 28\n",
       "2    Suma par: 32\n",
       "3    Suma par: 36\n",
       "dtype: object"
      ]
     },
     "execution_count": 168,
     "metadata": {},
     "output_type": "execute_result"
    }
   ],
   "source": [
    "# Aplicación de función por columnas sobre DataFrame\n",
    "dataframe.apply(es_suma_par)"
   ]
  },
  {
   "cell_type": "code",
   "execution_count": 169,
   "metadata": {},
   "outputs": [
    {
     "data": {
      "text/plain": [
       "0     Suma par: 6\n",
       "1    Suma par: 22\n",
       "2    Suma par: 38\n",
       "3    Suma par: 54\n",
       "dtype: object"
      ]
     },
     "execution_count": 169,
     "metadata": {},
     "output_type": "execute_result"
    }
   ],
   "source": [
    "# Aplicación de función por filas sobre DataFrames\n",
    "dataframe.apply(es_suma_par, axis=1)"
   ]
  },
  {
   "cell_type": "markdown",
   "metadata": {},
   "source": [
    "## Fusión de estructuras"
   ]
  },
  {
   "cell_type": "markdown",
   "metadata": {},
   "source": [
    "La librería pandas nos ofrece, principalmente, dos formas de fusionar estructuras de datos: realizando cruces entre ellos (mediante las claves coincidentes de sus índices) o concatenando sus contenidos (bien por filas o columnas)."
   ]
  },
  {
   "cell_type": "markdown",
   "metadata": {},
   "source": [
    "#### Función merge - JOIN de estructuras"
   ]
  },
  {
   "cell_type": "code",
   "execution_count": 170,
   "metadata": {},
   "outputs": [
    {
     "data": {
      "text/html": [
       "<div>\n",
       "<style scoped>\n",
       "    .dataframe tbody tr th:only-of-type {\n",
       "        vertical-align: middle;\n",
       "    }\n",
       "\n",
       "    .dataframe tbody tr th {\n",
       "        vertical-align: top;\n",
       "    }\n",
       "\n",
       "    .dataframe thead th {\n",
       "        text-align: right;\n",
       "    }\n",
       "</style>\n",
       "<table border=\"1\" class=\"dataframe\">\n",
       "  <thead>\n",
       "    <tr style=\"text-align: right;\">\n",
       "      <th></th>\n",
       "      <th>Año</th>\n",
       "      <th>Valoración</th>\n",
       "      <th>Presupuesto</th>\n",
       "      <th>Director</th>\n",
       "      <th>Título</th>\n",
       "    </tr>\n",
       "  </thead>\n",
       "  <tbody>\n",
       "    <tr>\n",
       "      <th>0</th>\n",
       "      <td>2014</td>\n",
       "      <td>6.00</td>\n",
       "      <td>160.0</td>\n",
       "      <td>Gareth Edwards</td>\n",
       "      <td>Godzilla</td>\n",
       "    </tr>\n",
       "    <tr>\n",
       "      <th>1</th>\n",
       "      <td>2014</td>\n",
       "      <td>NaN</td>\n",
       "      <td>250.0</td>\n",
       "      <td>Peter Jackson</td>\n",
       "      <td>El Hobbit III</td>\n",
       "    </tr>\n",
       "    <tr>\n",
       "      <th>2</th>\n",
       "      <td>2013</td>\n",
       "      <td>8.75</td>\n",
       "      <td>100.0</td>\n",
       "      <td>Martin Scorsese</td>\n",
       "      <td>El lobo de Wall Street</td>\n",
       "    </tr>\n",
       "    <tr>\n",
       "      <th>3</th>\n",
       "      <td>2013</td>\n",
       "      <td>NaN</td>\n",
       "      <td>NaN</td>\n",
       "      <td>Alfonso Cuarón</td>\n",
       "      <td>Gravity</td>\n",
       "    </tr>\n",
       "  </tbody>\n",
       "</table>\n",
       "</div>"
      ],
      "text/plain": [
       "    Año  Valoración  Presupuesto         Director                  Título\n",
       "0  2014        6.00        160.0   Gareth Edwards                Godzilla\n",
       "1  2014         NaN        250.0    Peter Jackson           El Hobbit III\n",
       "2  2013        8.75        100.0  Martin Scorsese  El lobo de Wall Street\n",
       "3  2013         NaN          NaN   Alfonso Cuarón                 Gravity"
      ]
     },
     "execution_count": 170,
     "metadata": {},
     "output_type": "execute_result"
    }
   ],
   "source": [
    "peliculas = pd.DataFrame(\n",
    "            {'Año':[2014, 2014, 2013, 2013], \n",
    "             'Valoración':[6, None, 8.75, None],\n",
    "             'Presupuesto':[160, 250, 100, None],\n",
    "             'Director':['Gareth Edwards','Peter Jackson',  'Martin Scorsese', 'Alfonso Cuarón'],\n",
    "             'Título':['Godzilla', 'El Hobbit III', 'El lobo de Wall Street', 'Gravity']}\n",
    ")\n",
    "peliculas"
   ]
  },
  {
   "cell_type": "code",
   "execution_count": 171,
   "metadata": {},
   "outputs": [
    {
     "data": {
      "text/html": [
       "<div>\n",
       "<style scoped>\n",
       "    .dataframe tbody tr th:only-of-type {\n",
       "        vertical-align: middle;\n",
       "    }\n",
       "\n",
       "    .dataframe tbody tr th {\n",
       "        vertical-align: top;\n",
       "    }\n",
       "\n",
       "    .dataframe thead th {\n",
       "        text-align: right;\n",
       "    }\n",
       "</style>\n",
       "<table border=\"1\" class=\"dataframe\">\n",
       "  <thead>\n",
       "    <tr style=\"text-align: right;\">\n",
       "      <th></th>\n",
       "      <th>Director</th>\n",
       "      <th>AñoNacimiento</th>\n",
       "      <th>Nacionalidad</th>\n",
       "    </tr>\n",
       "  </thead>\n",
       "  <tbody>\n",
       "    <tr>\n",
       "      <th>0</th>\n",
       "      <td>Gareth Edwards</td>\n",
       "      <td>1975</td>\n",
       "      <td>England</td>\n",
       "    </tr>\n",
       "    <tr>\n",
       "      <th>1</th>\n",
       "      <td>Martin Scorsese</td>\n",
       "      <td>1942</td>\n",
       "      <td>USA</td>\n",
       "    </tr>\n",
       "    <tr>\n",
       "      <th>2</th>\n",
       "      <td>Pedro Almodovar</td>\n",
       "      <td>1949</td>\n",
       "      <td>Spain</td>\n",
       "    </tr>\n",
       "  </tbody>\n",
       "</table>\n",
       "</div>"
      ],
      "text/plain": [
       "          Director  AñoNacimiento Nacionalidad\n",
       "0   Gareth Edwards           1975      England\n",
       "1  Martin Scorsese           1942          USA\n",
       "2  Pedro Almodovar           1949        Spain"
      ]
     },
     "execution_count": 171,
     "metadata": {},
     "output_type": "execute_result"
    }
   ],
   "source": [
    "directores = pd.DataFrame(\n",
    "            {'Director':['Gareth Edwards', 'Martin Scorsese', 'Pedro Almodovar'],\n",
    "             'AñoNacimiento':[1975, 1942, 1949],\n",
    "             'Nacionalidad': ['England', 'USA', 'Spain']\n",
    "             }\n",
    ")\n",
    "directores"
   ]
  },
  {
   "cell_type": "code",
   "execution_count": 172,
   "metadata": {},
   "outputs": [
    {
     "data": {
      "text/html": [
       "<div>\n",
       "<style scoped>\n",
       "    .dataframe tbody tr th:only-of-type {\n",
       "        vertical-align: middle;\n",
       "    }\n",
       "\n",
       "    .dataframe tbody tr th {\n",
       "        vertical-align: top;\n",
       "    }\n",
       "\n",
       "    .dataframe thead th {\n",
       "        text-align: right;\n",
       "    }\n",
       "</style>\n",
       "<table border=\"1\" class=\"dataframe\">\n",
       "  <thead>\n",
       "    <tr style=\"text-align: right;\">\n",
       "      <th></th>\n",
       "      <th>Año</th>\n",
       "      <th>Valoración</th>\n",
       "      <th>Presupuesto</th>\n",
       "      <th>Director</th>\n",
       "      <th>Título</th>\n",
       "      <th>AñoNacimiento</th>\n",
       "    </tr>\n",
       "  </thead>\n",
       "  <tbody>\n",
       "    <tr>\n",
       "      <th>0</th>\n",
       "      <td>2014</td>\n",
       "      <td>6.00</td>\n",
       "      <td>160.0</td>\n",
       "      <td>Gareth Edwards</td>\n",
       "      <td>Godzilla</td>\n",
       "      <td>1975</td>\n",
       "    </tr>\n",
       "    <tr>\n",
       "      <th>1</th>\n",
       "      <td>2013</td>\n",
       "      <td>8.75</td>\n",
       "      <td>100.0</td>\n",
       "      <td>Martin Scorsese</td>\n",
       "      <td>El lobo de Wall Street</td>\n",
       "      <td>1942</td>\n",
       "    </tr>\n",
       "  </tbody>\n",
       "</table>\n",
       "</div>"
      ],
      "text/plain": [
       "    Año  Valoración  Presupuesto         Director                  Título  \\\n",
       "0  2014        6.00        160.0   Gareth Edwards                Godzilla   \n",
       "1  2013        8.75        100.0  Martin Scorsese  El lobo de Wall Street   \n",
       "\n",
       "   AñoNacimiento  \n",
       "0           1975  \n",
       "1           1942  "
      ]
     },
     "execution_count": 172,
     "metadata": {},
     "output_type": "execute_result"
    }
   ],
   "source": [
    "pd.merge(peliculas, directores[['Director', 'AñoNacimiento']], on = ['Director'])"
   ]
  },
  {
   "cell_type": "markdown",
   "metadata": {},
   "source": [
    "La función busca, por defecto, aquellas claves de columnas que coinciden y realiza el cruce, eliminando del resultado aquellas filas para las que el cruce no es posible.<br/>\n",
    "\n",
    "También podemos especificar, explícitamente, el conjunto de columnas a utilizar en el cruce."
   ]
  },
  {
   "cell_type": "code",
   "execution_count": 173,
   "metadata": {},
   "outputs": [
    {
     "data": {
      "text/html": [
       "<div>\n",
       "<style scoped>\n",
       "    .dataframe tbody tr th:only-of-type {\n",
       "        vertical-align: middle;\n",
       "    }\n",
       "\n",
       "    .dataframe tbody tr th {\n",
       "        vertical-align: top;\n",
       "    }\n",
       "\n",
       "    .dataframe thead th {\n",
       "        text-align: right;\n",
       "    }\n",
       "</style>\n",
       "<table border=\"1\" class=\"dataframe\">\n",
       "  <thead>\n",
       "    <tr style=\"text-align: right;\">\n",
       "      <th></th>\n",
       "      <th>Año</th>\n",
       "      <th>Valoración</th>\n",
       "      <th>Presupuesto</th>\n",
       "      <th>Director</th>\n",
       "      <th>Título</th>\n",
       "      <th>Nombre</th>\n",
       "      <th>Nacimiento</th>\n",
       "      <th>Nacionalidad</th>\n",
       "    </tr>\n",
       "  </thead>\n",
       "  <tbody>\n",
       "    <tr>\n",
       "      <th>0</th>\n",
       "      <td>2014</td>\n",
       "      <td>6.00</td>\n",
       "      <td>160.0</td>\n",
       "      <td>Gareth Edwards</td>\n",
       "      <td>Godzilla</td>\n",
       "      <td>Gareth Edwards</td>\n",
       "      <td>1975</td>\n",
       "      <td>England</td>\n",
       "    </tr>\n",
       "    <tr>\n",
       "      <th>1</th>\n",
       "      <td>2013</td>\n",
       "      <td>8.75</td>\n",
       "      <td>100.0</td>\n",
       "      <td>Martin Scorsese</td>\n",
       "      <td>El lobo de Wall Street</td>\n",
       "      <td>Martin Scorsese</td>\n",
       "      <td>1942</td>\n",
       "      <td>USA</td>\n",
       "    </tr>\n",
       "  </tbody>\n",
       "</table>\n",
       "</div>"
      ],
      "text/plain": [
       "    Año  Valoración  Presupuesto         Director                  Título  \\\n",
       "0  2014        6.00        160.0   Gareth Edwards                Godzilla   \n",
       "1  2013        8.75        100.0  Martin Scorsese  El lobo de Wall Street   \n",
       "\n",
       "            Nombre  Nacimiento Nacionalidad  \n",
       "0   Gareth Edwards        1975      England  \n",
       "1  Martin Scorsese        1942          USA  "
      ]
     },
     "execution_count": 173,
     "metadata": {},
     "output_type": "execute_result"
    }
   ],
   "source": [
    "directores.columns = ['Nombre', 'Nacimiento', 'Nacionalidad']\n",
    "pd.merge(peliculas, directores, left_on='Director', right_on='Nombre')"
   ]
  },
  {
   "cell_type": "markdown",
   "metadata": {},
   "source": [
    "Por último, al igual que ocurre en os JOIN de SQL, podemos especificar el modo de cruce a aplicar, haciendo que las filas de la estructura de la izquierda, derecha o ambas que no coincidan se mantengan en el resultado, estableciendo valores NaN en aquellos elementos para los que no exista información."
   ]
  },
  {
   "cell_type": "code",
   "execution_count": 174,
   "metadata": {},
   "outputs": [
    {
     "data": {
      "text/html": [
       "<div>\n",
       "<style scoped>\n",
       "    .dataframe tbody tr th:only-of-type {\n",
       "        vertical-align: middle;\n",
       "    }\n",
       "\n",
       "    .dataframe tbody tr th {\n",
       "        vertical-align: top;\n",
       "    }\n",
       "\n",
       "    .dataframe thead th {\n",
       "        text-align: right;\n",
       "    }\n",
       "</style>\n",
       "<table border=\"1\" class=\"dataframe\">\n",
       "  <thead>\n",
       "    <tr style=\"text-align: right;\">\n",
       "      <th></th>\n",
       "      <th>Año</th>\n",
       "      <th>Valoración</th>\n",
       "      <th>Presupuesto</th>\n",
       "      <th>Director</th>\n",
       "      <th>Título</th>\n",
       "      <th>Nombre</th>\n",
       "      <th>Nacimiento</th>\n",
       "      <th>Nacionalidad</th>\n",
       "    </tr>\n",
       "  </thead>\n",
       "  <tbody>\n",
       "    <tr>\n",
       "      <th>0</th>\n",
       "      <td>2014</td>\n",
       "      <td>6.00</td>\n",
       "      <td>160.0</td>\n",
       "      <td>Gareth Edwards</td>\n",
       "      <td>Godzilla</td>\n",
       "      <td>Gareth Edwards</td>\n",
       "      <td>1975.0</td>\n",
       "      <td>England</td>\n",
       "    </tr>\n",
       "    <tr>\n",
       "      <th>1</th>\n",
       "      <td>2014</td>\n",
       "      <td>NaN</td>\n",
       "      <td>250.0</td>\n",
       "      <td>Peter Jackson</td>\n",
       "      <td>El Hobbit III</td>\n",
       "      <td>NaN</td>\n",
       "      <td>NaN</td>\n",
       "      <td>NaN</td>\n",
       "    </tr>\n",
       "    <tr>\n",
       "      <th>2</th>\n",
       "      <td>2013</td>\n",
       "      <td>8.75</td>\n",
       "      <td>100.0</td>\n",
       "      <td>Martin Scorsese</td>\n",
       "      <td>El lobo de Wall Street</td>\n",
       "      <td>Martin Scorsese</td>\n",
       "      <td>1942.0</td>\n",
       "      <td>USA</td>\n",
       "    </tr>\n",
       "    <tr>\n",
       "      <th>3</th>\n",
       "      <td>2013</td>\n",
       "      <td>NaN</td>\n",
       "      <td>NaN</td>\n",
       "      <td>Alfonso Cuarón</td>\n",
       "      <td>Gravity</td>\n",
       "      <td>NaN</td>\n",
       "      <td>NaN</td>\n",
       "      <td>NaN</td>\n",
       "    </tr>\n",
       "  </tbody>\n",
       "</table>\n",
       "</div>"
      ],
      "text/plain": [
       "    Año  Valoración  Presupuesto         Director                  Título  \\\n",
       "0  2014        6.00        160.0   Gareth Edwards                Godzilla   \n",
       "1  2014         NaN        250.0    Peter Jackson           El Hobbit III   \n",
       "2  2013        8.75        100.0  Martin Scorsese  El lobo de Wall Street   \n",
       "3  2013         NaN          NaN   Alfonso Cuarón                 Gravity   \n",
       "\n",
       "            Nombre  Nacimiento Nacionalidad  \n",
       "0   Gareth Edwards      1975.0      England  \n",
       "1              NaN         NaN          NaN  \n",
       "2  Martin Scorsese      1942.0          USA  \n",
       "3              NaN         NaN          NaN  "
      ]
     },
     "execution_count": 174,
     "metadata": {},
     "output_type": "execute_result"
    }
   ],
   "source": [
    "pd.merge(peliculas, directores, left_on='Director', right_on='Nombre', how='left')"
   ]
  },
  {
   "cell_type": "code",
   "execution_count": 175,
   "metadata": {},
   "outputs": [
    {
     "data": {
      "text/html": [
       "<div>\n",
       "<style scoped>\n",
       "    .dataframe tbody tr th:only-of-type {\n",
       "        vertical-align: middle;\n",
       "    }\n",
       "\n",
       "    .dataframe tbody tr th {\n",
       "        vertical-align: top;\n",
       "    }\n",
       "\n",
       "    .dataframe thead th {\n",
       "        text-align: right;\n",
       "    }\n",
       "</style>\n",
       "<table border=\"1\" class=\"dataframe\">\n",
       "  <thead>\n",
       "    <tr style=\"text-align: right;\">\n",
       "      <th></th>\n",
       "      <th>Año</th>\n",
       "      <th>Valoración</th>\n",
       "      <th>Presupuesto</th>\n",
       "      <th>Director</th>\n",
       "      <th>Título</th>\n",
       "      <th>Nombre</th>\n",
       "      <th>Nacimiento</th>\n",
       "      <th>Nacionalidad</th>\n",
       "    </tr>\n",
       "  </thead>\n",
       "  <tbody>\n",
       "    <tr>\n",
       "      <th>0</th>\n",
       "      <td>2014.0</td>\n",
       "      <td>6.00</td>\n",
       "      <td>160.0</td>\n",
       "      <td>Gareth Edwards</td>\n",
       "      <td>Godzilla</td>\n",
       "      <td>Gareth Edwards</td>\n",
       "      <td>1975</td>\n",
       "      <td>England</td>\n",
       "    </tr>\n",
       "    <tr>\n",
       "      <th>1</th>\n",
       "      <td>2013.0</td>\n",
       "      <td>8.75</td>\n",
       "      <td>100.0</td>\n",
       "      <td>Martin Scorsese</td>\n",
       "      <td>El lobo de Wall Street</td>\n",
       "      <td>Martin Scorsese</td>\n",
       "      <td>1942</td>\n",
       "      <td>USA</td>\n",
       "    </tr>\n",
       "    <tr>\n",
       "      <th>2</th>\n",
       "      <td>NaN</td>\n",
       "      <td>NaN</td>\n",
       "      <td>NaN</td>\n",
       "      <td>NaN</td>\n",
       "      <td>NaN</td>\n",
       "      <td>Pedro Almodovar</td>\n",
       "      <td>1949</td>\n",
       "      <td>Spain</td>\n",
       "    </tr>\n",
       "  </tbody>\n",
       "</table>\n",
       "</div>"
      ],
      "text/plain": [
       "      Año  Valoración  Presupuesto         Director                  Título  \\\n",
       "0  2014.0        6.00        160.0   Gareth Edwards                Godzilla   \n",
       "1  2013.0        8.75        100.0  Martin Scorsese  El lobo de Wall Street   \n",
       "2     NaN         NaN          NaN              NaN                     NaN   \n",
       "\n",
       "            Nombre  Nacimiento Nacionalidad  \n",
       "0   Gareth Edwards        1975      England  \n",
       "1  Martin Scorsese        1942          USA  \n",
       "2  Pedro Almodovar        1949        Spain  "
      ]
     },
     "execution_count": 175,
     "metadata": {},
     "output_type": "execute_result"
    }
   ],
   "source": [
    "pd.merge(peliculas, directores, left_on='Director', right_on='Nombre', how='right')"
   ]
  },
  {
   "cell_type": "code",
   "execution_count": 176,
   "metadata": {},
   "outputs": [
    {
     "data": {
      "text/html": [
       "<div>\n",
       "<style scoped>\n",
       "    .dataframe tbody tr th:only-of-type {\n",
       "        vertical-align: middle;\n",
       "    }\n",
       "\n",
       "    .dataframe tbody tr th {\n",
       "        vertical-align: top;\n",
       "    }\n",
       "\n",
       "    .dataframe thead th {\n",
       "        text-align: right;\n",
       "    }\n",
       "</style>\n",
       "<table border=\"1\" class=\"dataframe\">\n",
       "  <thead>\n",
       "    <tr style=\"text-align: right;\">\n",
       "      <th></th>\n",
       "      <th>Año</th>\n",
       "      <th>Valoración</th>\n",
       "      <th>Presupuesto</th>\n",
       "      <th>Director</th>\n",
       "      <th>Título</th>\n",
       "      <th>Nombre</th>\n",
       "      <th>Nacimiento</th>\n",
       "      <th>Nacionalidad</th>\n",
       "    </tr>\n",
       "  </thead>\n",
       "  <tbody>\n",
       "    <tr>\n",
       "      <th>0</th>\n",
       "      <td>2014.0</td>\n",
       "      <td>6.00</td>\n",
       "      <td>160.0</td>\n",
       "      <td>Gareth Edwards</td>\n",
       "      <td>Godzilla</td>\n",
       "      <td>Gareth Edwards</td>\n",
       "      <td>1975.0</td>\n",
       "      <td>England</td>\n",
       "    </tr>\n",
       "    <tr>\n",
       "      <th>1</th>\n",
       "      <td>2014.0</td>\n",
       "      <td>NaN</td>\n",
       "      <td>250.0</td>\n",
       "      <td>Peter Jackson</td>\n",
       "      <td>El Hobbit III</td>\n",
       "      <td>NaN</td>\n",
       "      <td>NaN</td>\n",
       "      <td>NaN</td>\n",
       "    </tr>\n",
       "    <tr>\n",
       "      <th>2</th>\n",
       "      <td>2013.0</td>\n",
       "      <td>8.75</td>\n",
       "      <td>100.0</td>\n",
       "      <td>Martin Scorsese</td>\n",
       "      <td>El lobo de Wall Street</td>\n",
       "      <td>Martin Scorsese</td>\n",
       "      <td>1942.0</td>\n",
       "      <td>USA</td>\n",
       "    </tr>\n",
       "    <tr>\n",
       "      <th>3</th>\n",
       "      <td>2013.0</td>\n",
       "      <td>NaN</td>\n",
       "      <td>NaN</td>\n",
       "      <td>Alfonso Cuarón</td>\n",
       "      <td>Gravity</td>\n",
       "      <td>NaN</td>\n",
       "      <td>NaN</td>\n",
       "      <td>NaN</td>\n",
       "    </tr>\n",
       "    <tr>\n",
       "      <th>4</th>\n",
       "      <td>NaN</td>\n",
       "      <td>NaN</td>\n",
       "      <td>NaN</td>\n",
       "      <td>NaN</td>\n",
       "      <td>NaN</td>\n",
       "      <td>Pedro Almodovar</td>\n",
       "      <td>1949.0</td>\n",
       "      <td>Spain</td>\n",
       "    </tr>\n",
       "  </tbody>\n",
       "</table>\n",
       "</div>"
      ],
      "text/plain": [
       "      Año  Valoración  Presupuesto         Director                  Título  \\\n",
       "0  2014.0        6.00        160.0   Gareth Edwards                Godzilla   \n",
       "1  2014.0         NaN        250.0    Peter Jackson           El Hobbit III   \n",
       "2  2013.0        8.75        100.0  Martin Scorsese  El lobo de Wall Street   \n",
       "3  2013.0         NaN          NaN   Alfonso Cuarón                 Gravity   \n",
       "4     NaN         NaN          NaN              NaN                     NaN   \n",
       "\n",
       "            Nombre  Nacimiento Nacionalidad  \n",
       "0   Gareth Edwards      1975.0      England  \n",
       "1              NaN         NaN          NaN  \n",
       "2  Martin Scorsese      1942.0          USA  \n",
       "3              NaN         NaN          NaN  \n",
       "4  Pedro Almodovar      1949.0        Spain  "
      ]
     },
     "execution_count": 176,
     "metadata": {},
     "output_type": "execute_result"
    }
   ],
   "source": [
    "pd.merge(peliculas, directores, left_on='Director', right_on='Nombre', how='outer')"
   ]
  },
  {
   "cell_type": "markdown",
   "metadata": {},
   "source": [
    "Finalmente, en el caso de que tengamos columnas duplicadas en los dos DataFrames que se van a unir, pandas se encargará automáticamente de incluir un sufijo que permita desambiguar (_x, _y, por defecto). "
   ]
  },
  {
   "cell_type": "code",
   "execution_count": 177,
   "metadata": {},
   "outputs": [
    {
     "data": {
      "text/html": [
       "<div>\n",
       "<style scoped>\n",
       "    .dataframe tbody tr th:only-of-type {\n",
       "        vertical-align: middle;\n",
       "    }\n",
       "\n",
       "    .dataframe tbody tr th {\n",
       "        vertical-align: top;\n",
       "    }\n",
       "\n",
       "    .dataframe thead th {\n",
       "        text-align: right;\n",
       "    }\n",
       "</style>\n",
       "<table border=\"1\" class=\"dataframe\">\n",
       "  <thead>\n",
       "    <tr style=\"text-align: right;\">\n",
       "      <th></th>\n",
       "      <th>Año</th>\n",
       "      <th>Valoración_x</th>\n",
       "      <th>Presupuesto</th>\n",
       "      <th>Director</th>\n",
       "      <th>Título</th>\n",
       "      <th>AñoNacimiento</th>\n",
       "      <th>Nacionalidad</th>\n",
       "      <th>Valoración_y</th>\n",
       "    </tr>\n",
       "  </thead>\n",
       "  <tbody>\n",
       "    <tr>\n",
       "      <th>0</th>\n",
       "      <td>2014</td>\n",
       "      <td>NaN</td>\n",
       "      <td>250.0</td>\n",
       "      <td>Gareth Edwards</td>\n",
       "      <td>El Hobbit III</td>\n",
       "      <td>1975</td>\n",
       "      <td>England</td>\n",
       "      <td>6</td>\n",
       "    </tr>\n",
       "    <tr>\n",
       "      <th>1</th>\n",
       "      <td>2013</td>\n",
       "      <td>8.75</td>\n",
       "      <td>100.0</td>\n",
       "      <td>Martin Scorsese</td>\n",
       "      <td>El lobo de Wall Street</td>\n",
       "      <td>1942</td>\n",
       "      <td>USA</td>\n",
       "      <td>7</td>\n",
       "    </tr>\n",
       "  </tbody>\n",
       "</table>\n",
       "</div>"
      ],
      "text/plain": [
       "    Año  Valoración_x  Presupuesto         Director                  Título  \\\n",
       "0  2014           NaN        250.0   Gareth Edwards           El Hobbit III   \n",
       "1  2013          8.75        100.0  Martin Scorsese  El lobo de Wall Street   \n",
       "\n",
       "   AñoNacimiento Nacionalidad  Valoración_y  \n",
       "0           1975      England             6  \n",
       "1           1942          USA             7  "
      ]
     },
     "execution_count": 177,
     "metadata": {},
     "output_type": "execute_result"
    }
   ],
   "source": [
    "peliculas = pd.DataFrame(\n",
    "            {'Año':[2014, 2014, 2013, 2013], \n",
    "             'Valoración':[6, None, 8.75, None],\n",
    "             'Presupuesto':[160, 250, 100, None],\n",
    "             'Director':['Peter Jackson', 'Gareth Edwards', 'Martin Scorsese', 'Alfonso Cuarón'],\n",
    "             'Título':['Godzilla', 'El Hobbit III', 'El lobo de Wall Street', 'Gravity']}\n",
    ")\n",
    "directores = pd.DataFrame(\n",
    "            {'Director':['Gareth Edwards', 'Martin Scorsese', 'Pedro Almodovar'],\n",
    "             'AñoNacimiento':[1975, 1942, 1949],\n",
    "             'Nacionalidad': ['England', 'USA', 'Spain'],\n",
    "             'Valoración':[6, 7, 8]\n",
    "             }\n",
    ")\n",
    "pd.merge(peliculas, directores, left_on='Director', right_on='Director')"
   ]
  },
  {
   "cell_type": "markdown",
   "metadata": {},
   "source": [
    "Si queremos modificar estos sufijos, podemos hacer uso del parámetro suffixes que recibe una tupla con los sufijos a utilizar."
   ]
  },
  {
   "cell_type": "code",
   "execution_count": 178,
   "metadata": {},
   "outputs": [
    {
     "data": {
      "text/html": [
       "<div>\n",
       "<style scoped>\n",
       "    .dataframe tbody tr th:only-of-type {\n",
       "        vertical-align: middle;\n",
       "    }\n",
       "\n",
       "    .dataframe tbody tr th {\n",
       "        vertical-align: top;\n",
       "    }\n",
       "\n",
       "    .dataframe thead th {\n",
       "        text-align: right;\n",
       "    }\n",
       "</style>\n",
       "<table border=\"1\" class=\"dataframe\">\n",
       "  <thead>\n",
       "    <tr style=\"text-align: right;\">\n",
       "      <th></th>\n",
       "      <th>Año</th>\n",
       "      <th>Valoración_peli</th>\n",
       "      <th>Presupuesto</th>\n",
       "      <th>Director</th>\n",
       "      <th>Título</th>\n",
       "      <th>AñoNacimiento</th>\n",
       "      <th>Nacionalidad</th>\n",
       "      <th>Valoración_dire</th>\n",
       "    </tr>\n",
       "  </thead>\n",
       "  <tbody>\n",
       "    <tr>\n",
       "      <th>0</th>\n",
       "      <td>2014</td>\n",
       "      <td>NaN</td>\n",
       "      <td>250.0</td>\n",
       "      <td>Gareth Edwards</td>\n",
       "      <td>El Hobbit III</td>\n",
       "      <td>1975</td>\n",
       "      <td>England</td>\n",
       "      <td>6</td>\n",
       "    </tr>\n",
       "    <tr>\n",
       "      <th>1</th>\n",
       "      <td>2013</td>\n",
       "      <td>8.75</td>\n",
       "      <td>100.0</td>\n",
       "      <td>Martin Scorsese</td>\n",
       "      <td>El lobo de Wall Street</td>\n",
       "      <td>1942</td>\n",
       "      <td>USA</td>\n",
       "      <td>7</td>\n",
       "    </tr>\n",
       "  </tbody>\n",
       "</table>\n",
       "</div>"
      ],
      "text/plain": [
       "    Año  Valoración_peli  Presupuesto         Director  \\\n",
       "0  2014              NaN        250.0   Gareth Edwards   \n",
       "1  2013             8.75        100.0  Martin Scorsese   \n",
       "\n",
       "                   Título  AñoNacimiento Nacionalidad  Valoración_dire  \n",
       "0           El Hobbit III           1975      England                6  \n",
       "1  El lobo de Wall Street           1942          USA                7  "
      ]
     },
     "execution_count": 178,
     "metadata": {},
     "output_type": "execute_result"
    }
   ],
   "source": [
    "pd.merge(peliculas, directores, left_on='Director', right_on='Director', suffixes=('_peli', '_dire'))"
   ]
  },
  {
   "cell_type": "markdown",
   "metadata": {},
   "source": [
    "#### Función concat"
   ]
  },
  {
   "cell_type": "markdown",
   "metadata": {},
   "source": [
    "Esta función nos permite fusionar estructuras sin realizar ningún tipo de cruce entre ellas, sino \"colocándolas\" juntas para la creación de una estructura mayor. Podemos hacerlo tanto en filas como en columnas. Por defecto, se concatenan filas y se mantienen las columnas de ambas estructuras aunque no coincidan en clave, dejando a NaN los elementos que no existan."
   ]
  },
  {
   "cell_type": "code",
   "execution_count": 179,
   "metadata": {},
   "outputs": [
    {
     "data": {
      "text/html": [
       "<div>\n",
       "<style scoped>\n",
       "    .dataframe tbody tr th:only-of-type {\n",
       "        vertical-align: middle;\n",
       "    }\n",
       "\n",
       "    .dataframe tbody tr th {\n",
       "        vertical-align: top;\n",
       "    }\n",
       "\n",
       "    .dataframe thead th {\n",
       "        text-align: right;\n",
       "    }\n",
       "</style>\n",
       "<table border=\"1\" class=\"dataframe\">\n",
       "  <thead>\n",
       "    <tr style=\"text-align: right;\">\n",
       "      <th></th>\n",
       "      <th>Año</th>\n",
       "      <th>Valoración</th>\n",
       "      <th>Presupuesto</th>\n",
       "      <th>Director</th>\n",
       "    </tr>\n",
       "  </thead>\n",
       "  <tbody>\n",
       "    <tr>\n",
       "      <th>Godzilla</th>\n",
       "      <td>2014</td>\n",
       "      <td>6.00</td>\n",
       "      <td>160.0</td>\n",
       "      <td>Gareth Edwards</td>\n",
       "    </tr>\n",
       "    <tr>\n",
       "      <th>El Hobbit III</th>\n",
       "      <td>2014</td>\n",
       "      <td>NaN</td>\n",
       "      <td>250.0</td>\n",
       "      <td>Peter Jackson</td>\n",
       "    </tr>\n",
       "    <tr>\n",
       "      <th>El lobo de Wall Street</th>\n",
       "      <td>2013</td>\n",
       "      <td>8.75</td>\n",
       "      <td>100.0</td>\n",
       "      <td>Martin Scorsese</td>\n",
       "    </tr>\n",
       "    <tr>\n",
       "      <th>Gravity</th>\n",
       "      <td>2013</td>\n",
       "      <td>NaN</td>\n",
       "      <td>NaN</td>\n",
       "      <td>Alfonso Cuarón</td>\n",
       "    </tr>\n",
       "  </tbody>\n",
       "</table>\n",
       "</div>"
      ],
      "text/plain": [
       "                         Año  Valoración  Presupuesto         Director\n",
       "Godzilla                2014        6.00        160.0   Gareth Edwards\n",
       "El Hobbit III           2014         NaN        250.0    Peter Jackson\n",
       "El lobo de Wall Street  2013        8.75        100.0  Martin Scorsese\n",
       "Gravity                 2013         NaN          NaN   Alfonso Cuarón"
      ]
     },
     "execution_count": 179,
     "metadata": {},
     "output_type": "execute_result"
    }
   ],
   "source": [
    "peliculas = pd.DataFrame(\n",
    "            {'Año':[2014, 2014, 2013, 2013], \n",
    "             'Valoración':[6, None, 8.75, None],\n",
    "             'Presupuesto':[160, 250, 100, None],\n",
    "             'Director':['Gareth Edwards','Peter Jackson', 'Martin Scorsese', 'Alfonso Cuarón']},\n",
    "            index = ['Godzilla', 'El Hobbit III', 'El lobo de Wall Street', 'Gravity']\n",
    ")\n",
    "peliculas2 = pd.DataFrame(\n",
    "            {'Año':[2014, 2014], \n",
    "             'Valoración':[7.3, 6.3],\n",
    "             'Director':['Evan Goldberg', ' Rupert Wyatt']},\n",
    "            index = ['La entrevista', 'El jugador']\n",
    ")\n",
    "peliculas"
   ]
  },
  {
   "cell_type": "code",
   "execution_count": 180,
   "metadata": {},
   "outputs": [
    {
     "data": {
      "text/html": [
       "<div>\n",
       "<style scoped>\n",
       "    .dataframe tbody tr th:only-of-type {\n",
       "        vertical-align: middle;\n",
       "    }\n",
       "\n",
       "    .dataframe tbody tr th {\n",
       "        vertical-align: top;\n",
       "    }\n",
       "\n",
       "    .dataframe thead th {\n",
       "        text-align: right;\n",
       "    }\n",
       "</style>\n",
       "<table border=\"1\" class=\"dataframe\">\n",
       "  <thead>\n",
       "    <tr style=\"text-align: right;\">\n",
       "      <th></th>\n",
       "      <th>Año</th>\n",
       "      <th>Valoración</th>\n",
       "      <th>Director</th>\n",
       "    </tr>\n",
       "  </thead>\n",
       "  <tbody>\n",
       "    <tr>\n",
       "      <th>La entrevista</th>\n",
       "      <td>2014</td>\n",
       "      <td>7.3</td>\n",
       "      <td>Evan Goldberg</td>\n",
       "    </tr>\n",
       "    <tr>\n",
       "      <th>El jugador</th>\n",
       "      <td>2014</td>\n",
       "      <td>6.3</td>\n",
       "      <td>Rupert Wyatt</td>\n",
       "    </tr>\n",
       "  </tbody>\n",
       "</table>\n",
       "</div>"
      ],
      "text/plain": [
       "                Año  Valoración       Director\n",
       "La entrevista  2014         7.3  Evan Goldberg\n",
       "El jugador     2014         6.3   Rupert Wyatt"
      ]
     },
     "execution_count": 180,
     "metadata": {},
     "output_type": "execute_result"
    }
   ],
   "source": [
    "peliculas2"
   ]
  },
  {
   "cell_type": "code",
   "execution_count": 181,
   "metadata": {},
   "outputs": [
    {
     "data": {
      "text/html": [
       "<div>\n",
       "<style scoped>\n",
       "    .dataframe tbody tr th:only-of-type {\n",
       "        vertical-align: middle;\n",
       "    }\n",
       "\n",
       "    .dataframe tbody tr th {\n",
       "        vertical-align: top;\n",
       "    }\n",
       "\n",
       "    .dataframe thead th {\n",
       "        text-align: right;\n",
       "    }\n",
       "</style>\n",
       "<table border=\"1\" class=\"dataframe\">\n",
       "  <thead>\n",
       "    <tr style=\"text-align: right;\">\n",
       "      <th></th>\n",
       "      <th>Año</th>\n",
       "      <th>Valoración</th>\n",
       "      <th>Presupuesto</th>\n",
       "      <th>Director</th>\n",
       "    </tr>\n",
       "  </thead>\n",
       "  <tbody>\n",
       "    <tr>\n",
       "      <th>Godzilla</th>\n",
       "      <td>2014</td>\n",
       "      <td>6.00</td>\n",
       "      <td>160.0</td>\n",
       "      <td>Gareth Edwards</td>\n",
       "    </tr>\n",
       "    <tr>\n",
       "      <th>El Hobbit III</th>\n",
       "      <td>2014</td>\n",
       "      <td>NaN</td>\n",
       "      <td>250.0</td>\n",
       "      <td>Peter Jackson</td>\n",
       "    </tr>\n",
       "    <tr>\n",
       "      <th>El lobo de Wall Street</th>\n",
       "      <td>2013</td>\n",
       "      <td>8.75</td>\n",
       "      <td>100.0</td>\n",
       "      <td>Martin Scorsese</td>\n",
       "    </tr>\n",
       "    <tr>\n",
       "      <th>Gravity</th>\n",
       "      <td>2013</td>\n",
       "      <td>NaN</td>\n",
       "      <td>NaN</td>\n",
       "      <td>Alfonso Cuarón</td>\n",
       "    </tr>\n",
       "    <tr>\n",
       "      <th>La entrevista</th>\n",
       "      <td>2014</td>\n",
       "      <td>7.30</td>\n",
       "      <td>NaN</td>\n",
       "      <td>Evan Goldberg</td>\n",
       "    </tr>\n",
       "    <tr>\n",
       "      <th>El jugador</th>\n",
       "      <td>2014</td>\n",
       "      <td>6.30</td>\n",
       "      <td>NaN</td>\n",
       "      <td>Rupert Wyatt</td>\n",
       "    </tr>\n",
       "  </tbody>\n",
       "</table>\n",
       "</div>"
      ],
      "text/plain": [
       "                         Año  Valoración  Presupuesto         Director\n",
       "Godzilla                2014        6.00        160.0   Gareth Edwards\n",
       "El Hobbit III           2014         NaN        250.0    Peter Jackson\n",
       "El lobo de Wall Street  2013        8.75        100.0  Martin Scorsese\n",
       "Gravity                 2013         NaN          NaN   Alfonso Cuarón\n",
       "La entrevista           2014        7.30          NaN    Evan Goldberg\n",
       "El jugador              2014        6.30          NaN     Rupert Wyatt"
      ]
     },
     "execution_count": 181,
     "metadata": {},
     "output_type": "execute_result"
    }
   ],
   "source": [
    "pd.concat([peliculas, peliculas2], sort = False)"
   ]
  },
  {
   "cell_type": "markdown",
   "metadata": {},
   "source": [
    "También podemos concatenar por columnas."
   ]
  },
  {
   "cell_type": "code",
   "execution_count": 182,
   "metadata": {},
   "outputs": [
    {
     "data": {
      "text/html": [
       "<div>\n",
       "<style scoped>\n",
       "    .dataframe tbody tr th:only-of-type {\n",
       "        vertical-align: middle;\n",
       "    }\n",
       "\n",
       "    .dataframe tbody tr th {\n",
       "        vertical-align: top;\n",
       "    }\n",
       "\n",
       "    .dataframe thead th {\n",
       "        text-align: right;\n",
       "    }\n",
       "</style>\n",
       "<table border=\"1\" class=\"dataframe\">\n",
       "  <thead>\n",
       "    <tr style=\"text-align: right;\">\n",
       "      <th></th>\n",
       "      <th>Año</th>\n",
       "      <th>Valoración</th>\n",
       "      <th>Presupuesto</th>\n",
       "      <th>Director</th>\n",
       "      <th>Recaudación</th>\n",
       "    </tr>\n",
       "  </thead>\n",
       "  <tbody>\n",
       "    <tr>\n",
       "      <th>Godzilla</th>\n",
       "      <td>2014</td>\n",
       "      <td>6.00</td>\n",
       "      <td>160.0</td>\n",
       "      <td>Gareth Edwards</td>\n",
       "      <td>525.0</td>\n",
       "    </tr>\n",
       "    <tr>\n",
       "      <th>El Hobbit III</th>\n",
       "      <td>2014</td>\n",
       "      <td>NaN</td>\n",
       "      <td>250.0</td>\n",
       "      <td>Peter Jackson</td>\n",
       "      <td>722.0</td>\n",
       "    </tr>\n",
       "    <tr>\n",
       "      <th>El lobo de Wall Street</th>\n",
       "      <td>2013</td>\n",
       "      <td>8.75</td>\n",
       "      <td>100.0</td>\n",
       "      <td>Martin Scorsese</td>\n",
       "      <td>392.0</td>\n",
       "    </tr>\n",
       "    <tr>\n",
       "      <th>Gravity</th>\n",
       "      <td>2013</td>\n",
       "      <td>NaN</td>\n",
       "      <td>NaN</td>\n",
       "      <td>Alfonso Cuarón</td>\n",
       "      <td>NaN</td>\n",
       "    </tr>\n",
       "  </tbody>\n",
       "</table>\n",
       "</div>"
      ],
      "text/plain": [
       "                         Año  Valoración  Presupuesto         Director  \\\n",
       "Godzilla                2014        6.00        160.0   Gareth Edwards   \n",
       "El Hobbit III           2014         NaN        250.0    Peter Jackson   \n",
       "El lobo de Wall Street  2013        8.75        100.0  Martin Scorsese   \n",
       "Gravity                 2013         NaN          NaN   Alfonso Cuarón   \n",
       "\n",
       "                        Recaudación  \n",
       "Godzilla                      525.0  \n",
       "El Hobbit III                 722.0  \n",
       "El lobo de Wall Street        392.0  \n",
       "Gravity                         NaN  "
      ]
     },
     "execution_count": 182,
     "metadata": {},
     "output_type": "execute_result"
    }
   ],
   "source": [
    "peliculas3 = pd.DataFrame(\n",
    "            {'Recaudación':[525, 722, 392]},\n",
    "            index = ['Godzilla', 'El Hobbit III', 'El lobo de Wall Street']\n",
    ")\n",
    "pd.concat([peliculas, peliculas3],axis=1, sort = False)"
   ]
  },
  {
   "cell_type": "markdown",
   "metadata": {},
   "source": [
    "Aunque es un funcionamiento más propio de la función merge, pandas nos permite eliminar del resultado aquellas combinaciones para las que no existen datos en alguna de las dos estructuras."
   ]
  },
  {
   "cell_type": "code",
   "execution_count": 183,
   "metadata": {},
   "outputs": [
    {
     "data": {
      "text/html": [
       "<div>\n",
       "<style scoped>\n",
       "    .dataframe tbody tr th:only-of-type {\n",
       "        vertical-align: middle;\n",
       "    }\n",
       "\n",
       "    .dataframe tbody tr th {\n",
       "        vertical-align: top;\n",
       "    }\n",
       "\n",
       "    .dataframe thead th {\n",
       "        text-align: right;\n",
       "    }\n",
       "</style>\n",
       "<table border=\"1\" class=\"dataframe\">\n",
       "  <thead>\n",
       "    <tr style=\"text-align: right;\">\n",
       "      <th></th>\n",
       "      <th>Año</th>\n",
       "      <th>Valoración</th>\n",
       "      <th>Presupuesto</th>\n",
       "      <th>Director</th>\n",
       "      <th>Recaudación</th>\n",
       "    </tr>\n",
       "  </thead>\n",
       "  <tbody>\n",
       "    <tr>\n",
       "      <th>Godzilla</th>\n",
       "      <td>2014</td>\n",
       "      <td>6.00</td>\n",
       "      <td>160.0</td>\n",
       "      <td>Gareth Edwards</td>\n",
       "      <td>525</td>\n",
       "    </tr>\n",
       "    <tr>\n",
       "      <th>El Hobbit III</th>\n",
       "      <td>2014</td>\n",
       "      <td>NaN</td>\n",
       "      <td>250.0</td>\n",
       "      <td>Peter Jackson</td>\n",
       "      <td>722</td>\n",
       "    </tr>\n",
       "    <tr>\n",
       "      <th>El lobo de Wall Street</th>\n",
       "      <td>2013</td>\n",
       "      <td>8.75</td>\n",
       "      <td>100.0</td>\n",
       "      <td>Martin Scorsese</td>\n",
       "      <td>392</td>\n",
       "    </tr>\n",
       "  </tbody>\n",
       "</table>\n",
       "</div>"
      ],
      "text/plain": [
       "                         Año  Valoración  Presupuesto         Director  \\\n",
       "Godzilla                2014        6.00        160.0   Gareth Edwards   \n",
       "El Hobbit III           2014         NaN        250.0    Peter Jackson   \n",
       "El lobo de Wall Street  2013        8.75        100.0  Martin Scorsese   \n",
       "\n",
       "                        Recaudación  \n",
       "Godzilla                        525  \n",
       "El Hobbit III                   722  \n",
       "El lobo de Wall Street          392  "
      ]
     },
     "execution_count": 183,
     "metadata": {},
     "output_type": "execute_result"
    }
   ],
   "source": [
    "pd.concat([peliculas, peliculas3],axis=1, join='inner')"
   ]
  },
  {
   "cell_type": "markdown",
   "metadata": {},
   "source": [
    "Por último, puede ser útil identificar en la estructura resultante el origen de cada una de las filas para posterior análisis. La función concat incluye un parámetro <b>keys</b> que podemos utilizar para añadir una clave a cada uno de las estructuras origen, que se convertirá en el nivel más agregado de un índice jerárquico."
   ]
  },
  {
   "cell_type": "code",
   "execution_count": 184,
   "metadata": {},
   "outputs": [
    {
     "data": {
      "text/html": [
       "<div>\n",
       "<style scoped>\n",
       "    .dataframe tbody tr th:only-of-type {\n",
       "        vertical-align: middle;\n",
       "    }\n",
       "\n",
       "    .dataframe tbody tr th {\n",
       "        vertical-align: top;\n",
       "    }\n",
       "\n",
       "    .dataframe thead th {\n",
       "        text-align: right;\n",
       "    }\n",
       "</style>\n",
       "<table border=\"1\" class=\"dataframe\">\n",
       "  <thead>\n",
       "    <tr style=\"text-align: right;\">\n",
       "      <th></th>\n",
       "      <th></th>\n",
       "      <th>Año</th>\n",
       "      <th>Valoración</th>\n",
       "      <th>Presupuesto</th>\n",
       "      <th>Director</th>\n",
       "    </tr>\n",
       "  </thead>\n",
       "  <tbody>\n",
       "    <tr>\n",
       "      <th rowspan=\"4\" valign=\"top\">dataset1</th>\n",
       "      <th>Godzilla</th>\n",
       "      <td>2014</td>\n",
       "      <td>6.00</td>\n",
       "      <td>160.0</td>\n",
       "      <td>Gareth Edwards</td>\n",
       "    </tr>\n",
       "    <tr>\n",
       "      <th>El Hobbit III</th>\n",
       "      <td>2014</td>\n",
       "      <td>NaN</td>\n",
       "      <td>250.0</td>\n",
       "      <td>Peter Jackson</td>\n",
       "    </tr>\n",
       "    <tr>\n",
       "      <th>El lobo de Wall Street</th>\n",
       "      <td>2013</td>\n",
       "      <td>8.75</td>\n",
       "      <td>100.0</td>\n",
       "      <td>Martin Scorsese</td>\n",
       "    </tr>\n",
       "    <tr>\n",
       "      <th>Gravity</th>\n",
       "      <td>2013</td>\n",
       "      <td>NaN</td>\n",
       "      <td>NaN</td>\n",
       "      <td>Alfonso Cuarón</td>\n",
       "    </tr>\n",
       "    <tr>\n",
       "      <th rowspan=\"2\" valign=\"top\">dataset2</th>\n",
       "      <th>La entrevista</th>\n",
       "      <td>2014</td>\n",
       "      <td>7.30</td>\n",
       "      <td>NaN</td>\n",
       "      <td>Evan Goldberg</td>\n",
       "    </tr>\n",
       "    <tr>\n",
       "      <th>El jugador</th>\n",
       "      <td>2014</td>\n",
       "      <td>6.30</td>\n",
       "      <td>NaN</td>\n",
       "      <td>Rupert Wyatt</td>\n",
       "    </tr>\n",
       "  </tbody>\n",
       "</table>\n",
       "</div>"
      ],
      "text/plain": [
       "                                  Año  Valoración  Presupuesto  \\\n",
       "dataset1 Godzilla                2014        6.00        160.0   \n",
       "         El Hobbit III           2014         NaN        250.0   \n",
       "         El lobo de Wall Street  2013        8.75        100.0   \n",
       "         Gravity                 2013         NaN          NaN   \n",
       "dataset2 La entrevista           2014        7.30          NaN   \n",
       "         El jugador              2014        6.30          NaN   \n",
       "\n",
       "                                        Director  \n",
       "dataset1 Godzilla                 Gareth Edwards  \n",
       "         El Hobbit III             Peter Jackson  \n",
       "         El lobo de Wall Street  Martin Scorsese  \n",
       "         Gravity                  Alfonso Cuarón  \n",
       "dataset2 La entrevista             Evan Goldberg  \n",
       "         El jugador                 Rupert Wyatt  "
      ]
     },
     "execution_count": 184,
     "metadata": {},
     "output_type": "execute_result"
    }
   ],
   "source": [
    "pd.concat([peliculas, peliculas2], keys=['dataset1','dataset2'], sort = False)"
   ]
  },
  {
   "cell_type": "markdown",
   "metadata": {},
   "source": [
    "## Operaciones de agrupación"
   ]
  },
  {
   "cell_type": "markdown",
   "metadata": {},
   "source": [
    "La librería pandas también incluye la posibiilidad de hacer agrupación de resultados y operaciones sobre los grupos (al estilo de las sentencias GROUP BY de SQL)."
   ]
  },
  {
   "cell_type": "code",
   "execution_count": 185,
   "metadata": {},
   "outputs": [
    {
     "data": {
      "text/html": [
       "<div>\n",
       "<style scoped>\n",
       "    .dataframe tbody tr th:only-of-type {\n",
       "        vertical-align: middle;\n",
       "    }\n",
       "\n",
       "    .dataframe tbody tr th {\n",
       "        vertical-align: top;\n",
       "    }\n",
       "\n",
       "    .dataframe thead th {\n",
       "        text-align: right;\n",
       "    }\n",
       "</style>\n",
       "<table border=\"1\" class=\"dataframe\">\n",
       "  <thead>\n",
       "    <tr style=\"text-align: right;\">\n",
       "      <th></th>\n",
       "      <th>Año</th>\n",
       "      <th>Valoración</th>\n",
       "      <th>Presupuesto</th>\n",
       "      <th>Director</th>\n",
       "    </tr>\n",
       "  </thead>\n",
       "  <tbody>\n",
       "    <tr>\n",
       "      <th>Godzilla</th>\n",
       "      <td>2014</td>\n",
       "      <td>6.00</td>\n",
       "      <td>160.0</td>\n",
       "      <td>Gareth Edwards</td>\n",
       "    </tr>\n",
       "    <tr>\n",
       "      <th>El Hobbit III</th>\n",
       "      <td>2014</td>\n",
       "      <td>NaN</td>\n",
       "      <td>250.0</td>\n",
       "      <td>Peter Jackson</td>\n",
       "    </tr>\n",
       "    <tr>\n",
       "      <th>El lobo de Wall Street</th>\n",
       "      <td>2013</td>\n",
       "      <td>8.75</td>\n",
       "      <td>100.0</td>\n",
       "      <td>Martin Scorsese</td>\n",
       "    </tr>\n",
       "    <tr>\n",
       "      <th>Gravity</th>\n",
       "      <td>2013</td>\n",
       "      <td>NaN</td>\n",
       "      <td>NaN</td>\n",
       "      <td>Alfonso Cuarón</td>\n",
       "    </tr>\n",
       "  </tbody>\n",
       "</table>\n",
       "</div>"
      ],
      "text/plain": [
       "                         Año  Valoración  Presupuesto         Director\n",
       "Godzilla                2014        6.00        160.0   Gareth Edwards\n",
       "El Hobbit III           2014         NaN        250.0    Peter Jackson\n",
       "El lobo de Wall Street  2013        8.75        100.0  Martin Scorsese\n",
       "Gravity                 2013         NaN          NaN   Alfonso Cuarón"
      ]
     },
     "execution_count": 185,
     "metadata": {},
     "output_type": "execute_result"
    }
   ],
   "source": [
    "peliculas"
   ]
  },
  {
   "cell_type": "code",
   "execution_count": 186,
   "metadata": {},
   "outputs": [
    {
     "data": {
      "text/plain": [
       "pandas.core.groupby.generic.DataFrameGroupBy"
      ]
     },
     "execution_count": 186,
     "metadata": {},
     "output_type": "execute_result"
    }
   ],
   "source": [
    "agrupado = peliculas.groupby('Año')\n",
    "type(agrupado)"
   ]
  },
  {
   "cell_type": "markdown",
   "metadata": {},
   "source": [
    "Una agrupación no es un objeto \"imprimible\", es una representación interna del conjunto de registros que pertenecen a cada grupo y sólo tiene sentido si, posteriormente, se va a aplicar alguna operación sobre dichos grupos. Hay que tener en cuenta que no todas las operaciones son aplicacables sobre todos los tipos de columna."
   ]
  },
  {
   "cell_type": "code",
   "execution_count": 187,
   "metadata": {},
   "outputs": [
    {
     "data": {
      "text/html": [
       "<div>\n",
       "<style scoped>\n",
       "    .dataframe tbody tr th:only-of-type {\n",
       "        vertical-align: middle;\n",
       "    }\n",
       "\n",
       "    .dataframe tbody tr th {\n",
       "        vertical-align: top;\n",
       "    }\n",
       "\n",
       "    .dataframe thead th {\n",
       "        text-align: right;\n",
       "    }\n",
       "</style>\n",
       "<table border=\"1\" class=\"dataframe\">\n",
       "  <thead>\n",
       "    <tr style=\"text-align: right;\">\n",
       "      <th></th>\n",
       "      <th>Valoración</th>\n",
       "      <th>Presupuesto</th>\n",
       "    </tr>\n",
       "    <tr>\n",
       "      <th>Año</th>\n",
       "      <th></th>\n",
       "      <th></th>\n",
       "    </tr>\n",
       "  </thead>\n",
       "  <tbody>\n",
       "    <tr>\n",
       "      <th>2013</th>\n",
       "      <td>8.75</td>\n",
       "      <td>100.0</td>\n",
       "    </tr>\n",
       "    <tr>\n",
       "      <th>2014</th>\n",
       "      <td>6.00</td>\n",
       "      <td>205.0</td>\n",
       "    </tr>\n",
       "  </tbody>\n",
       "</table>\n",
       "</div>"
      ],
      "text/plain": [
       "      Valoración  Presupuesto\n",
       "Año                          \n",
       "2013        8.75        100.0\n",
       "2014        6.00        205.0"
      ]
     },
     "execution_count": 187,
     "metadata": {},
     "output_type": "execute_result"
    }
   ],
   "source": [
    "# Media por grupo\n",
    "agrupado.mean()"
   ]
  },
  {
   "cell_type": "code",
   "execution_count": 188,
   "metadata": {},
   "outputs": [
    {
     "data": {
      "text/html": [
       "<div>\n",
       "<style scoped>\n",
       "    .dataframe tbody tr th:only-of-type {\n",
       "        vertical-align: middle;\n",
       "    }\n",
       "\n",
       "    .dataframe tbody tr th {\n",
       "        vertical-align: top;\n",
       "    }\n",
       "\n",
       "    .dataframe thead th {\n",
       "        text-align: right;\n",
       "    }\n",
       "</style>\n",
       "<table border=\"1\" class=\"dataframe\">\n",
       "  <thead>\n",
       "    <tr style=\"text-align: right;\">\n",
       "      <th></th>\n",
       "      <th>Valoración</th>\n",
       "      <th>Presupuesto</th>\n",
       "      <th>Director</th>\n",
       "    </tr>\n",
       "    <tr>\n",
       "      <th>Año</th>\n",
       "      <th></th>\n",
       "      <th></th>\n",
       "      <th></th>\n",
       "    </tr>\n",
       "  </thead>\n",
       "  <tbody>\n",
       "    <tr>\n",
       "      <th>2013</th>\n",
       "      <td>1</td>\n",
       "      <td>1</td>\n",
       "      <td>2</td>\n",
       "    </tr>\n",
       "    <tr>\n",
       "      <th>2014</th>\n",
       "      <td>1</td>\n",
       "      <td>2</td>\n",
       "      <td>2</td>\n",
       "    </tr>\n",
       "  </tbody>\n",
       "</table>\n",
       "</div>"
      ],
      "text/plain": [
       "      Valoración  Presupuesto  Director\n",
       "Año                                    \n",
       "2013           1            1         2\n",
       "2014           1            2         2"
      ]
     },
     "execution_count": 188,
     "metadata": {},
     "output_type": "execute_result"
    }
   ],
   "source": [
    "# Conteo de valores no nulos por grupo\n",
    "agrupado.count()"
   ]
  },
  {
   "cell_type": "markdown",
   "metadata": {},
   "source": [
    "Aunque con estos datos quizá no tenga tanto sentido, podemos realizar la agrupación por múltiples claves."
   ]
  },
  {
   "cell_type": "code",
   "execution_count": 189,
   "metadata": {},
   "outputs": [
    {
     "data": {
      "text/html": [
       "<div>\n",
       "<style scoped>\n",
       "    .dataframe tbody tr th:only-of-type {\n",
       "        vertical-align: middle;\n",
       "    }\n",
       "\n",
       "    .dataframe tbody tr th {\n",
       "        vertical-align: top;\n",
       "    }\n",
       "\n",
       "    .dataframe thead th {\n",
       "        text-align: right;\n",
       "    }\n",
       "</style>\n",
       "<table border=\"1\" class=\"dataframe\">\n",
       "  <thead>\n",
       "    <tr style=\"text-align: right;\">\n",
       "      <th></th>\n",
       "      <th></th>\n",
       "      <th>Valoración</th>\n",
       "      <th>Presupuesto</th>\n",
       "    </tr>\n",
       "    <tr>\n",
       "      <th>Año</th>\n",
       "      <th>Director</th>\n",
       "      <th></th>\n",
       "      <th></th>\n",
       "    </tr>\n",
       "  </thead>\n",
       "  <tbody>\n",
       "    <tr>\n",
       "      <th rowspan=\"2\" valign=\"top\">2013</th>\n",
       "      <th>Alfonso Cuarón</th>\n",
       "      <td>0.00</td>\n",
       "      <td>0.0</td>\n",
       "    </tr>\n",
       "    <tr>\n",
       "      <th>Martin Scorsese</th>\n",
       "      <td>8.75</td>\n",
       "      <td>100.0</td>\n",
       "    </tr>\n",
       "    <tr>\n",
       "      <th rowspan=\"2\" valign=\"top\">2014</th>\n",
       "      <th>Gareth Edwards</th>\n",
       "      <td>6.00</td>\n",
       "      <td>160.0</td>\n",
       "    </tr>\n",
       "    <tr>\n",
       "      <th>Peter Jackson</th>\n",
       "      <td>0.00</td>\n",
       "      <td>250.0</td>\n",
       "    </tr>\n",
       "  </tbody>\n",
       "</table>\n",
       "</div>"
      ],
      "text/plain": [
       "                      Valoración  Presupuesto\n",
       "Año  Director                                \n",
       "2013 Alfonso Cuarón         0.00          0.0\n",
       "     Martin Scorsese        8.75        100.0\n",
       "2014 Gareth Edwards         6.00        160.0\n",
       "     Peter Jackson          0.00        250.0"
      ]
     },
     "execution_count": 189,
     "metadata": {},
     "output_type": "execute_result"
    }
   ],
   "source": [
    "peliculas.groupby(['Año', 'Director']).sum()"
   ]
  }
 ],
 "metadata": {
  "kernelspec": {
   "display_name": "Python 3 (ipykernel)",
   "language": "python",
   "name": "python3"
  },
  "language_info": {
   "codemirror_mode": {
    "name": "ipython",
    "version": 3
   },
   "file_extension": ".py",
   "mimetype": "text/x-python",
   "name": "python",
   "nbconvert_exporter": "python",
   "pygments_lexer": "ipython3",
   "version": "3.9.13"
  }
 },
 "nbformat": 4,
 "nbformat_minor": 4
}
