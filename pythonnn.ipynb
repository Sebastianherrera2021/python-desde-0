{
 "cells": [
  {
   "cell_type": "markdown",
   "id": "6ed8038e-f512-4d22-86a2-2288ef9d6aeb",
   "metadata": {},
   "source": [
    "# CURSO DE ERIC EL NOMADA ( DE CERO A HEROE )"
   ]
  },
  {
   "cell_type": "code",
   "execution_count": 1,
   "id": "d35db866-da3f-4509-bd77-48f8148d784d",
   "metadata": {},
   "outputs": [],
   "source": [
    "# Estructuras de datos\n",
    "# Listas [] alt y la tecla que esta al lado de la p\n",
    "lista=[10,\"Hola\",200.4] # se puede editar o variar y no tiene orden\n",
    "# Diccionarios\n",
    "Diccionario= {\"Palabra\": \"Significado\",\"clave\":\"valor\"} #clave - significado\n",
    "# Tuplas, orden inmutable, no se pueden editar\n",
    "Tuplas= (10,\"hola\",200.4)\n",
    "# Sets coleccion de objetos no ordenados\n",
    "Sets= {\"a\",\"b\"}"
   ]
  },
  {
   "cell_type": "markdown",
   "id": "8cdea73c-8539-4a52-968c-7ed461d48046",
   "metadata": {},
   "source": [
    "### Numeros"
   ]
  },
  {
   "cell_type": "code",
   "execution_count": 2,
   "id": "37354e07-56e0-4568-8abe-b3882c210760",
   "metadata": {},
   "outputs": [
    {
     "name": "stdout",
     "output_type": "stream",
     "text": [
      "Numeros\n",
      "0.1\n",
      "0\n",
      "100\n"
     ]
    }
   ],
   "source": [
    "print(\"Numeros\")\n",
    "a=10\n",
    "b=100\n",
    "c=a/b\n",
    "d=a//b\n",
    "e=a**2\n",
    "print(c) #con decimales\n",
    "print(d) # sin decimales\n",
    "print(e) # elevado a la dos"
   ]
  },
  {
   "cell_type": "markdown",
   "id": "95db675d-0deb-46d2-b763-c8a7abeb6384",
   "metadata": {},
   "source": [
    "### Cadena de texto"
   ]
  },
  {
   "cell_type": "code",
   "execution_count": 3,
   "id": "c4069760-ed5f-4a51-b122-333d3214883f",
   "metadata": {},
   "outputs": [
    {
     "name": "stdout",
     "output_type": "stream",
     "text": [
      "Hola \n",
      "mundo\n",
      "4\n",
      "H\n",
      "o\n",
      "Hol\n",
      "Hl u\n"
     ]
    }
   ],
   "source": [
    "# Cadena de texto\n",
    "print(\"Hola \\nmundo\") #es un enter\n",
    "print(len(\"Hola\")) #cuenta\n",
    "hola=\"Hola mundo\"\n",
    "print(hola[0]) # Extrae indice\n",
    "print(hola[-1]) # Extrae ultimo indice\n",
    "print(hola[0:3]) #del indice 0 al 3\n",
    "print(hola[0:7:2]) #saltos de 2"
   ]
  },
  {
   "cell_type": "markdown",
   "id": "557e1730-c9ba-4a70-b932-cbaa4325fee4",
   "metadata": {},
   "source": [
    "### Pueden ser cambias"
   ]
  },
  {
   "cell_type": "code",
   "execution_count": 4,
   "id": "0195a2d5-637d-49a1-b04a-b0121a4333f8",
   "metadata": {},
   "outputs": [
    {
     "name": "stdout",
     "output_type": "stream",
     "text": [
      "Sam\n",
      "zzzzzzzzzz\n",
      "HOLA MUNDO\n",
      "['Hola', 'mundo']\n"
     ]
    }
   ],
   "source": [
    "## PARA EDITAR UNA CADENA SE DEBEN CONCATENARLAS\n",
    "name= \"Pam\"\n",
    "ultimas_letras=name[1:3]\n",
    "print(\"S\"+ultimas_letras)\n",
    "\n",
    "# MULTIPLICAR LETRAS\n",
    "letra = \"z\"\n",
    "letra= letra*10\n",
    "print(letra) #multiplica la letra *10\n",
    "\n",
    "# MAYUSCULA\n",
    "x= \"Hola mundo\"\n",
    "x=x.upper()\n",
    "print(x)\n",
    "# LOWER PARA MINUSCULA\n",
    "# SPLIT PARA SEPARAR LAS PALABRAS - ciencia de datos\n",
    "x= \"Hola mundo\"\n",
    "x=x.split() # separacion por espacios, tambien se puede por letras\n",
    "print(x)"
   ]
  },
  {
   "cell_type": "markdown",
   "id": "f335c131-f8ac-4d4f-b4d1-9d2403075f21",
   "metadata": {},
   "source": [
    "### Formato de cadena de texto"
   ]
  },
  {
   "cell_type": "code",
   "execution_count": 5,
   "id": "6293da4a-5164-493d-9bad-4a103f2aaa09",
   "metadata": {},
   "outputs": [
    {
     "name": "stdout",
     "output_type": "stream",
     "text": [
      "Esto es una cadena de TEXTO\n",
      "los resultados son 0.113\n",
      "los resultados son Erick\n"
     ]
    }
   ],
   "source": [
    "\"\"\"formateo cadena de texto\"\"\"\n",
    "# variable en cadena de texto, interpolaciòn de cadenas\n",
    "print(\"Esto es una cadena de {}\".format(\"TEXTO\"))\n",
    "# Pone lo que esta despues en los corchetes\n",
    "resultados = 100/888\n",
    "print(\"los resultados son {r:1.3f}\".format(r=resultados))\n",
    "# Esto era para imprimir solo 3 decimales, 1 = espacio\n",
    "# F - STRINGS\n",
    "nombre = \"Erick\"\n",
    "print(f\"los resultados son {nombre}\")"
   ]
  },
  {
   "cell_type": "markdown",
   "id": "7449ff60-07db-4fc3-9aeb-fb0d15f5f706",
   "metadata": {},
   "source": [
    "### LISTAS"
   ]
  },
  {
   "cell_type": "code",
   "execution_count": 6,
   "id": "07dfffe4-e758-4097-89ec-f46484ff6321",
   "metadata": {},
   "outputs": [
    {
     "name": "stdout",
     "output_type": "stream",
     "text": [
      "['dos', 'tres']\n",
      "['Eric', 'dos', 'tres', 'cuatro', 'cinco']\n",
      "['Eric', 'dos', 'tres', 'cuatro', 'cinco', 'seis']\n",
      "tres\n",
      "[7, 5, 4, 1]\n"
     ]
    }
   ],
   "source": [
    "\"\"\"LISTAS\"\"\" #son mutables a diferencia de cadenas de texto\n",
    "mi_lista= [\"uno\",\"dos\",\"tres\"]\n",
    "otra_lista=[\"cuatro\",\"cinco\"]\n",
    "print(mi_lista[1:]) # no cuenta el primer indice\n",
    "nueva_lista=mi_lista+otra_lista\n",
    "nueva_lista[0]=\"Eric\"\n",
    "print(nueva_lista)\n",
    "nueva_lista.append(\"seis\")\n",
    "print(nueva_lista) #lo agrega\n",
    "item_popeado=nueva_lista.pop(2) #remover elementos de una lista, indices\n",
    "print(item_popeado) \n",
    "#ordenar:\n",
    "sorte=[1,7,4,5]\n",
    "sorte.sort() #menor a mayor\n",
    "sorte.reverse() #mayor a menor\n",
    "print(sorte)"
   ]
  },
  {
   "cell_type": "markdown",
   "id": "e9324119-ad3e-4209-9293-fc00c705b633",
   "metadata": {},
   "source": [
    "### DICCIONARIOS"
   ]
  },
  {
   "cell_type": "code",
   "execution_count": 7,
   "id": "327e9ab0-46f9-4897-a957-9f5c2ede146a",
   "metadata": {},
   "outputs": [
    {
     "name": "stdout",
     "output_type": "stream",
     "text": [
      "2.08\n",
      "{'manzana': '2.08', 'kekes': ['manzana', 'platano'], 'pera': '3'}\n",
      "PLATANO\n",
      "dict_keys(['manzana', 'kekes', 'pera'])\n",
      "dict_values(['2.08', ['manzana', 'platano'], '3'])\n",
      "dict_items([('manzana', '2.08'), ('kekes', ['manzana', 'platano']), ('pera', '3')])\n"
     ]
    }
   ],
   "source": [
    "\"\"\"DICCIONARIOS\"\"\"\n",
    "mi_diccionario= {\"manzana\":\"2.08\",\"pera\":\"3\"}\n",
    "print(mi_diccionario[\"manzana\"]) #se llama por llave\n",
    "## se le puede añadir listas al diccionario\n",
    "mi_diccionario= {\"manzana\":\"2.08\",\"kekes\":[\"manzana\",\"platano\"],\"pera\":\"3\"}\n",
    "print(mi_diccionario)\n",
    "print(mi_diccionario[\"kekes\"][1].upper())\n",
    "print(mi_diccionario.keys()) #muestra lleves\n",
    "print(mi_diccionario.values()) #muestra valores\n",
    "print(mi_diccionario.items()) #muestra items \"pares\""
   ]
  },
  {
   "cell_type": "markdown",
   "id": "95a871bd-636c-4c58-bf78-2ca15846f13e",
   "metadata": {},
   "source": [
    "### TUPLAS"
   ]
  },
  {
   "cell_type": "code",
   "execution_count": 8,
   "id": "2abdac45-5a51-45aa-b212-c92c8bbbc017",
   "metadata": {},
   "outputs": [
    {
     "name": "stdout",
     "output_type": "stream",
     "text": [
      "<class 'tuple'>\n",
      "(1, 3)\n",
      "1\n"
     ]
    }
   ],
   "source": [
    "\"\"\"TUPLAS\"\"\"\n",
    "t=(1,3,5)\n",
    "print(type(t))\n",
    "print(t[0:2])\n",
    "print(t.count(1)) #no hay muchas cosas que se puedan usar\n",
    "\n",
    "#t[0]= \"nuevo\"\n",
    "lista = [1,2,3]\n",
    "lista[0]= \"nuevo\"\n",
    "#print(t)\n",
    "#no permite la reasignaciòn\n",
    "#quiero valores que no se reasignen"
   ]
  },
  {
   "cell_type": "markdown",
   "id": "747f10de-f6dd-4d1e-bf63-1588e6081fc2",
   "metadata": {},
   "source": [
    "### SETS"
   ]
  },
  {
   "cell_type": "code",
   "execution_count": 9,
   "id": "c9a8be58-243d-4545-a5cb-efaeff331dd6",
   "metadata": {},
   "outputs": [
    {
     "name": "stdout",
     "output_type": "stream",
     "text": [
      "{1}\n",
      "{1, 2, 3, 4}\n"
     ]
    }
   ],
   "source": [
    "\"\"\" SETS \"\"\"\n",
    "miset= set()\n",
    "miset.add(1) #miset.add(1,2) no deja\n",
    "print(miset)\n",
    "# valores unicos\n",
    "milista=[1,1,1,1,2,3,4,4]\n",
    "print(set(milista)) #muestra los que estan, no tienen orden"
   ]
  },
  {
   "cell_type": "markdown",
   "id": "69f8fdb9-4963-4741-9e52-2c39e9b16b3f",
   "metadata": {},
   "source": [
    "### IF-ELIF-ELSE"
   ]
  },
  {
   "cell_type": "code",
   "execution_count": 10,
   "id": "e94393cf-920f-416d-87a7-675fc58857c5",
   "metadata": {},
   "outputs": [
    {
     "name": "stdout",
     "output_type": "stream",
     "text": [
      "Tengo hambre y sed\n"
     ]
    }
   ],
   "source": [
    "\"\"\" IF, ELIF Y ELSE\"\"\"\n",
    "Hambre=True #se le puede tambien poner false\n",
    "sed = True\n",
    "\n",
    "if Hambre and not sed: #se le puede poner if True para asumir algo como hecho\n",
    "    print(\"Tengo Hambre\")\n",
    "elif Hambre == True and sed== True:\n",
    "    print(\"Tengo hambre y sed\")\n",
    "else:\n",
    "    print(\"Estoy lleno\")"
   ]
  },
  {
   "cell_type": "markdown",
   "id": "660596a7-0a92-40dd-bd6b-be6e307590c3",
   "metadata": {},
   "source": [
    "### CICLOS FOR"
   ]
  },
  {
   "cell_type": "code",
   "execution_count": 11,
   "id": "9e49731b-9b63-4fbf-951b-8918e556a14b",
   "metadata": {},
   "outputs": [
    {
     "name": "stdout",
     "output_type": "stream",
     "text": [
      "Hola\n",
      "Hola\n",
      "Hola\n",
      "Hola\n",
      "Hola\n",
      "Hola\n",
      "Hola\n",
      "Hola\n",
      "1\n",
      "2\n",
      "3\n",
      "4\n",
      "5\n",
      "6\n",
      "7\n",
      "8\n",
      "con par e impar\n",
      "Numero impar: 1\n",
      "numero par 2\n",
      "Numero impar: 3\n",
      "numero par 4\n",
      "Numero impar: 5\n",
      "numero par 6\n",
      "Numero impar: 7\n",
      "numero par 8\n"
     ]
    }
   ],
   "source": [
    "\"\"\" CICLOS FOR\"\"\" # PARA ITERAR \n",
    "milistap = [1,2,3,4,5,6,7,8]\n",
    "# num es el contador\n",
    "for num in milistap: # es como si num fuera i \"la iteracion\"\n",
    "    #para cada numero en nuestra lista imprima\n",
    "    print(\"Hola\") # imprime ocho hola\n",
    "\n",
    "for num in milistap: # es como si num fuera i \"la iteracion\"\n",
    "    print(num) # imprime ocho hola\n",
    "print(\"con par e impar\")\n",
    "\n",
    "for i in milistap:\n",
    "    #numeros pares e impartos\n",
    "    if i % 2 ==0:\n",
    "        print(f\"numero par {i}\")\n",
    "    else:\n",
    "        print(f\"Numero impar: {i}\")"
   ]
  },
  {
   "cell_type": "markdown",
   "id": "34c27a52-3551-494b-b757-838f63d3e131",
   "metadata": {},
   "source": [
    "#### Otro con declaracion = 0"
   ]
  },
  {
   "cell_type": "code",
   "execution_count": 12,
   "id": "9ab73b5e-e0ff-45d0-a68f-89a92a05a289",
   "metadata": {},
   "outputs": [
    {
     "name": "stdout",
     "output_type": "stream",
     "text": [
      "1\n",
      "3\n",
      "6\n",
      "10\n",
      "15\n",
      "21\n",
      "28\n",
      "36\n",
      "H\n",
      "o\n",
      "l\n",
      "a\n",
      " \n",
      "m\n",
      "u\n",
      "n\n",
      "d\n",
      "o\n"
     ]
    }
   ],
   "source": [
    "# otro con declaraciòn =0\n",
    "milistap = [1,2,3,4,5,6,7,8]\n",
    "suma_lista=0\n",
    "#iteracion de suma y se va acumulando\n",
    "for num in milistap:\n",
    "    suma_lista= suma_lista+num\n",
    "    print(suma_lista)\n",
    "    \n",
    "for letter in \"Hola mundo\":\n",
    "    print(letter)"
   ]
  },
  {
   "cell_type": "markdown",
   "id": "38ed5bd1-19ec-41c3-8f7e-2ac045839fa4",
   "metadata": {},
   "source": [
    "### Despaquetar tuplas"
   ]
  },
  {
   "cell_type": "code",
   "execution_count": 13,
   "id": "3c7008a7-25ed-4c1c-b6cf-293c62b2bff6",
   "metadata": {},
   "outputs": [
    {
     "name": "stdout",
     "output_type": "stream",
     "text": [
      "4\n",
      "(1, 2)\n",
      "(3, 4)\n",
      "(4, 5)\n",
      "(6, 7)\n",
      "1\n",
      "2\n",
      "3\n",
      "4\n",
      "4\n",
      "5\n",
      "6\n",
      "7\n",
      "y1\n",
      "y2\n",
      "y3\n",
      "('y1', 1)\n",
      "('y2', 2)\n",
      "('y3', 3)\n",
      "1\n",
      "2\n",
      "3\n"
     ]
    }
   ],
   "source": [
    "# Despaquetar tuplas\n",
    "milista2= [(1,2),(3,4),(4,5),(6,7)]\n",
    "print(len(milista2))\n",
    "\n",
    "for item in milista2:\n",
    "    print(item)\n",
    "    \n",
    "for (a,b) in milista2: #desempaqueta elementos de la tupla\n",
    "    print(a)\n",
    "    print(b)\n",
    "\n",
    "d= {\"y1\":1,\n",
    "    \"y2\":2,\n",
    "    \"y3\":3}\n",
    "\n",
    "for i in d:\n",
    "    print(i) # imprime las llaves\n",
    "    \n",
    "for i in d.items():\n",
    "    print(i) # imprime las llaves con el valor\n",
    "    \n",
    "for llave,valor in d.items():\n",
    "    print(valor) # imprime solo el valor"
   ]
  },
  {
   "cell_type": "markdown",
   "id": "3878df8f-9fc1-42f8-9ee2-6f76ed61d396",
   "metadata": {},
   "source": [
    "### CICLO WHILE"
   ]
  },
  {
   "cell_type": "code",
   "execution_count": 14,
   "id": "79c365e1-d193-4b87-9b9b-987383f49134",
   "metadata": {},
   "outputs": [
    {
     "name": "stdout",
     "output_type": "stream",
     "text": [
      "El valor actual de x es: 0\n",
      "El valor actual de x es: 1\n",
      "El valor actual de x es: 2\n",
      "El valor actual de x es: 3\n",
      "El valor actual de x es: 4\n",
      "x no es mayor que 5\n",
      "fin del libreto\n",
      "e\n",
      "r\n",
      "c\n",
      "k\n",
      "e\n",
      "r\n"
     ]
    }
   ],
   "source": [
    "\"\"\" CICLO WHILE \"\"\"\n",
    "# break, continue y pass\n",
    "x=0\n",
    "while x<5: ## por lo general esta condicion es falsa\n",
    "    print(f\"El valor actual de x es: {x}\")\n",
    "    x=x+1 # sin esto el bucle se queda en infinito x+=1\n",
    "else:\n",
    "    print(\"x no es mayor que 5\")\n",
    "\n",
    "y= [1,2,3]\n",
    "for item in y:\n",
    "    pass ##pasando el error\n",
    "print(\"fin del libreto\")\n",
    "\n",
    "y=\"erick\"\n",
    "for letter in y:\n",
    "    if letter==\"i\":\n",
    "        continue\n",
    "    print(letter)\n",
    "\n",
    "for letter in y:\n",
    "    if letter==\"i\":\n",
    "        break\n",
    "    print(letter)"
   ]
  },
  {
   "cell_type": "markdown",
   "id": "33a7748f-2250-4154-88ca-f2455c79f742",
   "metadata": {},
   "source": [
    "### Operadores utiles"
   ]
  },
  {
   "cell_type": "code",
   "execution_count": 15,
   "id": "1f11660c-1ec1-4392-8788-a5ca418252a6",
   "metadata": {},
   "outputs": [
    {
     "name": "stdout",
     "output_type": "stream",
     "text": [
      "0\n",
      "1\n",
      "2\n",
      "3\n",
      "4\n",
      "5\n",
      "6\n",
      "7\n",
      "8\n",
      "9\n",
      "0\n",
      "2\n",
      "4\n",
      "6\n",
      "8\n",
      "10\n",
      "[0, 2, 4, 6, 8, 10]\n",
      "H\n",
      "o\n",
      "l\n",
      "a\n",
      "(0, 'H')\n",
      "(1, 'o')\n",
      "(2, 'l')\n",
      "(3, 'a')\n",
      "0\n",
      "H\n",
      "\n",
      "\n",
      "1\n",
      "o\n",
      "\n",
      "\n",
      "2\n",
      "l\n",
      "\n",
      "\n",
      "3\n",
      "a\n",
      "\n",
      "\n",
      "(1, 'a')\n",
      "(2, 'b')\n",
      "(3, 'c')\n",
      "verdadero\n",
      "verdadero\n",
      "falso\n",
      "1\n"
     ]
    }
   ],
   "source": [
    "for num in range(10): #se crear el rango\n",
    "    print(num)\n",
    "for num in range(0,11,2):\n",
    "    print(num)\n",
    "# tambien se puede con lista\n",
    "print(list(range(0,11,2))) # generador\n",
    "\n",
    "contador_indice=0\n",
    "palabra=\"Hola\"\n",
    "\n",
    "for letter in palabra:\n",
    "    print(palabra[contador_indice])\n",
    "    contador_indice +=1\n",
    "\n",
    "for item in enumerate(palabra):\n",
    "    print(item)\n",
    "\n",
    "for index,letter in enumerate(palabra):\n",
    "    print(index)\n",
    "    print(letter)\n",
    "    print(\"\\n\")\n",
    "\n",
    "milis1 = [1,2,3]\n",
    "milis2 = [\"a\",\"b\",\"c\"]\n",
    "e= {\"k1\":1}\n",
    "# para emparejar\n",
    "for i in zip(milis1,milis2):\n",
    "    print(i)\n",
    "for i in e:\n",
    "    print(\"verdadero\")\n",
    "for i in e.keys():\n",
    "    print(\"verdadero\")\n",
    "else:\n",
    "    print(\"falso\")\n",
    "\n",
    "print(min(milis1))"
   ]
  },
  {
   "cell_type": "markdown",
   "id": "70b12646-81dc-4496-a49b-edcc442732ec",
   "metadata": {},
   "source": [
    "### Para importar paquetes"
   ]
  },
  {
   "cell_type": "code",
   "execution_count": 16,
   "id": "ddce0327-a535-497e-b36f-142ecb286861",
   "metadata": {},
   "outputs": [],
   "source": [
    "## para importar un paquete:\n",
    "from random import shuffle"
   ]
  },
  {
   "cell_type": "markdown",
   "id": "1e51ed57-20c9-438f-ac98-aedf5fe9ece4",
   "metadata": {},
   "source": [
    "### Listas de comprension"
   ]
  },
  {
   "cell_type": "code",
   "execution_count": 17,
   "id": "e92770ad-97fb-47c9-88a2-2070a699f2ad",
   "metadata": {},
   "outputs": [
    {
     "name": "stdout",
     "output_type": "stream",
     "text": [
      "['H', 'o', 'l', 'a']\n",
      "[0, 1, 2, 3, 4, 5, 6, 7, 8, 9, 10]\n",
      "[32.0, 50.0, 68.0, 94.1]\n",
      "[32.0, 50.0, 68.0, 94.1]\n"
     ]
    }
   ],
   "source": [
    "\"\"\" Listas de compresiòn\"\"\"\n",
    "# forma de crear una lista rapidamente\n",
    "mi_cadena=\"Hola\"\n",
    "mi_lista=[]\n",
    "for letter in mi_cadena:\n",
    "    mi_lista.append(letter)\n",
    "print(mi_lista)\n",
    "    \n",
    "# forma mas eficiente:\n",
    "mi_lista=[x for x in range(0,11)]\n",
    "print(mi_lista)\n",
    "\n",
    "# celcius a farenheit\n",
    "celcius=[0,10,20,34.5]\n",
    "farenheit=[((9/5)*temp+32)for temp in celcius]\n",
    "print(farenheit)\n",
    "\n",
    "# forma anterior:\n",
    "farenheit =[]\n",
    "for temp in celcius:\n",
    "    farenheit.append(((9/5)*temp+32))\n",
    "print(farenheit)"
   ]
  },
  {
   "cell_type": "markdown",
   "id": "572b5340-c754-476b-8296-395c890d8b74",
   "metadata": {},
   "source": [
    "### Metodos y documentacion"
   ]
  },
  {
   "cell_type": "code",
   "execution_count": 18,
   "id": "c0efa4f6-eecb-4fda-a848-bdd8c6046ead",
   "metadata": {},
   "outputs": [],
   "source": [
    "# pagina python y en browse documentation, leerla\n",
    "# what's new, cambian algunas cosas en las versiones\n",
    "# library in reference"
   ]
  },
  {
   "cell_type": "markdown",
   "id": "44b9c879-0ec2-42c7-9357-94d23f677c01",
   "metadata": {},
   "source": [
    "### Funciones"
   ]
  },
  {
   "cell_type": "code",
   "execution_count": 19,
   "id": "773907c2-a3fb-47fe-b4ad-3123f7f3669c",
   "metadata": {},
   "outputs": [
    {
     "name": "stdout",
     "output_type": "stream",
     "text": [
      "Hola\n",
      "como\n",
      "estas\n",
      "7\n",
      "True\n"
     ]
    },
    {
     "data": {
      "text/plain": [
       "True"
      ]
     },
     "execution_count": 19,
     "metadata": {},
     "output_type": "execute_result"
    }
   ],
   "source": [
    "\"\"\" FUNCIONES\"\"\"\n",
    "# PERMITEN CREAR BLOQUES DE CODIGO QUE PODEMOS EJECUTAR\n",
    "# VARIAS VECES, SIN NECESIDAD DE REESCRIBIR CODIGO\n",
    "\n",
    "def decir_hola (): # nombre\n",
    "    print(\"Hola\")\n",
    "    print(\"como\")\n",
    "    print(\"estas\")\n",
    "decir_hola() # se le llama\n",
    "\n",
    "def suma (num1,num2): #se le agrego parametros\n",
    "    sum_total=num1+num2\n",
    "    print(sum_total)\n",
    "suma(2,5) # argumento\n",
    "\n",
    "# LOGICA EN FUNCIONES\n",
    "# chequear numeros pares en base a lo que se le agregue a la\n",
    "# funcion\n",
    "def chequear_par_lista(num_list): \n",
    "    for number in num_list:\n",
    "        if number %2==0:\n",
    "            print(\"True\")\n",
    "            return True\n",
    "        else:\n",
    "            pass\n",
    "    print(\"False\")\n",
    "    return False\n",
    "chequear_par_lista([2,3,5])"
   ]
  },
  {
   "cell_type": "markdown",
   "id": "ed42f974-f952-4be0-8506-a28a4ec62bd4",
   "metadata": {},
   "source": [
    "### ARGS Y KWARGS"
   ]
  },
  {
   "cell_type": "code",
   "execution_count": 20,
   "id": "e1a29d72-3005-4844-b586-a3c4d584189b",
   "metadata": {},
   "outputs": [
    {
     "name": "stdout",
     "output_type": "stream",
     "text": [
      "5.0\n",
      "mi futata escogida es manzana\n",
      "(10, 30, 50)\n",
      "{'comida': 'leche', 'animal': 'perro'}\n",
      "me gustaria 10 leche\n"
     ]
    }
   ],
   "source": [
    "\"\"\" ARGS Y KWARGS\"\"\"\n",
    "# ARGUMENTOS POSICIONALES\n",
    "def func(*args): # retorna una tupla\n",
    "    return print(sum(args)*0.05)\n",
    "func(40,60)\n",
    "## antes solo teniamos dos argumentos, ahora mas\n",
    "\n",
    "def func(**kwargs): # dicc\n",
    "    if \"fruit\" in kwargs:\n",
    "        print(\"mi futata escogida es {}\".format(kwargs[\"fruit\"]))\n",
    "    else:\n",
    "        print(\"No hay fruta\")\n",
    "func(fruit=\"manzana\",veggie=\"lechuga\")\n",
    "\n",
    "## CON AMBAS JUNTAS\n",
    "def func(*args, **kwargs):\n",
    "    print(args)\n",
    "    print(kwargs)\n",
    "    print(\"me gustaria {} {}\".format(args[0], kwargs[\"comida\"]))\n",
    "func(10,30,50,comida=\"leche\",animal=\"perro\")"
   ]
  },
  {
   "cell_type": "markdown",
   "id": "3d0862cc-606d-4fa9-bfe5-97ba23077547",
   "metadata": {},
   "source": [
    "### Funciones lambda, mapas y filtros"
   ]
  },
  {
   "cell_type": "code",
   "execution_count": 21,
   "id": "4fe54bc7-e47f-4c5e-9b87-a8c276d17909",
   "metadata": {},
   "outputs": [
    {
     "name": "stdout",
     "output_type": "stream",
     "text": [
      "1\n",
      "4\n",
      "9\n",
      "16\n",
      "25\n",
      "[1, 4, 9, 16, 25]\n",
      "2\n",
      "4\n",
      "[1, 4, 9, 16, 25]\n",
      "[2, 4]\n"
     ]
    }
   ],
   "source": [
    "\"\"\" FUNCIONES LAMBDA, MAPAS Y FILTROS \"\"\"\n",
    "# Funcion mapa, llenar funcion con lista de mapas\n",
    "numeros = [1,2,3,4,5]\n",
    "def square(num):\n",
    "    result= num **2\n",
    "    return(result)\n",
    "for i in map(square,numeros):\n",
    "    print(i)\n",
    "\n",
    "print(list(map(square,numeros)))\n",
    "\n",
    "# filtros para solo numero pares\n",
    "def check_even(num):\n",
    "    return num%2 ==0\n",
    "for n in filter(check_even,numeros):\n",
    "    print(n)\n",
    "\n",
    "# lambda\n",
    "numeros = [1,2,3,4,5]\n",
    "square=lambda num: num**2\n",
    "print(list(map(lambda num: num**2, numeros)))\n",
    "print(list(filter(lambda num: num%2==0, numeros)))"
   ]
  },
  {
   "cell_type": "markdown",
   "id": "1e1c0da6-f11e-4873-9288-e7a4deb1ea6f",
   "metadata": {},
   "source": [
    "### Funciones aninadas"
   ]
  },
  {
   "cell_type": "code",
   "execution_count": 22,
   "id": "3fdba182-3fa2-4464-9dee-8358e37f799d",
   "metadata": {},
   "outputs": [
    {
     "name": "stdout",
     "output_type": "stream",
     "text": [
      " Holavariable local\n"
     ]
    }
   ],
   "source": [
    "\"\"\" FUNCIONES ANINADAS\"\"\"\n",
    "name = \"variable global\"\n",
    "\n",
    "def saludo():\n",
    "    #enclosing\n",
    "    name=\"Juan se\"\n",
    "    \n",
    "    def hola():\n",
    "        #local\n",
    "        name=\"variable local\"\n",
    "        print(\" Hola\"+ name)\n",
    "    hola()\n",
    "    \n",
    "saludo()"
   ]
  },
  {
   "cell_type": "markdown",
   "id": "5ec21d4e-5c26-4d0c-99c8-3008213e0cb7",
   "metadata": {},
   "source": [
    "### Programacion orientada a objetos"
   ]
  },
  {
   "cell_type": "code",
   "execution_count": 25,
   "id": "1d8f5c96-4cf2-4fb1-aff5-9a5ce8c377b0",
   "metadata": {},
   "outputs": [
    {
     "data": {
      "text/plain": [
       "'\\nclass perro():\\n    \\n    def __init__(self,raza,nombre,puntos): \\n        \\n    #atributos\\n    self.raza=raza\\n    self.nombre=nombre\\n    \\n    #esperamos valor bool\\n    self.puntos=puntos\\nhuskie= perro(raza=\"huskie\",nombre=\"sam\",puntos=False)'"
      ]
     },
     "execution_count": 25,
     "metadata": {},
     "output_type": "execute_result"
    }
   ],
   "source": [
    "\"\"\" programaciòn orientada a objetos\"\"\"\n",
    "# funciones se ponen dentro de clases\n",
    "# clases\n",
    "\"\"\"\n",
    "class perro():\n",
    "    \n",
    "    def __init__(self,raza,nombre,puntos): \n",
    "        \n",
    "    #atributos\n",
    "    self.raza=raza\n",
    "    self.nombre=nombre\n",
    "    \n",
    "    #esperamos valor bool\n",
    "    self.puntos=puntos\n",
    "huskie= perro(raza=\"huskie\",nombre=\"sam\",puntos=False)\"\"\""
   ]
  },
  {
   "cell_type": "markdown",
   "id": "068eeb7d-5278-43f9-88c0-c94b723f5e00",
   "metadata": {},
   "source": [
    "### Herencia y polimorfismo"
   ]
  },
  {
   "cell_type": "code",
   "execution_count": 26,
   "id": "096b04e7-58b2-4b7b-9e18-3af95bd4286d",
   "metadata": {},
   "outputs": [
    {
     "name": "stdout",
     "output_type": "stream",
     "text": [
      "anumal creado\n",
      "perro creado\n",
      "anumal creado\n",
      "perro creado\n",
      "soy un perroo\n"
     ]
    }
   ],
   "source": [
    "\"\"\" HERENCIA Y POLIMORFISMO\"\"\"\n",
    "class animal():\n",
    "    def __init__(self):\n",
    "        print(\"anumal creado\")\n",
    "    def quiensoy(Self):\n",
    "        print(\"soy un animal\")\n",
    "    def comer(self):\n",
    "        print(\"Estoy comiendo\")\n",
    "        \n",
    "class perro(animal):\n",
    "    \n",
    "    def __init__(self):\n",
    "        animal.__init__(self)\n",
    "        print(\"perro creado\")\n",
    "        \n",
    "    def quien_soy(Self):\n",
    "        print(\"soy un perroo\")\n",
    "nuevoperro=perro()\n",
    "miperro=perro()\n",
    "miperro.quien_soy()\n",
    "\n",
    "#se puede importar clases de un archivo a otro"
   ]
  },
  {
   "cell_type": "markdown",
   "id": "d54b9527-3798-40be-90fa-dc65df0507c9",
   "metadata": {},
   "source": [
    "### LIBRERIAS"
   ]
  },
  {
   "cell_type": "code",
   "execution_count": null,
   "id": "ec30f039-b265-4412-bc56-27d6c4923dbb",
   "metadata": {},
   "outputs": [],
   "source": [
    "\"\"\" librerias\"\"\"\n",
    "#pip install\n",
    "#paquete ciencia de datos\n",
    "#tensorflow\n",
    "#matplotlib\n",
    "#pandas\n",
    "#numpy"
   ]
  }
 ],
 "metadata": {
  "kernelspec": {
   "display_name": "Python 3 (ipykernel)",
   "language": "python",
   "name": "python3"
  },
  "language_info": {
   "codemirror_mode": {
    "name": "ipython",
    "version": 3
   },
   "file_extension": ".py",
   "mimetype": "text/x-python",
   "name": "python",
   "nbconvert_exporter": "python",
   "pygments_lexer": "ipython3",
   "version": "3.11.2"
  }
 },
 "nbformat": 4,
 "nbformat_minor": 5
}
